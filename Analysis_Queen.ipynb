{
 "cells": [
  {
   "cell_type": "markdown",
   "metadata": {},
   "source": [
    "# Descriptive analysis"
   ]
  },
  {
   "cell_type": "code",
   "execution_count": 1,
   "metadata": {},
   "outputs": [],
   "source": [
    "# Import the packages we need for this dataset\n",
    "import pandas as pd\n",
    "import numpy as np\n",
    "import matplotlib.pyplot as plt\n",
    "import seaborn as sns"
   ]
  },
  {
   "cell_type": "code",
   "execution_count": 2,
   "metadata": {
    "scrolled": true
   },
   "outputs": [
    {
     "data": {
      "text/html": [
       "<div>\n",
       "<style scoped>\n",
       "    .dataframe tbody tr th:only-of-type {\n",
       "        vertical-align: middle;\n",
       "    }\n",
       "\n",
       "    .dataframe tbody tr th {\n",
       "        vertical-align: top;\n",
       "    }\n",
       "\n",
       "    .dataframe thead th {\n",
       "        text-align: right;\n",
       "    }\n",
       "</style>\n",
       "<table border=\"1\" class=\"dataframe\">\n",
       "  <thead>\n",
       "    <tr style=\"text-align: right;\">\n",
       "      <th></th>\n",
       "      <th>ID</th>\n",
       "      <th>GENDER</th>\n",
       "      <th>AGE</th>\n",
       "      <th>EDUCATION_KID</th>\n",
       "      <th>EDUCATION_ADULT</th>\n",
       "      <th>MARRIAGE</th>\n",
       "      <th>PREGNANCY</th>\n",
       "      <th>INCOME</th>\n",
       "      <th>INCOME_RATIO</th>\n",
       "      <th>HOUSEHOLD_NUM</th>\n",
       "      <th>...</th>\n",
       "      <th>EVER_USE</th>\n",
       "      <th>FIRST_USAGE</th>\n",
       "      <th>FREQUENCY</th>\n",
       "      <th>PER_MONTH</th>\n",
       "      <th>PER_YEAR</th>\n",
       "      <th>LAST_ONCE_MONTH</th>\n",
       "      <th>AMOUNT</th>\n",
       "      <th>LAST_USAGE</th>\n",
       "      <th>PAST_MONTH_USAGE</th>\n",
       "      <th>CHILDREN_NUM</th>\n",
       "    </tr>\n",
       "  </thead>\n",
       "  <tbody>\n",
       "    <tr>\n",
       "      <th>0</th>\n",
       "      <td>83732.0</td>\n",
       "      <td>1.0</td>\n",
       "      <td>62.0</td>\n",
       "      <td>NaN</td>\n",
       "      <td>5.0</td>\n",
       "      <td>1.0</td>\n",
       "      <td>NaN</td>\n",
       "      <td>10.0</td>\n",
       "      <td>4.39</td>\n",
       "      <td>2.0</td>\n",
       "      <td>...</td>\n",
       "      <td>NaN</td>\n",
       "      <td>NaN</td>\n",
       "      <td>NaN</td>\n",
       "      <td>NaN</td>\n",
       "      <td>NaN</td>\n",
       "      <td>NaN</td>\n",
       "      <td>NaN</td>\n",
       "      <td>NaN</td>\n",
       "      <td>NaN</td>\n",
       "      <td>0.0</td>\n",
       "    </tr>\n",
       "    <tr>\n",
       "      <th>1</th>\n",
       "      <td>83733.0</td>\n",
       "      <td>1.0</td>\n",
       "      <td>53.0</td>\n",
       "      <td>NaN</td>\n",
       "      <td>3.0</td>\n",
       "      <td>3.0</td>\n",
       "      <td>NaN</td>\n",
       "      <td>4.0</td>\n",
       "      <td>1.32</td>\n",
       "      <td>1.0</td>\n",
       "      <td>...</td>\n",
       "      <td>2.0</td>\n",
       "      <td>NaN</td>\n",
       "      <td>NaN</td>\n",
       "      <td>NaN</td>\n",
       "      <td>NaN</td>\n",
       "      <td>NaN</td>\n",
       "      <td>NaN</td>\n",
       "      <td>NaN</td>\n",
       "      <td>NaN</td>\n",
       "      <td>0.0</td>\n",
       "    </tr>\n",
       "    <tr>\n",
       "      <th>2</th>\n",
       "      <td>83735.0</td>\n",
       "      <td>2.0</td>\n",
       "      <td>56.0</td>\n",
       "      <td>NaN</td>\n",
       "      <td>5.0</td>\n",
       "      <td>6.0</td>\n",
       "      <td>NaN</td>\n",
       "      <td>10.0</td>\n",
       "      <td>5.00</td>\n",
       "      <td>1.0</td>\n",
       "      <td>...</td>\n",
       "      <td>2.0</td>\n",
       "      <td>NaN</td>\n",
       "      <td>NaN</td>\n",
       "      <td>NaN</td>\n",
       "      <td>NaN</td>\n",
       "      <td>NaN</td>\n",
       "      <td>NaN</td>\n",
       "      <td>NaN</td>\n",
       "      <td>NaN</td>\n",
       "      <td>0.0</td>\n",
       "    </tr>\n",
       "    <tr>\n",
       "      <th>3</th>\n",
       "      <td>83736.0</td>\n",
       "      <td>2.0</td>\n",
       "      <td>42.0</td>\n",
       "      <td>NaN</td>\n",
       "      <td>4.0</td>\n",
       "      <td>3.0</td>\n",
       "      <td>1.0</td>\n",
       "      <td>7.0</td>\n",
       "      <td>1.23</td>\n",
       "      <td>5.0</td>\n",
       "      <td>...</td>\n",
       "      <td>1.0</td>\n",
       "      <td>25.0</td>\n",
       "      <td>5.0</td>\n",
       "      <td>1.0</td>\n",
       "      <td>25.0</td>\n",
       "      <td>0.0</td>\n",
       "      <td>4.0</td>\n",
       "      <td>1.0</td>\n",
       "      <td>30.0</td>\n",
       "      <td>2.0</td>\n",
       "    </tr>\n",
       "    <tr>\n",
       "      <th>4</th>\n",
       "      <td>83741.0</td>\n",
       "      <td>1.0</td>\n",
       "      <td>22.0</td>\n",
       "      <td>NaN</td>\n",
       "      <td>4.0</td>\n",
       "      <td>5.0</td>\n",
       "      <td>NaN</td>\n",
       "      <td>7.0</td>\n",
       "      <td>2.08</td>\n",
       "      <td>3.0</td>\n",
       "      <td>...</td>\n",
       "      <td>1.0</td>\n",
       "      <td>15.0</td>\n",
       "      <td>4.0</td>\n",
       "      <td>1.0</td>\n",
       "      <td>16.0</td>\n",
       "      <td>1.0</td>\n",
       "      <td>2.0</td>\n",
       "      <td>1.0</td>\n",
       "      <td>25.0</td>\n",
       "      <td>0.0</td>\n",
       "    </tr>\n",
       "  </tbody>\n",
       "</table>\n",
       "<p>5 rows × 21 columns</p>\n",
       "</div>"
      ],
      "text/plain": [
       "        ID  GENDER   AGE  EDUCATION_KID  EDUCATION_ADULT  MARRIAGE  PREGNANCY  \\\n",
       "0  83732.0     1.0  62.0            NaN              5.0       1.0        NaN   \n",
       "1  83733.0     1.0  53.0            NaN              3.0       3.0        NaN   \n",
       "2  83735.0     2.0  56.0            NaN              5.0       6.0        NaN   \n",
       "3  83736.0     2.0  42.0            NaN              4.0       3.0        1.0   \n",
       "4  83741.0     1.0  22.0            NaN              4.0       5.0        NaN   \n",
       "\n",
       "   INCOME  INCOME_RATIO  HOUSEHOLD_NUM      ...       EVER_USE  FIRST_USAGE  \\\n",
       "0    10.0          4.39            2.0      ...            NaN          NaN   \n",
       "1     4.0          1.32            1.0      ...            2.0          NaN   \n",
       "2    10.0          5.00            1.0      ...            2.0          NaN   \n",
       "3     7.0          1.23            5.0      ...            1.0         25.0   \n",
       "4     7.0          2.08            3.0      ...            1.0         15.0   \n",
       "\n",
       "   FREQUENCY  PER_MONTH  PER_YEAR  LAST_ONCE_MONTH  AMOUNT  LAST_USAGE  \\\n",
       "0        NaN        NaN       NaN              NaN     NaN         NaN   \n",
       "1        NaN        NaN       NaN              NaN     NaN         NaN   \n",
       "2        NaN        NaN       NaN              NaN     NaN         NaN   \n",
       "3        5.0        1.0      25.0              0.0     4.0         1.0   \n",
       "4        4.0        1.0      16.0              1.0     2.0         1.0   \n",
       "\n",
       "   PAST_MONTH_USAGE  CHILDREN_NUM  \n",
       "0               NaN           0.0  \n",
       "1               NaN           0.0  \n",
       "2               NaN           0.0  \n",
       "3              30.0           2.0  \n",
       "4              25.0           0.0  \n",
       "\n",
       "[5 rows x 21 columns]"
      ]
     },
     "execution_count": 2,
     "metadata": {},
     "output_type": "execute_result"
    }
   ],
   "source": [
    "# Get the data\n",
    "filename=\"cleaned_marijuana_data.csv\"\n",
    "df = pd.read_csv(filename, index_col=0)\n",
    "df.head()"
   ]
  },
  {
   "cell_type": "code",
   "execution_count": 3,
   "metadata": {},
   "outputs": [
    {
     "data": {
      "text/plain": [
       "(261, 21)"
      ]
     },
     "execution_count": 3,
     "metadata": {},
     "output_type": "execute_result"
    }
   ],
   "source": [
    "df_kid = df[df.AGE < 20]\n",
    "df_kid.shape"
   ]
  },
  {
   "cell_type": "code",
   "execution_count": 24,
   "metadata": {},
   "outputs": [
    {
     "data": {
      "text/plain": [
       "Text(0.5, 0, 'Gender')"
      ]
     },
     "execution_count": 24,
     "metadata": {},
     "output_type": "execute_result"
    },
    {
     "data": {
      "image/png": "[encoded data removed]",
      "text/plain": [
       "<Figure size 432x288 with 1 Axes>"
      ]
     },
     "metadata": {
      "needs_background": "light"
     },
     "output_type": "display_data"
    }
   ],
   "source": [
    "sns.countplot(x='GENDER', data=df_kid,\n",
    "             order = [1, 2])\n",
    "ax = plt.gca()\n",
    "\n",
    "# add title and axis labels (modify x-axis label)\n",
    "ax.set_title('Kid gender')\n",
    "ax.set_ylabel('Count')\n",
    "ax.set_xlabel('Gender')"
   ]
  },
  {
   "cell_type": "markdown",
   "metadata": {},
   "source": [
    "Although there are more male kids than female kids, the difference between male and female kids are not much."
   ]
  },
  {
   "cell_type": "code",
   "execution_count": 37,
   "metadata": {},
   "outputs": [
    {
     "data": {
      "text/plain": [
       "Text(0.5, 0, 'Age')"
      ]
     },
     "execution_count": 37,
     "metadata": {},
     "output_type": "execute_result"
    },
    {
     "data": {
      "image/png": "[encoded data removed]",
      "text/plain": [
       "<Figure size 432x288 with 1 Axes>"
      ]
     },
     "metadata": {
      "needs_background": "light"
     },
     "output_type": "display_data"
    }
   ],
   "source": [
    "sns.countplot(x='AGE', data=df_kid)\n",
    "ax = plt.gca()\n",
    "\n",
    "# add title and axis labels (modify x-axis label)\n",
    "ax.set_title('Kid Age')\n",
    "ax.set_ylabel('Count')\n",
    "ax.set_xlabel('Age')"
   ]
  },
  {
   "cell_type": "markdown",
   "metadata": {},
   "source": [
    "The kids in this dataset has age = 18 or 19 and they are distributed equally between two ages."
   ]
  },
  {
   "cell_type": "code",
   "execution_count": 36,
   "metadata": {},
   "outputs": [
    {
     "data": {
      "text/plain": [
       "Text(0.5, 0, 'Education level')"
      ]
     },
     "execution_count": 36,
     "metadata": {},
     "output_type": "execute_result"
    },
    {
     "data": {
      "image/png": "[encoded data removed]",
      "text/plain": [
       "<Figure size 432x288 with 1 Axes>"
      ]
     },
     "metadata": {
      "needs_background": "light"
     },
     "output_type": "display_data"
    }
   ],
   "source": [
    "sns.countplot(x='EDUCATION_KID', data=df_kid)\n",
    "ax = plt.gca()\n",
    "\n",
    "# add title and axis labels (modify x-axis label)\n",
    "ax.set_title('Kid Education')\n",
    "ax.set_ylabel('Count')\n",
    "ax.set_xlabel('Education level')"
   ]
  },
  {
   "cell_type": "markdown",
   "metadata": {},
   "source": [
    "Most of the kids in this dataset have education level from less than 9th grade to More than high school.\n",
    "The majority of kids have education in High school graduate, More than high school, or 11th grade."
   ]
  },
  {
   "cell_type": "code",
   "execution_count": 40,
   "metadata": {},
   "outputs": [
    {
     "data": {
      "text/plain": [
       "Text(0.5, 0, 'Number of joints or pipes')"
      ]
     },
     "execution_count": 40,
     "metadata": {},
     "output_type": "execute_result"
    },
    {
     "data": {
      "image/png": "[encoded data removed]",
      "text/plain": [
       "<Figure size 432x288 with 1 Axes>"
      ]
     },
     "metadata": {
      "needs_background": "light"
     },
     "output_type": "display_data"
    }
   ],
   "source": [
    "sns.countplot(x='AMOUNT', data=df_kid)\n",
    "ax = plt.gca()\n",
    "\n",
    "# add title and axis labels (modify x-axis label)\n",
    "ax.set_title('Number of kids smoke joints or pipes in a day')\n",
    "ax.set_ylabel('Total kids')\n",
    "ax.set_xlabel('Number of joints or pipes')"
   ]
  },
  {
   "cell_type": "code",
   "execution_count": 44,
   "metadata": {},
   "outputs": [
    {
     "data": {
      "text/plain": [
       "ID                  5593406.00\n",
       "GENDER                   88.00\n",
       "AGE                    1170.00\n",
       "EDUCATION_KID           800.00\n",
       "EDUCATION_ADULT           0.00\n",
       "MARRIAGE                  0.00\n",
       "PREGNANCY                 0.00\n",
       "INCOME                10407.00\n",
       "INCOME_RATIO             84.07\n",
       "HOUSEHOLD_NUM           284.00\n",
       "OVER_60_NUM              13.00\n",
       "EVER_USE                 63.00\n",
       "FIRST_USAGE             932.00\n",
       "FREQUENCY               219.00\n",
       "PER_MONTH                63.00\n",
       "PER_YEAR                984.00\n",
       "LAST_ONCE_MONTH         189.00\n",
       "AMOUNT                  134.00\n",
       "LAST_USAGE              200.00\n",
       "PAST_MONTH_USAGE        660.00\n",
       "CHILDREN_NUM             91.00\n",
       "dtype: float64"
      ]
     },
     "execution_count": 44,
     "metadata": {},
     "output_type": "execute_result"
    }
   ],
   "source": [
    "df_kid[df_kid['AMOUNT']>=1].sum()"
   ]
  },
  {
   "cell_type": "code",
   "execution_count": 68,
   "metadata": {},
   "outputs": [
    {
     "data": {
      "text/plain": [
       "Text(0.5, 0, 'Education Level')"
      ]
     },
     "execution_count": 68,
     "metadata": {},
     "output_type": "execute_result"
    },
    {
     "data": {
      "image/png": "[encoded data removed]",
      "text/plain": [
       "<Figure size 432x288 with 1 Axes>"
      ]
     },
     "metadata": {
      "needs_background": "light"
     },
     "output_type": "display_data"
    }
   ],
   "source": [
    "# generate grouped barplot by specifying hue\n",
    "sns.countplot(x='EDUCATION_KID', hue = 'GENDER', \n",
    "              data=df_kid)\n",
    "ax = plt.gca()\n",
    "\n",
    "# add title and axis labels (modify x-axis label)\n",
    "ax.set_title('Kid Education vs. Gender')\n",
    "ax.set_ylabel('Total kids')\n",
    "#ax.set_yticklabels(('9th grade','10th grade','11th grade','12th grade, no diploma'\n",
    "                   #, 'High school graduate','GED or equivalent', 'More than high school'\n",
    "                   # ,'Less than 5th grade', 'Less than 9th grade', 'Refused','Don''t Know'))\n",
    "ax.set_xlabel('Education Level')\n",
    "#ax.set_xticklabels(('Male', 'Female'));"
   ]
  },
  {
   "cell_type": "code",
   "execution_count": 52,
   "metadata": {},
   "outputs": [
    {
     "data": {
      "text/plain": [
       "array([[ 1., nan],\n",
       "       [nan, nan]])"
      ]
     },
     "execution_count": 52,
     "metadata": {},
     "output_type": "execute_result"
    }
   ],
   "source": [
    "import patsy\n",
    "import statsmodels.api as sm\n",
    "x = df_kid['EDUCATION_KID']\n",
    "y = df_kid['AMOUNT']\n",
    "np.corrcoef(x, y)"
   ]
  },
  {
   "cell_type": "code",
   "execution_count": 55,
   "metadata": {},
   "outputs": [
    {
     "data": {
      "image/png": "[encoded data removed]",
      "text/plain": [
       "<Figure size 432x288 with 1 Axes>"
      ]
     },
     "metadata": {
      "needs_background": "light"
     },
     "output_type": "display_data"
    }
   ],
   "source": [
    "plt.scatter(x, y);"
   ]
  },
  {
   "cell_type": "code",
   "execution_count": 56,
   "metadata": {},
   "outputs": [
    {
     "name": "stdout",
     "output_type": "stream",
     "text": [
      "                            OLS Regression Results                            \n",
      "==============================================================================\n",
      "Dep. Variable:                      y   R-squared:                       0.000\n",
      "Model:                            OLS   Adj. R-squared:                 -0.016\n",
      "Method:                 Least Squares   F-statistic:                   0.01691\n",
      "Date:                Wed, 05 Jun 2019   Prob (F-statistic):              0.897\n",
      "Time:                        09:17:33   Log-Likelihood:                -80.145\n",
      "No. Observations:                  63   AIC:                             164.3\n",
      "Df Residuals:                      61   BIC:                             168.6\n",
      "Df Model:                           1                                         \n",
      "Covariance Type:            nonrobust                                         \n",
      "==============================================================================\n",
      "                 coef    std err          t      P>|t|      [0.025      0.975]\n",
      "------------------------------------------------------------------------------\n",
      "Intercept      2.0099      0.907      2.216      0.030       0.197       3.823\n",
      "x              0.0092      0.071      0.130      0.897      -0.133       0.151\n",
      "==============================================================================\n",
      "Omnibus:                       11.345   Durbin-Watson:                   2.171\n",
      "Prob(Omnibus):                  0.003   Jarque-Bera (JB):                3.223\n",
      "Skew:                           0.045   Prob(JB):                        0.200\n",
      "Kurtosis:                       1.896   Cond. No.                         106.\n",
      "==============================================================================\n",
      "\n",
      "Warnings:\n",
      "[1] Standard Errors assume that the covariance matrix of the errors is correctly specified.\n"
     ]
    }
   ],
   "source": [
    "\n",
    "outcome, predictors = patsy.dmatrices('y ~ x')\n",
    "mod = sm.OLS(outcome, predictors)\n",
    "res = mod.fit()\n",
    "print(res.summary())"
   ]
  },
  {
   "cell_type": "code",
   "execution_count": 59,
   "metadata": {},
   "outputs": [
    {
     "data": {
      "text/html": [
       "<div>\n",
       "<style scoped>\n",
       "    .dataframe tbody tr th:only-of-type {\n",
       "        vertical-align: middle;\n",
       "    }\n",
       "\n",
       "    .dataframe tbody tr th {\n",
       "        vertical-align: top;\n",
       "    }\n",
       "\n",
       "    .dataframe thead th {\n",
       "        text-align: right;\n",
       "    }\n",
       "</style>\n",
       "<table border=\"1\" class=\"dataframe\">\n",
       "  <thead>\n",
       "    <tr style=\"text-align: right;\">\n",
       "      <th></th>\n",
       "      <th>ID</th>\n",
       "      <th>GENDER</th>\n",
       "      <th>AGE</th>\n",
       "      <th>EDUCATION_KID</th>\n",
       "      <th>EDUCATION_ADULT</th>\n",
       "      <th>MARRIAGE</th>\n",
       "      <th>PREGNANCY</th>\n",
       "      <th>INCOME</th>\n",
       "      <th>INCOME_RATIO</th>\n",
       "      <th>HOUSEHOLD_NUM</th>\n",
       "      <th>...</th>\n",
       "      <th>EVER_USE</th>\n",
       "      <th>FIRST_USAGE</th>\n",
       "      <th>FREQUENCY</th>\n",
       "      <th>PER_MONTH</th>\n",
       "      <th>PER_YEAR</th>\n",
       "      <th>LAST_ONCE_MONTH</th>\n",
       "      <th>AMOUNT</th>\n",
       "      <th>LAST_USAGE</th>\n",
       "      <th>PAST_MONTH_USAGE</th>\n",
       "      <th>CHILDREN_NUM</th>\n",
       "    </tr>\n",
       "  </thead>\n",
       "  <tbody>\n",
       "    <tr>\n",
       "      <th>6</th>\n",
       "      <td>83743.0</td>\n",
       "      <td>1.0</td>\n",
       "      <td>18.0</td>\n",
       "      <td>11.0</td>\n",
       "      <td>NaN</td>\n",
       "      <td>NaN</td>\n",
       "      <td>NaN</td>\n",
       "      <td>15.0</td>\n",
       "      <td>5.00</td>\n",
       "      <td>3.0</td>\n",
       "      <td>...</td>\n",
       "      <td>2.0</td>\n",
       "      <td>NaN</td>\n",
       "      <td>NaN</td>\n",
       "      <td>NaN</td>\n",
       "      <td>NaN</td>\n",
       "      <td>NaN</td>\n",
       "      <td>NaN</td>\n",
       "      <td>NaN</td>\n",
       "      <td>NaN</td>\n",
       "      <td>0.0</td>\n",
       "    </tr>\n",
       "    <tr>\n",
       "      <th>14</th>\n",
       "      <td>83759.0</td>\n",
       "      <td>2.0</td>\n",
       "      <td>19.0</td>\n",
       "      <td>15.0</td>\n",
       "      <td>NaN</td>\n",
       "      <td>NaN</td>\n",
       "      <td>NaN</td>\n",
       "      <td>7.0</td>\n",
       "      <td>1.74</td>\n",
       "      <td>3.0</td>\n",
       "      <td>...</td>\n",
       "      <td>2.0</td>\n",
       "      <td>NaN</td>\n",
       "      <td>NaN</td>\n",
       "      <td>NaN</td>\n",
       "      <td>NaN</td>\n",
       "      <td>NaN</td>\n",
       "      <td>NaN</td>\n",
       "      <td>NaN</td>\n",
       "      <td>NaN</td>\n",
       "      <td>0.0</td>\n",
       "    </tr>\n",
       "    <tr>\n",
       "      <th>46</th>\n",
       "      <td>83836.0</td>\n",
       "      <td>2.0</td>\n",
       "      <td>18.0</td>\n",
       "      <td>9.0</td>\n",
       "      <td>NaN</td>\n",
       "      <td>NaN</td>\n",
       "      <td>NaN</td>\n",
       "      <td>14.0</td>\n",
       "      <td>2.76</td>\n",
       "      <td>6.0</td>\n",
       "      <td>...</td>\n",
       "      <td>1.0</td>\n",
       "      <td>14.0</td>\n",
       "      <td>5.0</td>\n",
       "      <td>1.0</td>\n",
       "      <td>14.0</td>\n",
       "      <td>1.0</td>\n",
       "      <td>1.0</td>\n",
       "      <td>1.0</td>\n",
       "      <td>30.0</td>\n",
       "      <td>1.0</td>\n",
       "    </tr>\n",
       "    <tr>\n",
       "      <th>50</th>\n",
       "      <td>83847.0</td>\n",
       "      <td>1.0</td>\n",
       "      <td>18.0</td>\n",
       "      <td>10.0</td>\n",
       "      <td>NaN</td>\n",
       "      <td>NaN</td>\n",
       "      <td>NaN</td>\n",
       "      <td>15.0</td>\n",
       "      <td>5.00</td>\n",
       "      <td>3.0</td>\n",
       "      <td>...</td>\n",
       "      <td>2.0</td>\n",
       "      <td>NaN</td>\n",
       "      <td>NaN</td>\n",
       "      <td>NaN</td>\n",
       "      <td>NaN</td>\n",
       "      <td>NaN</td>\n",
       "      <td>NaN</td>\n",
       "      <td>NaN</td>\n",
       "      <td>NaN</td>\n",
       "      <td>0.0</td>\n",
       "    </tr>\n",
       "    <tr>\n",
       "      <th>57</th>\n",
       "      <td>83862.0</td>\n",
       "      <td>2.0</td>\n",
       "      <td>19.0</td>\n",
       "      <td>15.0</td>\n",
       "      <td>NaN</td>\n",
       "      <td>NaN</td>\n",
       "      <td>NaN</td>\n",
       "      <td>9999.0</td>\n",
       "      <td>NaN</td>\n",
       "      <td>4.0</td>\n",
       "      <td>...</td>\n",
       "      <td>1.0</td>\n",
       "      <td>15.0</td>\n",
       "      <td>1.0</td>\n",
       "      <td>1.0</td>\n",
       "      <td>17.0</td>\n",
       "      <td>8.0</td>\n",
       "      <td>2.0</td>\n",
       "      <td>8.0</td>\n",
       "      <td>NaN</td>\n",
       "      <td>0.0</td>\n",
       "    </tr>\n",
       "  </tbody>\n",
       "</table>\n",
       "<p>5 rows × 21 columns</p>\n",
       "</div>"
      ],
      "text/plain": [
       "         ID  GENDER   AGE  EDUCATION_KID  EDUCATION_ADULT  MARRIAGE  \\\n",
       "6   83743.0     1.0  18.0           11.0              NaN       NaN   \n",
       "14  83759.0     2.0  19.0           15.0              NaN       NaN   \n",
       "46  83836.0     2.0  18.0            9.0              NaN       NaN   \n",
       "50  83847.0     1.0  18.0           10.0              NaN       NaN   \n",
       "57  83862.0     2.0  19.0           15.0              NaN       NaN   \n",
       "\n",
       "    PREGNANCY  INCOME  INCOME_RATIO  HOUSEHOLD_NUM  ...  EVER_USE  \\\n",
       "6         NaN    15.0          5.00            3.0  ...       2.0   \n",
       "14        NaN     7.0          1.74            3.0  ...       2.0   \n",
       "46        NaN    14.0          2.76            6.0  ...       1.0   \n",
       "50        NaN    15.0          5.00            3.0  ...       2.0   \n",
       "57        NaN  9999.0           NaN            4.0  ...       1.0   \n",
       "\n",
       "    FIRST_USAGE  FREQUENCY  PER_MONTH  PER_YEAR  LAST_ONCE_MONTH  AMOUNT  \\\n",
       "6           NaN        NaN        NaN       NaN              NaN     NaN   \n",
       "14          NaN        NaN        NaN       NaN              NaN     NaN   \n",
       "46         14.0        5.0        1.0      14.0              1.0     1.0   \n",
       "50          NaN        NaN        NaN       NaN              NaN     NaN   \n",
       "57         15.0        1.0        1.0      17.0              8.0     2.0   \n",
       "\n",
       "    LAST_USAGE  PAST_MONTH_USAGE  CHILDREN_NUM  \n",
       "6          NaN               NaN           0.0  \n",
       "14         NaN               NaN           0.0  \n",
       "46         1.0              30.0           1.0  \n",
       "50         NaN               NaN           0.0  \n",
       "57         8.0               NaN           0.0  \n",
       "\n",
       "[5 rows x 21 columns]"
      ]
     },
     "execution_count": 59,
     "metadata": {},
     "output_type": "execute_result"
    }
   ],
   "source": [
    "df_kid.head()"
   ]
  },
  {
   "cell_type": "code",
   "execution_count": 64,
   "metadata": {
    "scrolled": true
   },
   "outputs": [
    {
     "data": {
      "text/plain": [
       "Text(0.5, 0, 'Age')"
      ]
     },
     "execution_count": 64,
     "metadata": {},
     "output_type": "execute_result"
    },
    {
     "data": {
      "image/png": "[encoded data removed]",
      "text/plain": [
       "<Figure size 432x288 with 1 Axes>"
      ]
     },
     "metadata": {
      "needs_background": "light"
     },
     "output_type": "display_data"
    }
   ],
   "source": [
    "sns.countplot(x='FIRST_USAGE', data=df_kid)\n",
    "ax = plt.gca()\n",
    "\n",
    "# add title and axis labels (modify x-axis label)\n",
    "ax.set_title('How old were you the first time you used marijuana or hashish?')\n",
    "ax.set_ylabel('Total kids')\n",
    "ax.set_xlabel('Age')"
   ]
  },
  {
   "cell_type": "code",
   "execution_count": 65,
   "metadata": {},
   "outputs": [
    {
     "data": {
      "text/plain": [
       "array([[nan, nan],\n",
       "       [nan,  1.]])"
      ]
     },
     "execution_count": 65,
     "metadata": {},
     "output_type": "execute_result"
    }
   ],
   "source": [
    "y = df_kid['EDUCATION_KID']\n",
    "x = df_kid['FIRST_USAGE']\n",
    "np.corrcoef(x, y)"
   ]
  },
  {
   "cell_type": "code",
   "execution_count": 66,
   "metadata": {},
   "outputs": [
    {
     "data": {
      "image/png": "[encoded data removed]",
      "text/plain": [
       "<Figure size 432x288 with 1 Axes>"
      ]
     },
     "metadata": {
      "needs_background": "light"
     },
     "output_type": "display_data"
    }
   ],
   "source": [
    "plt.scatter(x, y);"
   ]
  },
  {
   "cell_type": "code",
   "execution_count": 61,
   "metadata": {},
   "outputs": [
    {
     "name": "stdout",
     "output_type": "stream",
     "text": [
      "                            OLS Regression Results                            \n",
      "==============================================================================\n",
      "Dep. Variable:                      y   R-squared:                       0.014\n",
      "Model:                            OLS   Adj. R-squared:                  0.006\n",
      "Method:                 Least Squares   F-statistic:                     1.659\n",
      "Date:                Wed, 05 Jun 2019   Prob (F-statistic):              0.200\n",
      "Time:                        09:20:40   Log-Likelihood:                -249.26\n",
      "No. Observations:                 120   AIC:                             502.5\n",
      "Df Residuals:                     118   BIC:                             508.1\n",
      "Df Model:                           1                                         \n",
      "Covariance Type:            nonrobust                                         \n",
      "==============================================================================\n",
      "                 coef    std err          t      P>|t|      [0.025      0.975]\n",
      "------------------------------------------------------------------------------\n",
      "Intercept     13.4808      1.558      8.650      0.000      10.395      16.567\n",
      "x              0.1556      0.121      1.288      0.200      -0.084       0.395\n",
      "==============================================================================\n",
      "Omnibus:                       16.412   Durbin-Watson:                   2.040\n",
      "Prob(Omnibus):                  0.000   Jarque-Bera (JB):               19.275\n",
      "Skew:                          -0.819   Prob(JB):                     6.52e-05\n",
      "Kurtosis:                       4.082   Cond. No.                         114.\n",
      "==============================================================================\n",
      "\n",
      "Warnings:\n",
      "[1] Standard Errors assume that the covariance matrix of the errors is correctly specified.\n"
     ]
    }
   ],
   "source": [
    "outcome, predictors = patsy.dmatrices('y ~ x')\n",
    "mod = sm.OLS(outcome, predictors)\n",
    "res = mod.fit()\n",
    "print(res.summary())"
   ]
  },
  {
   "cell_type": "code",
   "execution_count": null,
   "metadata": {},
   "outputs": [],
   "source": []
  }
 ],
 "metadata": {
  "kernelspec": {
   "display_name": "Python 3",
   "language": "python",
   "name": "python3"
  },
  "language_info": {
   "codemirror_mode": {
    "name": "ipython",
    "version": 3
   },
   "file_extension": ".py",
   "mimetype": "text/x-python",
   "name": "python",
   "nbconvert_exporter": "python",
   "pygments_lexer": "ipython3",
   "version": "3.6.5"
  }
 },
 "nbformat": 4,
 "nbformat_minor": 2
}
