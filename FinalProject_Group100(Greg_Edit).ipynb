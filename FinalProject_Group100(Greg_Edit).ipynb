{
 "cells": [
  {
   "cell_type": "markdown",
   "metadata": {},
   "source": [
    "# COGS 108 - Final Project "
   ]
  },
  {
   "cell_type": "markdown",
   "metadata": {},
   "source": [
    "# How High Is the U.S.?"
   ]
  },
  {
   "cell_type": "markdown",
   "metadata": {},
   "source": [
    "# Overview"
   ]
  },
  {
   "cell_type": "markdown",
   "metadata": {},
   "source": [
    "Nowadays, medical marijuana and recreational marijuana have been legalized in many states of the United States. With its popularity in the life and culture, we want to explore the relationship between marijuana usage and people's living conditions. The major factors of people's living conditions we consider in our exploration are demographic, education levels, and socioeconomic status. We hope that through our exploration, we will have a better vision of who is prone or susceptible to use and understand further how the usage of marijuana affects to people's overall living experiences."
   ]
  },
  {
   "cell_type": "markdown",
   "metadata": {},
   "source": [
    "# Names\n",
    "\n",
    "- Gregory Thein\n",
    "- Queen Tran\n",
    "- Shiva Upadhye\n",
    "- Diana Thai\n",
    "- Osvaldo Vazquez\n",
    "- Sophie Concordel "
   ]
  },
  {
   "cell_type": "markdown",
   "metadata": {},
   "source": [
    "# Group Members IDs\n",
    "\n",
    "- Gregory - A14369060\n",
    "- Queen - A15729093\n",
    "- Shiva - A15693318\n",
    "- Diana - A12855877\n",
    "- Osvaldo - A14418440\n",
    "- Sophie - A14052758"
   ]
  },
  {
   "cell_type": "markdown",
   "metadata": {},
   "source": [
    "# Research Question"
   ]
  },
  {
   "cell_type": "markdown",
   "metadata": {},
   "source": [
    "Below is our research question for this exploration:\n",
    "\n",
    "“What is the relationship between marijuana usage, age, and socioeconomic status throughout the United States?”\n"
   ]
  },
  {
   "cell_type": "markdown",
   "metadata": {},
   "source": [
    "## Background and Prior Work"
   ]
  },
  {
   "cell_type": "markdown",
   "metadata": {},
   "source": [
    "The War on Drugs taught us that poorer demographics are prone to drug exposure and higher usage rates. However, with recent legalization of marijuana across multiple states, we’re curious to see if the validity of poverty and drug use still correlate. Every year the CDC (Center for Disease Control and Prevention) gives out a National Health and Nutrition Examination Survey. From these surveys, we will be able to gather information (our desired dataset) on drug use, age, and socioeconomic status of individuals across the country. What we currently know about the topic of marijuana use in the United States is that popularity has grown over the years. Medical use for marijuana has become more and more popularized, and recreational use as well, especially with the recent legalization. We also know that the media has an influence as well, especially to younger users. As popular artists and actors and influencers display the use of marijuana younger adults are more likely to follow. From the Substance Abuse and Mental Health Services Administration were learned that there were 26 million marijuana users in 2017, two million more than the previous year. \n",
    "\n",
    "For older adults, it was found by the NCBI that marijuana is the most commonly used illicit drug by 50+ adults. The usage has increased by 71.4 percent in three years alone from 2013 to 2016. This large jump was found to be due to the more widespread use of medical marijuana. In younger populations, SAMHSA reported marijuana usage for three young age groups. The results show that 6.5 percent of 12-17 years olds, 22.1 percent of 18-26 years olds, and 7.9 percent of the 26+ group are current marijuana users. The NCBI also found that with the legalization of marijuana in Oregon, the usage among adolescents has raised from 2.9 in 2006 to 18.3 in 2015 in their sample. Interestingly a study by the NCBI found results for marijuana use in relation in neighborhood income that the neighborhood with the highest median income and Gini coefficient (inequality among income) had the highest prevalence of marijuana smoking. These results helped us hypothesize for three different use groups.\n",
    "\n",
    "We were unable to find any previous student projects that asked similar questions, but we looked at the methods and results of a project on if income does indeed hold a significant impact on the spread of communicable diseases, specifically the flu. They specifically looked at the San Diego area and were able to  compress the flu rate, median income and other values into regions with various hospitals using the pandas library. They then used the t-test where discharge/hospitalization rate is dependent on income/poverty and other possible confounds. They learned that there was a negative correlation between hospital discharge rates and household income. We plan to reference these methods as we conduct analysis on our own dataset, seeing there is parallelism in the prompts.\n",
    "\n",
    "References:\n",
    "COGS 108 Previous Project\n",
    "https://github.com/COGS108/FinalProjects-Sp17/blob/master/052-FinalProject.ipynb\n",
    "\n",
    "Key Substance Use and Mental Health Indicators in the United States:Results from the 2017 National Survey on Drug Use and Health\n",
    "https://www.samhsa.gov/data/sites/default/files/cbhsq-reports/NSDUHFFR2017/NSDUHFFR2017.htm\n",
    "\n",
    "Association of State Recreational Marijuana Laws With Adolescent Marijuana Use\n",
    "https://www.ncbi.nlm.nih.gov/pmc/articles/PMC5365078/\n",
    "\n",
    "Medical Marijuana Legalization and Marijuana Use Among Youth in Oregon\n",
    "https://www.ncbi.nlm.nih.gov/pmc/articles/PMC5474164/\n",
    "\n",
    "Neighborhood Income and Income Distribution and the Use of Cigarettes, Alcohol, and Marijuana\n",
    "https://www.ncbi.nlm.nih.gov/pmc/articles/PMC1974881/\n",
    "\n",
    "Marijuana Use Among Adults 50 Years or Older in the 21st Century\n",
    "https://www.ncbi.nlm.nih.gov/pmc/articles/PMC6024284/\n"
   ]
  },
  {
   "cell_type": "markdown",
   "metadata": {},
   "source": [
    "# Hypothesis\n"
   ]
  },
  {
   "cell_type": "markdown",
   "metadata": {},
   "source": [
    "We believe that there would be three groups that would have increased marijuana usage from the various factors that we decide to study on. \n",
    "\n",
    "First, younger people (anyone younger than 26) will have a higher rate of marijuana usage because of the social popularity and culture behind this drug amongst the youth. \n",
    "\n",
    "Second, we predict that as the income and education level increase (higher socioeconomic status), there should be a negative relationship with drug use, meaning that the higher the income and education level, the lower the marijuana use. \n",
    "\n",
    "Finally, we also believe that there could be a high usage of medical marijuana in elderly and sick people as the popularity of medical marijuana increases throughout the country. "
   ]
  },
  {
   "cell_type": "markdown",
   "metadata": {},
   "source": [
    "# Dataset(s)"
   ]
  },
  {
   "cell_type": "markdown",
   "metadata": {},
   "source": [
    "After scouring through all the amazing resources Professor Shannon Ellis offered us, we were extremely fortunate to find the NHANES (National Health and Nutrition Examination Survey), a national survey that included data on all aspects of our research question and hypothesis. This dataset is very large and comprehensive and is broken up into many different files, including a Demographic Dataset and Questionnaires Datasets that have information about drug usage (including marijuana) and living conditions like income and occupation. Every dataset is stored in a sas file, which we plan to use the pandas.read_sas method to help open our files. Each dataset has a comprehensive documentation that describes columns and possible values for the data. For example, the column “RIAGENDR” in the documentation gives us information of the participant’s gender with values 1 for Male, 2 for Female, and . for Missing. Since the 2017-2018 data is incomplete at the time we collect data for this research, we use the 2015-2016 survey data as the latest data for this project.\n",
    "\n",
    "Below are two datasets that we used in our research:\n",
    "\n",
    "Demographic Variables and Sample Weights (DEMO I):\n",
    "This dataset consists more than 9000 rows and 40 columns was released by the National Health and Nutrition Examination Survey 2015 with each row containing demographic information for an individual and each column representing a variable.  For the purpose of this project, we will be considering age, gender, education status, marital status, pregnancy status, household size, property ownership status, and a multivariable income component that encompasses individual, household, family, and social-security income.\n",
    "\n",
    "Links to this dataset:\n",
    "Description of the dataset: https://wwwn.cdc.gov/Nchs/Nhanes/2015-2016/DEMO_I.htm\n",
    "Dataset: https://wwwn.cdc.gov/nchs/nhanes/search/datapage.aspx?Component=Demographics&CycleBeginYear=2015\n",
    "\n",
    "\n",
    "National Health and Nutrition Examination Survey: Drug Use (DUQ I)\n",
    "This dataset consists more than 4000 rows and 40 columns was released by the National Health and Nutrition Examination Survey 2015 with each row representing an individual's responses to The Drug Use Questionnaire and each column corresponding to a variable encoded by the questionnaire. Since the questionnaire focuses on the intravenous and non-intravenous consumption of a variety of drugs such as marijuana, heroin, cocaine, and methamphetamine, we will only consider ten columns that correspond specifically to marijuana usage for the purpose of this project.\n",
    "\n",
    "Links to this dataset:\n",
    "Description of the dataset: https://wwwn.cdc.gov/Nchs/Nhanes/2015-2016/DUQ_I.htm\n",
    "Dataset: https://wwwn.cdc.gov/nchs/nhanes/search/datapage.aspx?Component=Questionnaire&CycleBeginYear=2015     \n",
    "\n",
    "For more convenient in working with data and keeping data consistency, We combine these two datasets, do data cleaning and make one final dataset for our analysis in group. The final data file is \"cleaned_marijuana_data.csv\". This file has 4843 rows x 21 columns where each row represents an individual in the research and each column represents a variable needed for the research."
   ]
  },
  {
   "cell_type": "raw",
   "metadata": {},
   "source": [
    "Dataset filename: cleaned_marijuana_data.csv\n",
    "This file has the following columns:\n",
    "    * ID: Sequence number\n",
    "    * GENDER: Gender\n",
    "    * AGE: Age in years at the time of screening\n",
    "    * EDUCATION_KID: Education Level (6-19) - Highest greade or level of school completed \n",
    "    * EDUCATION_ADULT: Education Level (20+) - Highest greade or level of school completed \n",
    "    * MARRIAGE: Marital Status\n",
    "    * PREGNANCY: Pregnancy status for females between 20 and 44 years of age at the time of MEC exam\n",
    "    * INCOME: Annual household income\n",
    "    * INCOME_RATIO: Ratio of family income to poverty\n",
    "    * HOUSEHOLD_NUM: Total number of people in the Household\n",
    "    * CHILDREN_NUM: Number of children less than 18 years old\n",
    "    * OVER_60_NUM: Number of adults aged 60 years or older in the household\n",
    "    * EVER_USE: Ever used marijuana or hashish\n",
    "    * FIRST_USAGE: Age when first tried marijuana\n",
    "    * FREQUENCY: How often would the user used marijuana\n",
    "    * PER_MOUNTH: How often the user would use marijuana every month\n",
    "    * PER_YEAR: How often the user would use marijuana every year\n",
    "    * LAST_ONCE_MONTH: Time since last used marijuana regularly\n",
    "    * AMOUNT: How many joints or pipes smoke in a day.\n",
    "    * LAST_USAGE: Last time used marijuana or hashish\n",
    "    * PAST_MONTH_USAGE: # days used marijuana or hashish/month"
   ]
  },
  {
   "cell_type": "markdown",
   "metadata": {},
   "source": [
    "# Setup"
   ]
  },
  {
   "cell_type": "code",
   "execution_count": 2,
   "metadata": {},
   "outputs": [
    {
     "ename": "ImportError",
     "evalue": "cannot import name 'datetools'",
     "output_type": "error",
     "traceback": [
      "\u001b[0;31m---------------------------------------------------------------------------\u001b[0m",
      "\u001b[0;31mModuleNotFoundError\u001b[0m                       Traceback (most recent call last)",
      "\u001b[0;32m/anaconda3/lib/python3.6/site-packages/statsmodels/compat/pandas.py\u001b[0m in \u001b[0;36m<module>\u001b[0;34m()\u001b[0m\n\u001b[1;32m     52\u001b[0m \u001b[0;32mtry\u001b[0m\u001b[0;34m:\u001b[0m\u001b[0;34m\u001b[0m\u001b[0m\n\u001b[0;32m---> 53\u001b[0;31m     \u001b[0;32mimport\u001b[0m \u001b[0mpandas\u001b[0m\u001b[0;34m.\u001b[0m\u001b[0mtseries\u001b[0m\u001b[0;34m.\u001b[0m\u001b[0mtools\u001b[0m \u001b[0;32mas\u001b[0m \u001b[0mdatetools\u001b[0m\u001b[0;34m\u001b[0m\u001b[0m\n\u001b[0m\u001b[1;32m     54\u001b[0m     \u001b[0;32mimport\u001b[0m \u001b[0mpandas\u001b[0m\u001b[0;34m.\u001b[0m\u001b[0mtseries\u001b[0m\u001b[0;34m.\u001b[0m\u001b[0mfrequencies\u001b[0m \u001b[0;32mas\u001b[0m \u001b[0mfrequencies\u001b[0m\u001b[0;34m\u001b[0m\u001b[0m\n",
      "\u001b[0;31mModuleNotFoundError\u001b[0m: No module named 'pandas.tseries.tools'",
      "\nDuring handling of the above exception, another exception occurred:\n",
      "\u001b[0;31mImportError\u001b[0m                               Traceback (most recent call last)",
      "\u001b[0;32m<ipython-input-2-6905e0058687>\u001b[0m in \u001b[0;36m<module>\u001b[0;34m()\u001b[0m\n\u001b[1;32m     10\u001b[0m \u001b[0;32mimport\u001b[0m \u001b[0mscipy\u001b[0m\u001b[0;34m.\u001b[0m\u001b[0mstats\u001b[0m \u001b[0;32mas\u001b[0m \u001b[0mstats\u001b[0m\u001b[0;34m\u001b[0m\u001b[0m\n\u001b[1;32m     11\u001b[0m \u001b[0;32mfrom\u001b[0m \u001b[0mscipy\u001b[0m\u001b[0;34m.\u001b[0m\u001b[0mstats\u001b[0m \u001b[0;32mimport\u001b[0m \u001b[0mttest_ind\u001b[0m\u001b[0;34m,\u001b[0m \u001b[0mchisquare\u001b[0m\u001b[0;34m,\u001b[0m \u001b[0mnormaltest\u001b[0m\u001b[0;34m\u001b[0m\u001b[0m\n\u001b[0;32m---> 12\u001b[0;31m \u001b[0;32mimport\u001b[0m \u001b[0mstatsmodels\u001b[0m\u001b[0;34m.\u001b[0m\u001b[0mapi\u001b[0m \u001b[0;32mas\u001b[0m \u001b[0msm\u001b[0m\u001b[0;34m\u001b[0m\u001b[0m\n\u001b[0m\u001b[1;32m     13\u001b[0m \u001b[0;34m\u001b[0m\u001b[0m\n\u001b[1;32m     14\u001b[0m \u001b[0;32mfrom\u001b[0m \u001b[0mpandas\u001b[0m\u001b[0;34m.\u001b[0m\u001b[0mcore\u001b[0m \u001b[0;32mimport\u001b[0m \u001b[0mdatetools\u001b[0m\u001b[0;34m\u001b[0m\u001b[0m\n",
      "\u001b[0;32m/anaconda3/lib/python3.6/site-packages/statsmodels/api.py\u001b[0m in \u001b[0;36m<module>\u001b[0;34m()\u001b[0m\n\u001b[1;32m      5\u001b[0m \u001b[0;32mfrom\u001b[0m \u001b[0;34m.\u001b[0m \u001b[0;32mimport\u001b[0m \u001b[0mregression\u001b[0m\u001b[0;34m\u001b[0m\u001b[0m\n\u001b[1;32m      6\u001b[0m \u001b[0;32mfrom\u001b[0m \u001b[0;34m.\u001b[0m\u001b[0mregression\u001b[0m\u001b[0;34m.\u001b[0m\u001b[0mlinear_model\u001b[0m \u001b[0;32mimport\u001b[0m \u001b[0mOLS\u001b[0m\u001b[0;34m,\u001b[0m \u001b[0mGLS\u001b[0m\u001b[0;34m,\u001b[0m \u001b[0mWLS\u001b[0m\u001b[0;34m,\u001b[0m \u001b[0mGLSAR\u001b[0m\u001b[0;34m\u001b[0m\u001b[0m\n\u001b[0;32m----> 7\u001b[0;31m \u001b[0;32mfrom\u001b[0m \u001b[0;34m.\u001b[0m\u001b[0mregression\u001b[0m\u001b[0;34m.\u001b[0m\u001b[0mrecursive_ls\u001b[0m \u001b[0;32mimport\u001b[0m \u001b[0mRecursiveLS\u001b[0m\u001b[0;34m\u001b[0m\u001b[0m\n\u001b[0m\u001b[1;32m      8\u001b[0m \u001b[0;32mfrom\u001b[0m \u001b[0;34m.\u001b[0m\u001b[0mregression\u001b[0m\u001b[0;34m.\u001b[0m\u001b[0mquantile_regression\u001b[0m \u001b[0;32mimport\u001b[0m \u001b[0mQuantReg\u001b[0m\u001b[0;34m\u001b[0m\u001b[0m\n\u001b[1;32m      9\u001b[0m \u001b[0;32mfrom\u001b[0m \u001b[0;34m.\u001b[0m\u001b[0mregression\u001b[0m\u001b[0;34m.\u001b[0m\u001b[0mmixed_linear_model\u001b[0m \u001b[0;32mimport\u001b[0m \u001b[0mMixedLM\u001b[0m\u001b[0;34m\u001b[0m\u001b[0m\n",
      "\u001b[0;32m/anaconda3/lib/python3.6/site-packages/statsmodels/regression/recursive_ls.py\u001b[0m in \u001b[0;36m<module>\u001b[0;34m()\u001b[0m\n\u001b[1;32m     14\u001b[0m \u001b[0;32mfrom\u001b[0m \u001b[0mstatsmodels\u001b[0m\u001b[0;34m.\u001b[0m\u001b[0mregression\u001b[0m\u001b[0;34m.\u001b[0m\u001b[0mlinear_model\u001b[0m \u001b[0;32mimport\u001b[0m \u001b[0mOLS\u001b[0m\u001b[0;34m\u001b[0m\u001b[0m\n\u001b[1;32m     15\u001b[0m \u001b[0;32mfrom\u001b[0m \u001b[0mstatsmodels\u001b[0m\u001b[0;34m.\u001b[0m\u001b[0mtools\u001b[0m\u001b[0;34m.\u001b[0m\u001b[0mdata\u001b[0m \u001b[0;32mimport\u001b[0m \u001b[0m_is_using_pandas\u001b[0m\u001b[0;34m\u001b[0m\u001b[0m\n\u001b[0;32m---> 16\u001b[0;31m from statsmodels.tsa.statespace.mlemodel import (\n\u001b[0m\u001b[1;32m     17\u001b[0m     MLEModel, MLEResults, MLEResultsWrapper)\n\u001b[1;32m     18\u001b[0m \u001b[0;32mfrom\u001b[0m \u001b[0mstatsmodels\u001b[0m\u001b[0;34m.\u001b[0m\u001b[0mtools\u001b[0m\u001b[0;34m.\u001b[0m\u001b[0mtools\u001b[0m \u001b[0;32mimport\u001b[0m \u001b[0mBunch\u001b[0m\u001b[0;34m\u001b[0m\u001b[0m\n",
      "\u001b[0;32m/anaconda3/lib/python3.6/site-packages/statsmodels/tsa/statespace/mlemodel.py\u001b[0m in \u001b[0;36m<module>\u001b[0;34m()\u001b[0m\n\u001b[1;32m     15\u001b[0m from .kalman_filter import (KalmanFilter, FilterResults, INVERT_UNIVARIATE,\n\u001b[1;32m     16\u001b[0m                             SOLVE_LU)\n\u001b[0;32m---> 17\u001b[0;31m \u001b[0;32mimport\u001b[0m \u001b[0mstatsmodels\u001b[0m\u001b[0;34m.\u001b[0m\u001b[0mtsa\u001b[0m\u001b[0;34m.\u001b[0m\u001b[0mbase\u001b[0m\u001b[0;34m.\u001b[0m\u001b[0mtsa_model\u001b[0m \u001b[0;32mas\u001b[0m \u001b[0mtsbase\u001b[0m\u001b[0;34m\u001b[0m\u001b[0m\n\u001b[0m\u001b[1;32m     18\u001b[0m \u001b[0;32mimport\u001b[0m \u001b[0mstatsmodels\u001b[0m\u001b[0;34m.\u001b[0m\u001b[0mbase\u001b[0m\u001b[0;34m.\u001b[0m\u001b[0mwrapper\u001b[0m \u001b[0;32mas\u001b[0m \u001b[0mwrap\u001b[0m\u001b[0;34m\u001b[0m\u001b[0m\n\u001b[1;32m     19\u001b[0m from statsmodels.tools.numdiff import (_get_epsilon, approx_hess_cs,\n",
      "\u001b[0;32m/anaconda3/lib/python3.6/site-packages/statsmodels/tsa/base/tsa_model.py\u001b[0m in \u001b[0;36m<module>\u001b[0;34m()\u001b[0m\n\u001b[1;32m      1\u001b[0m \u001b[0;32mfrom\u001b[0m \u001b[0mstatsmodels\u001b[0m\u001b[0;34m.\u001b[0m\u001b[0mcompat\u001b[0m\u001b[0;34m.\u001b[0m\u001b[0mpython\u001b[0m \u001b[0;32mimport\u001b[0m \u001b[0mlrange\u001b[0m\u001b[0;34m,\u001b[0m \u001b[0mlong\u001b[0m\u001b[0;34m\u001b[0m\u001b[0m\n\u001b[0;32m----> 2\u001b[0;31m \u001b[0;32mfrom\u001b[0m \u001b[0mstatsmodels\u001b[0m\u001b[0;34m.\u001b[0m\u001b[0mcompat\u001b[0m\u001b[0;34m.\u001b[0m\u001b[0mpandas\u001b[0m \u001b[0;32mimport\u001b[0m \u001b[0mis_numeric_dtype\u001b[0m\u001b[0;34m\u001b[0m\u001b[0m\n\u001b[0m\u001b[1;32m      3\u001b[0m \u001b[0;34m\u001b[0m\u001b[0m\n\u001b[1;32m      4\u001b[0m \u001b[0;32mimport\u001b[0m \u001b[0mdatetime\u001b[0m\u001b[0;34m\u001b[0m\u001b[0m\n\u001b[1;32m      5\u001b[0m \u001b[0;34m\u001b[0m\u001b[0m\n",
      "\u001b[0;32m/anaconda3/lib/python3.6/site-packages/statsmodels/compat/pandas.py\u001b[0m in \u001b[0;36m<module>\u001b[0;34m()\u001b[0m\n\u001b[1;32m     54\u001b[0m     \u001b[0;32mimport\u001b[0m \u001b[0mpandas\u001b[0m\u001b[0;34m.\u001b[0m\u001b[0mtseries\u001b[0m\u001b[0;34m.\u001b[0m\u001b[0mfrequencies\u001b[0m \u001b[0;32mas\u001b[0m \u001b[0mfrequencies\u001b[0m\u001b[0;34m\u001b[0m\u001b[0m\n\u001b[1;32m     55\u001b[0m \u001b[0;32mexcept\u001b[0m \u001b[0mImportError\u001b[0m\u001b[0;34m:\u001b[0m\u001b[0;34m\u001b[0m\u001b[0m\n\u001b[0;32m---> 56\u001b[0;31m     \u001b[0;32mfrom\u001b[0m \u001b[0mpandas\u001b[0m\u001b[0;34m.\u001b[0m\u001b[0mcore\u001b[0m \u001b[0;32mimport\u001b[0m \u001b[0mdatetools\u001b[0m\u001b[0;34m\u001b[0m\u001b[0m\n\u001b[0m\u001b[1;32m     57\u001b[0m     \u001b[0mfrequencies\u001b[0m \u001b[0;34m=\u001b[0m \u001b[0mdatetools\u001b[0m\u001b[0;34m\u001b[0m\u001b[0m\n",
      "\u001b[0;31mImportError\u001b[0m: cannot import name 'datetools'"
     ]
    }
   ],
   "source": [
    "%matplotlib inline\n",
    "\n",
    "import pandas as pd\n",
    "import numpy as np\n",
    "\n",
    "import matplotlib.pyplot as plt\n",
    "import seaborn as sns\n",
    "import os\n",
    "import patsy\n",
    "import scipy.stats as stats\n",
    "from scipy.stats import ttest_ind, chisquare, normaltest\n",
    "import statsmodels.api as sm\n",
    "\n",
    "import warnings\n",
    "warnings.filterwarnings(\"ignore\")\n",
    "\n",
    "# set defaults\n",
    "plt.style.use('seaborn-white')   # seaborn custom plot style\n",
    "plt.rc('figure', dpi=100, figsize=(7, 5))   # set default size/resolution\n",
    "plt.rc('font', size=12)   # font size"
   ]
  },
  {
   "cell_type": "markdown",
   "metadata": {},
   "source": [
    "# Data Cleaning"
   ]
  },
  {
   "cell_type": "markdown",
   "metadata": {},
   "source": [
    "Demographics Dataset"
   ]
  },
  {
   "cell_type": "code",
<<<<<<< HEAD
   "execution_count": 3,
   "metadata": {},
   "outputs": [
    {
     "data": {
      "text/html": [
       "<div>\n",
       "<style scoped>\n",
       "    .dataframe tbody tr th:only-of-type {\n",
       "        vertical-align: middle;\n",
       "    }\n",
       "\n",
       "    .dataframe tbody tr th {\n",
       "        vertical-align: top;\n",
       "    }\n",
       "\n",
       "    .dataframe thead th {\n",
       "        text-align: right;\n",
       "    }\n",
       "</style>\n",
       "<table border=\"1\" class=\"dataframe\">\n",
       "  <thead>\n",
       "    <tr style=\"text-align: right;\">\n",
       "      <th></th>\n",
       "      <th>SEQN</th>\n",
       "      <th>SDDSRVYR</th>\n",
       "      <th>RIDSTATR</th>\n",
       "      <th>RIAGENDR</th>\n",
       "      <th>RIDAGEYR</th>\n",
       "      <th>RIDAGEMN</th>\n",
       "      <th>RIDRETH1</th>\n",
       "      <th>RIDRETH3</th>\n",
       "      <th>RIDEXMON</th>\n",
       "      <th>RIDEXAGM</th>\n",
       "      <th>...</th>\n",
       "      <th>DMDHREDU</th>\n",
       "      <th>DMDHRMAR</th>\n",
       "      <th>DMDHSEDU</th>\n",
       "      <th>WTINT2YR</th>\n",
       "      <th>WTMEC2YR</th>\n",
       "      <th>SDMVPSU</th>\n",
       "      <th>SDMVSTRA</th>\n",
       "      <th>INDHHIN2</th>\n",
       "      <th>INDFMIN2</th>\n",
       "      <th>INDFMPIR</th>\n",
       "    </tr>\n",
       "  </thead>\n",
       "  <tbody>\n",
       "    <tr>\n",
       "      <th>0</th>\n",
       "      <td>83732.0</td>\n",
       "      <td>9.0</td>\n",
       "      <td>2.0</td>\n",
       "      <td>1.0</td>\n",
       "      <td>62.0</td>\n",
       "      <td>NaN</td>\n",
       "      <td>3.0</td>\n",
       "      <td>3.0</td>\n",
       "      <td>1.0</td>\n",
       "      <td>NaN</td>\n",
       "      <td>...</td>\n",
       "      <td>5.0</td>\n",
       "      <td>1.0</td>\n",
       "      <td>3.0</td>\n",
       "      <td>134671.370419</td>\n",
       "      <td>135629.507405</td>\n",
       "      <td>1.0</td>\n",
       "      <td>125.0</td>\n",
       "      <td>10.0</td>\n",
       "      <td>10.0</td>\n",
       "      <td>4.39</td>\n",
       "    </tr>\n",
       "    <tr>\n",
       "      <th>1</th>\n",
       "      <td>83733.0</td>\n",
       "      <td>9.0</td>\n",
       "      <td>2.0</td>\n",
       "      <td>1.0</td>\n",
       "      <td>53.0</td>\n",
       "      <td>NaN</td>\n",
       "      <td>3.0</td>\n",
       "      <td>3.0</td>\n",
       "      <td>1.0</td>\n",
       "      <td>NaN</td>\n",
       "      <td>...</td>\n",
       "      <td>3.0</td>\n",
       "      <td>3.0</td>\n",
       "      <td>NaN</td>\n",
       "      <td>24328.560239</td>\n",
       "      <td>25282.425927</td>\n",
       "      <td>1.0</td>\n",
       "      <td>125.0</td>\n",
       "      <td>4.0</td>\n",
       "      <td>4.0</td>\n",
       "      <td>1.32</td>\n",
       "    </tr>\n",
       "    <tr>\n",
       "      <th>2</th>\n",
       "      <td>83734.0</td>\n",
       "      <td>9.0</td>\n",
       "      <td>2.0</td>\n",
       "      <td>1.0</td>\n",
       "      <td>78.0</td>\n",
       "      <td>NaN</td>\n",
       "      <td>3.0</td>\n",
       "      <td>3.0</td>\n",
       "      <td>2.0</td>\n",
       "      <td>NaN</td>\n",
       "      <td>...</td>\n",
       "      <td>3.0</td>\n",
       "      <td>1.0</td>\n",
       "      <td>3.0</td>\n",
       "      <td>12400.008522</td>\n",
       "      <td>12575.838818</td>\n",
       "      <td>1.0</td>\n",
       "      <td>131.0</td>\n",
       "      <td>5.0</td>\n",
       "      <td>5.0</td>\n",
       "      <td>1.51</td>\n",
       "    </tr>\n",
       "    <tr>\n",
       "      <th>3</th>\n",
       "      <td>83735.0</td>\n",
       "      <td>9.0</td>\n",
       "      <td>2.0</td>\n",
       "      <td>2.0</td>\n",
       "      <td>56.0</td>\n",
       "      <td>NaN</td>\n",
       "      <td>3.0</td>\n",
       "      <td>3.0</td>\n",
       "      <td>2.0</td>\n",
       "      <td>NaN</td>\n",
       "      <td>...</td>\n",
       "      <td>5.0</td>\n",
       "      <td>6.0</td>\n",
       "      <td>NaN</td>\n",
       "      <td>102717.995647</td>\n",
       "      <td>102078.634508</td>\n",
       "      <td>1.0</td>\n",
       "      <td>131.0</td>\n",
       "      <td>10.0</td>\n",
       "      <td>10.0</td>\n",
       "      <td>5.00</td>\n",
       "    </tr>\n",
       "    <tr>\n",
       "      <th>4</th>\n",
       "      <td>83736.0</td>\n",
       "      <td>9.0</td>\n",
       "      <td>2.0</td>\n",
       "      <td>2.0</td>\n",
       "      <td>42.0</td>\n",
       "      <td>NaN</td>\n",
       "      <td>4.0</td>\n",
       "      <td>4.0</td>\n",
       "      <td>2.0</td>\n",
       "      <td>NaN</td>\n",
       "      <td>...</td>\n",
       "      <td>4.0</td>\n",
       "      <td>3.0</td>\n",
       "      <td>NaN</td>\n",
       "      <td>17627.674984</td>\n",
       "      <td>18234.736219</td>\n",
       "      <td>2.0</td>\n",
       "      <td>126.0</td>\n",
       "      <td>7.0</td>\n",
       "      <td>7.0</td>\n",
       "      <td>1.23</td>\n",
       "    </tr>\n",
       "  </tbody>\n",
       "</table>\n",
       "<p>5 rows × 47 columns</p>\n",
       "</div>"
      ],
      "text/plain": [
       "      SEQN  SDDSRVYR  RIDSTATR  RIAGENDR  RIDAGEYR  RIDAGEMN  RIDRETH1  \\\n",
       "0  83732.0       9.0       2.0       1.0      62.0       NaN       3.0   \n",
       "1  83733.0       9.0       2.0       1.0      53.0       NaN       3.0   \n",
       "2  83734.0       9.0       2.0       1.0      78.0       NaN       3.0   \n",
       "3  83735.0       9.0       2.0       2.0      56.0       NaN       3.0   \n",
       "4  83736.0       9.0       2.0       2.0      42.0       NaN       4.0   \n",
       "\n",
       "   RIDRETH3  RIDEXMON  RIDEXAGM  ...  DMDHREDU  DMDHRMAR  DMDHSEDU  \\\n",
       "0       3.0       1.0       NaN  ...       5.0       1.0       3.0   \n",
       "1       3.0       1.0       NaN  ...       3.0       3.0       NaN   \n",
       "2       3.0       2.0       NaN  ...       3.0       1.0       3.0   \n",
       "3       3.0       2.0       NaN  ...       5.0       6.0       NaN   \n",
       "4       4.0       2.0       NaN  ...       4.0       3.0       NaN   \n",
       "\n",
       "        WTINT2YR       WTMEC2YR  SDMVPSU  SDMVSTRA  INDHHIN2  INDFMIN2  \\\n",
       "0  134671.370419  135629.507405      1.0     125.0      10.0      10.0   \n",
       "1   24328.560239   25282.425927      1.0     125.0       4.0       4.0   \n",
       "2   12400.008522   12575.838818      1.0     131.0       5.0       5.0   \n",
       "3  102717.995647  102078.634508      1.0     131.0      10.0      10.0   \n",
       "4   17627.674984   18234.736219      2.0     126.0       7.0       7.0   \n",
       "\n",
       "   INDFMPIR  \n",
       "0      4.39  \n",
       "1      1.32  \n",
       "2      1.51  \n",
       "3      5.00  \n",
       "4      1.23  \n",
       "\n",
       "[5 rows x 47 columns]"
      ]
     },
     "execution_count": 3,
     "metadata": {},
     "output_type": "execute_result"
    }
   ],
   "source": [
    "demographics = pd.read_sas('data/DEMO_I.XPT')\n",
    "demographics.head()"
   ]
  },
  {
   "cell_type": "markdown",
   "metadata": {},
   "source": [
    "Drug Use Dataset"
   ]
  },
  {
   "cell_type": "code",
   "execution_count": 4,
   "metadata": {},
   "outputs": [
    {
     "data": {
      "text/html": [
       "<div>\n",
       "<style scoped>\n",
       "    .dataframe tbody tr th:only-of-type {\n",
       "        vertical-align: middle;\n",
       "    }\n",
       "\n",
       "    .dataframe tbody tr th {\n",
       "        vertical-align: top;\n",
       "    }\n",
       "\n",
       "    .dataframe thead th {\n",
       "        text-align: right;\n",
       "    }\n",
       "</style>\n",
       "<table border=\"1\" class=\"dataframe\">\n",
       "  <thead>\n",
       "    <tr style=\"text-align: right;\">\n",
       "      <th></th>\n",
       "      <th>SEQN</th>\n",
       "      <th>DUQ200</th>\n",
       "      <th>DUQ210</th>\n",
       "      <th>DUQ211</th>\n",
       "      <th>DUQ213</th>\n",
       "      <th>DUQ215Q</th>\n",
       "      <th>DUQ215U</th>\n",
       "      <th>DUQ217</th>\n",
       "      <th>DUQ219</th>\n",
       "      <th>DUQ220Q</th>\n",
       "      <th>...</th>\n",
       "      <th>DUQ380B</th>\n",
       "      <th>DUQ380C</th>\n",
       "      <th>DUQ380D</th>\n",
       "      <th>DUQ380E</th>\n",
       "      <th>DUQ390</th>\n",
       "      <th>DUQ400Q</th>\n",
       "      <th>DUQ400U</th>\n",
       "      <th>DUQ410</th>\n",
       "      <th>DUQ420</th>\n",
       "      <th>DUQ430</th>\n",
       "    </tr>\n",
       "  </thead>\n",
       "  <tbody>\n",
       "    <tr>\n",
       "      <th>0</th>\n",
       "      <td>83732.0</td>\n",
       "      <td>NaN</td>\n",
       "      <td>NaN</td>\n",
       "      <td>NaN</td>\n",
       "      <td>NaN</td>\n",
       "      <td>NaN</td>\n",
       "      <td>NaN</td>\n",
       "      <td>NaN</td>\n",
       "      <td>NaN</td>\n",
       "      <td>NaN</td>\n",
       "      <td>...</td>\n",
       "      <td>NaN</td>\n",
       "      <td>NaN</td>\n",
       "      <td>NaN</td>\n",
       "      <td>NaN</td>\n",
       "      <td>NaN</td>\n",
       "      <td>NaN</td>\n",
       "      <td>NaN</td>\n",
       "      <td>NaN</td>\n",
       "      <td>NaN</td>\n",
       "      <td>NaN</td>\n",
       "    </tr>\n",
       "    <tr>\n",
       "      <th>1</th>\n",
       "      <td>83733.0</td>\n",
       "      <td>2.0</td>\n",
       "      <td>NaN</td>\n",
       "      <td>NaN</td>\n",
       "      <td>NaN</td>\n",
       "      <td>NaN</td>\n",
       "      <td>NaN</td>\n",
       "      <td>NaN</td>\n",
       "      <td>NaN</td>\n",
       "      <td>NaN</td>\n",
       "      <td>...</td>\n",
       "      <td>NaN</td>\n",
       "      <td>NaN</td>\n",
       "      <td>NaN</td>\n",
       "      <td>NaN</td>\n",
       "      <td>NaN</td>\n",
       "      <td>NaN</td>\n",
       "      <td>NaN</td>\n",
       "      <td>NaN</td>\n",
       "      <td>NaN</td>\n",
       "      <td>NaN</td>\n",
       "    </tr>\n",
       "    <tr>\n",
       "      <th>2</th>\n",
       "      <td>83735.0</td>\n",
       "      <td>2.0</td>\n",
       "      <td>NaN</td>\n",
       "      <td>NaN</td>\n",
       "      <td>NaN</td>\n",
       "      <td>NaN</td>\n",
       "      <td>NaN</td>\n",
       "      <td>NaN</td>\n",
       "      <td>NaN</td>\n",
       "      <td>NaN</td>\n",
       "      <td>...</td>\n",
       "      <td>NaN</td>\n",
       "      <td>NaN</td>\n",
       "      <td>NaN</td>\n",
       "      <td>NaN</td>\n",
       "      <td>NaN</td>\n",
       "      <td>NaN</td>\n",
       "      <td>NaN</td>\n",
       "      <td>NaN</td>\n",
       "      <td>NaN</td>\n",
       "      <td>NaN</td>\n",
       "    </tr>\n",
       "    <tr>\n",
       "      <th>3</th>\n",
       "      <td>83736.0</td>\n",
       "      <td>1.0</td>\n",
       "      <td>25.0</td>\n",
       "      <td>1.0</td>\n",
       "      <td>25.0</td>\n",
       "      <td>5.397605e-79</td>\n",
       "      <td>1.0</td>\n",
       "      <td>5.0</td>\n",
       "      <td>4.0</td>\n",
       "      <td>1.0</td>\n",
       "      <td>...</td>\n",
       "      <td>NaN</td>\n",
       "      <td>NaN</td>\n",
       "      <td>NaN</td>\n",
       "      <td>NaN</td>\n",
       "      <td>NaN</td>\n",
       "      <td>NaN</td>\n",
       "      <td>NaN</td>\n",
       "      <td>NaN</td>\n",
       "      <td>NaN</td>\n",
       "      <td>2.0</td>\n",
       "    </tr>\n",
       "    <tr>\n",
       "      <th>4</th>\n",
       "      <td>83741.0</td>\n",
       "      <td>1.0</td>\n",
       "      <td>15.0</td>\n",
       "      <td>1.0</td>\n",
       "      <td>16.0</td>\n",
       "      <td>1.000000e+00</td>\n",
       "      <td>4.0</td>\n",
       "      <td>4.0</td>\n",
       "      <td>2.0</td>\n",
       "      <td>1.0</td>\n",
       "      <td>...</td>\n",
       "      <td>NaN</td>\n",
       "      <td>NaN</td>\n",
       "      <td>NaN</td>\n",
       "      <td>NaN</td>\n",
       "      <td>NaN</td>\n",
       "      <td>NaN</td>\n",
       "      <td>NaN</td>\n",
       "      <td>NaN</td>\n",
       "      <td>NaN</td>\n",
       "      <td>1.0</td>\n",
       "    </tr>\n",
       "  </tbody>\n",
       "</table>\n",
       "<p>5 rows × 42 columns</p>\n",
       "</div>"
      ],
      "text/plain": [
       "      SEQN  DUQ200  DUQ210  DUQ211  DUQ213       DUQ215Q  DUQ215U  DUQ217  \\\n",
       "0  83732.0     NaN     NaN     NaN     NaN           NaN      NaN     NaN   \n",
       "1  83733.0     2.0     NaN     NaN     NaN           NaN      NaN     NaN   \n",
       "2  83735.0     2.0     NaN     NaN     NaN           NaN      NaN     NaN   \n",
       "3  83736.0     1.0    25.0     1.0    25.0  5.397605e-79      1.0     5.0   \n",
       "4  83741.0     1.0    15.0     1.0    16.0  1.000000e+00      4.0     4.0   \n",
       "\n",
       "   DUQ219  DUQ220Q  ...  DUQ380B  DUQ380C  DUQ380D  DUQ380E  DUQ390  DUQ400Q  \\\n",
       "0     NaN      NaN  ...      NaN      NaN      NaN      NaN     NaN      NaN   \n",
       "1     NaN      NaN  ...      NaN      NaN      NaN      NaN     NaN      NaN   \n",
       "2     NaN      NaN  ...      NaN      NaN      NaN      NaN     NaN      NaN   \n",
       "3     4.0      1.0  ...      NaN      NaN      NaN      NaN     NaN      NaN   \n",
       "4     2.0      1.0  ...      NaN      NaN      NaN      NaN     NaN      NaN   \n",
       "\n",
       "   DUQ400U  DUQ410  DUQ420  DUQ430  \n",
       "0      NaN     NaN     NaN     NaN  \n",
       "1      NaN     NaN     NaN     NaN  \n",
       "2      NaN     NaN     NaN     NaN  \n",
       "3      NaN     NaN     NaN     2.0  \n",
       "4      NaN     NaN     NaN     1.0  \n",
       "\n",
       "[5 rows x 42 columns]"
      ]
     },
     "execution_count": 4,
     "metadata": {},
     "output_type": "execute_result"
    }
   ],
   "source": [
    "questionaire = pd.read_sas('data/DUQ_I.XPT')\n",
    "questionaire.head()"
   ]
  },
  {
   "cell_type": "markdown",
   "metadata": {},
   "source": [
    "We merged the two dataframes based on the sequence number."
   ]
  },
  {
   "cell_type": "code",
   "execution_count": 5,
   "metadata": {},
   "outputs": [
    {
     "data": {
      "text/html": [
       "<div>\n",
       "<style scoped>\n",
       "    .dataframe tbody tr th:only-of-type {\n",
       "        vertical-align: middle;\n",
       "    }\n",
       "\n",
       "    .dataframe tbody tr th {\n",
       "        vertical-align: top;\n",
       "    }\n",
       "\n",
       "    .dataframe thead th {\n",
       "        text-align: right;\n",
       "    }\n",
       "</style>\n",
       "<table border=\"1\" class=\"dataframe\">\n",
       "  <thead>\n",
       "    <tr style=\"text-align: right;\">\n",
       "      <th></th>\n",
       "      <th>SEQN</th>\n",
       "      <th>SDDSRVYR</th>\n",
       "      <th>RIDSTATR</th>\n",
       "      <th>RIAGENDR</th>\n",
       "      <th>RIDAGEYR</th>\n",
       "      <th>RIDAGEMN</th>\n",
       "      <th>RIDRETH1</th>\n",
       "      <th>RIDRETH3</th>\n",
       "      <th>RIDEXMON</th>\n",
       "      <th>RIDEXAGM</th>\n",
       "      <th>...</th>\n",
       "      <th>DUQ380B</th>\n",
       "      <th>DUQ380C</th>\n",
       "      <th>DUQ380D</th>\n",
       "      <th>DUQ380E</th>\n",
       "      <th>DUQ390</th>\n",
       "      <th>DUQ400Q</th>\n",
       "      <th>DUQ400U</th>\n",
       "      <th>DUQ410</th>\n",
       "      <th>DUQ420</th>\n",
       "      <th>DUQ430</th>\n",
       "    </tr>\n",
       "  </thead>\n",
       "  <tbody>\n",
       "    <tr>\n",
       "      <th>0</th>\n",
       "      <td>83732.0</td>\n",
       "      <td>9.0</td>\n",
       "      <td>2.0</td>\n",
       "      <td>1.0</td>\n",
       "      <td>62.0</td>\n",
       "      <td>NaN</td>\n",
       "      <td>3.0</td>\n",
       "      <td>3.0</td>\n",
       "      <td>1.0</td>\n",
       "      <td>NaN</td>\n",
       "      <td>...</td>\n",
       "      <td>NaN</td>\n",
       "      <td>NaN</td>\n",
       "      <td>NaN</td>\n",
       "      <td>NaN</td>\n",
       "      <td>NaN</td>\n",
       "      <td>NaN</td>\n",
       "      <td>NaN</td>\n",
       "      <td>NaN</td>\n",
       "      <td>NaN</td>\n",
       "      <td>NaN</td>\n",
       "    </tr>\n",
       "    <tr>\n",
       "      <th>1</th>\n",
       "      <td>83733.0</td>\n",
       "      <td>9.0</td>\n",
       "      <td>2.0</td>\n",
       "      <td>1.0</td>\n",
       "      <td>53.0</td>\n",
       "      <td>NaN</td>\n",
       "      <td>3.0</td>\n",
       "      <td>3.0</td>\n",
       "      <td>1.0</td>\n",
       "      <td>NaN</td>\n",
       "      <td>...</td>\n",
       "      <td>NaN</td>\n",
       "      <td>NaN</td>\n",
       "      <td>NaN</td>\n",
       "      <td>NaN</td>\n",
       "      <td>NaN</td>\n",
       "      <td>NaN</td>\n",
       "      <td>NaN</td>\n",
       "      <td>NaN</td>\n",
       "      <td>NaN</td>\n",
       "      <td>NaN</td>\n",
       "    </tr>\n",
       "    <tr>\n",
       "      <th>2</th>\n",
       "      <td>83735.0</td>\n",
       "      <td>9.0</td>\n",
       "      <td>2.0</td>\n",
       "      <td>2.0</td>\n",
       "      <td>56.0</td>\n",
       "      <td>NaN</td>\n",
       "      <td>3.0</td>\n",
       "      <td>3.0</td>\n",
       "      <td>2.0</td>\n",
       "      <td>NaN</td>\n",
       "      <td>...</td>\n",
       "      <td>NaN</td>\n",
       "      <td>NaN</td>\n",
       "      <td>NaN</td>\n",
       "      <td>NaN</td>\n",
       "      <td>NaN</td>\n",
       "      <td>NaN</td>\n",
       "      <td>NaN</td>\n",
       "      <td>NaN</td>\n",
       "      <td>NaN</td>\n",
       "      <td>NaN</td>\n",
       "    </tr>\n",
       "    <tr>\n",
       "      <th>3</th>\n",
       "      <td>83736.0</td>\n",
       "      <td>9.0</td>\n",
       "      <td>2.0</td>\n",
       "      <td>2.0</td>\n",
       "      <td>42.0</td>\n",
       "      <td>NaN</td>\n",
       "      <td>4.0</td>\n",
       "      <td>4.0</td>\n",
       "      <td>2.0</td>\n",
       "      <td>NaN</td>\n",
       "      <td>...</td>\n",
       "      <td>NaN</td>\n",
       "      <td>NaN</td>\n",
       "      <td>NaN</td>\n",
       "      <td>NaN</td>\n",
       "      <td>NaN</td>\n",
       "      <td>NaN</td>\n",
       "      <td>NaN</td>\n",
       "      <td>NaN</td>\n",
       "      <td>NaN</td>\n",
       "      <td>2.0</td>\n",
       "    </tr>\n",
       "    <tr>\n",
       "      <th>4</th>\n",
       "      <td>83741.0</td>\n",
       "      <td>9.0</td>\n",
       "      <td>2.0</td>\n",
       "      <td>1.0</td>\n",
       "      <td>22.0</td>\n",
       "      <td>NaN</td>\n",
       "      <td>4.0</td>\n",
       "      <td>4.0</td>\n",
       "      <td>1.0</td>\n",
       "      <td>NaN</td>\n",
       "      <td>...</td>\n",
       "      <td>NaN</td>\n",
       "      <td>NaN</td>\n",
       "      <td>NaN</td>\n",
       "      <td>NaN</td>\n",
       "      <td>NaN</td>\n",
       "      <td>NaN</td>\n",
       "      <td>NaN</td>\n",
       "      <td>NaN</td>\n",
       "      <td>NaN</td>\n",
       "      <td>1.0</td>\n",
       "    </tr>\n",
       "  </tbody>\n",
       "</table>\n",
       "<p>5 rows × 88 columns</p>\n",
       "</div>"
      ],
      "text/plain": [
       "      SEQN  SDDSRVYR  RIDSTATR  RIAGENDR  RIDAGEYR  RIDAGEMN  RIDRETH1  \\\n",
       "0  83732.0       9.0       2.0       1.0      62.0       NaN       3.0   \n",
       "1  83733.0       9.0       2.0       1.0      53.0       NaN       3.0   \n",
       "2  83735.0       9.0       2.0       2.0      56.0       NaN       3.0   \n",
       "3  83736.0       9.0       2.0       2.0      42.0       NaN       4.0   \n",
       "4  83741.0       9.0       2.0       1.0      22.0       NaN       4.0   \n",
       "\n",
       "   RIDRETH3  RIDEXMON  RIDEXAGM  ...  DUQ380B  DUQ380C  DUQ380D  DUQ380E  \\\n",
       "0       3.0       1.0       NaN  ...      NaN      NaN      NaN      NaN   \n",
       "1       3.0       1.0       NaN  ...      NaN      NaN      NaN      NaN   \n",
       "2       3.0       2.0       NaN  ...      NaN      NaN      NaN      NaN   \n",
       "3       4.0       2.0       NaN  ...      NaN      NaN      NaN      NaN   \n",
       "4       4.0       1.0       NaN  ...      NaN      NaN      NaN      NaN   \n",
       "\n",
       "   DUQ390  DUQ400Q  DUQ400U  DUQ410  DUQ420  DUQ430  \n",
       "0     NaN      NaN      NaN     NaN     NaN     NaN  \n",
       "1     NaN      NaN      NaN     NaN     NaN     NaN  \n",
       "2     NaN      NaN      NaN     NaN     NaN     NaN  \n",
       "3     NaN      NaN      NaN     NaN     NaN     2.0  \n",
       "4     NaN      NaN      NaN     NaN     NaN     1.0  \n",
       "\n",
       "[5 rows x 88 columns]"
      ]
     },
     "execution_count": 5,
     "metadata": {},
     "output_type": "execute_result"
    }
   ],
   "source": [
    "merged = pd.merge(demographics, questionaire, on = 'SEQN')\n",
    "merged.head()"
   ]
  },
  {
   "cell_type": "markdown",
   "metadata": {},
   "source": [
    "We then went through the columns and decided on which column we wanted to utilize for our analysis. "
   ]
  },
  {
   "cell_type": "code",
   "execution_count": 6,
   "metadata": {},
   "outputs": [
    {
     "name": "stderr",
     "output_type": "stream",
     "text": [
      "/anaconda3/lib/python3.6/site-packages/ipykernel_launcher.py:5: SettingWithCopyWarning: \n",
      "A value is trying to be set on a copy of a slice from a DataFrame.\n",
      "Try using .loc[row_indexer,col_indexer] = value instead\n",
      "\n",
      "See the caveats in the documentation: http://pandas.pydata.org/pandas-docs/stable/indexing.html#indexing-view-versus-copy\n",
      "  \"\"\"\n"
     ]
    }
   ],
   "source": [
    "cols = ['SEQN', 'RIAGENDR', 'RIDAGEYR', 'DMDEDUC3', 'DMDEDUC2', 'DMDMARTL', 'RIDEXPRG', 'INDHHIN2', \n",
    "        'INDFMPIR', 'DMDHHSIZ', 'DMDHHSZA', 'DMDHHSZB', 'DMDHHSZE', 'DUQ200', 'DUQ210', 'DUQ217', 'DUQ211', \n",
    "        'DUQ213', 'DUQ215Q', 'DUQ219', 'DUQ220Q', 'DUQ230']\n",
    "df = merged[cols]\n",
    "df['CHILDREN_NUM'] = df['DMDHHSZA'] + df['DMDHHSZB']\n",
    "df = df.drop(columns = ['DMDHHSZA', 'DMDHHSZB'])"
   ]
  },
  {
   "cell_type": "markdown",
   "metadata": {},
   "source": [
    "We then standardized our refused and don't know data (all 7's were refused and 9's were unknown). "
   ]
  },
  {
   "cell_type": "code",
   "execution_count": null,
   "metadata": {},
   "outputs": [],
   "source": [
    "lst_7 = ['DMDEDUC2', 'DUQ200', 'DUQ217', 'DUQ211', 'DUQ219']\n",
    "lst_77 = ['DMDMARTL', 'DMDEDUC3', 'INDHHIN2']\n",
    "lst_777 = ['DUQ210', 'DUQ213', 'DUQ230']\n",
    "\n",
    "for i in lst_7:\n",
    "    df[i] = df[i].replace({7: 7777, 9: 9999})\n",
    "for i in lst_77:\n",
    "    df[i] = df[i].replace({77: 7777, 99: 9999})\n",
    "for i in lst_777:\n",
    "    df[i] = df[i].replace({777: 7777, 999: 9999})"
   ]
  },
  {
   "cell_type": "markdown",
   "metadata": {},
   "source": [
    "To make our dataframe's columns more readable, we used a translation dictionary to make the column names easier to understand."
   ]
  },
  {
   "cell_type": "code",
   "execution_count": null,
   "metadata": {},
   "outputs": [],
   "source": [
    "translation_dict = {'SEQN': 'ID', 'RIAGENDR': 'GENDER', 'RIDAGEYR': 'AGE', 'DMDMARTL': 'MARRIAGE', \n",
    "                    'RIDEXPRG': 'PREGNANCY', 'INDHHIN2': 'INCOME', 'INDFMPIR': 'INCOME_RATIO', \n",
    "                    'DMDHHSIZ': 'HOUSEHOLD_NUM', 'DMDHHSZE': 'OVER_60_NUM', 'DUQ200': 'EVER_USE', \n",
    "                    'DUQ210': 'FIRST_USAGE', 'DUQ217': 'FREQUENCY', 'DUQ211': 'PER_MONTH', \n",
    "                    'DUQ213': 'PER_YEAR', 'DUQ215Q': 'LAST_ONCE_MONTH', 'DUQ219': 'AMOUNT', 'DUQ220Q': 'LAST_USAGE', \n",
    "                    'DUQ230': 'PAST_MONTH_USAGE', 'DMDEDUC2': 'EDUCATION_ADULT', 'DMDEDUC3': 'EDUCATION_KID'}\n",
    "df = df.rename(index = str, columns = translation_dict)\n",
    "df.head(10)"
   ]
  },
  {
   "cell_type": "markdown",
   "metadata": {},
   "source": [
    "After looking through the data, we saw that there were some numbers that were trailing (we're assuming it is because when we merged the tables together, something happened to it). We decided to then round those numbers and to replace 5.39770e-79 to 0 because we realized that when we combined the datasets together, that number was suppose to be zero. "
   ]
  },
  {
   "cell_type": "code",
   "execution_count": null,
   "metadata": {},
   "outputs": [],
   "source": [
    "#OVER_60_NUM\n",
    "#LAST_ONCE_MONTH\n",
    "#CHILDREN_NUM\n",
    "df['OVER_60_NUM'] = df['OVER_60_NUM'].round(0)\n",
    "df['LAST_ONCE_MONTH'] = df['LAST_ONCE_MONTH'].round(0)\n",
    "df['CHILDREN_NUM'] = df['CHILDREN_NUM'].round(0)\n",
    "df['INCOME_RATIO'] = df['INCOME_RATIO'].replace({5.397605e-79: 0}).round(2)\n",
    "df.head()"
   ]
  },
  {
   "cell_type": "markdown",
   "metadata": {},
   "source": [
    "We then saved our data then into a csv file, in which we used throughout our analysis."
   ]
  },
  {
   "cell_type": "code",
   "execution_count": null,
   "metadata": {},
   "outputs": [],
   "source": [
    "#write dataframe to csv file\n",
    "df.to_csv(\"cleaned_marijuana_data.csv\")"
   ]
  },
  {
   "cell_type": "markdown",
   "metadata": {},
   "source": [
    "# Data Analysis & Results"
   ]
  },
  {
   "cell_type": "markdown",
   "metadata": {},
   "source": [
    "### For more convenient, we don't separate data exploration and data visualization but include them into the section of data analysis & results. "
   ]
  },
  {
   "cell_type": "markdown",
   "metadata": {},
   "source": [
    "### Demographics\n",
    "\n",
    "The demographic data was obtain from the Center of Disease Control and Prevention website (https://wwwn.cdc.gov/nchs/nhanes/search/datapage.aspx?Component=Demographics&CycleBeginYear=2015) The demographics file provides individual, family, and household-level information on the following topics, which the columns of our dataset:\n",
    "    * Sequence number (ID)\n",
    "    * Gender (GENDER)\n",
    "    * Age in years AGE: Age at the time of screening, two catagories below 80 and above 80\n",
    "    * Education Level (6-19) (EDUCATION_KID): Highest greade or level of school completed \n",
    "    * Education Level (20+) (EDUCATION_ADULT): Highest greade or level of school completed \n",
    "    * Marital Status (MARRIAGE)\n",
    "    * Pregnancy Status (PREGNANCY): Pregnancy status for females between 20 and 44 years of age at the time of MEC exam\n",
    "    * Annual household income (INCOME)\n",
    "    * Ratio of family income to poverty (INCOME_RATIO)\n",
    "    * Total number of people in the Household (HOUSEHOLD_NUM)\n",
    "    * Number of children less than 18 years old (CHILDREN_NUM)\n",
    "    * Number of adults aged 60 years or older in the household (OVER_60_NUM)\n",
    "\n",
    "\n",
    "### Questionnaires:\n",
    "\n",
    "The Questionnaires data was obtain from the Center of Disease Control and Prevention website (https://wwwn.cdc.gov/nchs/nhanes/search/datapage.aspx?Component=Questionnaire&CycleBeginYear=2015). Categories of questionnaires data includes:\n",
    "\n",
    "    * Respondent sequence number (ID)   \n",
    "    * EVER_USE: Ever used marijuana or hashish\n",
    "    * FIRST_USAGE: Age when first tried marijuana\n",
    "    * FREQUENCY: How often would the user used marijuana\n",
    "    * PER_MOUNTH: How often the user would use marijuana every month\n",
    "    * PER_YEAR: How often the user would use marijuana every year\n",
    "    * LAST_ONCE_MONTH: Time since last used marijuana regularly\n",
    "    * AMOUNT: How many joints or pipes smoke in a day.\n",
    "    * LAST_USAGE: Last time used marijuana or hashish\n",
    "    * PAST_MONTH_USAGE: # days used marijuana or hashish/month"
   ]
  },
  {
   "cell_type": "code",
   "execution_count": 12,
=======
   "execution_count": 2,
>>>>>>> 31428442525c61e872f631021c36fc49c67e574c
   "metadata": {},
   "outputs": [
    {
     "data": {
      "text/html": [
       "<div>\n",
       "<style scoped>\n",
       "    .dataframe tbody tr th:only-of-type {\n",
       "        vertical-align: middle;\n",
       "    }\n",
       "\n",
       "    .dataframe tbody tr th {\n",
       "        vertical-align: top;\n",
       "    }\n",
       "\n",
       "    .dataframe thead th {\n",
       "        text-align: right;\n",
       "    }\n",
       "</style>\n",
       "<table border=\"1\" class=\"dataframe\">\n",
       "  <thead>\n",
       "    <tr style=\"text-align: right;\">\n",
       "      <th></th>\n",
       "      <th>SEQN</th>\n",
       "      <th>SDDSRVYR</th>\n",
       "      <th>RIDSTATR</th>\n",
       "      <th>RIAGENDR</th>\n",
       "      <th>RIDAGEYR</th>\n",
       "      <th>RIDAGEMN</th>\n",
       "      <th>RIDRETH1</th>\n",
       "      <th>RIDRETH3</th>\n",
       "      <th>RIDEXMON</th>\n",
       "      <th>RIDEXAGM</th>\n",
       "      <th>...</th>\n",
       "      <th>DMDHREDU</th>\n",
       "      <th>DMDHRMAR</th>\n",
       "      <th>DMDHSEDU</th>\n",
       "      <th>WTINT2YR</th>\n",
       "      <th>WTMEC2YR</th>\n",
       "      <th>SDMVPSU</th>\n",
       "      <th>SDMVSTRA</th>\n",
       "      <th>INDHHIN2</th>\n",
       "      <th>INDFMIN2</th>\n",
       "      <th>INDFMPIR</th>\n",
       "    </tr>\n",
       "  </thead>\n",
       "  <tbody>\n",
       "    <tr>\n",
       "      <th>0</th>\n",
       "      <td>83732.0</td>\n",
       "      <td>9.0</td>\n",
       "      <td>2.0</td>\n",
       "      <td>1.0</td>\n",
       "      <td>62.0</td>\n",
       "      <td>NaN</td>\n",
       "      <td>3.0</td>\n",
       "      <td>3.0</td>\n",
       "      <td>1.0</td>\n",
       "      <td>NaN</td>\n",
       "      <td>...</td>\n",
       "      <td>5.0</td>\n",
       "      <td>1.0</td>\n",
       "      <td>3.0</td>\n",
       "      <td>134671.370419</td>\n",
       "      <td>135629.507405</td>\n",
       "      <td>1.0</td>\n",
       "      <td>125.0</td>\n",
       "      <td>10.0</td>\n",
       "      <td>10.0</td>\n",
       "      <td>4.39</td>\n",
       "    </tr>\n",
       "    <tr>\n",
       "      <th>1</th>\n",
       "      <td>83733.0</td>\n",
       "      <td>9.0</td>\n",
       "      <td>2.0</td>\n",
       "      <td>1.0</td>\n",
       "      <td>53.0</td>\n",
       "      <td>NaN</td>\n",
       "      <td>3.0</td>\n",
       "      <td>3.0</td>\n",
       "      <td>1.0</td>\n",
       "      <td>NaN</td>\n",
       "      <td>...</td>\n",
       "      <td>3.0</td>\n",
       "      <td>3.0</td>\n",
       "      <td>NaN</td>\n",
       "      <td>24328.560239</td>\n",
       "      <td>25282.425927</td>\n",
       "      <td>1.0</td>\n",
       "      <td>125.0</td>\n",
       "      <td>4.0</td>\n",
       "      <td>4.0</td>\n",
       "      <td>1.32</td>\n",
       "    </tr>\n",
       "    <tr>\n",
       "      <th>2</th>\n",
       "      <td>83734.0</td>\n",
       "      <td>9.0</td>\n",
       "      <td>2.0</td>\n",
       "      <td>1.0</td>\n",
       "      <td>78.0</td>\n",
       "      <td>NaN</td>\n",
       "      <td>3.0</td>\n",
       "      <td>3.0</td>\n",
       "      <td>2.0</td>\n",
       "      <td>NaN</td>\n",
       "      <td>...</td>\n",
       "      <td>3.0</td>\n",
       "      <td>1.0</td>\n",
       "      <td>3.0</td>\n",
       "      <td>12400.008522</td>\n",
       "      <td>12575.838818</td>\n",
       "      <td>1.0</td>\n",
       "      <td>131.0</td>\n",
       "      <td>5.0</td>\n",
       "      <td>5.0</td>\n",
       "      <td>1.51</td>\n",
       "    </tr>\n",
       "    <tr>\n",
       "      <th>3</th>\n",
       "      <td>83735.0</td>\n",
       "      <td>9.0</td>\n",
       "      <td>2.0</td>\n",
       "      <td>2.0</td>\n",
       "      <td>56.0</td>\n",
       "      <td>NaN</td>\n",
       "      <td>3.0</td>\n",
       "      <td>3.0</td>\n",
       "      <td>2.0</td>\n",
       "      <td>NaN</td>\n",
       "      <td>...</td>\n",
       "      <td>5.0</td>\n",
       "      <td>6.0</td>\n",
       "      <td>NaN</td>\n",
       "      <td>102717.995647</td>\n",
       "      <td>102078.634508</td>\n",
       "      <td>1.0</td>\n",
       "      <td>131.0</td>\n",
       "      <td>10.0</td>\n",
       "      <td>10.0</td>\n",
       "      <td>5.00</td>\n",
       "    </tr>\n",
       "    <tr>\n",
       "      <th>4</th>\n",
       "      <td>83736.0</td>\n",
       "      <td>9.0</td>\n",
       "      <td>2.0</td>\n",
       "      <td>2.0</td>\n",
       "      <td>42.0</td>\n",
       "      <td>NaN</td>\n",
       "      <td>4.0</td>\n",
       "      <td>4.0</td>\n",
       "      <td>2.0</td>\n",
       "      <td>NaN</td>\n",
       "      <td>...</td>\n",
       "      <td>4.0</td>\n",
       "      <td>3.0</td>\n",
       "      <td>NaN</td>\n",
       "      <td>17627.674984</td>\n",
       "      <td>18234.736219</td>\n",
       "      <td>2.0</td>\n",
       "      <td>126.0</td>\n",
       "      <td>7.0</td>\n",
       "      <td>7.0</td>\n",
       "      <td>1.23</td>\n",
       "    </tr>\n",
       "  </tbody>\n",
       "</table>\n",
       "<p>5 rows × 47 columns</p>\n",
       "</div>"
      ],
      "text/plain": [
       "      SEQN  SDDSRVYR  RIDSTATR  RIAGENDR  RIDAGEYR  RIDAGEMN  RIDRETH1  \\\n",
       "0  83732.0       9.0       2.0       1.0      62.0       NaN       3.0   \n",
       "1  83733.0       9.0       2.0       1.0      53.0       NaN       3.0   \n",
       "2  83734.0       9.0       2.0       1.0      78.0       NaN       3.0   \n",
       "3  83735.0       9.0       2.0       2.0      56.0       NaN       3.0   \n",
       "4  83736.0       9.0       2.0       2.0      42.0       NaN       4.0   \n",
       "\n",
       "   RIDRETH3  RIDEXMON  RIDEXAGM  ...  DMDHREDU  DMDHRMAR  DMDHSEDU  \\\n",
       "0       3.0       1.0       NaN  ...       5.0       1.0       3.0   \n",
       "1       3.0       1.0       NaN  ...       3.0       3.0       NaN   \n",
       "2       3.0       2.0       NaN  ...       3.0       1.0       3.0   \n",
       "3       3.0       2.0       NaN  ...       5.0       6.0       NaN   \n",
       "4       4.0       2.0       NaN  ...       4.0       3.0       NaN   \n",
       "\n",
       "        WTINT2YR       WTMEC2YR  SDMVPSU  SDMVSTRA  INDHHIN2  INDFMIN2  \\\n",
       "0  134671.370419  135629.507405      1.0     125.0      10.0      10.0   \n",
       "1   24328.560239   25282.425927      1.0     125.0       4.0       4.0   \n",
       "2   12400.008522   12575.838818      1.0     131.0       5.0       5.0   \n",
       "3  102717.995647  102078.634508      1.0     131.0      10.0      10.0   \n",
       "4   17627.674984   18234.736219      2.0     126.0       7.0       7.0   \n",
       "\n",
       "   INDFMPIR  \n",
       "0      4.39  \n",
       "1      1.32  \n",
       "2      1.51  \n",
       "3      5.00  \n",
       "4      1.23  \n",
       "\n",
       "[5 rows x 47 columns]"
      ]
     },
     "execution_count": 2,
     "metadata": {},
     "output_type": "execute_result"
    }
   ],
   "source": [
    "demographics = pd.read_sas('data/DEMO_I.XPT')\n",
    "demographics.head()"
   ]
  },
  {
   "cell_type": "markdown",
   "metadata": {},
   "source": [
    "Drug Use Dataset"
   ]
  },
  {
   "cell_type": "code",
   "execution_count": 3,
   "metadata": {},
   "outputs": [
    {
     "data": {
      "text/html": [
       "<div>\n",
       "<style scoped>\n",
       "    .dataframe tbody tr th:only-of-type {\n",
       "        vertical-align: middle;\n",
       "    }\n",
       "\n",
       "    .dataframe tbody tr th {\n",
       "        vertical-align: top;\n",
       "    }\n",
       "\n",
       "    .dataframe thead th {\n",
       "        text-align: right;\n",
       "    }\n",
       "</style>\n",
       "<table border=\"1\" class=\"dataframe\">\n",
       "  <thead>\n",
       "    <tr style=\"text-align: right;\">\n",
       "      <th></th>\n",
       "      <th>SEQN</th>\n",
       "      <th>DUQ200</th>\n",
       "      <th>DUQ210</th>\n",
       "      <th>DUQ211</th>\n",
       "      <th>DUQ213</th>\n",
       "      <th>DUQ215Q</th>\n",
       "      <th>DUQ215U</th>\n",
       "      <th>DUQ217</th>\n",
       "      <th>DUQ219</th>\n",
       "      <th>DUQ220Q</th>\n",
       "      <th>...</th>\n",
       "      <th>DUQ380B</th>\n",
       "      <th>DUQ380C</th>\n",
       "      <th>DUQ380D</th>\n",
       "      <th>DUQ380E</th>\n",
       "      <th>DUQ390</th>\n",
       "      <th>DUQ400Q</th>\n",
       "      <th>DUQ400U</th>\n",
       "      <th>DUQ410</th>\n",
       "      <th>DUQ420</th>\n",
       "      <th>DUQ430</th>\n",
       "    </tr>\n",
       "  </thead>\n",
       "  <tbody>\n",
       "    <tr>\n",
       "      <th>0</th>\n",
       "      <td>83732.0</td>\n",
       "      <td>NaN</td>\n",
       "      <td>NaN</td>\n",
       "      <td>NaN</td>\n",
       "      <td>NaN</td>\n",
       "      <td>NaN</td>\n",
       "      <td>NaN</td>\n",
       "      <td>NaN</td>\n",
       "      <td>NaN</td>\n",
       "      <td>NaN</td>\n",
       "      <td>...</td>\n",
       "      <td>NaN</td>\n",
       "      <td>NaN</td>\n",
       "      <td>NaN</td>\n",
       "      <td>NaN</td>\n",
       "      <td>NaN</td>\n",
       "      <td>NaN</td>\n",
       "      <td>NaN</td>\n",
       "      <td>NaN</td>\n",
       "      <td>NaN</td>\n",
       "      <td>NaN</td>\n",
       "    </tr>\n",
       "    <tr>\n",
       "      <th>1</th>\n",
       "      <td>83733.0</td>\n",
       "      <td>2.0</td>\n",
       "      <td>NaN</td>\n",
       "      <td>NaN</td>\n",
       "      <td>NaN</td>\n",
       "      <td>NaN</td>\n",
       "      <td>NaN</td>\n",
       "      <td>NaN</td>\n",
       "      <td>NaN</td>\n",
       "      <td>NaN</td>\n",
       "      <td>...</td>\n",
       "      <td>NaN</td>\n",
       "      <td>NaN</td>\n",
       "      <td>NaN</td>\n",
       "      <td>NaN</td>\n",
       "      <td>NaN</td>\n",
       "      <td>NaN</td>\n",
       "      <td>NaN</td>\n",
       "      <td>NaN</td>\n",
       "      <td>NaN</td>\n",
       "      <td>NaN</td>\n",
       "    </tr>\n",
       "    <tr>\n",
       "      <th>2</th>\n",
       "      <td>83735.0</td>\n",
       "      <td>2.0</td>\n",
       "      <td>NaN</td>\n",
       "      <td>NaN</td>\n",
       "      <td>NaN</td>\n",
       "      <td>NaN</td>\n",
       "      <td>NaN</td>\n",
       "      <td>NaN</td>\n",
       "      <td>NaN</td>\n",
       "      <td>NaN</td>\n",
       "      <td>...</td>\n",
       "      <td>NaN</td>\n",
       "      <td>NaN</td>\n",
       "      <td>NaN</td>\n",
       "      <td>NaN</td>\n",
       "      <td>NaN</td>\n",
       "      <td>NaN</td>\n",
       "      <td>NaN</td>\n",
       "      <td>NaN</td>\n",
       "      <td>NaN</td>\n",
       "      <td>NaN</td>\n",
       "    </tr>\n",
       "    <tr>\n",
       "      <th>3</th>\n",
       "      <td>83736.0</td>\n",
       "      <td>1.0</td>\n",
       "      <td>25.0</td>\n",
       "      <td>1.0</td>\n",
       "      <td>25.0</td>\n",
       "      <td>5.397605e-79</td>\n",
       "      <td>1.0</td>\n",
       "      <td>5.0</td>\n",
       "      <td>4.0</td>\n",
       "      <td>1.0</td>\n",
       "      <td>...</td>\n",
       "      <td>NaN</td>\n",
       "      <td>NaN</td>\n",
       "      <td>NaN</td>\n",
       "      <td>NaN</td>\n",
       "      <td>NaN</td>\n",
       "      <td>NaN</td>\n",
       "      <td>NaN</td>\n",
       "      <td>NaN</td>\n",
       "      <td>NaN</td>\n",
       "      <td>2.0</td>\n",
       "    </tr>\n",
       "    <tr>\n",
       "      <th>4</th>\n",
       "      <td>83741.0</td>\n",
       "      <td>1.0</td>\n",
       "      <td>15.0</td>\n",
       "      <td>1.0</td>\n",
       "      <td>16.0</td>\n",
       "      <td>1.000000e+00</td>\n",
       "      <td>4.0</td>\n",
       "      <td>4.0</td>\n",
       "      <td>2.0</td>\n",
       "      <td>1.0</td>\n",
       "      <td>...</td>\n",
       "      <td>NaN</td>\n",
       "      <td>NaN</td>\n",
       "      <td>NaN</td>\n",
       "      <td>NaN</td>\n",
       "      <td>NaN</td>\n",
       "      <td>NaN</td>\n",
       "      <td>NaN</td>\n",
       "      <td>NaN</td>\n",
       "      <td>NaN</td>\n",
       "      <td>1.0</td>\n",
       "    </tr>\n",
       "  </tbody>\n",
       "</table>\n",
       "<p>5 rows × 42 columns</p>\n",
       "</div>"
      ],
      "text/plain": [
       "      SEQN  DUQ200  DUQ210  DUQ211  DUQ213       DUQ215Q  DUQ215U  DUQ217  \\\n",
       "0  83732.0     NaN     NaN     NaN     NaN           NaN      NaN     NaN   \n",
       "1  83733.0     2.0     NaN     NaN     NaN           NaN      NaN     NaN   \n",
       "2  83735.0     2.0     NaN     NaN     NaN           NaN      NaN     NaN   \n",
       "3  83736.0     1.0    25.0     1.0    25.0  5.397605e-79      1.0     5.0   \n",
       "4  83741.0     1.0    15.0     1.0    16.0  1.000000e+00      4.0     4.0   \n",
       "\n",
       "   DUQ219  DUQ220Q  ...  DUQ380B  DUQ380C  DUQ380D  DUQ380E  DUQ390  DUQ400Q  \\\n",
       "0     NaN      NaN  ...      NaN      NaN      NaN      NaN     NaN      NaN   \n",
       "1     NaN      NaN  ...      NaN      NaN      NaN      NaN     NaN      NaN   \n",
       "2     NaN      NaN  ...      NaN      NaN      NaN      NaN     NaN      NaN   \n",
       "3     4.0      1.0  ...      NaN      NaN      NaN      NaN     NaN      NaN   \n",
       "4     2.0      1.0  ...      NaN      NaN      NaN      NaN     NaN      NaN   \n",
       "\n",
       "   DUQ400U  DUQ410  DUQ420  DUQ430  \n",
       "0      NaN     NaN     NaN     NaN  \n",
       "1      NaN     NaN     NaN     NaN  \n",
       "2      NaN     NaN     NaN     NaN  \n",
       "3      NaN     NaN     NaN     2.0  \n",
       "4      NaN     NaN     NaN     1.0  \n",
       "\n",
       "[5 rows x 42 columns]"
      ]
     },
     "execution_count": 3,
     "metadata": {},
     "output_type": "execute_result"
    }
   ],
   "source": [
    "questionaire = pd.read_sas('data/DUQ_I.XPT')\n",
    "questionaire.head()"
   ]
  },
  {
   "cell_type": "markdown",
   "metadata": {},
   "source": [
    "We merged the two dataframes based on the sequence number."
   ]
  },
  {
   "cell_type": "code",
   "execution_count": 4,
   "metadata": {},
   "outputs": [
    {
     "data": {
      "text/html": [
       "<div>\n",
       "<style scoped>\n",
       "    .dataframe tbody tr th:only-of-type {\n",
       "        vertical-align: middle;\n",
       "    }\n",
       "\n",
       "    .dataframe tbody tr th {\n",
       "        vertical-align: top;\n",
       "    }\n",
       "\n",
       "    .dataframe thead th {\n",
       "        text-align: right;\n",
       "    }\n",
       "</style>\n",
       "<table border=\"1\" class=\"dataframe\">\n",
       "  <thead>\n",
       "    <tr style=\"text-align: right;\">\n",
       "      <th></th>\n",
       "      <th>SEQN</th>\n",
       "      <th>SDDSRVYR</th>\n",
       "      <th>RIDSTATR</th>\n",
       "      <th>RIAGENDR</th>\n",
       "      <th>RIDAGEYR</th>\n",
       "      <th>RIDAGEMN</th>\n",
       "      <th>RIDRETH1</th>\n",
       "      <th>RIDRETH3</th>\n",
       "      <th>RIDEXMON</th>\n",
       "      <th>RIDEXAGM</th>\n",
       "      <th>...</th>\n",
       "      <th>DUQ380B</th>\n",
       "      <th>DUQ380C</th>\n",
       "      <th>DUQ380D</th>\n",
       "      <th>DUQ380E</th>\n",
       "      <th>DUQ390</th>\n",
       "      <th>DUQ400Q</th>\n",
       "      <th>DUQ400U</th>\n",
       "      <th>DUQ410</th>\n",
       "      <th>DUQ420</th>\n",
       "      <th>DUQ430</th>\n",
       "    </tr>\n",
       "  </thead>\n",
       "  <tbody>\n",
       "    <tr>\n",
       "      <th>0</th>\n",
       "      <td>83732.0</td>\n",
       "      <td>9.0</td>\n",
       "      <td>2.0</td>\n",
       "      <td>1.0</td>\n",
       "      <td>62.0</td>\n",
       "      <td>NaN</td>\n",
       "      <td>3.0</td>\n",
       "      <td>3.0</td>\n",
       "      <td>1.0</td>\n",
       "      <td>NaN</td>\n",
       "      <td>...</td>\n",
       "      <td>NaN</td>\n",
       "      <td>NaN</td>\n",
       "      <td>NaN</td>\n",
       "      <td>NaN</td>\n",
       "      <td>NaN</td>\n",
       "      <td>NaN</td>\n",
       "      <td>NaN</td>\n",
       "      <td>NaN</td>\n",
       "      <td>NaN</td>\n",
       "      <td>NaN</td>\n",
       "    </tr>\n",
       "    <tr>\n",
       "      <th>1</th>\n",
       "      <td>83733.0</td>\n",
       "      <td>9.0</td>\n",
       "      <td>2.0</td>\n",
       "      <td>1.0</td>\n",
       "      <td>53.0</td>\n",
       "      <td>NaN</td>\n",
       "      <td>3.0</td>\n",
       "      <td>3.0</td>\n",
       "      <td>1.0</td>\n",
       "      <td>NaN</td>\n",
       "      <td>...</td>\n",
       "      <td>NaN</td>\n",
       "      <td>NaN</td>\n",
       "      <td>NaN</td>\n",
       "      <td>NaN</td>\n",
       "      <td>NaN</td>\n",
       "      <td>NaN</td>\n",
       "      <td>NaN</td>\n",
       "      <td>NaN</td>\n",
       "      <td>NaN</td>\n",
       "      <td>NaN</td>\n",
       "    </tr>\n",
       "    <tr>\n",
       "      <th>2</th>\n",
       "      <td>83735.0</td>\n",
       "      <td>9.0</td>\n",
       "      <td>2.0</td>\n",
       "      <td>2.0</td>\n",
       "      <td>56.0</td>\n",
       "      <td>NaN</td>\n",
       "      <td>3.0</td>\n",
       "      <td>3.0</td>\n",
       "      <td>2.0</td>\n",
       "      <td>NaN</td>\n",
       "      <td>...</td>\n",
       "      <td>NaN</td>\n",
       "      <td>NaN</td>\n",
       "      <td>NaN</td>\n",
       "      <td>NaN</td>\n",
       "      <td>NaN</td>\n",
       "      <td>NaN</td>\n",
       "      <td>NaN</td>\n",
       "      <td>NaN</td>\n",
       "      <td>NaN</td>\n",
       "      <td>NaN</td>\n",
       "    </tr>\n",
       "    <tr>\n",
       "      <th>3</th>\n",
       "      <td>83736.0</td>\n",
       "      <td>9.0</td>\n",
       "      <td>2.0</td>\n",
       "      <td>2.0</td>\n",
       "      <td>42.0</td>\n",
       "      <td>NaN</td>\n",
       "      <td>4.0</td>\n",
       "      <td>4.0</td>\n",
       "      <td>2.0</td>\n",
       "      <td>NaN</td>\n",
       "      <td>...</td>\n",
       "      <td>NaN</td>\n",
       "      <td>NaN</td>\n",
       "      <td>NaN</td>\n",
       "      <td>NaN</td>\n",
       "      <td>NaN</td>\n",
       "      <td>NaN</td>\n",
       "      <td>NaN</td>\n",
       "      <td>NaN</td>\n",
       "      <td>NaN</td>\n",
       "      <td>2.0</td>\n",
       "    </tr>\n",
       "    <tr>\n",
       "      <th>4</th>\n",
       "      <td>83741.0</td>\n",
       "      <td>9.0</td>\n",
       "      <td>2.0</td>\n",
       "      <td>1.0</td>\n",
       "      <td>22.0</td>\n",
       "      <td>NaN</td>\n",
       "      <td>4.0</td>\n",
       "      <td>4.0</td>\n",
       "      <td>1.0</td>\n",
       "      <td>NaN</td>\n",
       "      <td>...</td>\n",
       "      <td>NaN</td>\n",
       "      <td>NaN</td>\n",
       "      <td>NaN</td>\n",
       "      <td>NaN</td>\n",
       "      <td>NaN</td>\n",
       "      <td>NaN</td>\n",
       "      <td>NaN</td>\n",
       "      <td>NaN</td>\n",
       "      <td>NaN</td>\n",
       "      <td>1.0</td>\n",
       "    </tr>\n",
       "  </tbody>\n",
       "</table>\n",
       "<p>5 rows × 88 columns</p>\n",
       "</div>"
      ],
      "text/plain": [
       "      SEQN  SDDSRVYR  RIDSTATR  RIAGENDR  RIDAGEYR  RIDAGEMN  RIDRETH1  \\\n",
       "0  83732.0       9.0       2.0       1.0      62.0       NaN       3.0   \n",
       "1  83733.0       9.0       2.0       1.0      53.0       NaN       3.0   \n",
       "2  83735.0       9.0       2.0       2.0      56.0       NaN       3.0   \n",
       "3  83736.0       9.0       2.0       2.0      42.0       NaN       4.0   \n",
       "4  83741.0       9.0       2.0       1.0      22.0       NaN       4.0   \n",
       "\n",
       "   RIDRETH3  RIDEXMON  RIDEXAGM  ...  DUQ380B  DUQ380C  DUQ380D  DUQ380E  \\\n",
       "0       3.0       1.0       NaN  ...      NaN      NaN      NaN      NaN   \n",
       "1       3.0       1.0       NaN  ...      NaN      NaN      NaN      NaN   \n",
       "2       3.0       2.0       NaN  ...      NaN      NaN      NaN      NaN   \n",
       "3       4.0       2.0       NaN  ...      NaN      NaN      NaN      NaN   \n",
       "4       4.0       1.0       NaN  ...      NaN      NaN      NaN      NaN   \n",
       "\n",
       "   DUQ390  DUQ400Q  DUQ400U  DUQ410  DUQ420  DUQ430  \n",
       "0     NaN      NaN      NaN     NaN     NaN     NaN  \n",
       "1     NaN      NaN      NaN     NaN     NaN     NaN  \n",
       "2     NaN      NaN      NaN     NaN     NaN     NaN  \n",
       "3     NaN      NaN      NaN     NaN     NaN     2.0  \n",
       "4     NaN      NaN      NaN     NaN     NaN     1.0  \n",
       "\n",
       "[5 rows x 88 columns]"
      ]
     },
     "execution_count": 4,
     "metadata": {},
     "output_type": "execute_result"
    }
   ],
   "source": [
    "merged = pd.merge(demographics, questionaire, on = 'SEQN')\n",
    "merged.head()"
   ]
  },
  {
   "cell_type": "markdown",
   "metadata": {},
   "source": [
    "We then went through the columns and decided on which column we wanted to utilize for our analysis. "
   ]
  },
  {
   "cell_type": "code",
   "execution_count": 5,
   "metadata": {},
   "outputs": [],
   "source": [
    "cols = ['SEQN', 'RIAGENDR', 'RIDAGEYR', 'DMDEDUC3', 'DMDEDUC2', 'DMDMARTL', 'RIDEXPRG', 'INDHHIN2', \n",
    "        'INDFMPIR', 'DMDHHSIZ', 'DMDHHSZA', 'DMDHHSZB', 'DMDHHSZE', 'DUQ200', 'DUQ210', 'DUQ217', 'DUQ211', \n",
    "        'DUQ213', 'DUQ215Q', 'DUQ219', 'DUQ220Q', 'DUQ230']\n",
    "df = merged[cols]\n",
    "df['CHILDREN_NUM'] = df['DMDHHSZA'] + df['DMDHHSZB']\n",
    "df = df.drop(columns = ['DMDHHSZA', 'DMDHHSZB'])"
   ]
  },
  {
   "cell_type": "markdown",
   "metadata": {},
   "source": [
    "We then standardized our refused and don't know data (all 7's were refused and 9's were unknown). "
   ]
  },
  {
   "cell_type": "code",
   "execution_count": 6,
   "metadata": {},
   "outputs": [],
   "source": [
    "lst_7 = ['DMDEDUC2', 'DUQ200', 'DUQ217', 'DUQ211', 'DUQ219']\n",
    "lst_77 = ['DMDMARTL', 'DMDEDUC3', 'INDHHIN2']\n",
    "lst_777 = ['DUQ210', 'DUQ213', 'DUQ230']\n",
    "\n",
    "for i in lst_7:\n",
    "    df[i] = df[i].replace({7: 7777, 9: 9999})\n",
    "for i in lst_77:\n",
    "    df[i] = df[i].replace({77: 7777, 99: 9999})\n",
    "for i in lst_777:\n",
    "    df[i] = df[i].replace({777: 7777, 999: 9999})"
   ]
  },
  {
   "cell_type": "markdown",
   "metadata": {},
   "source": [
    "To make our dataframe's columns more readable, we used a translation dictionary to make the column names easier to understand."
   ]
  },
  {
   "cell_type": "code",
   "execution_count": 7,
   "metadata": {},
   "outputs": [
    {
     "data": {
      "text/html": [
       "<div>\n",
       "<style scoped>\n",
       "    .dataframe tbody tr th:only-of-type {\n",
       "        vertical-align: middle;\n",
       "    }\n",
       "\n",
       "    .dataframe tbody tr th {\n",
       "        vertical-align: top;\n",
       "    }\n",
       "\n",
       "    .dataframe thead th {\n",
       "        text-align: right;\n",
       "    }\n",
       "</style>\n",
       "<table border=\"1\" class=\"dataframe\">\n",
       "  <thead>\n",
       "    <tr style=\"text-align: right;\">\n",
       "      <th></th>\n",
       "      <th>ID</th>\n",
       "      <th>GENDER</th>\n",
       "      <th>AGE</th>\n",
       "      <th>EDUCATION_KID</th>\n",
       "      <th>EDUCATION_ADULT</th>\n",
       "      <th>MARRIAGE</th>\n",
       "      <th>PREGNANCY</th>\n",
       "      <th>INCOME</th>\n",
       "      <th>INCOME_RATIO</th>\n",
       "      <th>HOUSEHOLD_NUM</th>\n",
       "      <th>...</th>\n",
       "      <th>EVER_USE</th>\n",
       "      <th>FIRST_USAGE</th>\n",
       "      <th>FREQUENCY</th>\n",
       "      <th>PER_MONTH</th>\n",
       "      <th>PER_YEAR</th>\n",
       "      <th>LAST_ONCE_MONTH</th>\n",
       "      <th>AMOUNT</th>\n",
       "      <th>LAST_USAGE</th>\n",
       "      <th>PAST_MONTH_USAGE</th>\n",
       "      <th>CHILDREN_NUM</th>\n",
       "    </tr>\n",
       "  </thead>\n",
       "  <tbody>\n",
       "    <tr>\n",
       "      <th>0</th>\n",
       "      <td>83732.0</td>\n",
       "      <td>1.0</td>\n",
       "      <td>62.0</td>\n",
       "      <td>NaN</td>\n",
       "      <td>5.0</td>\n",
       "      <td>1.0</td>\n",
       "      <td>NaN</td>\n",
       "      <td>10.0</td>\n",
       "      <td>4.39</td>\n",
       "      <td>2.0</td>\n",
       "      <td>...</td>\n",
       "      <td>NaN</td>\n",
       "      <td>NaN</td>\n",
       "      <td>NaN</td>\n",
       "      <td>NaN</td>\n",
       "      <td>NaN</td>\n",
       "      <td>NaN</td>\n",
       "      <td>NaN</td>\n",
       "      <td>NaN</td>\n",
       "      <td>NaN</td>\n",
       "      <td>1.079521e-78</td>\n",
       "    </tr>\n",
       "    <tr>\n",
       "      <th>1</th>\n",
       "      <td>83733.0</td>\n",
       "      <td>1.0</td>\n",
       "      <td>53.0</td>\n",
       "      <td>NaN</td>\n",
       "      <td>3.0</td>\n",
       "      <td>3.0</td>\n",
       "      <td>NaN</td>\n",
       "      <td>4.0</td>\n",
       "      <td>1.32</td>\n",
       "      <td>1.0</td>\n",
       "      <td>...</td>\n",
       "      <td>2.0</td>\n",
       "      <td>NaN</td>\n",
       "      <td>NaN</td>\n",
       "      <td>NaN</td>\n",
       "      <td>NaN</td>\n",
       "      <td>NaN</td>\n",
       "      <td>NaN</td>\n",
       "      <td>NaN</td>\n",
       "      <td>NaN</td>\n",
       "      <td>1.079521e-78</td>\n",
       "    </tr>\n",
       "    <tr>\n",
       "      <th>2</th>\n",
       "      <td>83735.0</td>\n",
       "      <td>2.0</td>\n",
       "      <td>56.0</td>\n",
       "      <td>NaN</td>\n",
       "      <td>5.0</td>\n",
       "      <td>6.0</td>\n",
       "      <td>NaN</td>\n",
       "      <td>10.0</td>\n",
       "      <td>5.00</td>\n",
       "      <td>1.0</td>\n",
       "      <td>...</td>\n",
       "      <td>2.0</td>\n",
       "      <td>NaN</td>\n",
       "      <td>NaN</td>\n",
       "      <td>NaN</td>\n",
       "      <td>NaN</td>\n",
       "      <td>NaN</td>\n",
       "      <td>NaN</td>\n",
       "      <td>NaN</td>\n",
       "      <td>NaN</td>\n",
       "      <td>1.079521e-78</td>\n",
       "    </tr>\n",
       "    <tr>\n",
       "      <th>3</th>\n",
       "      <td>83736.0</td>\n",
       "      <td>2.0</td>\n",
       "      <td>42.0</td>\n",
       "      <td>NaN</td>\n",
       "      <td>4.0</td>\n",
       "      <td>3.0</td>\n",
       "      <td>1.0</td>\n",
       "      <td>7.0</td>\n",
       "      <td>1.23</td>\n",
       "      <td>5.0</td>\n",
       "      <td>...</td>\n",
       "      <td>1.0</td>\n",
       "      <td>25.0</td>\n",
       "      <td>5.0</td>\n",
       "      <td>1.0</td>\n",
       "      <td>25.0</td>\n",
       "      <td>5.397605e-79</td>\n",
       "      <td>4.0</td>\n",
       "      <td>1.0</td>\n",
       "      <td>30.0</td>\n",
       "      <td>2.000000e+00</td>\n",
       "    </tr>\n",
       "    <tr>\n",
       "      <th>4</th>\n",
       "      <td>83741.0</td>\n",
       "      <td>1.0</td>\n",
       "      <td>22.0</td>\n",
       "      <td>NaN</td>\n",
       "      <td>4.0</td>\n",
       "      <td>5.0</td>\n",
       "      <td>NaN</td>\n",
       "      <td>7.0</td>\n",
       "      <td>2.08</td>\n",
       "      <td>3.0</td>\n",
       "      <td>...</td>\n",
       "      <td>1.0</td>\n",
       "      <td>15.0</td>\n",
       "      <td>4.0</td>\n",
       "      <td>1.0</td>\n",
       "      <td>16.0</td>\n",
       "      <td>1.000000e+00</td>\n",
       "      <td>2.0</td>\n",
       "      <td>1.0</td>\n",
       "      <td>25.0</td>\n",
       "      <td>1.079521e-78</td>\n",
       "    </tr>\n",
       "    <tr>\n",
       "      <th>5</th>\n",
       "      <td>83742.0</td>\n",
       "      <td>2.0</td>\n",
       "      <td>32.0</td>\n",
       "      <td>NaN</td>\n",
       "      <td>4.0</td>\n",
       "      <td>1.0</td>\n",
       "      <td>2.0</td>\n",
       "      <td>6.0</td>\n",
       "      <td>1.03</td>\n",
       "      <td>4.0</td>\n",
       "      <td>...</td>\n",
       "      <td>1.0</td>\n",
       "      <td>18.0</td>\n",
       "      <td>NaN</td>\n",
       "      <td>2.0</td>\n",
       "      <td>NaN</td>\n",
       "      <td>NaN</td>\n",
       "      <td>NaN</td>\n",
       "      <td>13.0</td>\n",
       "      <td>NaN</td>\n",
       "      <td>2.000000e+00</td>\n",
       "    </tr>\n",
       "    <tr>\n",
       "      <th>6</th>\n",
       "      <td>83743.0</td>\n",
       "      <td>1.0</td>\n",
       "      <td>18.0</td>\n",
       "      <td>11.0</td>\n",
       "      <td>NaN</td>\n",
       "      <td>NaN</td>\n",
       "      <td>NaN</td>\n",
       "      <td>15.0</td>\n",
       "      <td>5.00</td>\n",
       "      <td>3.0</td>\n",
       "      <td>...</td>\n",
       "      <td>2.0</td>\n",
       "      <td>NaN</td>\n",
       "      <td>NaN</td>\n",
       "      <td>NaN</td>\n",
       "      <td>NaN</td>\n",
       "      <td>NaN</td>\n",
       "      <td>NaN</td>\n",
       "      <td>NaN</td>\n",
       "      <td>NaN</td>\n",
       "      <td>1.079521e-78</td>\n",
       "    </tr>\n",
       "    <tr>\n",
       "      <th>7</th>\n",
       "      <td>83744.0</td>\n",
       "      <td>1.0</td>\n",
       "      <td>56.0</td>\n",
       "      <td>NaN</td>\n",
       "      <td>3.0</td>\n",
       "      <td>3.0</td>\n",
       "      <td>NaN</td>\n",
       "      <td>3.0</td>\n",
       "      <td>1.19</td>\n",
       "      <td>1.0</td>\n",
       "      <td>...</td>\n",
       "      <td>1.0</td>\n",
       "      <td>18.0</td>\n",
       "      <td>NaN</td>\n",
       "      <td>2.0</td>\n",
       "      <td>NaN</td>\n",
       "      <td>NaN</td>\n",
       "      <td>NaN</td>\n",
       "      <td>20.0</td>\n",
       "      <td>NaN</td>\n",
       "      <td>1.079521e-78</td>\n",
       "    </tr>\n",
       "    <tr>\n",
       "      <th>8</th>\n",
       "      <td>83747.0</td>\n",
       "      <td>1.0</td>\n",
       "      <td>46.0</td>\n",
       "      <td>NaN</td>\n",
       "      <td>5.0</td>\n",
       "      <td>6.0</td>\n",
       "      <td>NaN</td>\n",
       "      <td>3.0</td>\n",
       "      <td>0.75</td>\n",
       "      <td>2.0</td>\n",
       "      <td>...</td>\n",
       "      <td>2.0</td>\n",
       "      <td>NaN</td>\n",
       "      <td>NaN</td>\n",
       "      <td>NaN</td>\n",
       "      <td>NaN</td>\n",
       "      <td>NaN</td>\n",
       "      <td>NaN</td>\n",
       "      <td>NaN</td>\n",
       "      <td>NaN</td>\n",
       "      <td>1.079521e-78</td>\n",
       "    </tr>\n",
       "    <tr>\n",
       "      <th>9</th>\n",
       "      <td>83750.0</td>\n",
       "      <td>1.0</td>\n",
       "      <td>45.0</td>\n",
       "      <td>NaN</td>\n",
       "      <td>2.0</td>\n",
       "      <td>5.0</td>\n",
       "      <td>NaN</td>\n",
       "      <td>10.0</td>\n",
       "      <td>1.36</td>\n",
       "      <td>5.0</td>\n",
       "      <td>...</td>\n",
       "      <td>1.0</td>\n",
       "      <td>21.0</td>\n",
       "      <td>NaN</td>\n",
       "      <td>2.0</td>\n",
       "      <td>NaN</td>\n",
       "      <td>NaN</td>\n",
       "      <td>NaN</td>\n",
       "      <td>20.0</td>\n",
       "      <td>1.0</td>\n",
       "      <td>2.000000e+00</td>\n",
       "    </tr>\n",
       "  </tbody>\n",
       "</table>\n",
       "<p>10 rows × 21 columns</p>\n",
       "</div>"
      ],
      "text/plain": [
       "        ID  GENDER   AGE  EDUCATION_KID  EDUCATION_ADULT  MARRIAGE  PREGNANCY  \\\n",
       "0  83732.0     1.0  62.0            NaN              5.0       1.0        NaN   \n",
       "1  83733.0     1.0  53.0            NaN              3.0       3.0        NaN   \n",
       "2  83735.0     2.0  56.0            NaN              5.0       6.0        NaN   \n",
       "3  83736.0     2.0  42.0            NaN              4.0       3.0        1.0   \n",
       "4  83741.0     1.0  22.0            NaN              4.0       5.0        NaN   \n",
       "5  83742.0     2.0  32.0            NaN              4.0       1.0        2.0   \n",
       "6  83743.0     1.0  18.0           11.0              NaN       NaN        NaN   \n",
       "7  83744.0     1.0  56.0            NaN              3.0       3.0        NaN   \n",
       "8  83747.0     1.0  46.0            NaN              5.0       6.0        NaN   \n",
       "9  83750.0     1.0  45.0            NaN              2.0       5.0        NaN   \n",
       "\n",
       "   INCOME  INCOME_RATIO  HOUSEHOLD_NUM  ...  EVER_USE  FIRST_USAGE  FREQUENCY  \\\n",
       "0    10.0          4.39            2.0  ...       NaN          NaN        NaN   \n",
       "1     4.0          1.32            1.0  ...       2.0          NaN        NaN   \n",
       "2    10.0          5.00            1.0  ...       2.0          NaN        NaN   \n",
       "3     7.0          1.23            5.0  ...       1.0         25.0        5.0   \n",
       "4     7.0          2.08            3.0  ...       1.0         15.0        4.0   \n",
       "5     6.0          1.03            4.0  ...       1.0         18.0        NaN   \n",
       "6    15.0          5.00            3.0  ...       2.0          NaN        NaN   \n",
       "7     3.0          1.19            1.0  ...       1.0         18.0        NaN   \n",
       "8     3.0          0.75            2.0  ...       2.0          NaN        NaN   \n",
       "9    10.0          1.36            5.0  ...       1.0         21.0        NaN   \n",
       "\n",
       "   PER_MONTH  PER_YEAR  LAST_ONCE_MONTH  AMOUNT  LAST_USAGE  PAST_MONTH_USAGE  \\\n",
       "0        NaN       NaN              NaN     NaN         NaN               NaN   \n",
       "1        NaN       NaN              NaN     NaN         NaN               NaN   \n",
       "2        NaN       NaN              NaN     NaN         NaN               NaN   \n",
       "3        1.0      25.0     5.397605e-79     4.0         1.0              30.0   \n",
       "4        1.0      16.0     1.000000e+00     2.0         1.0              25.0   \n",
       "5        2.0       NaN              NaN     NaN        13.0               NaN   \n",
       "6        NaN       NaN              NaN     NaN         NaN               NaN   \n",
       "7        2.0       NaN              NaN     NaN        20.0               NaN   \n",
       "8        NaN       NaN              NaN     NaN         NaN               NaN   \n",
       "9        2.0       NaN              NaN     NaN        20.0               1.0   \n",
       "\n",
       "   CHILDREN_NUM  \n",
       "0  1.079521e-78  \n",
       "1  1.079521e-78  \n",
       "2  1.079521e-78  \n",
       "3  2.000000e+00  \n",
       "4  1.079521e-78  \n",
       "5  2.000000e+00  \n",
       "6  1.079521e-78  \n",
       "7  1.079521e-78  \n",
       "8  1.079521e-78  \n",
       "9  2.000000e+00  \n",
       "\n",
       "[10 rows x 21 columns]"
      ]
     },
     "execution_count": 7,
     "metadata": {},
     "output_type": "execute_result"
    }
   ],
   "source": [
    "translation_dict = {'SEQN': 'ID', 'RIAGENDR': 'GENDER', 'RIDAGEYR': 'AGE', 'DMDMARTL': 'MARRIAGE', \n",
    "                    'RIDEXPRG': 'PREGNANCY', 'INDHHIN2': 'INCOME', 'INDFMPIR': 'INCOME_RATIO', \n",
    "                    'DMDHHSIZ': 'HOUSEHOLD_NUM', 'DMDHHSZE': 'OVER_60_NUM', 'DUQ200': 'EVER_USE', \n",
    "                    'DUQ210': 'FIRST_USAGE', 'DUQ217': 'FREQUENCY', 'DUQ211': 'PER_MONTH', \n",
    "                    'DUQ213': 'PER_YEAR', 'DUQ215Q': 'LAST_ONCE_MONTH', 'DUQ219': 'AMOUNT', 'DUQ220Q': 'LAST_USAGE', \n",
    "                    'DUQ230': 'PAST_MONTH_USAGE', 'DMDEDUC2': 'EDUCATION_ADULT', 'DMDEDUC3': 'EDUCATION_KID'}\n",
    "df = df.rename(index = str, columns = translation_dict)\n",
    "df.head(10)"
   ]
  },
  {
   "cell_type": "markdown",
   "metadata": {},
   "source": [
    "After looking through the data, we saw that there were some numbers that were trailing (we're assuming it is because when we merged the tables together, something happened to it). We decided to then round those numbers and to replace 5.39770e-79 to 0 because we realized that when we combined the datasets together, that number was suppose to be zero. "
   ]
  },
  {
   "cell_type": "code",
   "execution_count": 8,
   "metadata": {},
   "outputs": [
    {
     "data": {
      "text/html": [
       "<div>\n",
       "<style scoped>\n",
       "    .dataframe tbody tr th:only-of-type {\n",
       "        vertical-align: middle;\n",
       "    }\n",
       "\n",
       "    .dataframe tbody tr th {\n",
       "        vertical-align: top;\n",
       "    }\n",
       "\n",
       "    .dataframe thead th {\n",
       "        text-align: right;\n",
       "    }\n",
       "</style>\n",
       "<table border=\"1\" class=\"dataframe\">\n",
       "  <thead>\n",
       "    <tr style=\"text-align: right;\">\n",
       "      <th></th>\n",
       "      <th>ID</th>\n",
       "      <th>GENDER</th>\n",
       "      <th>AGE</th>\n",
       "      <th>EDUCATION_KID</th>\n",
       "      <th>EDUCATION_ADULT</th>\n",
       "      <th>MARRIAGE</th>\n",
       "      <th>PREGNANCY</th>\n",
       "      <th>INCOME</th>\n",
       "      <th>INCOME_RATIO</th>\n",
       "      <th>HOUSEHOLD_NUM</th>\n",
       "      <th>...</th>\n",
       "      <th>EVER_USE</th>\n",
       "      <th>FIRST_USAGE</th>\n",
       "      <th>FREQUENCY</th>\n",
       "      <th>PER_MONTH</th>\n",
       "      <th>PER_YEAR</th>\n",
       "      <th>LAST_ONCE_MONTH</th>\n",
       "      <th>AMOUNT</th>\n",
       "      <th>LAST_USAGE</th>\n",
       "      <th>PAST_MONTH_USAGE</th>\n",
       "      <th>CHILDREN_NUM</th>\n",
       "    </tr>\n",
       "  </thead>\n",
       "  <tbody>\n",
       "    <tr>\n",
       "      <th>0</th>\n",
       "      <td>83732.0</td>\n",
       "      <td>1.0</td>\n",
       "      <td>62.0</td>\n",
       "      <td>NaN</td>\n",
       "      <td>5.0</td>\n",
       "      <td>1.0</td>\n",
       "      <td>NaN</td>\n",
       "      <td>10.0</td>\n",
       "      <td>4.39</td>\n",
       "      <td>2.0</td>\n",
       "      <td>...</td>\n",
       "      <td>NaN</td>\n",
       "      <td>NaN</td>\n",
       "      <td>NaN</td>\n",
       "      <td>NaN</td>\n",
       "      <td>NaN</td>\n",
       "      <td>NaN</td>\n",
       "      <td>NaN</td>\n",
       "      <td>NaN</td>\n",
       "      <td>NaN</td>\n",
       "      <td>0.0</td>\n",
       "    </tr>\n",
       "    <tr>\n",
       "      <th>1</th>\n",
       "      <td>83733.0</td>\n",
       "      <td>1.0</td>\n",
       "      <td>53.0</td>\n",
       "      <td>NaN</td>\n",
       "      <td>3.0</td>\n",
       "      <td>3.0</td>\n",
       "      <td>NaN</td>\n",
       "      <td>4.0</td>\n",
       "      <td>1.32</td>\n",
       "      <td>1.0</td>\n",
       "      <td>...</td>\n",
       "      <td>2.0</td>\n",
       "      <td>NaN</td>\n",
       "      <td>NaN</td>\n",
       "      <td>NaN</td>\n",
       "      <td>NaN</td>\n",
       "      <td>NaN</td>\n",
       "      <td>NaN</td>\n",
       "      <td>NaN</td>\n",
       "      <td>NaN</td>\n",
       "      <td>0.0</td>\n",
       "    </tr>\n",
       "    <tr>\n",
       "      <th>2</th>\n",
       "      <td>83735.0</td>\n",
       "      <td>2.0</td>\n",
       "      <td>56.0</td>\n",
       "      <td>NaN</td>\n",
       "      <td>5.0</td>\n",
       "      <td>6.0</td>\n",
       "      <td>NaN</td>\n",
       "      <td>10.0</td>\n",
       "      <td>5.00</td>\n",
       "      <td>1.0</td>\n",
       "      <td>...</td>\n",
       "      <td>2.0</td>\n",
       "      <td>NaN</td>\n",
       "      <td>NaN</td>\n",
       "      <td>NaN</td>\n",
       "      <td>NaN</td>\n",
       "      <td>NaN</td>\n",
       "      <td>NaN</td>\n",
       "      <td>NaN</td>\n",
       "      <td>NaN</td>\n",
       "      <td>0.0</td>\n",
       "    </tr>\n",
       "    <tr>\n",
       "      <th>3</th>\n",
       "      <td>83736.0</td>\n",
       "      <td>2.0</td>\n",
       "      <td>42.0</td>\n",
       "      <td>NaN</td>\n",
       "      <td>4.0</td>\n",
       "      <td>3.0</td>\n",
       "      <td>1.0</td>\n",
       "      <td>7.0</td>\n",
       "      <td>1.23</td>\n",
       "      <td>5.0</td>\n",
       "      <td>...</td>\n",
       "      <td>1.0</td>\n",
       "      <td>25.0</td>\n",
       "      <td>5.0</td>\n",
       "      <td>1.0</td>\n",
       "      <td>25.0</td>\n",
       "      <td>0.0</td>\n",
       "      <td>4.0</td>\n",
       "      <td>1.0</td>\n",
       "      <td>30.0</td>\n",
       "      <td>2.0</td>\n",
       "    </tr>\n",
       "    <tr>\n",
       "      <th>4</th>\n",
       "      <td>83741.0</td>\n",
       "      <td>1.0</td>\n",
       "      <td>22.0</td>\n",
       "      <td>NaN</td>\n",
       "      <td>4.0</td>\n",
       "      <td>5.0</td>\n",
       "      <td>NaN</td>\n",
       "      <td>7.0</td>\n",
       "      <td>2.08</td>\n",
       "      <td>3.0</td>\n",
       "      <td>...</td>\n",
       "      <td>1.0</td>\n",
       "      <td>15.0</td>\n",
       "      <td>4.0</td>\n",
       "      <td>1.0</td>\n",
       "      <td>16.0</td>\n",
       "      <td>1.0</td>\n",
       "      <td>2.0</td>\n",
       "      <td>1.0</td>\n",
       "      <td>25.0</td>\n",
       "      <td>0.0</td>\n",
       "    </tr>\n",
       "  </tbody>\n",
       "</table>\n",
       "<p>5 rows × 21 columns</p>\n",
       "</div>"
      ],
      "text/plain": [
       "        ID  GENDER   AGE  EDUCATION_KID  EDUCATION_ADULT  MARRIAGE  PREGNANCY  \\\n",
       "0  83732.0     1.0  62.0            NaN              5.0       1.0        NaN   \n",
       "1  83733.0     1.0  53.0            NaN              3.0       3.0        NaN   \n",
       "2  83735.0     2.0  56.0            NaN              5.0       6.0        NaN   \n",
       "3  83736.0     2.0  42.0            NaN              4.0       3.0        1.0   \n",
       "4  83741.0     1.0  22.0            NaN              4.0       5.0        NaN   \n",
       "\n",
       "   INCOME  INCOME_RATIO  HOUSEHOLD_NUM  ...  EVER_USE  FIRST_USAGE  FREQUENCY  \\\n",
       "0    10.0          4.39            2.0  ...       NaN          NaN        NaN   \n",
       "1     4.0          1.32            1.0  ...       2.0          NaN        NaN   \n",
       "2    10.0          5.00            1.0  ...       2.0          NaN        NaN   \n",
       "3     7.0          1.23            5.0  ...       1.0         25.0        5.0   \n",
       "4     7.0          2.08            3.0  ...       1.0         15.0        4.0   \n",
       "\n",
       "   PER_MONTH  PER_YEAR  LAST_ONCE_MONTH  AMOUNT  LAST_USAGE  PAST_MONTH_USAGE  \\\n",
       "0        NaN       NaN              NaN     NaN         NaN               NaN   \n",
       "1        NaN       NaN              NaN     NaN         NaN               NaN   \n",
       "2        NaN       NaN              NaN     NaN         NaN               NaN   \n",
       "3        1.0      25.0              0.0     4.0         1.0              30.0   \n",
       "4        1.0      16.0              1.0     2.0         1.0              25.0   \n",
       "\n",
       "   CHILDREN_NUM  \n",
       "0           0.0  \n",
       "1           0.0  \n",
       "2           0.0  \n",
       "3           2.0  \n",
       "4           0.0  \n",
       "\n",
       "[5 rows x 21 columns]"
      ]
     },
     "execution_count": 8,
     "metadata": {},
     "output_type": "execute_result"
    }
   ],
   "source": [
    "#OVER_60_NUM\n",
    "#LAST_ONCE_MONTH\n",
    "#CHILDREN_NUM\n",
    "df['OVER_60_NUM'] = df['OVER_60_NUM'].round(0)\n",
    "df['LAST_ONCE_MONTH'] = df['LAST_ONCE_MONTH'].round(0)\n",
    "df['CHILDREN_NUM'] = df['CHILDREN_NUM'].round(0)\n",
    "df['INCOME_RATIO'] = df['INCOME_RATIO'].replace({5.397605e-79: 0}).round(2)\n",
    "df.head()"
   ]
  },
  {
   "cell_type": "markdown",
   "metadata": {},
   "source": [
    "We then saved our data then into a csv file, in which we used throughout our analysis."
   ]
  },
  {
   "cell_type": "code",
   "execution_count": 9,
   "metadata": {},
   "outputs": [],
   "source": [
    "#write dataframe to csv file\n",
    "df.to_csv(\"cleaned_marijuana_data.csv\")"
   ]
  },
  {
   "cell_type": "markdown",
   "metadata": {},
   "source": [
    "# Data Analysis & Results"
   ]
  },
  {
   "cell_type": "markdown",
   "metadata": {},
   "source": [
    "### For more convenient, we don't separate data exploration, data visualization, and data analysis but include them together into the section of data analysis & results. "
   ]
  },
  {
   "cell_type": "code",
   "execution_count": 10,
   "metadata": {},
   "outputs": [
    {
     "data": {
      "text/html": [
       "<div>\n",
       "<style scoped>\n",
       "    .dataframe tbody tr th:only-of-type {\n",
       "        vertical-align: middle;\n",
       "    }\n",
       "\n",
       "    .dataframe tbody tr th {\n",
       "        vertical-align: top;\n",
       "    }\n",
       "\n",
       "    .dataframe thead th {\n",
       "        text-align: right;\n",
       "    }\n",
       "</style>\n",
       "<table border=\"1\" class=\"dataframe\">\n",
       "  <thead>\n",
       "    <tr style=\"text-align: right;\">\n",
       "      <th></th>\n",
       "      <th>ID</th>\n",
       "      <th>GENDER</th>\n",
       "      <th>AGE</th>\n",
       "      <th>EDUCATION_KID</th>\n",
       "      <th>EDUCATION_ADULT</th>\n",
       "      <th>MARRIAGE</th>\n",
       "      <th>PREGNANCY</th>\n",
       "      <th>INCOME</th>\n",
       "      <th>INCOME_RATIO</th>\n",
       "      <th>HOUSEHOLD_NUM</th>\n",
       "      <th>...</th>\n",
       "      <th>EVER_USE</th>\n",
       "      <th>FIRST_USAGE</th>\n",
       "      <th>FREQUENCY</th>\n",
       "      <th>PER_MONTH</th>\n",
       "      <th>PER_YEAR</th>\n",
       "      <th>LAST_ONCE_MONTH</th>\n",
       "      <th>AMOUNT</th>\n",
       "      <th>LAST_USAGE</th>\n",
       "      <th>PAST_MONTH_USAGE</th>\n",
       "      <th>CHILDREN_NUM</th>\n",
       "    </tr>\n",
       "  </thead>\n",
       "  <tbody>\n",
       "    <tr>\n",
       "      <th>count</th>\n",
       "      <td>4843.000000</td>\n",
       "      <td>4843.000000</td>\n",
       "      <td>4843.000000</td>\n",
       "      <td>261.000000</td>\n",
       "      <td>4582.000000</td>\n",
       "      <td>4582.000000</td>\n",
       "      <td>1240.000000</td>\n",
       "      <td>4675.000000</td>\n",
       "      <td>4377.000000</td>\n",
       "      <td>4843.000000</td>\n",
       "      <td>...</td>\n",
       "      <td>3428.000000</td>\n",
       "      <td>1715.000000</td>\n",
       "      <td>870.000000</td>\n",
       "      <td>1715.000000</td>\n",
       "      <td>870.000000</td>\n",
       "      <td>864.000000</td>\n",
       "      <td>870.000000</td>\n",
       "      <td>1.713000e+03</td>\n",
       "      <td>546.000000</td>\n",
       "      <td>4843.000000</td>\n",
       "    </tr>\n",
       "    <tr>\n",
       "      <th>mean</th>\n",
       "      <td>88672.875077</td>\n",
       "      <td>1.522816</td>\n",
       "      <td>42.860211</td>\n",
       "      <td>13.639847</td>\n",
       "      <td>3.492580</td>\n",
       "      <td>6.130292</td>\n",
       "      <td>1.979839</td>\n",
       "      <td>300.427166</td>\n",
       "      <td>2.425833</td>\n",
       "      <td>3.517654</td>\n",
       "      <td>...</td>\n",
       "      <td>17.052800</td>\n",
       "      <td>17.289796</td>\n",
       "      <td>33.031034</td>\n",
       "      <td>6.026239</td>\n",
       "      <td>18.013793</td>\n",
       "      <td>26.756944</td>\n",
       "      <td>22.404598</td>\n",
       "      <td>3.572796e+01</td>\n",
       "      <td>49.080586</td>\n",
       "      <td>1.062358</td>\n",
       "    </tr>\n",
       "    <tr>\n",
       "      <th>std</th>\n",
       "      <td>2873.134105</td>\n",
       "      <td>0.499531</td>\n",
       "      <td>15.046097</td>\n",
       "      <td>6.711685</td>\n",
       "      <td>1.277588</td>\n",
       "      <td>162.416967</td>\n",
       "      <td>0.303990</td>\n",
       "      <td>1582.121412</td>\n",
       "      <td>1.616415</td>\n",
       "      <td>1.698411</td>\n",
       "      <td>...</td>\n",
       "      <td>374.406203</td>\n",
       "      <td>4.558000</td>\n",
       "      <td>503.162908</td>\n",
       "      <td>187.757903</td>\n",
       "      <td>5.129602</td>\n",
       "      <td>373.884673</td>\n",
       "      <td>429.130785</td>\n",
       "      <td>4.710994e+02</td>\n",
       "      <td>603.969539</td>\n",
       "      <td>1.332804</td>\n",
       "    </tr>\n",
       "    <tr>\n",
       "      <th>min</th>\n",
       "      <td>83732.000000</td>\n",
       "      <td>1.000000</td>\n",
       "      <td>18.000000</td>\n",
       "      <td>9.000000</td>\n",
       "      <td>1.000000</td>\n",
       "      <td>1.000000</td>\n",
       "      <td>1.000000</td>\n",
       "      <td>1.000000</td>\n",
       "      <td>0.000000</td>\n",
       "      <td>1.000000</td>\n",
       "      <td>...</td>\n",
       "      <td>1.000000</td>\n",
       "      <td>6.000000</td>\n",
       "      <td>1.000000</td>\n",
       "      <td>1.000000</td>\n",
       "      <td>6.000000</td>\n",
       "      <td>0.000000</td>\n",
       "      <td>1.000000</td>\n",
       "      <td>5.397605e-79</td>\n",
       "      <td>1.000000</td>\n",
       "      <td>0.000000</td>\n",
       "    </tr>\n",
       "    <tr>\n",
       "      <th>25%</th>\n",
       "      <td>86174.000000</td>\n",
       "      <td>1.000000</td>\n",
       "      <td>30.000000</td>\n",
       "      <td>12.000000</td>\n",
       "      <td>3.000000</td>\n",
       "      <td>1.000000</td>\n",
       "      <td>2.000000</td>\n",
       "      <td>6.000000</td>\n",
       "      <td>1.050000</td>\n",
       "      <td>2.000000</td>\n",
       "      <td>...</td>\n",
       "      <td>1.000000</td>\n",
       "      <td>15.000000</td>\n",
       "      <td>3.000000</td>\n",
       "      <td>1.000000</td>\n",
       "      <td>15.000000</td>\n",
       "      <td>1.000000</td>\n",
       "      <td>1.000000</td>\n",
       "      <td>2.000000e+00</td>\n",
       "      <td>2.000000</td>\n",
       "      <td>0.000000</td>\n",
       "    </tr>\n",
       "    <tr>\n",
       "      <th>50%</th>\n",
       "      <td>88677.000000</td>\n",
       "      <td>2.000000</td>\n",
       "      <td>43.000000</td>\n",
       "      <td>13.000000</td>\n",
       "      <td>4.000000</td>\n",
       "      <td>1.000000</td>\n",
       "      <td>2.000000</td>\n",
       "      <td>8.000000</td>\n",
       "      <td>2.040000</td>\n",
       "      <td>3.000000</td>\n",
       "      <td>...</td>\n",
       "      <td>1.000000</td>\n",
       "      <td>17.000000</td>\n",
       "      <td>4.000000</td>\n",
       "      <td>1.000000</td>\n",
       "      <td>17.000000</td>\n",
       "      <td>3.000000</td>\n",
       "      <td>2.000000</td>\n",
       "      <td>5.000000e+00</td>\n",
       "      <td>6.000000</td>\n",
       "      <td>1.000000</td>\n",
       "    </tr>\n",
       "    <tr>\n",
       "      <th>75%</th>\n",
       "      <td>91164.000000</td>\n",
       "      <td>2.000000</td>\n",
       "      <td>56.000000</td>\n",
       "      <td>14.000000</td>\n",
       "      <td>5.000000</td>\n",
       "      <td>5.000000</td>\n",
       "      <td>2.000000</td>\n",
       "      <td>14.000000</td>\n",
       "      <td>3.790000</td>\n",
       "      <td>5.000000</td>\n",
       "      <td>...</td>\n",
       "      <td>2.000000</td>\n",
       "      <td>19.000000</td>\n",
       "      <td>5.000000</td>\n",
       "      <td>2.000000</td>\n",
       "      <td>20.000000</td>\n",
       "      <td>12.000000</td>\n",
       "      <td>3.000000</td>\n",
       "      <td>1.500000e+01</td>\n",
       "      <td>25.000000</td>\n",
       "      <td>2.000000</td>\n",
       "    </tr>\n",
       "    <tr>\n",
       "      <th>max</th>\n",
       "      <td>93702.000000</td>\n",
       "      <td>2.000000</td>\n",
       "      <td>69.000000</td>\n",
       "      <td>66.000000</td>\n",
       "      <td>5.000000</td>\n",
       "      <td>7777.000000</td>\n",
       "      <td>3.000000</td>\n",
       "      <td>9999.000000</td>\n",
       "      <td>5.000000</td>\n",
       "      <td>7.000000</td>\n",
       "      <td>...</td>\n",
       "      <td>9999.000000</td>\n",
       "      <td>50.000000</td>\n",
       "      <td>9999.000000</td>\n",
       "      <td>7777.000000</td>\n",
       "      <td>50.000000</td>\n",
       "      <td>7777.000000</td>\n",
       "      <td>9999.000000</td>\n",
       "      <td>9.999000e+03</td>\n",
       "      <td>9999.000000</td>\n",
       "      <td>7.000000</td>\n",
       "    </tr>\n",
       "  </tbody>\n",
       "</table>\n",
       "<p>8 rows × 21 columns</p>\n",
       "</div>"
      ],
      "text/plain": [
       "                 ID       GENDER          AGE  EDUCATION_KID  EDUCATION_ADULT  \\\n",
       "count   4843.000000  4843.000000  4843.000000     261.000000      4582.000000   \n",
       "mean   88672.875077     1.522816    42.860211      13.639847         3.492580   \n",
       "std     2873.134105     0.499531    15.046097       6.711685         1.277588   \n",
       "min    83732.000000     1.000000    18.000000       9.000000         1.000000   \n",
       "25%    86174.000000     1.000000    30.000000      12.000000         3.000000   \n",
       "50%    88677.000000     2.000000    43.000000      13.000000         4.000000   \n",
       "75%    91164.000000     2.000000    56.000000      14.000000         5.000000   \n",
       "max    93702.000000     2.000000    69.000000      66.000000         5.000000   \n",
       "\n",
       "          MARRIAGE    PREGNANCY       INCOME  INCOME_RATIO  HOUSEHOLD_NUM  \\\n",
       "count  4582.000000  1240.000000  4675.000000   4377.000000    4843.000000   \n",
       "mean      6.130292     1.979839   300.427166      2.425833       3.517654   \n",
       "std     162.416967     0.303990  1582.121412      1.616415       1.698411   \n",
       "min       1.000000     1.000000     1.000000      0.000000       1.000000   \n",
       "25%       1.000000     2.000000     6.000000      1.050000       2.000000   \n",
       "50%       1.000000     2.000000     8.000000      2.040000       3.000000   \n",
       "75%       5.000000     2.000000    14.000000      3.790000       5.000000   \n",
       "max    7777.000000     3.000000  9999.000000      5.000000       7.000000   \n",
       "\n",
       "       ...     EVER_USE  FIRST_USAGE    FREQUENCY    PER_MONTH    PER_YEAR  \\\n",
       "count  ...  3428.000000  1715.000000   870.000000  1715.000000  870.000000   \n",
       "mean   ...    17.052800    17.289796    33.031034     6.026239   18.013793   \n",
       "std    ...   374.406203     4.558000   503.162908   187.757903    5.129602   \n",
       "min    ...     1.000000     6.000000     1.000000     1.000000    6.000000   \n",
       "25%    ...     1.000000    15.000000     3.000000     1.000000   15.000000   \n",
       "50%    ...     1.000000    17.000000     4.000000     1.000000   17.000000   \n",
       "75%    ...     2.000000    19.000000     5.000000     2.000000   20.000000   \n",
       "max    ...  9999.000000    50.000000  9999.000000  7777.000000   50.000000   \n",
       "\n",
       "       LAST_ONCE_MONTH       AMOUNT    LAST_USAGE  PAST_MONTH_USAGE  \\\n",
       "count       864.000000   870.000000  1.713000e+03        546.000000   \n",
       "mean         26.756944    22.404598  3.572796e+01         49.080586   \n",
       "std         373.884673   429.130785  4.710994e+02        603.969539   \n",
       "min           0.000000     1.000000  5.397605e-79          1.000000   \n",
       "25%           1.000000     1.000000  2.000000e+00          2.000000   \n",
       "50%           3.000000     2.000000  5.000000e+00          6.000000   \n",
       "75%          12.000000     3.000000  1.500000e+01         25.000000   \n",
       "max        7777.000000  9999.000000  9.999000e+03       9999.000000   \n",
       "\n",
       "       CHILDREN_NUM  \n",
       "count   4843.000000  \n",
       "mean       1.062358  \n",
       "std        1.332804  \n",
       "min        0.000000  \n",
       "25%        0.000000  \n",
       "50%        1.000000  \n",
       "75%        2.000000  \n",
       "max        7.000000  \n",
       "\n",
       "[8 rows x 21 columns]"
      ]
     },
     "execution_count": 10,
     "metadata": {},
     "output_type": "execute_result"
    }
   ],
   "source": [
    "# Describe dataset\n",
    "df.describe(include='all')"
   ]
  },
  {
   "cell_type": "code",
   "execution_count": 11,
   "metadata": {},
   "outputs": [
    {
     "name": "stdout",
     "output_type": "stream",
     "text": [
      "(4843, 21)\n",
      "*****************\n",
      "ID                  4843\n",
      "GENDER                 2\n",
      "AGE                   52\n",
      "EDUCATION_KID          8\n",
      "EDUCATION_ADULT        5\n",
      "MARRIAGE               7\n",
      "PREGNANCY              3\n",
      "INCOME                16\n",
      "INCOME_RATIO         427\n",
      "HOUSEHOLD_NUM          7\n",
      "OVER_60_NUM            4\n",
      "EVER_USE               4\n",
      "FIRST_USAGE           38\n",
      "FREQUENCY              7\n",
      "PER_MONTH              3\n",
      "PER_YEAR              38\n",
      "LAST_ONCE_MONTH       45\n",
      "AMOUNT                 6\n",
      "LAST_USAGE            51\n",
      "PAST_MONTH_USAGE      30\n",
      "CHILDREN_NUM           8\n",
      "dtype: int64\n",
      "*****************\n",
      "ID                     0\n",
      "GENDER                 0\n",
      "AGE                    0\n",
      "EDUCATION_KID       4582\n",
      "EDUCATION_ADULT      261\n",
      "MARRIAGE             261\n",
      "PREGNANCY           3603\n",
      "INCOME               168\n",
      "INCOME_RATIO         466\n",
      "HOUSEHOLD_NUM          0\n",
      "OVER_60_NUM            0\n",
      "EVER_USE            1415\n",
      "FIRST_USAGE         3128\n",
      "FREQUENCY           3973\n",
      "PER_MONTH           3128\n",
      "PER_YEAR            3973\n",
      "LAST_ONCE_MONTH     3979\n",
      "AMOUNT              3973\n",
      "LAST_USAGE          3130\n",
      "PAST_MONTH_USAGE    4297\n",
      "CHILDREN_NUM           0\n",
      "dtype: int64\n"
     ]
    }
   ],
   "source": [
    "# Basic questions about the dataset\n",
    "\n",
    "# 1. The number of entries in the dataset\n",
    "print(df.shape)\n",
    "# We have 4843 rows and 21 columns \n",
    "\n",
    "# 2. Total number of areas that contribute to marijuana usage and their unique values of the columns \n",
    "print(\"*****************\")\n",
    "print(df.nunique())\n",
    "\n",
    "# Confirm the number of missing values in each column.\n",
    "print(\"*****************\")\n",
    "print(df.isnull().sum())"
   ]
  },
  {
   "cell_type": "markdown",
   "metadata": {},
   "source": [
    "The following plot bar graph shows how empty values were dealt with, so that the data would not be obscured"
   ]
  },
  {
   "cell_type": "code",
   "execution_count": 12,
   "metadata": {},
   "outputs": [
    {
     "data": {
      "text/plain": [
       "Text(0.5, 0, 'Total annual income')"
      ]
     },
     "execution_count": 12,
     "metadata": {},
     "output_type": "execute_result"
    },
    {
     "data": {
      "image/png": "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\n",
      "text/plain": [
       "<Figure size 360x216 with 1 Axes>"
      ]
     },
     "metadata": {
      "needs_background": "light"
     },
     "output_type": "display_data"
    }
   ],
   "source": [
    "#Value with 7777.0 and 9999.0 are consider to be not reported values(empty)\n",
    "hello = df['INCOME'].value_counts().plot.bar(title=\"Freq dist of Income\",figsize=(5,3))\n",
    "hello.set_ylabel('Total number of inquiries')\n",
    "hello.set_xlabel('Total annual income')"
   ]
  },
  {
   "cell_type": "markdown",
   "metadata": {},
   "source": [
    "The following distplot graphs shows where the most frequent responces are and how they compare to the other responces, for each specific column that had no missing values(so that the data would be obscure with the added fill in values{7777.0, 9999.0})"
   ]
  },
  {
   "cell_type": "code",
   "execution_count": 13,
   "metadata": {
    "scrolled": true
   },
   "outputs": [
    {
     "data": {
      "image/png": "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\n",
      "text/plain": [
       "<Figure size 1152x1440 with 5 Axes>"
      ]
     },
     "metadata": {
      "needs_background": "light"
     },
     "output_type": "display_data"
    }
   ],
   "source": [
    "#Taking a look at the columns without any missing values.\n",
    "col_names = ['GENDER','AGE','CHILDREN_NUM','OVER_60_NUM','HOUSEHOLD_NUM']\n",
    "\n",
    "fig, ax = plt.subplots(len(col_names), figsize=(16,20))\n",
    "\n",
    "for i, col_val in enumerate(col_names):\n",
    "\n",
    "    sns.distplot(df[col_val], hist=True, ax=ax[i])\n",
    "    ax[i].set_title('Freq dist '+col_val, fontsize=8)\n",
    "    ax[i].set_xlabel(col_val, fontsize=8)\n",
    "    ax[i].set_ylabel('Count', fontsize=8)\n",
    "\n",
    "plt.show()"
   ]
  },
  {
   "cell_type": "markdown",
   "metadata": {},
   "source": [
    "In the first graph, the column is Gender, where the x-axis represents either male(1.0) or female(2.0), and y-axis the total count in the thousands. The x and y axis variables will change for each graphs but they will contain the same format."
   ]
  },
  {
   "cell_type": "markdown",
   "metadata": {},
   "source": [
    "The boxplot graph is used to show the error margine, the outlier data is not necessarly relevent. "
   ]
  },
  {
   "cell_type": "markdown",
   "metadata": {},
   "source": [
    "The following graphs show the difference of the data values. The x-axis represents the different catagories taken for each column and the y-axis represents the number of the data."
   ]
  },
  {
   "cell_type": "code",
   "execution_count": 14,
   "metadata": {},
   "outputs": [
    {
     "data": {
      "image/png": "iVBORw0KGgoAAAANSUhEUgAAAcEAAAaHCAYAAAANHdcXAAAABHNCSVQICAgIfAhkiAAAAAlwSFlzAAALEgAACxIB0t1+/AAAADl0RVh0U29mdHdhcmUAbWF0cGxvdGxpYiB2ZXJzaW9uIDMuMC4zLCBodHRwOi8vbWF0cGxvdGxpYi5vcmcvnQurowAAIABJREFUeJzs3XmYXmV9//H3JBMQJFCDSEDEoNEv+GuRghiKJgQIBFBKpWqRWMAFpSJGAalLVERaFxDLoiIRhFhwAaRu7CiLgoIKKhW+NEi0CsEaZJM1yfz+OGfIk3EmMxnmWea536/rmotz3+d+zvnOaOYz91l7+vr6kCSpRBPaXYAkSe1iCEqSimUISpKKZQhKkoplCEqSimUISpKK1dvuAqTxIiJmA18HfgX0AJOAN2fm7WO8nyXA1pn52BDrXwP8ODPvHuH2NgFOALYBHgGWA8dl5nURcQhwHPDrho/8MjOPiIirgZ9l5pH1dp4B3J6Z0yLiWOBA4G5gIvAo8K+ZefMItrl+XccE4FnAMZl5yUi+F2msGYLS2vleZh4AEBF7AicCr25xDfOBw6gCaCS+CZyQmYcARMQLgAsj4uX1+vMy831DfPbAiPhmZl4zyLqTMvP0eptbA/8VEduNYJsH9f/hEBEBXAgYgmoLQ1AavWcBSwAi4m+BU4EVwGPAocCzgUXADOD1wN6Z+fr+D9czpv2ADeuxx2XmhQ3rpwFnUs04+4B3AVsA2wGLIuKVmfnEmgqMiBnAHzPzov6+zPx1RGyfmX1VBq3RfOCMiNiBagY5qMy8PSJ+BrxyuA0O8HzgT2v5GWnMGILS2tmtPqS3LrAt8Kq6fyHw1sy8JSL2o5olvTYizgTOAbYCZg+yvQ2APYBNgBsj4psN604ETsnMb9YzrDMz82URcQtw2HABWNsKWNzfiIgvAAFsEhFvqbsPjIidGj5zZmZ+uV7+OVWQn0QVwmtyL1WYD7fNRRGxHNgSuAF40wi+D6kpDEFp7TQeDg3ghoh4LrB5Zt5Sj7kW+ES9fDrwYeBjmfnQINu7JjNXAvdGxJ+owrDfNvW2qMP1eUMVFRHHs2oWtntmrqiX/xf4p/5xmfn2evxXgWfU3Ws6dEn9vfwQ2HsNY6Ca1V0ITB9mmwfVM8e3U51X/O0w25WaxqtDpdG7t2H57ojYtl7eBbijXj6h/jqkPhc30A4AEbEp1WHRPzSsuw2YWa/fDlha969kwL/dzFyQmbPrrxUNq64HpkbE3/d3RMRUYGuqQ6zDqrd3MPCZocZExF8DLwF+NJJt1tv9AlUA/ttIPyONNWeC0trpPxy6ApgMHJmZj0bEocBpEdFDde7sLXXwvBg4guqw37kRMSszn2zY3tSIuArYCHhHZq5oOE93NLAwIo6mOi/Yf/jyeqpDintm5n1rKrY+77cv8PGIeG/dPYnqUOu1VIdLBx66fCAz9xuwnYyIzwDvaeg+MiIOqH8WTwKvzczldf3DbrM2H/hFRPxnZv58Td+L1Aw9vkVCao/6wpithzkUKamJPBwqSSqWM0FJUrGcCUqSitU1F8ZExLrAjsA9VCfqJUmaCGwG3JSZjw9c2TUhSBWA17W7CElSR5oJ/GBgZzeF4D0A5557LlOnTm13LZKkDrB06VLmzZsHdUYM1E0huAJg6tSpbLHFFu2uRZLUWQY9TeaFMZKkYhmCkqRiGYKSpGIZgpKkYnXMhTERMQk4C5hG9a624zPzWw3r96V6Jc1y4KzMXNiOOiVJ3aOTZoJvBJZl5kyq95ad1r+iDsjPAHtSvabmbfXrYCRJGrWOmQkC5wMXNLSXNyxvAyzOzD8BRMQPqG58PL915Y3e0UcfzW233dbuMsal5cuX8+STTw4/UBojkyZNore3k341jg/bbLMNJ554YrvLWGsd8790Zj4MEBGTqcJwQcPqDYEHGtoPUb1/bVy49957efjPj8DEjvlxjx8rV4IPeVcLrXhiOSxf2e4yxpcVy7n33nuHH9eBOuq3ckQ8D7gI+Fxmntew6kGqF5j2mwzc38rano4pU6Zw1/1P8ujW+7S7FEkac+vdfjFTpkxpdxmj0jEhGBGbApcD78zMqwasvg14UURMAR4GZlG9GVuSpFHrmBAEPgA8C/hQRHyo7lsIPDMzz4iII4HLqC7mOSszf9+mOiVJXaJjQjAz5wPz17D+28C3W1eRJKnbddItEpIktZQhKEkqliEoSSqWIShJKpYhKEkqliEoSSqWIShJKpYhKEkqliEoSSqWIShJKpYhKEkqliEoSSqWIShJKpYhKEkqliEoSSqWIShJKpYhKEkqliEoSSqWIShJKpYhKEkqliEoSSqWIShJKpYhKEkqliEoSSqWIShJKpYhKEkqliEoSSqWIShJKlZvuwsYKCJmAJ/MzNkD+ucBRwErgLMy8/NtKE+S1EU6aiYYEccAXwSeMcjqE4E5wCuAoyLiWa2sTZLUfToqBIE7gf2HWPcLYCOqgOwB+lpVlCSpO3VUCGbmhcCTQ6y+Ffgp8N/AdzLz/pYVJknqSh0VgkOJiG2BVwFbAdOA50TE69palCRp3BsXIQg8ADwKPJqZK4A/AJ4TlCQ9LR13dWijiDgQ2CAzz4iILwA/iIgnqM4dnt3W4iRJ417HhWBmLgF2qpfPa+g/HTi9TWVJkrrQeDkcKknSmDMEJUnFMgQlScUyBCVJxTIEJUnFMgQlScUyBCVJxTIEJUnFMgQlScUyBCVJxTIEJUnFMgQlScUyBCVJxTIEJUnFMgQlScUyBCVJxTIEJUnFMgQlScUyBCVJxTIEJUnFMgQlScUyBCVJxTIEJUnFMgQlScUyBCVJxTIEJUnFMgQlScUyBCVJxeptdwEDRcQM4JOZOXtA/47ASUAPsBR4Y2Y+1voKJUndoqNmghFxDPBF4BkD+nuAhcCbMvOVwKXA81tfoSSpm7QsBCNi6giG3QnsP0j/i4FlwLsj4hpgSmbmWNYnSSrPmIdgRGwfEd+OiHMiYpO67x3AT4f7bGZeCDw5yKpnAzsDnwPmALtHxO5jWLYkqUDNOCe4EHg/1eHKf4uIZwKbA7OexjaXAYsz81cAEXEpsANw1dOsVZJUsGYcDv1zZl6emQuBvYG7gN0y886nsc1fAxtExPS6PRP476dZpySpcM2YCS5vWL47MxeMdkMRcSCwQWaeERFvAc6rL5K5PjO/+3QLlSSVrRkhOCEiJlHNMh+tl3sAMvOJ4T6cmUuAnerl8xr6vwe8vAn1SpIK1YwQnAb0X7nZUy/3AH3AC5qwP0mSRmXMQzAzp431NiVJaoZm3CLx/obl3RuWPz/W+5Ik6eloxtWhezQsf7Bheesm7EuSpFFrRgj2DLHc14R9SZI0as0Iwb4hliVJ6ijNuDr0uRHxNqpZYOPy5k3YlyRJo9aMEDwP2GyQ5a80YV+SJI1aM26R+ChARLyA6sHXv8vMu8d6P5IkPV1jHoIRMQ34OvAE8Afg+RHxZ+CfMvOesd6fJEmj1YzDoScBR2bmD/o7ImIP4LMM/q5ASZLaohlXh27SGIAAmXkFsGET9iVJ0qg1IwQHeylus/YlSdKoNeNw6MYRseeAvh5gShP2JUnSqDUjBH8GvGGQ/pubsC9JkkatGbdIvGmstylJUjM04xaJ7zP449L6MnP3QfolSWqLZhwOPWxA+6XAyVRPj5EkqWM043BoAkRED/A+4CDggMy8Zqz3JUnS09GMmSAR8SJgEfALYMfMfLgZ+5Ek6eloxjnBdwJH1l8X133rAGTmE2O9P0mSRqsZM8Gj6v9+huoRalDdJ9gHvKAJ+5MkaVSacU5wq7HepiRJzTDmjzKLiPc3LO/esPz5sd6XJElPRzOe57lHw/IHG5a3bsK+JEkatWaEYM8Qy4PdQC9JUts0IwT7hliWJKmjNOPq0OdGxNuoZoGNy5s3YV+SJI1aM2aC5wFT669rgZ2AlwNfGcmHI2JGRFy9hvVnRMQnxqBOSVLhmhGC5wOzM/OjwExgG2BP4MfDfTAijgG+CDxjiPVvB/5m7EqVJJWsGSH4SeCYevmezPw7YFfgX0fw2TuB/QdbERF/RzWr/MJYFClJUjNCcP3M/Em9/ABAZi4GJg33wcy8EHhyYH9EbAYcCxw+dmVKkkrXjAtj1utfyMx/aOj/i3BbC68Dnk31LNKpwPoRcXtmnv00tilJKlwzQvD3EfHyzLyxvyMiXg4sHe0GM/MU4JR6W4cAWxuAkqSnqxkheAzwrYi4ClhM9dDs3YF913ZDEXEgsEFmnjG2JUqS1JwHaN9Vz/z2BbYCfgJ8KDP/PMLPL6G6AIbM/Iu30TsDlCSNlaa8VDczHwW+3oxtS5I0VppxdagkSeOCIShJKpYhKEkqliEoSSqWIShJKpYhKEkqliEoSSqWIShJKpYhKEkqliEoSSqWIShJKpYhKEkqliEoSSqWIShJKpYhKEkqliEoSSqWIShJKpYhKEkqliEoSSqWIShJKpYhKEkqliEoSSqWIShJKpYhKEkqliEoSSqWIShJKpYhKEkqVm+7CxgoImYAn8zM2QP63wC8G1gB/AJ4R2aubH2FkqRu0VEzwYg4Bvgi8IwB/esBxwO7ZubOwEbAq1tfoSSpm3RUCAJ3AvsP0v84sHNmPlK3e4HHWlaVJKkrdVQIZuaFwJOD9K/MzHsBIuIIYAPgihaXJ0nqMh13TnAoETEB+BTwYuAfM7OvzSVJksa5cROCwBeoDov+gxfESJLGQkeHYEQcSHXo8yfAW4DrgO9FBMDJmXlRG8uTJI1zHReCmbkE2KlePq9hVUedv5QkjX8GiySpWIagJKlYhqAkqViGoCSpWIagJKlYhqAkqViGoCSpWIagJKlYhqAkqViGoCSpWIagJKlYhqAkqViGoCSpWIagJKlYhqAkqViGoCSpWIagJKlYhqAkqViGoCSpWIagJKlYhqAkqViGoCSpWIagJKlYhqAkqViGoCSpWIagJKlYhqAkqViGoCSpWIagJKlYHReCETEjIq4epH/fiLgpIm6IiEPbUJokqcv0truARhFxDPDPwJ8H9E8CPgPsWK/7YUR8OzOXtr7K0Zn4yH2sd/vF7S5j3Ol58lEmPPlIu8tQQVZOWp++Seu1u4xxZeIj9wGbtruMUemoEATuBPYHvjygfxtgcWb+CSAifgDMBM5vbXmjM3369HaXMG7dd9993Hff8naXoYJMmbIhU6ZMaXcZ48ym4/b3XEeFYGZeGBHTBlm1IfBAQ/shYKOWFDUGjjjiiHaXIEkaRMedExzCg8DkhvZk4P421SJJ6hIdNRNcg9uAF0XEFOBhYBZwYntLkiSNdx0dghFxILBBZp4REUcCl1HNXs/KzN+3tzpJ0njXcSGYmUuAnerl8xr6vw18u01lSZK60Hg5JyhJ0pgzBCVJxeq4w6FPw0SApUvHzf3zkqQma8iEiYOt76YQ3Axg3rx57a5DktR5NqN6IMtquikEb6J6isw9wIo21yJJ6gwTqQLwpsFW9vT19bW2HEmSOoQXxkiSimUISpKKZQhKkoplCEqSimUISpKKZQhKkorVTfcJSl0jInqAjwFbAk8A6wLfAd4H/Hc9bGlmHh0RjwI7Z+bNEbETsBdwNfCZemwvcEdmfjgijqV6QP0f6218n+oG4k8At1D9YbwJ8NbMXNbs71NqN0NQ6kxvAn6fmQsAImIrYF/ga5n5iQFjfwmcFBGvGdD/1NiI+HBE7Fb3H5uZP+ofFBGzgf9qGHsM8ArgW2P8PUkdxxCUOtPLgU8BRMRHgBdRzQqfGRFb12Ouz8wzgPuADwNfoJr9DeYm4P/Vyx+KiP+rl8+q//u6iPh/wLbApfWX1PUMQakz/Yxq5ndyZn40IqZRHeI8fZCZIJl5Y0RcCxwN3DrI9l4BfA+YBXxskJng+Zn5iYjYG3gzsHxsvx2pM/nYNKkDRcQE4Hhga+AxYBJwI3Agq84JrsjMgyPi0szcq/7cecAdrH5OcBJwV2a+b5BzgrcCPwJ2ajgc+l5gUmb+e7O/T6ndDEFJUrG8RUKSVCxDUJJULENQklQsQ1CSVCxDUJJULENQklQsQ1CSVCxDUJJULENQklQsQ1CSVCxDUJJULENQklQsQ1CSVCzfJyithfrde18HfgX0UL2m6M2ZefsY72cJsHVmPjbE+tcAP87Mu0e4vaWZObV+ldI+wM6Zubxe9yPggMxcUr9Y91PA+sAGwMVUb6Lvi4hNgBOB5wMTgf8FjszMpRFxCPAlqlcy/bje7iTgHuC0zDw2Ip4Arh9Q2rzM/P2IfihSExiC0tr7XmYeABARe1IFw6tbXMN84DBgRCE4wDTg/cDHGjsj4q+ArwL7Z+b/RMRE4Hzg7RHxBeAbwImZ+c16/BzgOxExo97E7cAbgB/X7b2ABxp2cV9mzh5FvVLTGILS0/MsYAlARPwtcCqwgupFuIcCzwYWATOA1wN7Z+br+z9cz6D2Azasxx6XmRc2rJ8GnEk14+wD3gVsAWwHLIqIV2bmE2tZ86eAt0bEdzLz5ob+/agC/n8AMnNFRBwEPAHsADzQH4D1+isj4k6qt9UDXALMjYgJmbmSKhC/spa1SS1lCEprb7eIuBpYF9gWeFXdvxB4a2beEhH7ASdl5msj4kzgHGArYPYg29sA2APYBLgxIr7ZsO5E4JTM/GZEbAecmZkvi4hbgMNGEYAAD1MF9NkR8fKG/s2BXzcOzMyHASLiBcCdg2zr11SHR6EKyxuAXSLiJ1TB/jtgar1+Sv1z6/f7zJw3ivqlMWMISmuv8XBoADdExHOBzTPzlnrMtcAn6uXTgQ8DH8vMhwbZ3jX1zOneiPgTVRj226beFnW4Pm+ooiLieOCVdXP3zFwx1NjMvC4irgSOa+j+DbD9gG1uBTwP+D3VYdSBXgRcAWxZt8+jmgFuSXX4dJ2GsR4OVcfx6lDp6bm3YfnuiNi2Xt4FuKNePqH+OqSeUQ20A0BEbEo1e/pDw7rbgJn1+u2ApXX/Sgb8+83MBZk5u/4aMgAbfJDqIpnpdfs7wF4R8cJ6f5OAk4C/prqgZWpE7Nv/4YjYq/7sNQ3bvBrYCXgdcMEIapDayhCU1t5uEXF1RFwFXE51heSjVIcYT4uI66guXHlPRPw98GLg43XfuXW4NJpab+u7wDsGBNjRwBERcS3weeAtdf/1VOcEp4z2m6ivPH0TsFHdfhA4GFhYH7b8EfBz4POZ2QfsC7whIm6IiBuANwOvaqy3ntFeATxSb6/RlPrn1vj1d6OtXxoLPX19fe2uQSpWfWHM1pn5vnbXIpXImaAkqVjOBCVJxXImKEkqVtfcIhER6wI7Uj2maSRXxkmSut9EYDPgpsx8fODKrglBqgC8rt1FSJI60kzgBwM7uykE7wE499xzmTp16nBjJUkFWLp0KfPmzYM6IwbqphBcATB16lS22GKLdtciSeosg54m88IYSVKxDEFJUrG66XCopNrs2bOfWr766qvbVofU6ZoWgvWLNj+ZmbMjYjpwNtX70G4FDs/MlRHxEarX0CwH3p2ZN67N2GbVLkkqQ1MOh0bEMcAXgWfUXScBCzJzJtAD7BcR21M9aX8GcADw2VGMlTRA4yxwsLakVZp1TvBOYP+G9g6set3KJcAcqveeXZ6ZfZn5W6A3IjZZy7GSJI1aU0IwMy8Enmzo6qlfxQLwENWrWzYEHmgY09+/NmMlSRq1Vl0durJheTJwP/BgvTywf23GSpI0aq0KwZsjYna9vDfV481+CMyNiAkRsSUwITP/uJZjJUkatVaF4FHAR+u3Ua8DXJCZP6UKuBuAC4HDRzFW0gADb4nwFglpaF3zPsGImAbcddVVV/nYNBXP+wSlyu9+9zt23313gK0yc8nA9d4sL3Uhg08aGR+bJkkqliEoSSqWIShJKpYhKEkqliEoSSqWIShJKpYhKEkqliEoSSqWIShJKpYhKEkqliEoSSqWIShJKpYhKEkqliEoSSqWIShJKpYhKEkqliEoSSqWIShJKpYhKEkqliEoSSqWIShJKpYhKEkqliEoSSqWIShJKpYhKEkqliEoSSqWIShJKpYhKEkqVm+rdhQRk4BzgGnACuBQYDlwNtAH3AocnpkrI+IjwKvq9e/OzBsjYvpgY1tVvySp+7RyJrgP0JuZOwPHAf8GnAQsyMyZQA+wX0RsD+wCzAAOAD5bf/4vxrawdklSF2rZTBC4A+iNiAnAhsCTwE7ANfX6S4A9gQQuz8w+4LcR0RsRmwA7DDL2ohbWL40bs2fPfmr56quvblsdUqdrZQg+THUo9Hbg2cCrgVl12AE8BGxEFZDLGj7X398zyFhJkkatlYdD3wNclpkvBl5KdX5wnYb1k4H7gQfr5YH9KwfpkzRA4yxwsLakVVoZgn8CHqiX7wMmATdHxOy6b2/gOuCHwNyImBARWwITMvOPQ4yVJGnUWnk49DPAWRFxHdUM8APAT4CFEbEOcBtwQWauqMfcQBXSh9efP2rg2BbWLknqQi0Lwcx8GHj9IKt2GWTsscCxA/ruGGysJEmj5c3ykqRiGYJSlxl4S4S3SEhDMwQlScVq5YUxklrE2Z80Ms4EJUnFMgQlScUyBCVJxTIEJUnFMgQlScUyBCVJxTIEJUnFMgQlScUyBCVJxTIEJUnFMgQlScUyBCVJxTIEJUnFMgQlScUyBCVJxTIEJUnFMgQlScUyBCVJxTIEJUnFMgQlScUyBCVJxTIEJUnFMgQlScUyBCVJxept5c4i4v3A3wPrAJ8DrgHOBvqAW4HDM3NlRHwEeBWwHHh3Zt4YEdMHG9vK+iVJ3aVlM8GImA3sDLwC2AV4HnASsCAzZwI9wH4RsX29fgZwAPDZehN/MbZVtUuSulMrD4fOBX4JXAR8G/gOsAPVbBDgEmAO8Erg8szsy8zfAr0RsckQYyVJGrU1hmBE9AzR//xR7OvZwMuA1wGHAecCEzKzr17/ELARsCHwQMPn+vt7BhkrSdKoDTcTvKp/ISJOaOj/0ij2tQy4LDOfyMwEHmP1IJsM3A88WC8P7F85SJ8kSaM2XAg2zgR3GKJ/pH4A7BURPRGxOfBM4Kr6XCHA3sB1wA+BuRExISK2pJot/hG4eZCxkiSN2tpcHdoYfH1DjhpCZn4nImYBN1KF7+HAXcDCiFgHuA24IDNXRMR1wA0N4wCOGjh2bWuQJKnRcCHYN8TyqGTmMYN07zLIuGOBYwf03THYWEmSRmu4ENwhIq6nmgW+pGF5m6ZXJklSkw0Xgtu2pApJktpguBBc0+HHRWNZiCRJrTZcCH4R+A3Vze2PMbqrQiVJ6kjDheBzqR5d9mrgt8C5mXl1s4uSJKkV1hiCmfl/wKnAqRHxQmBeRHwA+Glmvr8VBUqS1Cxr8+zQFcCTVI81m96cciRJap01zgQjYirweqrnfT4CfAXYMzMfbEFtkiQ11XAzwd8BbweuBL5B9R7AAyLibc0uTJKkZhvuwpjjWfWkmKlNrkWSpJYa7sKYYwEiYhqwJfDbzFzS9KokSWqB4c4JbkB1HnBjYAnwooj4A/AGzwtKksa74Q6HfgI4PzOfejpMRLwVOIHqXKEkSePWcBfGvLQxAAEy84v4TFFJUhcYLgSfHKJ/+VgXIklSqw0XgvdFxMsaO+r2fc0rSZKk1hjunODRwLci4mrgTmArYA6wb5PrkiSp6dY4E6xvh3g5cA3VjfI3AjMy867mlyZJUnON5Nmhs4BvZOYJwH8DM5tbkiRJrbHGEIyIfwGOBTaou/qAj/jYNElSNxhuJngIsFtmPgSQmb8A9gAObXJdkiQ13XAh+EhmPtbYkZkPAw81ryRJklpj2PsEI+LZjR11e7irSiVJ6njDhdlxwOURcQ7wa6qHaL8FOKbZhUmS1GzD3SLxA+C1wEbAq6jeKv+azLyyBbVJktRUwx7WzMxfU80IJUnqKsO9SukeVr1Ut99kYP3MnNi0qiRJaoHhXqq7WWM7Ig6jepTakc0sSpKkVhjRVZ4RsTlwJtWtETMyc9lodxgRzwF+SnW/4XLgbKrZ5q3A4Zm5MiI+QnUOcjnw7sy8MSKmDzZ2tHVIkjTsY9Mi4o3AtcCizHz90wzAScAXgEfrrpOABZk5E+gB9ouI7YFdgBnAAcBnhxo72jokSYLhzwleCLwCeB+wLCL27F+XmZePYn8nAqcD76/bO1A9nBvgEmBPIIHLM7MP+G1E9EbEJkOMvWgUNUiSBAx/OPRBqsCZNci6tQrBiDgE+L/MvCwi+kOwpw47qA61bkR1G0bjbLO/f7CxkiSN2nAhuPUQ/QOvGB2JNwN9ETEH2A5YBDynYf1k4H6q4J08SP/KQfokSRq14ULwgLHaUWY+NZusX9J7GHBCRMzOzKuBvYHvA4uBT0XEicAWwITM/GNE3DzIWEmSRm24WyR+0+T9HwUsjIh1gNuACzJzRURcB9xAdeHO4UONbXJtkqQu15YHYWfm7IbmLoOsP5bqPYaNfXcMNlaSpNEayZvlJUnqSoagJKlYhqAkqViGoCSpWIagJKlYhqAkqViGoCSpWIagJKlYhqAkqViGoCSpWIagJKlYhqAkqViGoCSpWIagJKlYhqAkqViGoCSpWIagJKlYhqAkqViGoCSpWIagJKlYhqAkqViGoCSpWIagJKlYhqAkqViGoCSpWIagJKlYhqAkqViGoCSpWL2t2lFETALOAqYB6wLHA78Czgb6gFuBwzNzZUR8BHgVsBx4d2beGBHTBxvbqvolSd2nlTPBNwLLMnMmsDdwGnASsKDu6wH2i4jtgV2AGcABwGfrz//F2BbWLknqQq0MwfOBDzW0lwM7ANfU7UuAOcArgcszsy8zfwv0RsQmQ4yVJGnUWnY4NDMfBoiIycAFwALgxMzsq4c8BGwEbAgsa/hof3/PIGMlSRq1ll4YExHPA74PfDkzzwMaz+lNBu4HHqyXB/YPNlaSpFFrWQhGxKbA5cC/ZuZZdffNETG7Xt4buA74ITA3IiZExJbAhMz84xBjJUkatZYdDgU+ADwL+FBE9J8bnA+cEhHrALcBF2Tmioi4DriBKqQPr8ceBSxsHNvC2iVJXainr69v+FHjQERMA+666qqr2GKLLdpdjiSpA/zud79j9913B9gqM5cMXO/N8pLrt4O5AAAgAElEQVSkYhmCkqRiGYKSpGIZgpKkYhmCkqRiGYKSpGIZgpKkYhmCkqRiGYKSpGIZgpKkYhmCkqRiGYKSpGIZgpKkYhmCkqRiGYKSpGIZgpKkYhmCkqRiGYKSpGIZgpKkYhmCkqRiGYKSpGIZgpKkYhmCkqRiGYKSpGIZgpKkYhmCkqRiGYKSpGIZgpKkYvW2u4C1ERETgM8BLwUeB96amYvbW5UkabwabzPBfwCekZl/B7wP+HSb65EkjWPjaiYIvBK4FCAzfxQRL2tzPSNy2WWXccopp7S7jHHp8ccfZ/ny5e0uQwXp7e1l3XXXbXcZ48673vUu5s6d2+4y1tp4mwluCDzQ0F4REeMtyCVJHWK8BciDwOSG9oTM7Phpwty5c8flX0iS1O3G20zwh8A+ABGxE/DL9pYjSRrPxttM8CJgj4i4HugB3tTmeiRJ49i4CsHMXAkc1u46JEndYbwdDpUkacwYgpKkYhmCkqRijatzgsOYCLB06dJ21yFJ6hANmTBxsPXdFIKbAcybN6/ddUiSOs9mwJ0DO7spBG8CZgL3ACvaXIskqTNMpArAmwZb2dPX19faciRJ6hBeGCNJKpYhKEkqliEoSSqWIShJKpYhKEkqVjfdIiF1lYiYDewEHAVsn5n/GxEHAM8A/hP4OLAx8FfA/2Tmv0bEFOBT9SY2BBL4MHBw3f+8zHw8IqYBi4EtgE8AGwCP1Z87PzO/2fzvUGo/Q1DqfLcACyNi34a+w4DbM/NMgIh4Y0Q8myrQPp2Zt9X9C4A31p+5CfgH4GtUryG7umF778xMH7ek4ng4VOp8dwJfAE5o6Ptr4Jr+Rmb+Z2b+kWqmd1vDuG8B29fLFwCviYiJwKbA7xrGnRwRZ9dfL2nGNyF1IkNQGgcy8yLgSeC1ddfPgTn96yPimIjYBlg6IMR2A35SLz8K3Au8HfjugF3Mz8xD6q9fNeN7kDqRh0Ol8eP9wPfq5S9Szd6+AvQBvwFupzp/+OmI6AMmUc0iT6Y6JwhwJvANIIB/bNj2aRHRf07w+/2HWaVu52PTJEnF8nCoJKlYhqAkqViGoCSpWIagJKlYhqAkqViGoCSpWIagJKlYhqAkqViGoCSpWIagJKlYhqAkqViGoCSpWIagJKlYhqAkqVi+T1BFiojZwNeBXwE9VO/ee3Nm3j7G+1kCbJ2Zjw2x/jXAjzPz7hFu7wng+oauX2XmO/r3AxwAHAf8ul7/V8APM/Pw+vPvo3oZ70qq9xB+APgtcH49fjvgDuAR4MtDvVdw4PcVEVsDp2fm7IiYTvUOw9766yfA+zNzZT32n4CzgBc1ft8RMYfqnYnrAsuBJVQv+30gIq4G1q/r6ndCZg58ObC0VgxBlex7mXkAQETsCZwIvLrFNcwHDgNGFILAfZk5e5gx52Xm+wAiYgJwXUS8jCpA/h54RWb2RcR2wDmZ+VJgdj3+auCwp/nHwL8Dp2bmpRHRQ/US3/2Ai+r1bwVOBd4GHFvv96XAp4B9M/P3dd97gGOAD9afO2is/0iRDEGp8iyqmQcR8bdUv6RXAI8BhwLPBhYBM4DXA3tn5uv7PxwRh1D9ot+wHntcZl7YsH4a1VvdJ1HNwN4FbEE181oUEa/MzCea8H1NppoNPgD8CdgSeHNEXJqZt0TEy5uwz98Ah0TEQ8CNVD+v5QARsRUwBfg48LOI+LfMfJLqD4Hj+wMQIDM/04TapNUYgirZbvXMZ11gW+BVdf9C4K11SOwHnJSZr42IM4FzgK2oZ04DbADsAWwC3BgR32xYdyJwSmZ+s56BnZmZL4uIW6hmXiMNwCl1zf2OysyfDhhzYET8HbAZ8BDwb5n5PwAR8ffAO4GPRMQjVLOsCxkbffV/FwD/QhV0fwN8t97n/cBbgLPqQ5w3APsDX6P6mS6ua9wK+BLVYeqJmfnKeruL6pr7vS4z/2+MalehDEGVrPFwaAA3RMRzgc0z85Z6zLXAJ+rl04EPAx/LzIcG2d419XmveyPiT1Rh2G+belvU4fq8oYqKiOOB/l/8u2fmiobVIz4cWofJpVTn+KjP1T2YmW+u2y8DLo6I72fmfcNsc6BHqf546D/XuUHdB7BrZv4H8B8RsQHVHwAfiohjgDcCd0XEvlQzwndSheD/UgXhLzLzLmB2RDwDaDz86eFQjTmvDpUq9zYs3x0R29bLu1CHCHBC/XVIRLxgkG3sABARm1IdFv1Dw7rbgJn1+u2ApXX/Sgb8O8zMBZk5u/5qDMC1UofJ4cD5EbE+1Wz383W4UH9fD1Ad9l1bPwP+saG9N3BTvfypiNijruHhej+PA/sAN2Xmrpm5V2a+HNi0/lmfDiyIiM0atrkrq2aXUlM4E1TJ+g+HrqA6d3ZkZj4aEYcCp9UXdSwH3lIfRnwxcARwA3BuRMyqz2f1mxoRVwEbAe/IzBXVBBOAo4GFEXE01XnBt9T911Md5ttzFLOxYWXmlRFxJfDRzHxvRGwD/DgiHqYK3/dm5gOj2PQxwBkR8S9UP6M7qc7rAfwTcEpEfBx4gupK1X8BzgW+OGA7XwTemZlvi4j3AudExCTgmVTnFl/VMHbg4dCvZebnR1G79JSevj7/0JKervrCmK37r8qUND44E5Q0qHr2e+Qgq07OzIsG6ZfGHWeCkqRieWGMJKlYXXM4NCLWBXYE7mF0V7tJkrrPRKp7Zm/KzMcHruyaEKQKwOvaXYQkqSPNBH4wsLObQvAegHPPPZepU6e2uxZJUgdYunQp8+bNgzojBuqmEFwBMHXqVLbYYot21yJJ6iyDnibzwhhJUrEMQUlSsQxBqQstW7aMd73rXSxbtqzdpUgdrWPPCUbEzVQP9wW4C/gC1duqlwOXZ+ZH21Wb1OnOOeccfvnLX7Jo0SLe8573tLscqWN15Eyw/yn3DU/SfxPVU+YPpHrFzIyI2L6dNUqdatmyZVx66aX09fVx6aWXOhuU1qAjQxB4KbB+RFweEd+LiFnAupl5Z2b2AZcBu7e3RKkznXPOOaxcuRKAFStWsGjRojZXJHWuTg3BR6hexDmX6vUsX6r7+j1E9boaSQNceeWVLF++HIDly5dzxRVXtLkiqXN1agjeAfxnZvZlZv+LP6c0rJ8M3N+WyqQON2fOHHp7q9P9vb297LHHHm2uSOpcnRqCbwY+DRARmwPrA3+OiBfWLzqdi49IkwZ18MEHM2FC9U974sSJHHTQQW2uSOpcnRqCZwJ/FRE/AL5GFYpvpXoz9Y3AzZn54zbWJ3WsjTfemL322ouenh722msvNt5443aXJHWsjrxFIjOfoLoSdKCdWl2LNB4dfPDBLFmyxFmgNIyODEFJT8/GG2/MKaec0u4ypI7XqYdDJUlqOkNQklQsQ1DqQj47VBoZQ1DqQo3PDpU0NENQ6jI+O1QaOUNQ6jI+O1QaOUNQ6jI+O1QaOUNQ6jI+O1QaOUNQ6jI+O1QaOUNQ6jI+O1QaOUNQ6kKzZs2ip6eHWbNmtbsUqaMZglIXOu2001i5ciWnnnpqu0uROpohKHWZxYsXs2TJEgCWLFnC4sWL21uQ1MEMQanLHH/88WtsS1rFEJS6TP8scKi2pFUMQanLTJs2bY1tSasYglKXWbBgwRrbklYxBCVJxTIEpS7jhTHSyBmCUpfxwhhp5AxBqct4YYw0coag1GW8MEYaOUNQ6jLTp09/avY3bdo0pk+f3t6CpA5mCEpdaMGCBTzzmc90FigNo7fdBUgae9OnT+e73/1uu8uQOp4zQUlSsQxBSVKxDEFJUrEMQUlSsQxBSVKxDEFJUrEMQakLnXvuucyePZuvfvWr7S5F6mgdfZ9gRDwH+CmwB7AcOBvoA24FDs/Mle2rTupcCxcuBOD000/ngAMOaHM1Uufq2JlgREwCvgA8WnedBCzIzJlAD7Bfu2qTOtm55567WtvZoDS0jg1B4ETgdODuur0DcE29fAkwpx1FSZ2ufxbY7/TTT29TJVLn68gQjIhDgP/LzMsaunsys69efgjYqOWFSZK6SqeeE3wz0BcRc4DtgEXAcxrWTwbub0dhkqTu0ZEzwcyclZm7ZOZs4BbgIOCSiJhdD9kbuK5N5Ukdbd68eau1DzrooDZVInW+Tp0JDuYoYGFErAPcBlzQ5nqkjvTQQw+t1n7ggQfaVInU+To+BOvZYL9d2lWHNF5ceeWVq7WvuOIK3vOe97SpGqmzdeThUEmjN2fO6hdO77HHHm2qROp8hqDUZWbNmrXGtqRVDEGpy5x22mmrtU899dQ2VSJ1PkNQ6jJLlixZY1vSKoag1GWmTZu2xrakVQxBqcssWLBgjW1JqxiCUpeZPn36U7O/adOmMX369PYWJHUwQ1DqQv1PiTn44IPbXInU2QxBqQstWrQIgHPOOafNlUidzRCUuszixYufuiJ0yZIlLF68uL0FSR3MEJS6zPHHH7/GtqRVDEGpy3ifoDRyTQ/BiPjbIfr3a/a+pRJ5n6A0cq2YCX66fyEirmjon9+CfUvF2X777Vdr77jjjm2qROp8rQjBnobl3iH6JY2Rb3zjG6u1zz///DZVInW+VoRg3wiWJUlquVa8VHdCREyiCtzVlluwb0mShtSKIHo+kMBt9fIdwO3Ali3Yt1ScQw89dLX2YYcd1qZKpM7X9JlgZm7V7H1IWmXGjBksXLjwqfbLXvayNlYjdbZW3CLRGxFvqZfPi4jvRcRVEbFFs/ctlcib5aWRa8Xh0BOAl9TLWwL/ApwPfKQF+5aK483y0si14sKYl2bmbvXyk5mZQEbETS3Yt1ScadOmrRZ83iwvDa0VM8GJDcvvb1h+sAX7lorzzne+c7X2EUcc0aZKpM7XkpvlI2IyQGb+CCAiNsSb5aWmuPbaa9fYlrRKK0Lwc8A3IuKlEbFBRPwN8HXgtBbsWyrOlVdeuVr7iiuuGGKkpKaHYGZ+FfgM8HHgJuBE4LOZ+Y01flDSqMyZM2e19h577NGmSqTO15KntmTmxZm5T2Zuk5lzgesj4n2t2LdUmu22226NbUmrtPTRZRGxY0ScA9wKeJ+g1AQnnXTSau1Pf/rTQ4yU1PRbJCJiHeANwOHA48CGwAsy89Fm71sq0cMPP7zGtqRVWjETXAJsC8zLzJnA3Qag1DwbbLDBGtuSVmlFCJ4MzAE+ERF7460RUlPtt99+q7X333//NlUidb5WXB36ycx8KXAKcCCwY0R8MiL+utn7lkr0ta99bbX2eeed16ZKpM7XsgtjMvOazPxn4IXA/wJfbtW+pZIsX758jW1Jq7Ti2aFExEsz8+f1C3XnAY8BQ77fJSImAguBAFYAb6I6jHo21RvpbwUOz8yVTS5dGnd6e3tXC77e3pb8M5fGpVa8SulI4IyI6KW6UX4P4G+Ak9bwsX0BMvMVwIfrsScBC+qLa3qA/Yb+uFSul7zkJau1t9122zZVInW+VhwO3RvYGVhJdU7wTZk5H9hxqA9k5n8Bb6ubzwfuBXYArqn7LqG62EbSAL/4xS9Wa//sZz9rUyVS52tFCK7MzBXAdsCvM/NPdf8arxLNzOX1jfWnAhcAPZnZV69+CNioWQVLksrQkgtjIuLFVOf1vlW3/x/Vub41ysyDgRdTnR9cr2HVZOD+sa9UklSSVoTgh6iuBH0OcHJE7AJcChw91Aci4p8jov/dg49QHUr9SUTMrvv2Bq5rWsXSODbwHOD222/fpkqkztf0y8Yy80ZgRn87Im6gemzak2v42DeAL0XEtcAk4N3AbcDC+jFst1EdIpU0wK9+9avV2gPPEUpapRXPDv0S1W0N1P99FLgpIr481C0Omfln4PWDrNqlOVVK3cP7BKWRa8UNRF8d0N4A2Av4W6oZnqQx5H2C0si14nDoZYN0XxgRP2r2vqUSzZw5k+9///tPtXfdddc2ViN1tpa+T3AAn/YiNUFjAAJcccUVbapE6nxtCcGI2JXq3YKSJLVNKy6MuYdVF8ZANQO8i1VPhJEkqS1acU5wszWtj4gZmfnjZtchlWL69OksXrz4qfbWW2/dxmqkztbOc4L9Pt7uAqRu0hiAALfffnubKpE6XyeEoG+alyS1RSeEYN/wQyRJGnudEIKSxtDGG2+8Wvs5z3lOmyqROl8nhKCHQ6UxtGzZstXaf/jDH9pUidT5WvFm+b2HGXJes2uQJGkwrZgJvndNKzNzYQtqkCTpL7TiyboTImISgxz2zMwnWrB/qSg777wz119//VPtWbNmtbEaqbO1YiY4A8j66/b6q39Z0hj793//99Xaxx13XJsqkTpfK2aCP8pMH2OvUbnsssu4+OKL213GuLPuuuvy+OOPM3nyZObPn9/ucsaVffbZh7lz57a7DLWILxqTulBvby+9vb284AUvaHcpUkdrRQge0YJ9qEvNnTvXv8pHoX/2d/LJJ7e5EqmztSIE/xwRFwGvA3YGvg48DPxzZt7Qgv1LkjSoVlwY8x/AlzJzOfBp4J+BXfDB2ZKkNmvFTHDdzPxWRGwMPC8zrwCIiE54Wo0kqWCtCKL++wN3B74HTwXgRi3YtyRJQ2rFTPDWiPgKsANwaERsRnUo9Hst2LckSUNqxUzwaGARsH9mXgM8G/g5cFQL9i1J0pCaHoKZ2QfcBNxVt39JdbHM25u9b0mS1qTph0Mj4gPAm4HeiHgL8D/A14AHgM83e/+SJA2lFecE/wl4CdVh0K8CmwKfzMyzWrBvSZKG1IoQvK9+W8TdEfFc4HWZ+bMW7FeSpDVqxYUxfQ3LvzUAJUmdohUzwedGxNuo7hfcvF4GIDPPaMH+JUkaVCtC8Dxgs0GWJUlqq6aHYGZ+tNn7kCRpNFpxi8Q9rH5eEKpDo32ZuXmz9y9J0lBacTj0c5n5MYCI2Dwz7x7uAxExCTgLmAasCxwP/Ao4mypQbwUOz8yVTapZklSAVlwdumvD8n+O8DNvBJZl5kxgb+A04CRgQd3XA+w3plVKkorTyrdIDFxek/OBDzW0l1M9gPuaun0JMOfplyZJKlkrDof2DbE8pMx8GCAiJgMXAAuAE+vnkAI8hK9ikiQ9Ta0IwR0i4nqqWeBLGpb7MnPnoT4UEc8DLqI6p3heRHyqYfVk4P5mFi1J6n6tCMFt1/YDEbEpcDnwzsy8qu6+OSJmZ+bVVOcJvz92JUqSStSK+wR/M4qPfQB4FvChiOg/NzgfOCUi1gFuozpMOi6ceuqpLF68uN1lqCD9/3+bP39+mytRKaZPn84RRxzR7jLWWitmgmstM+dThd5Au7S6lrGwePFibrn1NlasP6XdpagQPSuqf9o//fW9ba5EJZj4yH3tLmHUOjIEu9GK9afw6Nb7tLsMSRpz691+cbtLGLVW3CIhSVJHMgQlScUyBCVJxTIEJUnFMgQlScXy6tAWuO+++5j4yLJxfQWVJA1l4iPLuO++Se0uY1ScCUqSiuVMsAWmTJnCXfc/6X2CkrrSerdfzJQp4/NhIM4EJUnFMgQlScUyBCVJxTIEJUnFMgQlScUyBCVJxfIWiRaZ+Mh93iyvlul58lEA+iat1+ZKVILqfYKbtruMUTEEW2D69OntLkGF6X+z/PQXjM9fTBpvNh23v+cMwRY44ogj2l2CCjN//nwATj755DZXInU2zwlKkoplCEqSimUISpKKZQhKkoplCEqSimUISpKKZQhKkoplCEqSimUISpKKZQhKkoplCEqSimUISpKKZQhKkoplCEqSimUISpKK1dHvE4yIGcAnM3N2REwHzgb6gFuBwzNzZTvrkySNbx07E4yIY4AvAs+ou04CFmTmTKAH2K9dtUmSukPHhiBwJ7B/Q3sH4Jp6+RJgTssrkiR1lY4Nwcy8EHiyoasnM/vq5YeAjVpflSSpm3RsCA6i8fzfZOD+dhUiSeoO4ykEb46I2fXy3sB1baxFktQFOvrq0AGOAhZGxDrAbcAFba5HLXDZZZdx8cUXt7uMcWfx4sUAzJ8/v82VjD/77LMPc+fObXcZapGODsHMXALsVC/fAezS1oKkcWLy5Mnce++9PProo6y33nrtLkfqWB0dgtLcuXP9q3wUDjnkEPr6+njiiSc444wz2l2O1LHG0zlBSSOwePFilixZAsCSJUueOjQq6S8ZglKXOf7449fYlrSKISh1mf5Z4FBtSasYglKXmTZt2hrbklYxBKUus2DBgjW2Ja1iCEpd5lnPetYa25JWMQSlLnPOOecwceJEACZOnMiiRYvaXJHUuQxBqctceeWVrFixAoAVK1ZwxRVXtLkiqXMZglKXmTNn9beM7bHHHm2qROp8hqDUZV74wheu1p4+fXqbKpE6nyEodZlTTz11tfbJJ5/cpkqkzmcISl1m+fLla2xLWsUQlLpMb2/vGtuSVjEEpS7zgQ98YLX2Bz/4wTZVInU+Q1DqMrvttttTs7/e3l523XXXNlckdS5DUOpC/bNBZ4HSmv1/9u48XI6yzPv4N4SwBySABAQJGrxBHQQZFEcCMQhhU0bcEATDKg4gvtFBYRBRQWBEFNARCEuUQVFwXNhR9igiw/I6vMLNBImKEATCEkiALOf9o+pA054+OQmp7k7X93Nduaiqp7qeu48mv/PU9nixQOpBEyZMYMKECZ0uQ+p6jgQlSbVlCEqSaquXTocOB5g5c2an65AkdYmGTBg+UHsvheB6APvss0+n65AkdZ/1gAeaN/ZSCN4OjAMeARZ0uBZJUncYThGAtw/UOKyvr6+95UiS1CW8MUaSVFuGoCSptgxBSVJtGYKSpNoyBCVJtWUISpJqq5eeE5S6WkRMAg4E/lRu+g0wC5gJnAzcTfGL6TrAQcAw4JvA88BI4DsUzzwdBGwOPAw8DnwmMx9v6msq8IXMnFmuX52ZO0fEAcD2wIvAPODwzFwYEZsBNwP/mJl/Kj/zMeD9wBxgVeBbmfnbiHgYuL6huyMy88ml8TOS2s0QlNrrO5l5MbwUiv1+lpknl9uPAt4NzAVmAMcBKwDvz8xLgBsj4njg6sz87WL2vyewf2Y+FhETgbWAx4DPAEcBnwOOiIhNgN0z82NlTSsC/RMT/j4zP76Y/UpdyRCU2utTEbFzufxrilEewIcj4i0UI7yrKQLuxYhYnWI0uDJwyWL00+otGIcAh0fEKOA54JaIWAuIzPxkRBwaEesAWwHXAUTER4FdgNXL2v6hHGkCzMrMyYtRl9RVDEGpvb7bYiR4SWaeHBG7AAcA8yNiX+C+zPxMRCwPXAP8aoj9PAFsCMwsR3HLR8QKwOTM/FzZ/0EUI8ONgGERcRbFadJPAxcBX46I72XmjyLiEuCX5bH/JzMnIfUAQ1DqIpl5VUS8FfgCMBU4IyKepzgd+p+LcajvAt+OiKeB1YBTy5Hl9Ij4OfA0xfXHzwKXA+My8/mIWBn4LfDvwM+An0bEcxQj0fPKY28eEY21fCUz71/Cryx1lO8OlSTVliNBaRkXEYcDr2nY9HBmnt+peqRliSNBSVJt+bC8JKm2DEFJUm0ZgpKk2jIEJUm1ZQhKkmrLEJQk1ZYhKEmqLUNQklRbhqAkqbYMQUlSbfnuUPW0iBgP/Bj4A8VM7SOAAzLzvqXczwxg08x8vkX7B4DbMvPhIRxrDPB74M6mph2ALwJ7U8wqP5xi4t3PZ+Zd5dRMm2bmFxqOdTFwVmbeWM5X+O/AKhQzS1wJHJ+ZfeW+HwXOBzbprzMiriv72RT4GzCLYkqlXwOHZuZeETEM+FRZ1/yy61My86ryGH3AP2fmz8v1nYG9Wk3HVH7/izNzm3J9W+AC4IPA2/u/Y/kz/zOwEFgJuAP4bKv/DaSBOBJUHVyfmeMzc3vgeODUDtRwJMWktEP1h7Lmxj8LyrbTyvVxFHP//TAiVhrsYBHxGuBi4DOZ+R5gG+AfgE827HYQcCbFxLsAZOYOmTmeYjLdo8p+T2w6/CHAu4H3lvt+EDg+IrYp2+cAp0XE2ovx/fvrHg+cA+yWmb8fYJedypq2ofjFoLk2aVCOBFU3awIzACJiS4p/9BdQzPB+MLA28H3gncBHgF0y8yP9Hy5HW3tQBNraFHPp/aShfQzFvHsjKGZ3/zSwAbAF8P2I2DYzX1xaXyYz74uIO4FtF7HrHhS/DPxv+bkFEbEfxSS6RMTGwCjgJODOiDgxM+cNsYwjgPf0j8Ay84mIOJ5idPhbYDbwDeAs4END/W4R8V7gDGDnzPzzED5yGnAvxRyJ0pAYgqqDCRFxI7AisDmwW7l9CnBQZt4dEXtQjLA+FBHnAd8DNgbGD3C81YAdgXWA35WT1PY7FTgjM38eEVsA52XmP0bE3RSnD4cagG8ua+53R2a2+sf9UYpAbqUPWB/4Y+PGzHy2YfVA4PzMfDoibqWYcf5HQ6x17cx8rGnbHylmrO/3XeCfI2JvilOqi/JGilHdShQT+i5SZs5d1IhYamYIqg6uz8y9ACIigFsj4nXA+pl5d7nPzcDJ5fJZwHHAVzNz9gDHuykzFwKPRsSTFGHYb7PyWJThumGroiLiBF4ewe3QcLoTytOhQ/x+GwE/AV5HEfSNVqO4bvgniutpjf1vDGxIcX3v48CDEfE+ihHh4Qw9BJ+JiFGZ2Rhum1BcrwMgM/si4gCKn80JQzjmXGAX4J+AH0fENpk5d7APRMTqFKNOaci8Jqi6ebRh+eGI2Lxc3h64v1z+evlnUkS8YYBjbAUQEetSnBb9W0PbvcC4sn0LYGa5fSFNf98y89gBrvctloh4K/BmitOOdwM7RsRqZdso4K0UNwVdDuwcEW8s20ZQnD58K7ArcHtmviczd87MdwDrNvxsFuVM4IyIWLE89muBL1H8MtH4fR+iuCZ7cvMBBvBwZs7KzMuBW4BvD+EzRzH04JYAR4Kqh/7ToQuAkcDk8tTZwcC3y7sb5wMHRsT7gTdRXOe6FbgoIrZruj42urxrcg3gX8rra/1tnwOmRMTnKK4LHlhu/w3FNcGdmkZMrTSfDgXYv/zv5IjYq/w+84APZeZ8ICPiOxgjnmYAACAASURBVMC0iJhd9v/p/tOeEfGJsrblyp/DZRSnKX8OnNvU17kUo8FDWITMPDMihgM3R8Q8itOvX83M3wyw7/fLO2UXx+eA28v6m10bEQso7mC9u9xXGjJnlpcWw0CPIUhadjkSlNQREXEcMGGApv0z88F216N6ciQoSaotb4yRJNVWz5wOLe9M2xp4hOKGAUmShgPrUdwB/UJzY8+EIEUA3tLpIiRJXWkcMK15Yy+F4CMAF110EaNHj+50LZKkLjBz5kz22WcfKDOiWS+F4AKA0aNHs8EGG3S6FklSdxnwMpk3xkiSassQlCTVliEoSaotQ1DqQddffz3jx4/nhhtu6HQpUlczBKUe9LWvfQ2AE090onVpMIag1GOuv/565s+fD8D8+fMdDUqDMASlHtM/CuznaFBqzRCUekz/KLDVuqSXGYJSj1l++eUHXZf0MkNQ6jHHHHPMK9b/7d/+rUOVSN3PEJR6zIQJE14a/S2//PK85z3v6XBFUvcyBKUe1D8adBQoDc6LBVIPmjBhAhMmTOh0GVLXcyQoSaotQ1CSVFuGoCSptgxBSVJtGYKSpNoyBCVJtWUISpJqyxCUJNWWIShJqi1DUJJUW1372rSIOBp4P7AC8B/ATcBUoA+4BzgsMxd2rEBJ0jKvK0eCETEe+Cfg3cD2wIbAacCxmTkOGAbs0bECJUk9oStDEJgI/A/wU+Ay4HJgK4rRIMBVwHs7U5okqVd06+nQtYGNgN2BjYFfAMtlZl/ZPhtYo0O1SZJ6RLeG4BPAfZn5IpAR8TzFKdF+I4GnOlKZJKlndOvp0GnAzhExLCLWB1YFriuvFQLsAtzSqeIkSb2hK0eCmXl5RGwH/I4iqA8DHgSmRMQKwL3ApR0sUZLUA7oyBAEy86gBNm/f9kIkST2rW0+HSpJUOUNQklRbhqAkqbYMQUlSbRmCkqTaMgQlSbVlCEqSassQlCTVliEoSaotQ1CSVFuGoCSptgxBSVJtGYKSpNoyBCVJtWUISpJqyxCUJNWWIShJqi1DUJJUW4agJKm2DEFJUm0ZgpKk2jIEJUm1ZQhKkmpr+U4X0EpE3AU8Xa4+CJwNnA7MB67NzC93qjZJUm/oyhCMiJUAMnN8w7a7gQ8CfwSuiIi3Z+adnalQktQLujIEgbcBq0TEtRQ1Hg+smJkPAETENcAOgCEoSVpi3RqCc4BTgXOBTYCrgKca2mcDb+hAXZKkHtKtIXg/MD0z+4D7I+JpYFRD+0heGYqSJC22br079ADgGwARsT6wCvBcRLwxIoYBE4FbOlifJKkHtGUkGBGHAx8F1gIeAi7OzPMH+ch5wNSImAb0UYTiQuAiYDjF3aG3VVu1JKnXVR6CEXE8MJoiyB4FNgI+FxHrZ+YJA30mM18E9h6gaZuq6pQk1U87RoITM/NdDev/ExH7AzcAA4agJEnt0I5rgs83b8jMhRQPvUuS1DHtCMG+FtuHtaFvSZJaasfp0G0j4mFeDr2+cnnNNvQtSVJLlYdgZq5QdR+SJC2Jdtwdekirtsw8p+r+JUlqpR2nQ9drsb3VtUJJktqiHSF4XmY+1LwxIrZvQ9+SJLXUjrtDr4yItRs3RMSxwIVt6FuSpJbaMRL8CnBVROwAjKB49dkLwNvb0LckSS214+7QSyNieeCXFI9FnJ6Z36m6X0mSFqUts0hk5sXAmcAjwJR29ClJ0qK04xGJH/LyA/JvBKZFxHSAzBzoJdmSJLVFO64JntViGYCIWDEzX2hDHZIkvUI7rgnetIhdrgImVF2HJEnNumFmeV+kLUnqiG4IQd8cI0nqiG4IQUmSOqIbQtDToZKkjuiGEPxDpwuQJNVTO54TPK5VW2Z+JTMPq7oGSZIG0o6R4KNNf54FDgN2a0PfkiS11I7nBM/uX46IbSlem/Zt4GtV9y1J0mDa8cYYImIERei9F9g7M+9qR7+SJA2mHdcEtwQuAK4G3pGZ8xbjs68F7gB2BOYDUymeK7wHOCwzFy71giVJtdGOa4K3ARsA2wM3RcRvIuLWiPjNYB8qR49nA3PLTacBx2bmOIrHKvaosGZJUg2043ToJkv4uVMpXrh9dLm+FdD/HtKrgJ2An7660iRJdVb5SDAz/1QuTgK+BOwPDGvY/nciYhLwWGZe07B5WGb2v2JtNrDG0q9WklQnlYdgRLwDuByYCVwMPAZcHhHvHORjBwA7RsSNwBbA94HXNrSPBJ6qpGBJUm2043ToV4HdMvPP5fq1EXEVxfW+HQf6QGZu179cBuGhwNcjYnxm3gjsAtxQZdGSpN7XjhtjVmgIQAAy84/Aiot5nM8CX46IW4EVgEuXUn2SpJpqx0hwePOGiBjGEEMwM8c3rG6/lGqSJKktI8FfRsTJEbEcQPnfrwHXtqFvSZJaakcInkTxgPuMiLgLeJBiBHp8G/qWJKmldrw7dD7Fs35HR8Q6wFOL89YYSZKq0o7XpvWPBBu3AZCZx1TdvyRJrbTjxpj72tCHJEmLrR0huFxmXtCGfiRJWiztuDFm3zb0IUnSYmvHSHCViNiEYuaHV8jM+9vQvyRJA2pHCAbFK9KaQ7APmNCG/iVJGlA7QvDuzDTsJEldpx3XBCVJ6krtCMEPN2+IiLUi4gtt6FuSpJba8caYx/uXI2Jr4HBgIs4CIUnqsHa8MWYF4GPAYcALwOrAxpk5t+q+JUkaTDtOh84ANgf2ycxxwMMGoCSpG7Tj7tDTgb2BMRFxLgM8LyhJUidUPhLMzFMy823AGRRhuHVEnBIRb626b0mSBtO2RyQy86bM3Bd4I/AX4MJ29S1J0kDaEoIRsVNE9J8GfT0wPTO3bEffkiS1UnkIRsSnKGaRX61h85ci4pCq+5YkaTDtGAlOAiZk5myAzPw9sCNwcBv6liSppXaE4JzMfL5xQ2Y+C8xuQ9+SJLXUjhCcFxFrN24o19vxeIYkSS21I4i+AlwbEd8D/khxY8yBwFFt6FuSpJba8e7QaRHxQYoZ5ncD/gR8IDP/1OozETEcmEIxF+ECYH+Kh+ynUsxDeA9wWGYurLZ6SVIva8fdoa+nCLKpwInAlMECsPQ+gMx8N3AccFr559jy1WvDgD2qqlmSVA/tOB36I4rRW7+R5Uu198vM2wb6QGb+LCIuL1c3Ah6lGEXeVG67CtgJ+Gk1JUuS6qAdp0Pf1bwtIt4IXABsN8jn5pfXET8AfAjYPTP7w3Q2sEYF5UqSaqQjM8tn5gO8cnTYar9PAG+iuD64ckPTSOCpaqqTJNVFR0KwvPGl5UguIvaNiKPL1TnAQuC/I2J8uW0X4JZKi5Qk9bx2TKrb/Hq0FYH3M/j1vP8CLoiIm4ERwGeAe4Ep5fXEe3FmeknSq9SOG2PWa1qfC5ySmb9q9YHMfA74yABN2y/NwiRJ9daOG2O+DBARbwDWBh7KzIer7leSpEVpx+nQMcCPgReBvwEbRcRzwEcz85Gq+5ckqZV2nA49DZicmdP6N0TEjsB3gD3b0L8kSQNqx92h6zQGIEBm/hJYvQ19S5LUUltmkehg35IktdSO06FrRcROTduGAaPa0LckSS21IwTvBD5WLvdRBCAUz/pJktQx7QjBVTLzowAR8dnM/Ea5fH0b+pYkqaW23BjTsLxbG/qTJGlI2hGCw1osS5LUUe0Iwb4Wy5IkdVQ7rgm+JSJ+QDEKbFx+cxv6liSppXaEYOOLsM9qsSxJUtu14wXaN1XdhyRJS8K3tkiSassQlCTVliEoSaotQ1CSVFuGoCSptgxBSVJtGYKSpNoyBCVJtWUISpJqyxCUJNVWO94dutgiYgRwPjAGWBE4AfgDMJViJop7gMMyc2GHSpQk9YBuHQl+HHgiM8cBuwDfBk4Dji23DQP26GB9kqQe0K0heAnwxYb1+cBWQP/LuK8C3tvuoiRJvaUrT4dm5rMAETESuBQ4Fjg1M/sn5Z0NrNGh8iRJPaJbR4JExIbADcCFmfkDoPH630jgqY4UJknqGV0ZghGxLnAt8PnMPL/cfFdEjC+XdwFu6URtkqTe0ZWnQ4FjgDWBL0ZE/7XBI4EzImIF4F6K06SSJC2xrgzBzDySIvSabd/uWiRJvasrT4dKktQOhqAkqbYMQUlSbRmCkqTaMgQlSbVlCEqSassQlCTVliEoSaotQ1CSVFtd+cYYqd8111zDlVde2ekyljlPPvkkAGuuuWaHK1n27LrrrkycOLHTZahNDEGpBz3xxBOAISgtiiGorjZx4kR/K18CRx5ZvHr39NNP73AlUnczBNvgzDPPZPr06Z0uQzXS//+3/jCUqjZ27FiOOOKITpex2AzBNpg+fTp333MvC1YZ1elSVBPDFhR/te/446MdrkR1MHzOrE6XsMQMwTZZsMoo5m66a6fLkKSlbuX7lt2b13xEQpJUW44E22DWrFkMn/PEMv3bkiS1MnzOE8yaNaLTZSwRR4KSpNpyJNgGo0aN4sGn5nlNUFJPWvm+Kxk1atm88c8QbJPhc2Z5OlRtM2zeXAD6Rqzc4UpUB8Xdoet2uowlYgi2wdixYztdgmqm/znBsW9YNv9h0rJm3WX23zlDsA2WxQdItWzzjTHS0HhjjCSptrp6JBgR7wROyczxETEWmAr0AfcAh2Xmwk7WJ0latnXtSDAijgLOBVYqN50GHJuZ44BhwB6dqk2S1Bu6NgSBB4A9G9a3Am4ql68C3tv2iiRJPaVrQzAzfwLMa9g0LDP7yuXZwBrtr0qS1Eu6NgQH0Hj9byTwVKcKkST1hq6+MabJXRExPjNvBHYBbuhwPWqDa665hiuv9CUDi8v5BJfcrrvu6kTONbIsheBngSkRsQJwL3Bph+uRutZaa63V6RKkZUJXh2BmzgC2KZfvB7bvaEFqu4kTJ/pbuaTKLEvXBCVJWqoMQUlSbRmCkqTaMgQlSbVlCEqSassQlCTVVlc/IrGYhgPMnDmz03VIkrpEQyYMH6i9l0JwPYB99tmn03VIkrrPehQTM7xCL4Xg7cA44BFgQYdrkSR1h+EUAXj7QI3D+vr6BtouSVLP88YYSVJtGYKSpNoyBCVJtWUISpJqyxCUJNWWIShJqq1eek5Q6ioRMQk4EPhTueke4ADgdxS/gM4CjgT2BZ7PzIvLz50FnAy8AHwNWEjxnNOFmfnDcp+TgDdl5gfL9TOAUcAE4HrgZmB94GrgNuB4YCNgBWAO8K/AGhTPTr09M/8SEXsBK2Xm1AG+y9WZuXNErAucC5wAbAY8D8wEvgn8P4p/U+7PzONe1Q9PahNHglK1vpOZH8/MjwMXA9eX63tThOEnBvnst4CTMvNAYHdgHYCIWAXYEng0IrYCyMxPl338vjz+OQ3H2Q/4a2ZOKvudCpxatt0NTImIEYv6IhGxKXAOcFhm3tbU/KOy372A+RExYVHHk7qBIShV61MRMTUipgJ7NrXdDrwFGOiNFX3A2pl5P0BmLszMM8q2ScAvgPOALwyhhncA1/WvZOY0YEy5+gBwNvD1RRxjXeBEYB7w0CL27f9eUtczBKVqfbccgU0C/qup7d0UpxCfADZs2P564EngbxGxGUBELBcR3y1HbIcC7wQOBsZFxCaLqOEuYIf+lYjYkoZ3KGbmTynC7UODHONp4MPAVbw8imyl/3tJXc9rglK1DouI3cvllYDNI+I/Kd5n+AxwBDAM2DsiLim335KZz0TEvwLfjIjngVWBHwMTgV9l5mSAiLgMOIoiEFs5HzgxIi6iCLuFwGTgNQ37HE1xLbGV5zNzIXBeRJwZEZ+kuGbZ76MR8VZgBPBgZg52LKlr+O5QSVJtORKU9JKIWINidNro1sy8bqD9pWWdI0FJUm15Y4wkqbYMQUlSbRmCkqTaMgQlSbVlCEqSassQlCTVliEoSaotQ1CSVFuGoCSptgxBSVJtGYKSpNryBdpapkXEeIophv5AMSXRCOCAzLxvKfczA9g0M59v0f4B4LbMfHgIxxoD/B64s6lpB+CLwN7AwxTTKs0FPp+Zd0XEpLKGLzQc62LgrMy8MSLeAvw7sAqwGnAlcHxm9pX7fpRiWqVN+uuMiOvKfjYF/gbMAn4J/Bo4NDP3iohhwKfKuuaXXZ+SmVeVx+gD/jkzf16u7wzsVc6hONjPYaB6jl+S71+uHlrObN/f9g/AmeXqNsDvKKaR+npmXjFYbaoPQ1C94Pr+f/wiYieKSV93H/wjS92RFJPdLjIES3/IzPHNGyMC4LTMPKtc3xT4WURsMdjBIuI1wMXAnpn5vxExHLgE+CQvh8RBFKFwCHA8QGbuUH5+KnBxZl5drjfWdgjFRLnvzcznI2It4MqIeDIzfwvMAU6LiF9n5uND/P4D1lNa7O8/kMz8H2B8eZwZwE6tfolRfRmC6jVrAjPgpRnUzwQWAM9TTDy7NvB9ipnZPwLskpkf6f9wOdrYA1i93PcrmfmThvYxwHkUI84+4NPABsAWwPcjYtvMfHFpfZnMvC8i7gS2XcSue1D8MvC/5ecWRMR+wItl3RsDo4CTgDsj4sTMnDfEMo4A3tMfIJn5RDli+xTwW2A28A2KsB1sdvqXDLWexfj+0hLxmqB6wYSIuDEibqU4vXZpuX0KcHhmbg/8B8UI406KEPsecDhw4ADHWw3YEdiJYoTT+MviqcAZmbkdxejvvPLU2t3AfosRgG8ua+7/841B9n2UIpBb6QPWB/7YuDEzn22o50Dg/Mx8GrgV2HOIdQKsnZmPNW37I7BRw/p3gdUjYu8hHnNx6hnK95eWiCNB9YLG06EB3BoRrwPWz8y7y31uBk4ul88CjgO+mpmzBzjeTZm5EHg0Ip4E1mlo26w8Fpl5d0Rs2KqoiDiBl0cwO2TmgobmAU+HtrAR8BPgdcCKTW2rUVw3+xPw9qb+NwY2pLi+93HgwYh4H8UI7HDgR0Ps/5mIGJWZsxq2bQL8uX8lM/si4gCKn80Jgx2sPFW7OPUM5fuvMsTvIr2CI0H1mkcblh+OiM3L5e2B+8vlr5d/JkXEGwY4xlYAEbEuxWnRvzW03QuMK9u3AGaW2xfS9PcpM4/NzPHln8YAHLKIeCvwZorTjncDO0bEamXbKOCtFDcFXQ7sHBFvLNtGAKeV7bsCt2fmezJz58x8B7Buw89mUc4EzoiIFctjvxb4Ei9fa+z/vg9RXNs7ufkATYZcz2J8f2mJOBJUL5gQETdSXPsbCUzOzLkRcTDw7fLuxvnAgRHxfuBNFNe5bgUuiojtmq5HjS7vmlwD+Jfy+lp/2+eAKRHxOYrrgv2nU39DcU1wp6YRUytvLmtutH/538kRsVf5feYBH8rM+UBGxHeAaRExu+z/05n5LEBEfKKsbbny53AZxWnKnwPnNvV1LsXo65BFFZqZZ5ajt5sjYh7F6cevZuZvBtj3++WdsoM5eJB6Hl6S71/+77NTRPx3wzH3zsz7kQYxrK/P0+lSv4Fuw5fUuxwJSqpERBwHTBigaf/MfLDd9UgDcSQoSaotb4yRJNVWz5wOLe9c2xp4hOKCuiRJw4H1KO5IfqG5sWdCkCIAb+l0EZKkrjQOmNa8sZdC8BGAiy66iNGjR3e6FklSF5g5cyb77LMPlBnRrJdCcAHA6NGj2WCDDTpdiySpuwx4mcwbYyRJtWUISpJqyxCUJNVW110TjIi7gKfL1Qczc/+GtoMpJgmdD5yQmZd3oERJUo/oqhCMiJUAWsy4PZpiAtN/BFaieInuLwd67kOSpKHoqhAE3gasEhHXUtR2TGb+tmx7B/DrMvReiIjpwObA7Z0pdejOPPNMpk+f3ukylkmzZs1i1qyhTMogLR2jRo1i1KhRnS5jmTN27FiOOOKITpex2LotBOdQzNx9LsWknVdFRJTTqKzOy6dJAWZTTHXT9aZPn87d99zLglX8i7W4hs2by3LzhjpZu/TqPfPYMzz41LxF76iXDJ+z7P6i2m0heD8wPTP7gPsj4gmK1938BXiGYo60fiOBp9pf4pJZsMoo5m66a6fLkKSlbuX7rux0CUus20LwAOAfgH+JiPUpRn/9T/n/DjixvG64IrAZcE9HqpQk9YRue0TiPOA1ETEN+BFFKH46It6fmTOBMyjeD3o98G+Z+XznSpUkLeu6aiSYmS8Cezdt/k1D+xRgSluLkiT1rG4bCUqS1DaGoCSptgxBSVJtGYKSpNoyBCVJtWUISpJqyxCUJNWWIShJqi1DUJJUW4agJKm2DEFJUm0ZgpKk2jIEJUm1ZQhKkmrLEJQk1VZXzScIEBGvBe4AdszM+xq2TwYOBB4rN30yM7MDJUqSekRXhWBEjADOBuYO0Px2YL/MvKO9VUmSelW3nQ49FTgLeHiAtq2AoyNiWkQc3d6yJEm9qGtCMCImAY9l5jUtdrkYOBSYAGwbEbu3qzZJUm/qmhAEDgB2jIgbgS2A70fEaICIGAZ8KzMfz8wXgSuALTtWqSSpJ3TNNcHM3K5/uQzCQzNzZrlpdeCeiNgMeI5iNHh+24uUJPWUrgnBgUTE3sBqmXlORBwD3AC8AFyXmVd2tjpJ0rKuK0MwM8eXi/c1bLsQuLAjBUmSelI3XROUJKmtDEFJUm0ZgpKk2jIEJUm1ZQhKkmrLEJQk1ZYhKEmqLUNQklRbhqAkqbYMQUlSbRmCkqTaMgQlSbVlCEqSassQlCTVliEoSaqtrptPMCJeC9wB7JiZ9zVsfx9wHDAfOD8zp3SoRElSj+iqEIyIEcDZwNwBtn8T2Bp4Dvh1RFyWmTPbX+XimzVrFsPnPMHK913Z6VIkaakbPucJZs0a0ekylkhlp0MjYssl+NipwFnAw03bNwOmZ+aTmfkiMA0Y9ypLlCTVXJUjwW8AE4a6c0RMAh7LzGsi4uim5tWBpxvWZwNrvOoK22TUqFE8+NQ85m66a6dLkaSlbuX7rmTUqFGdLmOJdNONMQcAO0bEjcAWwPcjYnTZ9gwwsmHfkcBT7S1PktRrqhwJvjsimk9rDgP6MnP95p0zc7v+5TIID2245ncvsElEjAKeBbajOHUqSdISqzIEf5OZ73k1B4iIvYHVMvOciJgMXEMxej0/M/+6NIqUJNVXV90d2i8zx5eL9zVsuwy4rCMFSZJ6UpXXBE8caGNErFJhn5IkDVllIZiZv2rRdGNVfUqStDg6cXfosA70KUnS3+lECPZ1oE9Jkv5OZTfGRMRJ/H3gDQNeV1WfkiQtjirvDr2vxfZjKuxTkqQhqzIEb2hY7gPmZubjFfYnSdJiqTIEf0QRfv03wqwWESsA+2bm7yrsV5KkIaksBDPzXc3bIuKNwAUUrz2TJKmj2np3aGY+gHeHSpK6RFtDMCKGswxNgSRJ6m1VPiJxSNOmFYH3Az+tqk9JkhZHlTfGrNe0Phc4ZZDXqUmS1FZV3hjzZYCIeAOwNvBQZjbPLyhJUsdUeTp0DPBj4EXgb8BGEfEc8NHMfGSA/YcDU4AAFgD7lzfS9LdPBg4EHis3fTIzs6r6JUm9r8rToacBkzNzWv+GiNgR+A6w5wD7vw8gM98dEePLz+/R0P52YL/MvKOyiiVJtVLl3aHrNAYgQGb+Elh9oJ0z82dA/800GwGPNu2yFXB0REyLiKOXdrGSpPqpMgTnLW6fmTk/Ir4HnAlc2tR8MXAoMAHYNiJ2XypVSpJqq8rToWtFxE5N24YBowb7UGZ+IiI+D9wWEW/OzOciYhjwrcx8GiAirgC2BC6vonBJUj1UGYJ3Ah9rsf3vRMS+wAaZeRIwB1hIcYMMFKdQ74mIzYDnKEaD5y/1iiVJtVLlIxL7N2+LiLWBg1p85L+ACyLiZmAE8Blgz4hYLTPPiYhjKGameAG4LjOvrKh0SVJNVDkSfElEbA0cDuwE/GSgfTLzOeAjrY6RmRcCF1ZSoCSplqp8TnAFitOhh1GM3lYH3pCZc6vqU5KkxVHl3aEzgM2BfTJzHPCwAShJ6iZVng49HdgbGBMR5/Ly5LqSJHWFykaCmXlKZr4NOIMiDLeOiFMi4q1V9SlJ0uKofD7BzLwpM/cF3gg8RHlzS0SsWHXfkiQNpi13hwJk5lMUb4I5s9x0FcXzfpIkdURbZ5Zv4jVCSVJHdTIE+zrYtyRJHQ1BSZI6ytOhkqTa6mQI/qGDfUuSVOlr045r1ZaZX8nMw6rqW5KkoahyJPho059nKd4juluFfUqSNGRVTqV0dv9yRGwLTAG+DXytqj4lSVoclT4sHxEjKELvvcDemXlXlf1JkrQ4qrwmuCVwAXA18I7MnLeI/YdTjBaDYkb5/TPzgYb29wHHAfOB8zNzSlW1S5LqocqR4G3AM8D2wE0RAcVjEX2Z+U8D7P8+gMx8d0SMB04D9oCXRpTfBLYGngN+HRGXZebMCuuXJPW4KkNwk8XZOTN/FhGXl6sbUdxM028zYHpmPgkQEdOAccAlS6PQdhg+ZxYr33dlp8tQTQybV0zd2Tdi5Q5XojoYPmcWsG6ny1giVd4Y86eI2AiYRBFqfwamZuaMQT4zPyK+B3wA+FBD0+rA0w3rs4E1lnbNVRk7dmynS1DNTJ8+HYCxb1g2/2HSsmbdZfbfuSqvCb4DOI/ijtBbKUaGl0fEgZl5W6vPZeYnIuLzwG0R8ebMfI7itOrIht1GAk9VVfvSdsQRR3S6BNXMkUceCcDpp5/e4Uqk7lbl6dCvArtl5p/L9Wsj4irgbGDH5p0jYl9gg8w8CZgDLKS4QQbgXmCTiBhF8bzhdsCpFdYuSaqBKh+WX6EhAAHIzD8CrSbT/S9gy4i4GbgG+AywZ0QcUt5ZOrncfivF3aF/ra50SVIdVDkSHN68ISKG0SIEy9OeH2l1sMy8DLhsqVUnSaq9KkeCv4yIkyNiOYDyv18Drq2wT0mShqzKEDyJYuLcGRFxF/Agxcjz+Ar7lCRpyKp8RGI+cDRwdESsAzy1qLfGSJLUTlU+ItE/EmzcBkBmHlNVv5IkDVWVN8bcV+GxJUl61aoMweUy84IKjy9J0qtS5Y0x+1Z4bEmSQj7RqwAAIABJREFUXrUqR4KrRMQmFDNHvEJm3l9hv5IkDUmVIRgUr0hrDsE+YEKF/UqSNCRVhuDdmWnYSZK6VpXXBCVJ6mpVhuCHmzdExFoR8YUK+5QkaciqfGPM4/3LEbE1cDgwEbi0qj4lSVocVb4xZgXgY8BhwAsUs8NvnJlzq+pTkqTFUeWNMTOAHwL7ZOb/RsRVgwVgRIwAzgfGUEy3dEJm/qKhfTJwIPBYuemTmZkV1S5JqoEqQ/B0YG9gTEScywDPCzb5OPBEZu4bEWsBdwG/aGh/O7BfZt5RSbWSpNqp7MaYzDwlM98GnEERhltHxCkR8dYWH7kE+GLD+vym9q0oZqSYFhFHL/2KJUl1U/kjEpl5U2buC7wR+AtwYYv9ns3M2RExkuLmmWObdrkYOJTiQfttI2L3CsuWJNVApSEYETtFRP9p0NcD0zNzy0H23xC4AbgwM3/QsH0Y8K3MfDwzXwSuAFoeR5KkoagsBCPiUxSzyK/WsPlLEXFIi/3XBa4FPp+Z5zc1rw7cExGrlYE4AfDaoCTpVanyxphJwPaZ+TxAZv4+InakGOmdM8D+xwBrAl+MiP5rg1OAVTPznIg4pvzsC8B1mXllhbVLkmqgyhCc0x+A/TLz2YiYPdDOmXkkcGSrg2XmhbS4nihJ0pKo8prgvIhYu3FDuV5l8EqSNGRVBtJXgGsj4nvAHylujDkQOKrCPiVJGrIqnxOcBnwQWAPYjeLmlg9k5q+q6lOSpMVR5btDXw8sAKZSTKQ7t/Gl2pIkdVqVp0N/RBF+/UaWL9XeLzNvq7BfSZKGpMqplN7VvC0i3ghcAGxXVb+SJA1VW2eWz8wHeOXoUJKkjmlrCEbEcIobZSRJ6rgqb4xpfj3aisD7gZ9W1ackSYujyhtj1mtanwuc4iMSkqRuUeWNMV8GiIg3AGsDD2Xmw1X1J0nS4qrydOgY4MfAi8DfgI0i4jngo5n5SFX9SpI0VFWeDj0NmFy+OQaAchaJ7wB7VtivJElDUuXdoes0BiBAZv6S4vVpkiR1XKWzSHSgT0mShqzK06FrRcROTduGAaMG2jkiRgDnA2MoHqc4ITN/0dD+PuA4YD5wfmZOqaJoSVJ9VBmCdwIfK5f7KAIQ4N4W+38ceCIz942ItYC7gF/ASwH5TWBr4Dng1xFxWWbOrKp4SVLvqzIEV8nMjwJExGcz8xvl8vUt9r8EuLRhfX7D8mbA9Mx8sjzGNGBc+RlJkpZIlSG4TsPybsA3Bts5M58FiIiRFGF4bEPz6sDTDeuz8fVrkqRXqcqbVIa1WG4pIjYEbgAuzMwfNDQ9A4xsWB8JPPWqK5Qk1VqVI8G+FssDioh1gWuBwzPzuqbme4FNImIU8CzFVEynLq1CJUn1VGUIviUifkAxCmxcfnOL/Y8B1gS+GBFfLLdNAVbNzHMiYjJwDcXo9fzM/GuFtUuSaqDKEPxIw/JZLZZfkplHAke2OlhmXgZctnRKkySp2hdo31TVsSVJWhp8e4skqbYMQUlSbRmCkqTaMgQlSbVlCEqSassQlCTVliEoSaotQ1CSVFuGoCSptgxBSVJtGYKSpNoyBCVJtWUISpJqyxCUJNVWlfMJLpGIeCdwSmaOb9o+GTgQeKzc9MnMzDaXJ0nqIV0VghFxFLAv8NwAzW8H9svMO9pblSSpV3Xb6dAHgD1btG0FHB0R0yLi6DbWJEnqUV0Vgpn5E2Bei+aLgUOBCcC2EbF72wqTJPWkrgrBViJiGPCtzHw8M18ErgC27HBZkqRlXFddExzE6sA9EbEZxfXCCcD5nS1JkrSs6+oQjIi9gdUy85yIOAa4AXgBuC4zr+xsdZKkZV3XhWBmzgC2KZd/0LD9QuDCDpUlSepBy8Q1QUmSqmAISpJqyxCUJNWWIShJqi1DUJJUW4agJKm2DEFJUm0ZgpKk2jIEJUm1ZQhKkmrLEJQk1ZYhKEmqLUNQklRbhqAkqba6LgQj4p0RceMA298XEbdHxK0RcXAHSpMk9ZiuCsGIOAo4F1ipafsI4JvATsD2wCERMbr9FUqSekm3Tar7ALAnfz957mbA9Mx8EiAipgHjgEvaW57a7ZprruHKK6/sdBnLnOnTpwNw5JFHdriSZc+uu+7KxIkTO12G2qSrRoKZ+RNg3gBNqwNPN6zPBtZoS1HSMmittdZirbXW6nQZUtfrtpFgK88AIxvWRwJPdagWtdHEiRP9rVxSZZaVELwX2CQiRgHPAtsBp3a2JEnSsq6rQzAi9gZWy8xzImIycA3FKdzzM/Ovna1OkrSs67oQzMwZwDbl8g8atl8GXNahsiRJPairboyRJKmdDEFJUm0ZgpKk2uq6a4KvwnCAmTNndroOSVKXaMiE4QO191IIrgewzz77dLoOSVL3WY/irWSv0EsheDvFq9QeARZ0uBZJUncYThGAtw/UOKyvr6+95UiS1CW8MUaSVFuGoCSptgxBSVJtGYKSpNoyBCVJtWUISpJqq5eeE5TaLiImAQcCfyo33QMcAPyO4pfMWcCRwL7A85l5cfm5s4CTgReArwELKZ5lujAzf1jucxLwpsz8YLl+BjAKmABcD9wMrA9cDdwGHA9sBKwAzAH+FViD4vmot2fmXyJiL2ClzJza4vs093k8xawujwMrARdn5qURcXVm7tzwuaszc+cBtv9dzZl5ztB/wlK1HAlKr953MvPjmflx4GLg+nJ9b4ow/MQgn/0WcFJmHgjsDqwDEBGrAFsCj0bEVgCZ+emyj9+Xx28Mk/2Av2bmpLLfqbw88fTdwJSIGDHYlxioz9LxZb8fBiZFxKqL/ImUFlGz1HGGoPTqfSoipkbEVGDPprbbgbcAA72Vog9YOzPvB8jMhZl5Rtk2CfgFcB7whSHU8A7guv6VzJwGjClXHwDOBr6+iGMM2mdm9gH/D3jDEOqRlgmGoPTqfbccgU0C/qup7d0UwfEEsGHD9tcDTwJ/i4jNACJiuYj4bjliOxR4J3AwMC4iNllEDXcBO/SvRMSWNLwnMTN/CswDPjTQhyNi2BD73ByYATwbEa8tPzsamL2I+qSu5DVB6dU7LCJ2L5dXAjaPiP+keGfhM8ARwDBg74i4pNx+S2Y+ExH/CnwzIp4HVgV+DEwEfpWZkwEi4jLgKIpwauV84MSIuIgi7BYCk4HXNOxzNMV1uYHs1qLPvwLHR8TjZX0XZubsiPh34D8j4glgdeC48jj93x3giv7rm1K38t2hkqTaciQo1UxErEExOm10a2ZeN9D+Ui9zJChJqi1vjJEk1ZYhKEmqLUNQklRbhqAkqbYMQUlSbRmCkqTaMgQlSbVlCEqSassQlCTVliEoSaot3x0qDSAixlPM6PAHihkgRgAHZOZ9S7mfGcCmmfl8i/YPALdl5sNDONYY4EHgC5l5SsP2XwCrZ+b4cn0liumQvpGZX2/47O+BO8uPrQQ8C3w4M5+MiBeB35RtIyhmwvhYZj4YETcCh/b/bCLi88BngI0bv1c5q/1h5eoCisl+j8rMF8ufw58pZr/o99nMvGNR31t6NRwJSq1dn5njM3N74Hhenqm9nY6kmKpoqB6gYc7AiBgFNM8L+EHgYopZ4hv/DfhD+X3HZ+Y2FBMCH1i2zWpoezdwAfDZFjXsUx5/r4Y6dqWYCup9mTkOeA/FpMKfaPjcTg19jDcA1Q6OBKWhWZNi9NQ/Ye2ZFKOZ5yn+cV8b+D7FpLQfAXbJzI/0fzgiJgF7UATa2sBXMvMnDe1jKGZ0H0ERDp8GNgC2AL4fEdtm5otDqPNx4ImI2Cwz7wU+ClwCbNewz0EUI7XXArsClzcfpJxkd0Ngeot+NqKYFLj5c+Mpgvgs4D+BqWXTEcC/ZuZTUMxSHxGTy9nqpY5xJCi1NiEiboyIWykmrb203D4FOLwcIf4HcFpm3kkRYt8DDuflEVSj1YAdgZ2A0yKi8ZfQU4EzMnM7itHfeZl5BcUpw/2GGID9fsjLo7A9gJ/1N5Szxa+amf+3/E6HNXzuzeX3/T1wP0UAfq9sG1W23RkRf6I4XXoKf+8g4NzMTOCFiHhnuX3j8nhExLvKU6jTIuLihs9eW/ZxY0Q4rZPawpGg1Nr1mbkXQEQEcGtEvA5YPzPvLve5GTi5XD6LYob1r2bm7AGOd1NmLgQejYgngXUa2jYrj0Vm3h0RG7YqKiJOALYtV3fIzAVNu/wMuCUiLgBmAnMa2g4CVo2Iqymudf5TRIwF5lOeDo2IlYHLgEczc375uVll23CK0d2LmflsU11rUowsXxsRRwBrUPxCcBvwF4og/L+ZeSswPiI2LX9m/XZqdW1UqoojQWloHm1YfjgiNi+Xt6cYNQF8vfwzKSLeMMAxtgKIiHUpTov+raHtXmBc2b4FRXhBcaPIK/6eZuaxDdfNmgOQMpwS+HfgB/3by5HnXsC4zNw5MydSBPi/NH1+LsV1veMi4m1NbQuAQ4APRMRuTV1/nGIEu1Nm7kxxaniniFiH4vTx18sJffuNpzj1K3WMISi1NqHh1Ny1wOQyIA4Gvh0Rt1Ccuvw/EfF+4E3ASeW2iyJiRNPxRpfHugL4l6YA+xxwRETcDHyXl0+n/obimuCoxaz9IopQbTyt+H7gjsyc1bDtAmBfYJXGD2fmo2VNZzfdPNMfkgcBZ0bEqg1NBwEXNuw3B/gJcHBm/gI4G/hZRNwQEXcAW/PKG2MaT4feWN4ZK1XKmeWlNihvjNk0M7/Q6VokvcyRoCSpthwJSpJqy5GgJKm2DEFJUm31zHOCEbEixd1mj1C8yUOSpOHAesDtmflCc2PPhCBFAN7S6SIkSV1pHDCteWPbQrB8Zup7wBiKkdrBFG+pmErxwOw9wGGZuTAivgTsVrZ/JjN/V77V4u/2bejiEYCLLrqI0aNHt+MrSZK63MyZM9lnn32gzIhm7RwJ7gosn5n/FBE7AidSvCz42My8MSLOAvYo30u4PcXbJjakeNh2a+C05n2BnzYcfwHA6NGj2WCDDdr2pSRJy4QBL5O188aY+4Hly7dPrA7Mo3iN1E1l+1XAeyneiXhtZvZl5p/Lz6zTYl9JkpZYO0eCz1KcCr2PYiqZ3YHtGqZSmU3xwt3VgScaPte/fdgA+0qStMTaORL8P8A1mfkm4G0U1wdXaGgfCTwFPFMuN29fOMA2SQOYPn06u+22G9Ont5oOUBK0NwSfBJ4ul2dRXA+8q5yEE2AXirs7fw1MjIjlIuL1wHKZ+XiLfSUN4IQTTuC5557jhBNO6HQpUldr5+nQbwLnl2/eXwE4BvhvYEpErEAxlcylmbmg3OdWipDun/Tzs837trF2aZkxffp0ZsyYAcCMGTOYPn06Y8eO7WxRUpfqmXeHRsQY4MHrrrvOu0NVa5MmTXopBAHGjBnD1KlTO1aP1EkPPfQQO+ywA8DGmTmjud3Xpkk9pjEAB1qX9DJDUOoxY8aMGXRd0ssMQanHHHvssYOuS3qZISj1mLFjx740+hszZow3xUiDMASlHnTsscey6qqrOgqUFqGXZpGQVBo7dixXXHFFp8uQup4jQUlSbRmCkqTaMgQlSbVlCEqSassQlCTVliEoSaotQ1CSVFuGoCSptgxBSVJtte2NMRExCZhUrq4EbAGMB04H5gPXZuaXI2I54D+AtwEvAAdl5vSI2KZ533bVLknqTW0bCWbm1Mwcn5njgTuATwNnAXsD2wLvjIi3A/8MrJSZ7wK+AHyjPMRA+0qStMTafjo0Iv4ReAtwMbBiZj6QmX3ANcAOFCF3NUBm/hb4x4hYvcW+kiQtsU5cEzwG+P/t3XeUXWW9//H3JFQxQaqAAVHBr2BBwN+lSCBIiaEIigVDR0UiVVQULs17ERGBqyg1EqkRLiCKSok3tFC8VBUUv0iTGykCAgkEAknm98feB4/HmZRzZs6Zmf1+rTWLvZ/97D3fZC395Hl2eb4JjARm1LXPBJYt21+sa587n76SJDWtrSEYEW8B3pOZN1CE2oi6wyOAF3poHzafvpIkNa3dI8HNgf8ByMwZwGsR8a6I6ALGAtOAW4HtAMqHYe6bT19JkprW7vUEA3ikbn9/4GJgOMUTn/8bEXcC20TEbUAXsE9vfdtXtiRpKGprCGbmdxv2fwNs3NA2jyLwGs/9l76SJLXCl+UlSZVlCEqSKssQlCRVliEoSaosQ1CSVFmGoCSpsgxBSVJlGYKSpMoyBCVJlWUISpIqyxCUJFWWIShJqixDUJJUWYagJKmyDEFJUmW1dT3BiDgC+BiwBHAGcBNwHtAN3A8ckJnzIuJYYHtgDnBoZt4REWv11Led9UuShpa2jQQjYgywKfBhYAtgdeBU4KjMHE2xivxOEbFBeXwjYFfg9PIS/9K3XbVLkoamdk6HjgXuA64EfgH8EtiQYjQIcA2wNbAZMCUzuzPzcWCxiFipl76SJDWtndOhKwJvB3YA3gFcBQzLzO7y+ExgWWAk8FzdebX2rh76SpLUtHaG4HPAnzLzNSAj4lWKKdGaEcALwIxyu7F9Xg9tkiQ1rZ3TobcAH42IrohYDVgGmFreKwQYB0wDbgXGRsSwiFiDYrT4LHBvD30lSWpa20aCmfnLiNgcuIMifA8AHgUmRsQSwAPA5Zk5NyKmAbfX9QP4SmPfdtUuSRqa2vqKRGYe3kPzFj30Ow44rqHtwZ76SpLULF+WlyRVliEoSaosQ1CSVFmGoCSpsgxBSVJlGYKSpMoyBCVJlWUISpIqyxCUJFWWIShJqixDUJJUWYagJKmyDEFJUmUZgpKkyjIEJUmVZQhKkiqrrYvqRsS9wIvl7qPA2cD3gTnAlMz8ZkQMA84A1gNmA5/PzIciYuPGvu2sXZI09LQtBCNiKYDMHFPX9ltgF+AR4FcRsQGwJrBUZm5SBt8pwE7AWY19M/OedtUvSRp62jkSXA94U0RMKX/vccCSmfkwQERcB2wFrApcC5CZv4mID0XEyF76GoKSpKa1MwRnAScDPwLWBq4BXqg7PhN4JzCSf0yZAswt22b00FeSpKYt8oMxEbFqL+0bLeDUB4GLMrM7Mx+kCLrl646PoAjFGeV2fY2NbbW+kiQ1rZmnQy+ubUTEhXXt317AeftS3N8jIlYD3gS8HBHvioguYCwwDbgV2K7stzFwX2bOAF7roa8kSU1rZjq0q257VC/tPTkXOC8ibgG6KUJxHkWoDqd44vN/I+JOYJuIuK285j7l+fs39m2idkmS3tCX9wS753cwM18DxvdwaOOGfvMoAq/x/N809pUkqRXNTId297ItSdKg0sxIcLOIeIJiqnL5uu3l+rQySZL62SKHYGYu0R+FSJLUbk3dE4yIrTPzfyLiJGBFimnRr2Xm3/u0OkmS+lEz7wkeBXy+3N0cuBR4EjiyD+uSJKnfNfNgzNbAbuX2K5l5HXAsMKavipIkqR2aWkopM+eWm9+v23+x9zMkSRp4mgnBJSJiCYDM/BlAud/WZZkkSWpVs59NmxQRywFExFuAc4DJfVmYJEn9bZFDMDNPp/i+580R8VfgduDuzDy7r4uTJKk/NTWFmZlnAmfW9iNisYjYNTMv6bPKJEnqZy3dxyuXVdof+BzwW8AQlCQNGs2+LL8FcCCwPsVKEJtk5v/1ZWGSJPW3Zl6Wvxv4AnA28G7gYQNQkjQYNfN06B3A+4FxQOBKEpKkQaqZD2hPiIilgU9TvBrxvoiYAFy6MN8OjYiVgbuBbYA5wHkUQXo/cEBmzouIY4Hty+OHZuYdEbFWT30XtX5Jkmqa/WLMK5l5fmaOBjYB1gJ+t6DzImJximnUV8qmU4Gjyut0ATtFxAbAFsBGwK7A6b31baZ2SZJqFnkkWPtaTJ1HgCOA4xbi9JOBs8r+ABsCN5Xb1wDbAglMycxu4PHy9YuVeul75aLWL0lSTTMjwQT+VP63fnu+I8GI2Bt4pvzgdk1XGXYAM4FlgZH883dIa+099ZUkqWnN3BN8R0/tEdG1gFP3BbojYmvgg8AFwMp1x0cALwAzyu3G9nk9tEmS1LRmXpFYNiIOi4h9ImJY2fZ+ik+p9SozN8/MLTJzDMWL9XsC10TEmLLLOGBaeZ2xETEsItYAhmXms8C9PfSVJKlpzbwsfxlwF8WL8qtHxNMU6wl+tYlrfQWYWN5nfAC4PDPnRsQ0im+SDgMO6K1vE79PkqQ3NBOCIzLzyHL6M4HHgA9m5t8W9gLlaLBmix6OH0fDgzaZ+WBPfSVJalYzD8a8ClA+pPIK8LFFCUBJkgaKZkKw/gsxz2Xmq31VjCRJ7dTMdOiGEXEbxQvr69Ztd2fmpn1anSRJ/aiZEPxAn1chSVIHNDMd+leKr7e8MzP/kpl/obhPeFKfViZJUj9rZiR4McWHrVeNiPcCjwLnAt/vy8IkSepvzYTguzLzQ+X7encDs4EtM/OBvi1NkqT+1cx06AyAzHytPH9bA1CSNBg1tZRSnacXZg1BSZIGomamQ98bEZMpXouobQOQmeP7rDJJkvpZMyH46brts/qqEEmS2q2ZpZRuqt+PiBHA3sAEYN2+KUuSpP7XzEgQgIhYFziQYmR4BbBXXxUlSVI7LHIIRsQuFMsbLQH8GIjM/GJfFyZJUn9r5unQCyjW+tspM8+leE9QkqRBp5np0LUp7gFOi4j7gBUX5qSIGA5MBAKYC+xD8YTpeRQrU9wPHJCZ8yLiWGB7ii/THJqZd0TEWj31baJ+SZKAJkaCmflEZp6QmesC5wCPRMSjEfHdBZy6Y3n+h4FjgFPLn6MyczRFIO4UERtQLJ67EbArcHp5/r/0XdTaJUmq18w9wUkNTa9QjMy+AHytt/My82cR8cty9+3A0xSjvdrTptcA21KsVj+lXLT38YhYLCJWovhod2PfKxe1fkmSapqZDv0Q8CbgIqC2liDADxd0YmbOiYjzgY8DnwR2KMMOYCawLDASeK7utFp7Vw99JUlqWjPToR8AdgaWAr4BbAI8nJnXLeT5ewHvprg/uHTdoRHACxTfJh3RQ/u8HtokSWpaU98Ozcz7M/MbmfkR4Hrg2xHxm/mdExF7RMQR5e4silC7KyLGlG3jgGnArcDYiBgWEWsAwzLzWeDeHvpKktS0Vl6WH0kxrflZYBmK6dH5+Snw44i4GVgcOBR4AJhYLsv0AHB5Zs6NiGkUr2EMo3gnEeArjX2brV2SJGjuwZhPUQTfGhTBtn9mPrag8zLzZf75u6M1W/TQ9zjguIa2B3vqK0lSs5oZCV4K/An4HfB+4ISIAFxFQpI0uDQTglv2eRWSJHVAy6tISJI0WLW6srwkSYOWIShJqixDUJJUWYagJKmyDEFJUmUZgpKkyjIEJUmVZQhKkirLEJQkVZYhKEmqLENQklRZhqAkqbKaXlR3UUXE4sAkYE1gSeB44I/AeUA3cD9wQGbOi4hjge2BOcChmXlHRKzVU9921S9JGnraORLcHXguM0cD44AfAqcCR5VtXcBOEbEBxeK5GwG7AqeX5/9L3zbWLkkagtoZgpcBR9ftzwE2BGpLM10DbA1sBkzJzO7MfBxYLCJW6qWvJElNa9t0aGa+BBARI4DLgaOAkzOzu+wyE1gWGAk8V3dqrb2rh76SJDWtrQ/GRMTqwA3AhZk5Gai/pzcCeAGYUW43tvfUV5KkprUtBCPircAU4OuZOalsvjcixpTb44BpwK3A2IgYFhFrAMMy89le+kqS1LS2TYcCRwLLAUdHRO3e4CHAaRGxBPAAcHlmzo2IacDtFCF9QNn3K8DE+r5trF2SNAR1dXd3L7jXIBARawKPTp06lVGjRnW6HEnSADB9+nS22morgHdk5mONx31ZXpJUWYagJKmyDEFJUmUZgpKkyjIEJUmVZQhKkirLEJQkVZYhKEmqLENQklRZhqAkqbIMQUlSZRmCkqTKMgQlSZVlCEqSKssQlCRVliEoSaqsdq4sD0BEbAR8JzPHRMRawHlAN3A/cEBmzouIY4HtgTnAoZl5R299212/JGnoaOtIMCIOB34ELFU2nQoclZmjgS5gp4jYANgC2AjYFTi9t77trF2SNPS0ezr0YeATdfsbAjeV29cAWwObAVMyszszHwcWi4iVeukrSVLT2hqCmXkF8HpdU1dmdpfbM4FlgZHAi3V9au099ZUkqWmdfjCm/p7eCOAFYEa53djeU19JkprW6RC8NyLGlNvjgGnArcDYiBgWEWsAwzLz2V76SpLUtLY/HdrgK8DEiFgCeAC4PDPnRsQ04HaKkD6gt76dKFiSNHR0dXd3L7jXIBARawKPTp06lVGjRnW6HEnSADB9+nS22morgHdk5mONxzs9HSpJUscYgpKkyjIEJUmVZQhKkirLEJQkVZYhKEmqLENQklRZhqAkqbIMQUlSZRmCkqTKMgQlSZVlCEqSKssQlCRVliEoSaosQ1CSVFmdXlR3kUTEMOAMYD1gNvD5zHyos1VJkgarQRWCwM7AUpm5SURsDJwC7NThmtSPrrvuOq6++upOlzHoPP/88wAst9xyHa5k8Nluu+0YO3Zsp8tQmwy2ENwMuBYgM38TER/qcD0L5brrruO0007rdBmD0uzZs5kzZ06nyxi0Hn/88U6XMOj84Q9/8H+vTTj44IMH5T8eBlsIjgRerNufGxGLZab/LzlEDR8+nHnz5nW6jEGnu7sbgK6urg5XMvgMHz680yWojQZbCM4ARtTtDxsMATh27NhB+S8kSRrqBtvTobcC2wGU9wTv62w5kqTBbLCNBK8EtomI24AuYJ8O1yNJGsQGVQhm5jxg/07XIUkaGgbbdKgkSX3GEJQkVZYhKEmqrEF1T3ABhgM89dRTna5DkjRA1GVCjy+ADqUQXBVgt91263QdkqSBZ1Xg4cbGoRSCdwKjgSeBuR2uRZI0MAynCMA7ezrYVfu8kiRJVeODMZKkyjIEJUmVZQhKkirLEJQkVZYhKEmqrKH0ioQ0aEXE3sBJwOqZOTsi1gQeAkYB6wNnAO/PzJciYgxwIvD0kMrhAAAaD0lEQVRbin/IrgR8HtgR2I3iXajFgGWAPcu2VzPzkohYrDzv25l5cfm71wcOB14BlgSuz8xzI2IqxStHNWdk5m399pcgdYAhKA0cdwI7A5dSLBN2Y9n+JYrQ+yJwStn2s8w8ESAiDgc+XLafm5mXlO1nAOs0/I5PAZOA/YCLI2JYec0dMnNWed5OZd/XM3P3vvwDSgONISgNHJcDH4+Iy4G3AtOBdwGzgPOAOyLiB2XfT0XEe4EPANeWP+OBCRHxMWBd4CeZ+fuI2KDud0ygCNp3RMT2wN3A9MycFRHrAV8GRkXEncDiEXFe3bmHZ+bf+uMPLnWKISgNHK8AT1OM+H4F7ALsTTGt+X2gG9iDYrrzssw8MSLGAfsCc8prnFlOe34BeF/9xSPiwxRfzjgBWB74OrAlReitkJm/A/Yug28JipHg3v32p5UGAL8YIw0A5T3BV4E/Aj8FAvg58B5g7czsjohVgF9S3L/7t7rp0K8BiwNPUN77K9t/CNxGEWivAp8AvlWGHRFxGUW4vgwcDbxO8YmpPwDfAq7hn+8JXpaZP++nvwKpIwxBSVJl+YqEJKmyDEFJUmUZgpKkyjIEJUmVZQhKkirLEJQkVZYhKEmqLENQklRZhqAkqbIMQUlSZRmCkqTKMgQlSZVlCEqSKsv1BFV5ETEG+G+KZYy6KJYl2jcz/9THv+cx4D2Z+Wovxz8O/G9mPrEQ11oT+D1wD8U6g0sBN2TmkRFxHMUCu7XrrABckpnfKpds+g/gkbrL3ZeZB5XXPRDYjWJZJYBfZ+Z/lse6gZ1ryylFxEeBXWtrDkbEUsBjwCmZ+d26Ov8MbJyZd5dt+wOrZOZx5TnHAxuVf46XKNZTXAm4EvhgZj5fnncw8OHM/MyC/n6kheVIUCpcn5ljMnML4Djg5A7UcAgwchH6/7GseUvgw8CWEfGB8tip5bExwIeAfSNi5fLY5Nqx8qcWgBOATYEtM3NzYCvg/RGxbXneLODUiFixl3p2AS6hWJi3/v9bZgA/joglezjnexQr248uf+dE4L8z8x7gR8BpZW3vAiZQBKTUZxwJSv9qOYoRDRGxPvADYC7FwrRfAFYELqAYvXwaGJeZn66dXI62dqIItBWB/8jMK+qOrwmcSzHi7AYOBkYBHwQuiIjNMvO1Rax5aWBJiqBqtEL5u15ZwDUOAMbURqqZ+XpEfCYza4uOzgROAc4CPtnD+Z8HDgVWBrajWAAYipHgzRQL9X611jkilqD4e5pQa8vMKyPi5nL3BOC2csR5GDAhM19YwJ9BWiSOBKXCRyLixoi4HZgEXF62TwQOLEeIZ1CMsO6hCLHzgQOBz/VwvTcD2wDbUoye6v/BeTJwWjnyOQQ4NzN/BfwW2HMRAnDdsuYbKFah/35mPlQeOywiboqIR4BLgc9n5szy2PjyvNrPHmX78pn5LBRTsxFxI/CbiKgfFZ8JjIyI8fWFRMTawDLlqvWTKAK13tHANhExuq5tBeCpupAFIDOfK/87F9gTOA+4JzNvXMi/F2mhORKUCtdn5q4AERHA7RHxNmC1zPxt2edm4MRy+yzgGOA/68Kl3k2ZOQ94OiKep7jHVbNOeS0y87cRsXpvRUXE8cBm5e5WZTDU/LGc7uzJqZl5VkRsSDFF+WDdscmZ+Y0ezpkZEctn5t8z80rgytp9v1qHzOyOiH3L+o+vO/fzwDIRcS3FfdVNI2ItYE553uyI2AeYTPEPC4BngbdERFd9EJYBe1lmvp6ZGRF/oghCqc85EpT+1dN120/U3Wfbgn+EyXfLn70j4p09XGNDgIh4K8W06N/qjj0AjC6PfxB4qmyfR8P/JjPzqLp7d/UBuFDKh1FOBC5puE/Xk9OB79Xu3UXE8LLOxpHadIr7pieW/RajCMrRmfnRzBxbHvtSw3n3UITg18v914HrgINqfSLik8Ch5TGp3xmCUqE2HToVmAIclpmvUNwD/GFETKOYuvxyRHwMeDfw7bLt4ohYvOF6q5TX+hXwpYYA+ypwUHnv60z+MZ16G8U9weX78g+WmedSPJxSu/fWOB3687LfaWUNvy6nWO+kuNf4tR6ueQFwa7n7MeDuzPx7XZcfA3sAb2o49QTgL3X7h1FM694WEbcCe1M8YCO1RVd3d/eCe0laaOWDMe/pZcpR0gDiSFCSVFmOBCVJleVIUJJUWUPmFYnyibb/BzxJ8WKzJEnDgVWBOzNzduPBIROCFAE4rdNFSJIGpNHALY2NQykEnwS4+OKLWWWVVTpdiyRpAHjqqafYbbfdoMyIRkMpBOcCrLLKKowaNarTtUiSBpYeb5P5YIwkqbIMQUlSZQ2l6VBJpTFjxryxfeONN3asDmmgcyQoSaqsjowEy6/TTwSC4mblPpn5cN3xHSmWqZkDTMrMiRGxNHARxYKdM4G9MvOZthcvDXD1o8DavqNBqWedGgnuCJCZH6YIu1NrB8qv8f8XxWKkWwD7RcQqFF/Avy8zR1Os6n1Uu4uWJA0tHQnBzPwZsF+5+3b+ef22dYCHMvP5coXtWyhectwMuLbscw2wdZvKlSQNUR17MCYz50TE+cDHgU/WHRoJvFi3PxNYtqG91iZJUtM6+mBMZu5FsTjpxIhYpmyeAYyo6zYCeKGhvdYmSVLTOhKCEbFHRBxR7s4C5vGPt/kfANaOiOUjYglgc+B2ilWstyv7jMPvhEo9anwIxodipN51aiT4U2D9iLgZuA44FPhEROyXma8Dh5Xtt1M8HfpX4EzgvRFxC8X9xG92pnRJ0lDRkXuCmfky8On5HP8F8IuGtlnAp/q5NGlIcPQnLRxflpckVZYhKEmqLENQklRZhqAkqbIMQUlSZRmCkqTKMgQlSZVlCEqSKssQlCRVliEoSaosQ1CSVFmGoCSpsgxBSVJlGYKSpMrqyFJKEbE4MAlYE1gSOD4zryqPrQJcUtf9g8A3gLOB6cCfy/bbM/MIJElqUkdCENgdeC4z94iIFYB7gasAMvMpYAxARGwCfAuYCLwLuCczd+xIxZKkIadTIXgZcHnd/pzGDhHRBfwA2C0z50bEhsDbIuIG4BXgy5mZbalWkjQkdWpl+ZcAImIERRge1UO3HYE/1AXdk8C3M/OyiNgMuAj4f+2oV5I0NHXswZiIWB24AbgwMyf30GV34Jy6/buAnwNk5i0Uo8Kufi9UkjRkderBmLcCU4ADM3NqL902BG6r2z8WeA44KSLWAx7PzO7+rVSSNJR16p7gkcBywNERcXTZNhFYJjPPiYiVgJkNIXcicFFEbE9xD3HvdhYsSRp6OnVP8BDgkPkcf4bi1Yj6tueB7fu5NElShfiyvCSpsgxBSVJlGYKSpMoyBCVJlWUISpIqyxCUJFWWIShJqixDUJJUWYagJKmyDEFJUmUZgpKkyjIEJUmVZQhKkirLEJQkVZYhKEmqrE6tLL84MAlYE1gSOD4zr6o7fhjwOeCZsumLwOPARcDKwExgr3LdQUmSmtKpkeDuwHOZORoYB/yw4fgGwJ6ZOab8SWACcF95zgXAUW2tWJI05HQqBC8Djq7bn9NwfEPgiIi4JSKOKNs2A64tt68Btu7fEiVJQ11HpkMz8yWAiBgBXM6/juouAU4HZgBXRsQOwEjgxfL4TGDZ9lQrSRqqOvZgTESsDtwAXJiZk+vau4DvZeazmfka8CtgfYpAHFF2GwG80OaSJUlDTKcejHkrMAU4MDOnNhweCdwfEesALwMfoXiIZhawHXAHxX3Eae2rWJI0FHUkBIEjgeWAoyOidm9wIrBMZp4TEUdSjBJnA1Mz8+qIuBE4PyJuAV4DxnegbknSENKpe4KHAIfM5/iFwIUNbbOAT/VzaZKkCvFleUlSZRmCkqTKMgQlSZVlCEqSKssQlCRVliEoSaosQ1CSVFmGoCSpsgxBSVJlGYKSpMoyBCVJldVSCEbECRExvK+KkSSpnVodCS4F3BoRa/dFMZIktVNLq0hk5mERsSkwOSLOAc6vO/Zaq8VJktSfWl5KKTNvi4j9gOuBI4AuoBt4Z2/nRMTiFAvlrgksCRyfmVfVHf8scCgwF/g98KXMnBcR9wIvlt0ezcx9Wq1fklRdLYVgRCwGHAN8BtgpM29eyFN3B57LzD0iYgXgXuCq8ppLA8cD78/MWRHxE2CHiJgCkJljWqlZkqSaVkeCdwN3ABtm5kuLcN5lwOV1+3PqtmcDm5aL6EJR46vAesCbyjBcDDgyM3/TdOWSpMprNQT/PTN/uagn1QIzIkZQhOFRdcfmAU+Xxw8C3gz8GngfcDLwI2Bt4JqIiMycgyRJTWj16dCbI2JyGWZExGcj4pLa/vxExOrADcCFmTm54diwiDgZ2AbYJTO7gQeBizKzOzMfBJ4DVm2xfklShbUagmdRTIfWpkIvA+4CzpzfSRHxVmAK8PXMnNRDl7MpXr/YuW5adF/glPL81YCRwJMt1i9JqrBWp0PXyMzxtZ1yavLkiLh9AecdCSwHHB0RR5dtE4FlKEL0c8A04PqIAPg+cC5wXkTcQvH06b5OhUqSWtFqCM7tpX2+7whm5iHAIfPp0tsIdXwv7ZIkLbJWp0P/HBE71TdExMdwmlKSNAi0OhL8KvCTiDgWeBRYHXgG2LPVwiRJ6m+tfjbtBWBcRKwBrAY8nplP9EllkiT1s1a/GNM44nt3+SALmXlBK9eWJKm/tToduk7DfhewDzALMAQlSQNaq9OhR9S2I2It4DzglxQfv5YkaUBreRUJgIg4gCL4vtzMZ9QkSeqEVu8Jvg34MfB34N8y8/k+qUqSpDZodSR4P8WL8dcDp9ceigGo/5KMJEkDUashuHOfVCFJUge0+mDMTfX75eoRewMTgHVbubYkSf2trx6MWRc4EPg0cAWwV19cV5Kk/tTqgzG7AAcAS1A8IBOZ+cW+KEySpP7W6ge0LwBuB3bKzHOB2a2XJElSe7QagmsBLwPTIuJSYMXWS5IkqT1afTDmSeAE4ISI2Ar4QkQ8ClyRmV/t7byIWByYBKwJLAkcn5lX1R3fETgGmANMysyJEbE0cBGwMjAT2Cszn2mlfklStbU6EnxDZk7NzF2BDwF/XUD33YHnMnM0MA74Ye1AGZD/BWwLbAHsFxGrUDxxel95zgXAUX1VuySpmlp9MOaYJk+9DLi8bn9O3fY6wEO1r89ExC3AaGAz4KSyzzXA0U3+7ra77rrrOO200zpdxqA0e/Zs5syZs+COUh9ZbLHFWHLJJTtdxqBz8MEHM3bs2E6XschafUXi6Yb9ZYCvA48B/9HbSZn5ErzxXuHl/POobiTwYt3+TGDZhvZamyRJTWv1nuDZte2I2AyYSDG1ecKCzo2I1YErgTMyc3LdoRnAiLr9EcALDe21tkFh7Nixg/JfSJI01LX8snx5D+8EYGtgfGbeuxDnvBWYAhyYmVMbDj8ArB0RywMvAZsDJwNvB7YD7qC4jzit1dolSdXW6j3B9Slekr+WYhWJ1xfy1COB5YCjI6J2b28isExmnhMRhwHXUTy4Mykz/xoRZwLnl/cIXwP8QLckqSVd3d3dTZ8cEa9RTFP+GahdqAvozsxNWy9vkWpZE3h06tSpjBo1qp2/WpI0QE2fPp2tttoK4B2Z+Vjj8VanQ9du8XxJkjqmpfcEM/MvwJLlf3ei+HD2nsDf+qA2SZL6VUshGBFfAGpPiO5J8crEO4HDWqxLkqR+1+oXY8YD25fbM8tXJiYAH2/xupIk9buWP5uWmbPKzUvL/VcpXmaXJGlAazUEl46ILoDMPAug3O+TxXolSepPrYbg1cCJETEM3gjA48t2SZIGtFZD8FsU7wc+HBF3AY9QLI100nzPkiRpAGj126FzgW9ExL9TLKj7XGb6yX9J0qDQ6isSR8AbYfi+WgCWnziTJGlAa3U6dJu67X+v244WrytJUr9rNQS7etmWJGnAazUEu3vZliRpwGv1fb63RcR+FKPA+u3VWq5MkqR+1moITgZW7WH7Jy1eV5KkftfqKxLf7Kk9IsYtzPkRsRHwncwcU9e2CnBJXbcPAt+g+FD3dIq1CwFuz8wjmihbkiSg9ZXl9wK+DbwCfJLiZfmJwHuAaxZw7uHAHsDL9e2Z+RQwpuyzCcUL+ROBdwH3ZOaOrdQsSVJNqw/GfAV4L7AjcAJwM/AnYMOFOPdh4BO9HSw/wfYDYEL5HuKGFPcdb4iIqyPC1zAkSS1pNQT/npnPZ+YfgXWBb2TmMZn5+oJOzMwrgPn12xH4Q2Zmuf8k8O3M3JIicC9qsXZJUsW1GoLz6rb/kpnznQJdRLsD59Tt3wX8HCAzb6EYFfpuoiSpaa0+HbpCRGxL8VrEyHIbgMyc0uK1NwRuq9s/FngOOCki1gMez0zfTZQkNa3VELwH2B+YA9wLfLZs7wYWKQQjYjzw5sw8JyJWolipvj7kTgQuiojty9+3d4u1S5IqrtUQvJvi4Zi5wIGZee2inJyZjwEbl9uT69qfoXg1or7v88D2LdYrSdIbWr0nOB54N0WQHdJ6OZIktU+rIfhqZr6emc8CS/RFQZIktUurIVjPJzUlSYNKq/cE3xsRkykCsLYNQGaOb/HakiT1q1ZD8NN122e1eC1Jktqq1Q9o39RXhUiS1G59eU9QkqRBxRCUJFWWIShJqixDUJJUWYagJKmyDEFJUmUZgpKkyjIEJUmV1eoXY1oSERsB38nMMQ3thwGfA54pm74IPA5cBKwMzAT2KpdckiSpKR0bCUbE4cCPgKV6OLwBsGdmjil/EpgA3JeZo4ELgKPaV60kaSjq5HTow8Anejm2IXBERNwSEUeUbZsBtUV7rwG27uf6JElDXMdCMDOvAF7v5fAlwP7AR4DNImIHYCTwYnl8JrBsvxcpSRrSOnpPsCcR0QV8LzNfLPd/BawPzABGlN1GAC90pkJJ0lAx4EKQYsR3f0SsA7xMMRqcBMwCtgPuAMYB0zpWoSRpSBgwIRgR44E3Z+Y5EXEkcAMwG5iamVdHxI3A+RFxC/Aa4KK9kqSWdDQEM/MxYONyu35V+guBCxv6zgI+1c76JElDmy/LS5IqyxCUJFWWIShJqixDUJJUWYagJKmyDEFJUmUZgpKkyjIEJUmVZQhKkirLEJQkVZYhKEmqLENQklRZhqAkqbIMQUlSZRmCkqTK6th6ghGxEfCdzBzT0P5Z4FBgLvB74EuZOS8i7gVeLLs9mpn7tLNeSdLQ05EQjIjDgT2AlxvalwaOB96fmbMi4ifADhExBaAxMCVJakWnpkMfBj7RQ/tsYNNyFXkoQvpVYD3gTRExJSKuj4iN21SnJGkI60gIZuYVwOs9tM/LzKcBIuIg4M3Ar4FZwMnAWGB/4OKI6NhUriRpaBhwQRIRw4CTgHcDu2Rmd0Q8CDyUmd3AgxHxHLAq8H8dLFWSNMgNxKdDzwaWAnaumxbdFzgFICJWA0YCT3amPEnSUDEgRoIRMZ5i6vMu4HPANOD6iAD4PnAucF5E3AJ0A/tm5pwOlStJGiI6FoKZ+Riwcbk9ue5Qb6PT8f1dkySpWgbidKgkSW1hCEqSKssQlCRVliEoSaosQ1CSVFmGoCSpsgxBSVJlGYKSpMoyBCVJlWUISpIqyxCUJFWWIShJqixDUJJUWQNiKSVJfWvMmDFvbN94440dq0Ma6DoaghGxEfCdzBzT0L4jcAwwB5iUmRMjYmngImBlYCawV2Y+0+aSJUlDSMemQyPicOBHFKvI17cvDvwXsC2wBbBfRKwCTADuy8zRwAXAUe2tWBoc6keBPe1L+odO3hN8GPhED+3rAA9l5vOZ+RpwCzAa2Ay4tuxzDbB1W6qUJA1ZHQvBzLwCeL2HQyOBF+v2ZwLLNrTX2iRJatpAfDp0BjCibn8E8EJDe61NkqSmDcSnQx8A1o6I5YGXgM2Bk4G3A9sBdwDjgGkdq1CSNCQMmJFgRIyPiP0y83XgMOA64HaKp0P/CpwJvDcibgH2A77ZuWqlgavxlQhfkZB619GRYGY+Bmxcbk+ua/8F8IuGvrOAT7WzPknS0DYQp0MltcjRn7RwBsx0qCRJ7WYISpIqayhNhw4HeOqppzpdhyRpgKjLhOE9HR9KIbgqwG677dbpOiRJA8+qFF8q+ydDKQTvpPi82pPA3A7XIkkaGIZTBOCdPR3s6u7ubm85kiQNED4YI0mqLENQklRZhqAkqbIMQUlSZRmCkqTKMgQlSZU1lN4TlAaNiNgb+BzwGLA4kMA+wNVll9WAbwFPA1Mo1tEEmJuZe0XE+sDhwCvAksD1mXluRNwIXJqZZ5a/59rM/Gi5fS7wWmZOKPfPA57OzK/X942ITYCDgNeAlYEjgLWALTPzwIgYBvwUODIz/9gPfz1S2xiCUuecnpmXAJTh9cfM3L/c/zdgV+A0ioDbv3ZSGUKnADuUS4wRETuVh18FtoqIOzPzrrpzVgeWBpaPiNUy84ny0Dsj4mOZeVXZbzHgRGBcZs6KiJWBrTNzckRsWv6e9wEXGIAaCgxBqXMmRMRYii9afA84vRydvQd4hGKktxiwZdkO8CAwCZhehtR6wJeBURFR+yLGF4ArImKXut91EHARRRB+Gfha2f4VYGJE3Ffurwj8Xy1cM/NvQG2tz68DVwL3ZOZP++avQOos7wlKnXNmZu6TmXtm5s+A+zJzb+AzwNsopiMBbsjMvcufE4BnKEJvhcz8XXnOdGAJgMx8niLkJgJExDLlNXcGxgHjI+It5bVfowjNsymmVf8GrFGeQ0SsFBEnldedA9wNXNNvfyNSmzkSlAaYzPxLRBwBnAscDHwkIi6q63IQ/xjBvU4xkvwD8ETdNe6OiCnAeIp7jadk5mkAEXEAcEBd38cj4lTgjMycFxFHA5dExLPA8sAx/fjHlTrKb4dKkirL6VBJUmUZgpKkyjIEJUmVZQhKkirLEJQkVZYhKEmqrP8PzMgkHfFWFiAAAAAASUVORK5CYII=\n",
      "text/plain": [
       "<Figure size 504x2160 with 7 Axes>"
      ]
     },
     "metadata": {
      "needs_background": "light"
     },
     "output_type": "display_data"
    }
   ],
   "source": [
    "#We will use an outlier to detect any margin of error that the data might have \n",
    "\n",
    "col_names = ['GENDER','INCOME','FIRST_USAGE','EDUCATION_KID','EDUCATION_ADULT','MARRIAGE','PREGNANCY']\n",
    "\n",
    "fig, ax = plt.subplots(len(col_names), figsize=(7,30))\n",
    "\n",
    "for i, col_val in enumerate(col_names):\n",
    "\n",
    "    sns.boxplot(y=df[col_val], ax=ax[i])\n",
    "    ax[i].set_title('Box plot - {}'.format(col_val), fontsize=10)\n",
    "    ax[i].set_xlabel(col_val, fontsize=8)\n",
    "\n",
    "plt.show()"
   ]
  },
  {
   "cell_type": "markdown",
   "metadata": {},
   "source": [
    "The following graph takes the correlation of each column and comapres it with the other columns, to show the relation that all the columns share. This will help us focus on the specific columns. "
   ]
  },
  {
   "cell_type": "code",
   "execution_count": 15,
   "metadata": {
    "scrolled": true
   },
   "outputs": [
    {
     "ename": "SyntaxError",
     "evalue": "invalid syntax (<ipython-input-15-9c0d7ade2682>, line 3)",
     "output_type": "error",
     "traceback": [
      "\u001b[1;36m  File \u001b[1;32m\"<ipython-input-15-9c0d7ade2682>\"\u001b[1;36m, line \u001b[1;32m3\u001b[0m\n\u001b[1;33m    corr = df.We decided to do two hypothesis tests: 1. Income and if they ever used marijuana for younger people and 2. Is there a significant difference between genders of adults that ever used marijuana\u001b[0m\n\u001b[1;37m                       ^\u001b[0m\n\u001b[1;31mSyntaxError\u001b[0m\u001b[1;31m:\u001b[0m invalid syntax\n"
     ]
    }
   ],
   "source": [
    "#Check if values have a correlation which each other , and if they do we can compare those values. \n",
    "f, ax = plt.subplots(figsize=(5, 5))\n",
    "corr = df.We decided to do two hypothesis tests: 1. Income and if they ever used marijuana for younger people and 2. Is there a significant difference between genders of adults that ever used marijuana\n",
    "\n",
    "DataFrame with just people under the age of 26\n",
    "\n",
    "under_26 = df[df['AGE'] <= 26]\n",
    "under_26.head()\n",
    "\n",
    "Taking just to columns we need and then dropping the null values (just because it is makes it simpler for our hypothesis testing) and we decided to drop the refused and unknown because of the test statistic we decided to use. We used a difference of means, so if we included these values, the numbers would be skewed. \n",
    "\n",
    "income_ever_use = under_26[['INCOME', 'EVER_USE']]\n",
    "income_ever_use = income_ever_use[income_ever_use['INCOME'].isnull() == False]\n",
    "income_ever_use = income_ever_use[income_ever_use['INCOME'] != 7777.0]\n",
    "income_ever_use = income_ever_use[income_ever_use['INCOME'] != 9999.0]\n",
    "income_ever_use = income_ever_use[income_ever_use['EVER_USE'].isnull() == False] #NA means that they have never used marijuana\n",
    "income_ever_use['EVER_USE'] = income_ever_use['EVER_USE'].replace({1: True, 2: False})\n",
    "income_ever_use.head()\n",
    "\n",
    "Observed Difference\n",
    "\n",
    "df1 = income_ever_use.groupby('EVER_USE').mean()\n",
    "observed_difference = df1.diff().iloc[-1, 0]\n",
    "observed_difference\n",
    "\n",
    "Running 1000 simulations\n",
    "\n",
    "n_repetitions = 1000\n",
    "\n",
    "differences = []\n",
    "for _ in range(n_repetitions):\n",
    "    \n",
    "    # shuffle the income\n",
    "    shuffled_income = (\n",
    "        income_ever_use['INCOME']\n",
    "        .sample(replace=False, frac=1)\n",
    "        .reset_index(drop=True)\n",
    "    )\n",
    "    \n",
    "    # put them in a table\n",
    "    shuffled = (\n",
    "        income_ever_use\n",
    "        .assign(**{'Shuffled Income': shuffled_income})\n",
    "    )\n",
    "    \n",
    "    # compute the group differences (test statistic!)\n",
    "    group_means = (\n",
    "        shuffled\n",
    "        .groupby('EVER_USE')\n",
    "        .mean()\n",
    "        .loc[:, 'Shuffled Income']\n",
    "    )\n",
    "    difference = group_means.diff().iloc[-1]\n",
    "    \n",
    "    # add it to the list of results\n",
    "    differences.append(difference)\n",
    "\n",
    "Graph displaying the average differences in income\n",
    "\n",
    "title = 'Average differences in Income'\n",
    "pd.Series(differences).plot(kind='hist', density=True, title=title)\n",
    "plt.scatter(observed_difference, 0, color='red', s=40);\n",
    "\n",
    "P-Value\n",
    "\n",
    "p_val = np.count_nonzero(differences <= observed_difference) / n_repetitions\n",
    "p_val\n",
    "\n",
    "With this p-value, we fail to reject the null hypothesis and cannot accept the alternate hypothesis\n",
    "\n",
    "Taking all the columns we need and then also replacing the values of gender to Male and Female and ever use with True and False.\n",
    "\n",
    "adults = df[df['EDUCATION_ADULT'].isnull() == False]\n",
    "adult_gender_edu_usage = adults[['GENDER', 'EDUCATION_ADULT', 'EVER_USE']]\n",
    "adult_gender_edu_usage['GENDER'] = adult_gender_edu_usage['GENDER'].replace({1: 'Male', 2: 'Female'})\n",
    "adult_gender_edu_usage['EVER_USE'] = adult_gender_edu_usage['EVER_USE'].replace({1: True, 2: False})\n",
    "adult_gender_edu_usage = adult_gender_edu_usage[adult_gender_edu_usage['EVER_USE'].isnull() == False]\n",
    "adult_gender_edu_usage.head()\n",
    "\n",
    "Education Counts Table\n",
    "\n",
    "edu_cnts = adult_gender_edu_usage.pivot_table(index='EDUCATION_ADULT', columns='GENDER', values = 'EVER_USE', \n",
    "                                               aggfunc='size')\n",
    "edu_cnts\n",
    "\n",
    "Conditional Distribution \n",
    "\n",
    "cond_distr = edu_cnts.apply(lambda x: x / x.sum())\n",
    "cond_distr\n",
    "\n",
    "Graph displaying the education level and gender based on ever use.\n",
    "\n",
    "title='distribution of adult education on gender'\n",
    "cond_distr.plot(kind='barh', title=title);\n",
    "\n",
    "We decided to use a TVD test statistic for our hypothesis test. \n",
    "\n",
    "# test stat\n",
    "def tvd_of_groups(df):\n",
    "    cnts = df.pivot_table(index='EDUCATION_ADULT', columns='GENDER', aggfunc='size')\n",
    "    distr = cnts.apply(lambda x: x / x.sum())\n",
    "    return distr.diff(axis=1).iloc[-1].abs().sum()\n",
    "\n",
    "Observed Value\n",
    "\n",
    "obs = tvd_of_groups(adult_gender_edu_usage)\n",
    "obs\n",
    "\n",
    "Running 1000 Simulations \n",
    "\n",
    "N = 1000\n",
    "tvds = []\n",
    "for _ in range(N):\n",
    "    \n",
    "    s = adult_gender_edu_usage['GENDER'].sample(frac=1, replace=False).reset_index(drop=True)\n",
    "    shuffled = adult_gender_edu_usage.loc[:, ['EDUCATION_ADULT', 'EVER_USE']].assign(GENDER=s)\n",
    "    tvds.append(tvd_of_groups(shuffled))\n",
    "\n",
    "tvds = pd.Series(tvds)\n",
    "\n",
    "P-Value\n",
    "\n",
    "pval = (tvds >= obs).sum() / N\n",
    "pval\n",
    "\n",
    "With this, we fail again fail to reject the null hypothesis and cannot accept the alternate hypothesis. corr()\n",
    "sns.heatmap(corr,\n",
    "            xticklabels=corr.columns.values,\n",
    "            yticklabels=corr.columns.values)"
   ]
  },
  {
   "cell_type": "markdown",
   "metadata": {},
   "source": [
    "## Visualizing the Demographics (DEMO) data"
   ]
  },
  {
   "cell_type": "markdown",
   "metadata": {},
   "source": [
    "Since our research attempts to explore the relationship between socioeconomic status and marijuana consumption, we focus on the following variables as measures of an individual's socioeconomic status: <br>\n",
    "1. Annual Household Income <br>\n",
    "2. Ratio of Family Income to Poverty <br>\n",
    "3. Education level - Adults 20+ <br>\n",
    "4. Education level - Children/Youth 6-19"
   ]
  },
  {
   "cell_type": "markdown",
   "metadata": {},
   "source": [
    "Since the coding scheme in the dataset uses numerical values for categorizing response, we convert them into verbal labels for better interpretation."
   ]
  },
  {
   "cell_type": "code",
   "execution_count": null,
   "metadata": {},
   "outputs": [],
   "source": [
    "# Creating labels for interpreting visualizations\n",
    "income_labels = ['0-4.9', '5-9.9', '10-14.9','15-19.9', '20-24.9', '25-34.9', '35-44.9', '45-54.9','55-64.9','65-74.9','75-99', '100+']\n",
    "education_kid_labels = ['9th grade','10th grade','11th grade','12th grade, no diploma','High school graduate','GED or equivalent','More than high school','Less than 9th grade']\n",
    "education_adult_labels = ['less than 9th grade', '9-11th grade', 'high school graduate / GED', 'AA degree', 'college graduate']\n",
    "amount_labels = ['1/day', '2/day', '3-5/day', '>6/day']\n",
    "frequency_labels = ['once', '2-3 times', '4-8 times', '9-24 times', '25-30 times']"
   ]
  },
  {
   "cell_type": "markdown",
   "metadata": {},
   "source": [
    "### INCOME: Annual Household Income"
   ]
  },
  {
   "cell_type": "code",
   "execution_count": null,
   "metadata": {},
   "outputs": [],
   "source": [
    "# remove unknown, missing, and cummulative values (12 for < $20,000 and 13 for > $20,000)\n",
    "df.drop(df[(df['INCOME']==7777) | (df['INCOME']==9999) | (df['INCOME']==12) | (df['INCOME']==13)].index, inplace=True)"
   ]
  },
  {
   "cell_type": "code",
   "execution_count": null,
   "metadata": {
    "scrolled": true
   },
   "outputs": [],
   "source": [
    "df['INCOME'].value_counts().sort_index().plot(kind='bar')\n",
    "plt.xticks(np.arange(12),income_labels)\n",
    "plt.xlabel(\"Household Income (in thousands of dollars)\")\n",
    "plt.ylabel(\"Count\")\n",
    "plt.title(\"Distribution of household income\")"
   ]
  },
  {
   "cell_type": "markdown",
   "metadata": {},
   "source": [
    "The above visualization provides an important insight into the distribution of income in this dataset: a majority of the individuals surveyed belong to the 100k+ income bracket."
   ]
  },
  {
   "cell_type": "markdown",
   "metadata": {},
   "source": [
    "### INCOME_RATIO: Ratio of family income to poverty\n",
    "\n",
    "The poverty threshold is calculated according to the Department of Health and Human Services and adjusted to account for differences that arise from geographical location and family / household sizes. \n",
    "\n",
    "The ratio of family income to poverty is thus defined as: <br>\n",
    "\n",
    "$$\\text{Ratio of family income to poverty} = \\frac{\\text{family income}}{\\text{poverty threshold}}$$\n",
    "\n",
    "The values in INCOME_RATIO range from $0$ to $4.99$ with all values $\\ge 5$ denoted by $5$. For instance, an income to poverty ratio value of $0.5$ indicates that the income is $0.5$ times or $50$% below the poverty threshold, an income to poverty ratio of $1$ indicates that income is equal to poverty threshold, and an income to poverty ratio of $5$ indicates that the income is $5$ times the poverty threshold."
   ]
  },
  {
   "cell_type": "code",
   "execution_count": null,
   "metadata": {
    "scrolled": true
   },
   "outputs": [],
   "source": [
    "df['INCOME_RATIO'].hist()\n",
    "plt.title(\"Distribution of Income Ratio\")\n",
    "plt.xlabel(\"Ratio of family income to poverty\")\n",
    "plt.ylabel(\"Count\")"
   ]
  },
  {
   "cell_type": "code",
   "execution_count": null,
   "metadata": {},
   "outputs": [],
   "source": [
    "df[['INCOME','INCOME_RATIO']].corr()"
   ]
  },
  {
   "cell_type": "markdown",
   "metadata": {},
   "source": [
    "We see that INCOME and INCOME_RATIO are strongly correlated with an $r^{2}$ value of 0.877, making INCOME_RATIO, a continous variable, a good proxy for INCOME"
   ]
  },
  {
   "cell_type": "markdown",
   "metadata": {},
   "source": [
    "### EDUCATION_ADULT"
   ]
  },
  {
   "cell_type": "code",
   "execution_count": null,
   "metadata": {
    "scrolled": true
   },
   "outputs": [],
   "source": [
    "df_adult = df[df.AGE >= 20]\n",
    "df_adult.shape"
   ]
  },
  {
   "cell_type": "code",
   "execution_count": null,
   "metadata": {},
   "outputs": [],
   "source": [
    "sns.countplot(x='EDUCATION_ADULT', data=df_adult)\n",
    "ax = plt.gca()\n",
    "\n",
    "# add title and axis labels (modify x-axis label)\n",
    "ax.set_title('Distribution of Education level - Adults 20+')\n",
    "ax.set_ylabel('Total kids')\n",
    "ax.set_xlabel('Education level')\n",
    "ax.set_xticklabels(education_adult_labels,rotation='vertical');"
   ]
  },
  {
   "cell_type": "markdown",
   "metadata": {},
   "source": [
    "Null and Alternative Hypothesis for 1\n",
    "\n",
    "H0: There is no correlation between income and if one ever used marijuana for younger people\n",
    "\n",
    "H1: There is correlation between income and if one ever used marijuana for younger people\n",
    "\n",
    "Significance Level: 0.05"
   ]
  },
  {
   "cell_type": "code",
   "execution_count": null,
   "metadata": {
    "scrolled": true
   },
   "outputs": [],
   "source": [
    "df_adult['EDUCATION_ADULT'].value_counts().sort_index()"
   ]
  },
  {
   "cell_type": "markdown",
   "metadata": {},
   "source": [
    "We see that about $56$% of the individuals in the dataset had some college degree. This breaks down into $30.5$% of AA degree holders and $25.5$% of college graduates."
   ]
  },
  {
   "cell_type": "markdown",
   "metadata": {},
   "source": [
    "### EDUCATION_KID"
   ]
  },
  {
   "cell_type": "code",
   "execution_count": null,
   "metadata": {
    "scrolled": true
   },
   "outputs": [],
   "source": [
    "df_kid = df[df.AGE < 20]\n",
    "df_kid.shape"
   ]
  },
  {
   "cell_type": "code",
   "execution_count": null,
   "metadata": {},
   "outputs": [],
   "source": [
    "df_kid['AGE'].value_counts()"
   ]
  },
  {
   "cell_type": "markdown",
   "metadata": {},
   "source": [
    "We see only two unique ages - 18 and 19 - appear in this subset of data."
   ]
  },
  {
   "cell_type": "code",
   "execution_count": null,
   "metadata": {},
   "outputs": [],
   "source": [
    "sns.countplot(x='EDUCATION_KID', data=df_kid)\n",
    "ax = plt.gca()\n",
    "\n",
    "# add title and axis labels (modify x-axis label)\n",
    "ax.set_title('Education level - Children/Youth 6-19')\n",
    "ax.set_ylabel('Total kids')\n",
    "ax.set_xlabel('Education level')\n",
    "ax.set_xticklabels(education_kid_labels,rotation='vertical');"
   ]
  },
  {
   "cell_type": "code",
   "execution_count": null,
   "metadata": {
    "scrolled": true
   },
   "outputs": [],
   "source": [
    "df_kid['EDUCATION_KID'].value_counts().sort_index()"
   ]
  },
  {
   "cell_type": "markdown",
   "metadata": {},
   "source": [
    "We see that 42% of all children (aged 18 and 19) were high school graduates."
   ]
  },
  {
   "cell_type": "markdown",
   "metadata": {},
   "source": [
    "## ## Visualizing the Drug-Use (DUQ) data"
   ]
  },
  {
   "cell_type": "markdown",
   "metadata": {},
   "source": [
    "To better understand marijuana usage, we will explore the following components that provide insight into consumption patterns: <br>\n",
    "\n",
    "1. AGE_REGULAR_USE: Age started regularly using marijuana\n",
    "2. AMOUNT: Number of joints/pipes per day\n",
    "3. FREQUENCY: Number of times / month"
   ]
  },
  {
   "cell_type": "markdown",
   "metadata": {},
   "source": [
    "### AGE_REGULAR_USE: Age started regularly using marijuana"
   ]
  },
  {
   "cell_type": "code",
   "execution_count": null,
   "metadata": {
    "scrolled": true
   },
   "outputs": [],
   "source": [
    "sns.countplot(x='AGE_REGULAR_USE', data=df)\n",
    "ax = plt.gca()\n",
    "\n",
    "# add title and axis labels (modify x-axis label)\n",
    "ax.set_title('Distribution of ages when started regularly using marijuana')\n",
    "ax.set_ylabel('Adult Count')\n",
    "ax.set_xlabel('Age')\n",
    "\n",
    "fig = plt.gcf()\n",
    "fig.set_size_inches(15,5)\n"
   ]
  },
  {
   "cell_type": "markdown",
   "metadata": {},
   "source": [
    "This graph shows how the age participants begin to used regularly sits around 15-19 years old. "
   ]
  },
  {
   "cell_type": "markdown",
   "metadata": {},
   "source": [
<<<<<<< HEAD
    "Null and Alternative Hypothesis for 2\n",
    "\n",
    "H0: There is no correlation between gender, income, and if one ever used marijuana for younger people\n",
    "\n",
    "H1: There is correlation between gender, income, and if one ever used marijuana for younger people\n",
    "\n",
    "Significance Level: 0.05"
   ]
  },
  {
   "cell_type": "markdown",
   "metadata": {},
   "source": [
    "Taking all the columns we need and then also replacing the values of gender to Male and Female and ever use with True and False."
=======
    "### AMOUNT: Number of joints / pipes per day"
>>>>>>> 31428442525c61e872f631021c36fc49c67e574c
   ]
  },
  {
   "cell_type": "code",
   "execution_count": null,
   "metadata": {},
   "outputs": [],
   "source": [
    "# remove unknown, missing, and cummulative values\n",
    "df.drop(df[(df['AMOUNT']==7777) | (df['AMOUNT']==9999)].index, inplace=True)\n",
    "df['AMOUNT'].value_counts().sort_index().plot(kind='bar')\n",
    "plt.xticks(np.arange(4),amount_labels, rotation='horizontal')\n",
    "plt.xlabel(\"Amount (# of joints / pipes per day)\")\n",
    "plt.ylabel(\"Number of individuals\")\n",
    "plt.title(\"Distribution of Marijuana consumption amount\")\n",
    "plt.show()\n"
   ]
  },
  {
   "cell_type": "markdown",
   "metadata": {},
   "source": [
    "### FREQUENCY:  Number of times marijuana  is consumption / month"
   ]
  },
  {
   "cell_type": "code",
   "execution_count": null,
   "metadata": {},
   "outputs": [],
   "source": [
    "df.drop(df[(df['FREQUENCY']==7777) | (df['FREQUENCY']==9999)].index, inplace=True)\n",
    "df['FREQUENCY'].value_counts().sort_index().plot(kind='bar')\n",
    "plt.xticks(np.arange(5),frequency_labels, rotation='vertical')\n",
    "plt.xlabel(\"frequency (Number of times marijuana is consumed / month)\")\n",
    "plt.ylabel(\"Count\")\n",
    "plt.title(\"Distribution of frequency of marjiuana consumption\")\n",
    "plt.show()"
   ]
  },
  {
   "cell_type": "code",
   "execution_count": null,
   "metadata": {},
   "outputs": [],
   "source": [
    "df_adult = df[df.AGE > 19]\n",
    "sns.countplot(x='EDUCATION_ADULT', hue = 'AMOUNT', \n",
    "              data=df_adult)\n",
    "ax = plt.gca()\n",
    "\n",
    "# add title and axis labels (modify x-axis label)\n",
    "ax.set_title('Adult Education vs. Number of joints/pipes used')\n",
    "ax.set_ylabel('Total Adults')\n",
    "ax.set_xlabel('Education Level')\n",
    "ax.legend(amount_labels, title='Number of joints/pipes used', loc='best')"
   ]
  },
  {
   "cell_type": "code",
   "execution_count": null,
   "metadata": {},
   "outputs": [],
   "source": [
    "sns.countplot(x='EDUCATION_ADULT', hue = 'FREQUENCY', \n",
    "              data=df_adult)\n",
    "ax = plt.gca()\n",
    "\n",
    "# add title and axis labels (modify x-axis label)\n",
    "ax.set_title('Adult Education vs. Frequency')\n",
    "ax.set_ylabel('Total Adults')\n",
    "ax.set_xlabel('Education Level')\n",
    "ax.legend(amount_labels, title='Frequency', loc='best')"
   ]
  },
  {
   "cell_type": "markdown",
   "metadata": {},
   "source": [
    "## Digging Deeper"
   ]
  },
  {
   "cell_type": "markdown",
   "metadata": {},
   "source": [
    "### Subsetting data\n",
    "\n",
    "Since we hypothesize that younger people (defined here as below the age of 26) would exhibit higher consumption of marijuana, we will now analyze this subset of data."
   ]
  },
  {
   "cell_type": "code",
   "execution_count": null,
   "metadata": {},
   "outputs": [],
   "source": [
    "min_age = df['AGE'].min()\n",
    "max_age = df['AGE'].max()\n",
    "min_age, max_age"
   ]
  },
  {
   "cell_type": "code",
   "execution_count": null,
   "metadata": {
    "scrolled": true
   },
   "outputs": [],
   "source": [
    "under_26 = df[df['AGE'] <= 26]\n",
    "under_26.head()"
   ]
  },
  {
   "cell_type": "markdown",
   "metadata": {},
   "source": [
    "We will also standardize the gender labels to help tease out differences in gender."
   ]
  },
  {
   "cell_type": "code",
   "execution_count": null,
   "metadata": {
    "scrolled": true
   },
   "outputs": [],
   "source": [
    "#functions for converting from numerical to categorical data\n",
    "def num_to_category(num_val, data_dict):\n",
    "    if num_val in data_dict.keys():\n",
    "        return data_dict[num_val]\n",
    "    else:\n",
    "        return np.nan\n",
    "    \n",
    "# GENDER\n",
    "df['GENDER']\n",
    "gender_dict = {1:'MALE',2:'FEMALE'}\n",
    "df['GENDER']=df['GENDER'].apply(num_to_category, data_dict=gender_dict)\n",
    "under_26['GENDER']=under_26['GENDER'].apply(num_to_category, data_dict=gender_dict)\n",
    "under_26.head()"
   ]
  },
  {
   "cell_type": "markdown",
   "metadata": {},
   "source": [
    "###  Exploring relationships between indicators of socioeconomic status and marijuana consumption patterns"
   ]
  },
  {
   "cell_type": "markdown",
   "metadata": {},
   "source": [
    "#### Adult eduation and Age of regular use"
   ]
  },
  {
   "cell_type": "code",
   "execution_count": null,
   "metadata": {
    "scrolled": true
   },
   "outputs": [],
   "source": [
    "sns.stripplot(under_26['EDUCATION_ADULT'], under_26['AGE_REGULAR_USE'])\n",
    "plt.xlabel('Education Levels')\n",
    "plt.ylabel('Age Regular Use')\n",
    "plt.xticks(np.arange(5), education_adult_labels, rotation='vertical')\n",
    "plt.title('Adult Education and Age Regular Use')\n",
    "plt.show()"
   ]
  },
  {
   "cell_type": "markdown",
   "metadata": {},
   "source": [
    "The stripplot shows that different ages that participants began using marijuana regularly grouped with their education. This helps us visualize whether education plays a role in when they begin using regularly. The graph shows that the range of ages for college graduates and above seem to be a some years old later than the other groups. Running significance tests can confirm or reject this observation. "
   ]
  },
  {
   "cell_type": "code",
   "execution_count": null,
   "metadata": {},
   "outputs": [],
   "source": [
    "nonull_edu = under_26.dropna(subset=['AGE_REGULAR_USE'], how='all')\n",
    "lower = nonull_edu[nonull_edu['EDUCATION_ADULT'] == 1]['AGE_REGULAR_USE'].values\n",
    "nodip = nonull_edu[nonull_edu['EDUCATION_ADULT'] == 2]['AGE_REGULAR_USE'].values\n",
    "dip = nonull_edu[nonull_edu['EDUCATION_ADULT'] == 3]['AGE_REGULAR_USE'].values\n",
    "aa = nonull_edu[nonull_edu['EDUCATION_ADULT'] == 4]['AGE_REGULAR_USE'].values\n",
    "grad = nonull_edu[nonull_edu['EDUCATION_ADULT'] == 5]['AGE_REGULAR_USE'].values\n",
    "#print(lower, nodip, dip, aa, grad)"
   ]
  },
  {
   "cell_type": "markdown",
   "metadata": {},
   "source": [
    "We're extracting ages of regular use from each education level in order to run the ttests."
   ]
  },
  {
<<<<<<< HEAD
=======
   "cell_type": "code",
   "execution_count": null,
   "metadata": {},
   "outputs": [],
   "source": [
    "## TTEST: EDUCATION V. AGE_REGULAR_USE\n",
    "[t, p] = ttest_ind(lower, grad)\n",
    "print(\"lower to grad: \", t, p)\n",
    "\n",
    "[t2, p2] = ttest_ind(nodip, grad)\n",
    "print(\"nodip to grad: \", t2, p2)\n",
    "\n",
    "[t3, p3] = ttest_ind(dip, grad)\n",
    "print(\"dip to grad: \", t3, p3)\n",
    "\n",
    "[t4, p4] = ttest_ind(aa, grad)\n",
    "print(\"aa to grad: \", t4, p4)"
   ]
  },
  {
   "cell_type": "markdown",
   "metadata": {},
   "source": [
    "Ttests to compare the values of participants' ages first regularly used to their education levels show us whether there is significant difference between what education level they have completed. \n",
    "\n",
    "With alpha = 0.01, the p-values show that there's significance difference on the age regularly used for having 9th-12th grade education with no diploma compared to a college gradudate or above. The p-values show that there's also significance difference on the age regularly used for being a HS graduate/having a GED or equivalent compared to a college gradudate or above. \n",
    "\n",
    "Based on the strip plot, there could be significant difference for college graduates and above to start using marijuana regularly much later in age compared to the other groups.\n",
    "\n",
    "The other values show no significance difference."
   ]
  },
  {
>>>>>>> 31428442525c61e872f631021c36fc49c67e574c
   "cell_type": "markdown",
   "metadata": {},
   "source": [
    "#### Adult eduation and Amount consumed / day"
   ]
  },
  {
   "cell_type": "code",
   "execution_count": null,
   "metadata": {},
   "outputs": [],
   "source": [
    "plt.figure(figsize=(7,7))\n",
    "sns.swarmplot(under_26['EDUCATION_ADULT'], under_26['AMOUNT'], data=under_26, hue='GENDER')\n",
    "plt.xlabel(\"Education levels (adults 20+)\")\n",
    "plt.ylabel(\"Number of pipes/joints consumed in a day\")\n",
    "plt.xticks(np.arange(5), education_adult_labels,rotation='vertical');\n",
    "plt.yticks(np.arange(1, 5, step=1), amount_labels)\n",
    "plt.title(\"Adult Education and Amount consumed/day\")\n",
    "plt.show()"
   ]
  },
  {
   "cell_type": "markdown",
   "metadata": {},
   "source": [
    "#### Adult eduation and Frequency of consumption "
   ]
  },
  {
   "cell_type": "code",
   "execution_count": null,
   "metadata": {},
   "outputs": [],
   "source": [
    "sns.swarmplot(x='EDUCATION_ADULT', y='FREQUENCY', data=under_26, hue='GENDER')\n",
    "plt.xticks(np.arange(5), education_adult_labels,rotation='vertical');\n",
    "plt.yticks(np.arange(1,6,step=1),frequency_labels, rotation='horizontal')\n",
    "plt.xlabel(\"Household income (in thousands of dollars)\")\n",
    "plt.ylabel(\"Number of times / month\")\n",
    "plt.title(\"Adult Education and Frequency of consumption / month\")\n",
    "plt.show()"
   ]
  },
  {
   "cell_type": "markdown",
   "metadata": {},
   "source": [
    "####  Income and Age of regular use"
   ]
  },
  {
   "cell_type": "code",
   "execution_count": null,
   "metadata": {
    "scrolled": true
   },
   "outputs": [],
   "source": [
    "sns.stripplot(x='INCOME', y='AGE_REGULAR_USE', data=under_26)\n",
    "plt.xlabel(\"Household income (in thousands of dollars)\")\n",
    "plt.ylabel(\"Age started using marijuana regularly\")\n",
    "plt.legend().set_visible(False)\n",
    "plt.title(\"Income and Age started using marijuana regularly (aged 26 or younger)\")\n",
    "plt.xticks(np.arange(12),income_labels, rotation='vertical')\n",
    "plt.show()"
   ]
  },
  {
   "cell_type": "code",
   "execution_count": null,
   "metadata": {},
   "outputs": [],
   "source": [
    "outcome, predictors = patsy.dmatrices('AGE_REGULAR_USE~INCOME', under_26)\n",
    "mod = sm.OLS(outcome, predictors)\n",
    "res = mod.fit() \n",
    "print(res.summary())"
   ]
  },
  {
   "cell_type": "markdown",
   "metadata": {},
   "source": [
    "P-value 0.352 shows so far that AGE_REGULAR_USE and INCOME have no significance."
   ]
  },
  {
   "cell_type": "markdown",
   "metadata": {},
   "source": [
    "#### Income and Amount consumed / day"
   ]
  },
  {
   "cell_type": "code",
   "execution_count": null,
   "metadata": {
    "scrolled": false
   },
   "outputs": [],
   "source": [
    "sns.swarmplot(under_26['INCOME'], under_26['AMOUNT'], data=under_26, hue='GENDER')\n",
    "plt.xlabel(\"Household income\")\n",
    "plt.ylabel(\"Number of pipes/joints consumed in a day\")\n",
    "plt.xticks(np.arange(12), income_labels, rotation='vertical')\n",
    "plt.yticks(np.arange(1, 5, step=1), amount_labels)\n",
    "plt.title(\"Income and Amount consumed / day\")\n",
    "plt.show()"
   ]
  },
  {
   "cell_type": "code",
   "execution_count": null,
   "metadata": {},
   "outputs": [],
   "source": [
    "outcome, predictors = patsy.dmatrices('AMOUNT~INCOME', under_26)\n",
    "mod = sm.OLS(outcome, predictors)\n",
    "res = mod.fit() \n",
    "print(res.summary())"
   ]
  },
  {
   "cell_type": "markdown",
   "metadata": {},
   "source": [
    "As we take a look at AMOUNT and INCOME, the p-value is smaller, sitting at 0.2 but still shows no significance. "
   ]
  },
  {
   "cell_type": "markdown",
   "metadata": {},
   "source": [
    "#### Income and Frequency of consumption / month"
   ]
  },
  {
   "cell_type": "code",
   "execution_count": null,
   "metadata": {},
   "outputs": [],
   "source": [
    "sns.swarmplot(x='INCOME', y='FREQUENCY', data=under_26, hue='GENDER')\n",
    "plt.xticks(np.arange(12),income_labels, rotation='vertical')\n",
    "plt.yticks(np.arange(1,6,step=1),frequency_labels, rotation='horizontal')\n",
    "plt.xlabel(\"Household income (in thousands of dollars)\")\n",
    "plt.ylabel(\"Number of times / month\")\n",
    "plt.title(\"Income and Frequency of consumption/month\")\n",
    "plt.show()"
   ]
  },
  {
   "cell_type": "code",
   "execution_count": null,
   "metadata": {},
   "outputs": [],
   "source": [
    "outcome, predictors = patsy.dmatrices('FREQUENCY~INCOME', under_26)\n",
    "mod = sm.OLS(outcome, predictors)\n",
    "res = mod.fit() \n",
    "print(res.summary())"
   ]
  },
  {
   "cell_type": "markdown",
   "metadata": {},
   "source": [
    "We will now perform a multivariate OLS regression to explore how marijuana consumption trends correlate with income and education levels"
   ]
  },
  {
   "cell_type": "markdown",
   "metadata": {},
   "source": [
    "## How do income and education correlate with Marijuana consumption patterns?"
   ]
  },
  {
   "cell_type": "markdown",
   "metadata": {},
   "source": [
    "### Multivariate Regression: Household income and adult education vs. age when started using regularly"
   ]
  },
  {
   "cell_type": "code",
   "execution_count": null,
   "metadata": {},
   "outputs": [],
   "source": [
    "outcome, predictors = patsy.dmatrices('AGE_REGULAR_USE~INCOME+EDUCATION_ADULT', under_26)\n",
    "mod = sm.OLS(outcome, predictors)\n",
    "res = mod.fit() \n",
    "print(res.summary())"
   ]
  },
  {
   "cell_type": "markdown",
   "metadata": {},
   "source": [
    "We decide to look into multiple variables that could affect usage, and found that AGE_REGULAR_USE, INCOME, and EDUCATION_ADULT reveals a p-value of 0.00, which shows significance."
   ]
  },
  {
   "cell_type": "markdown",
   "metadata": {},
   "source": [
    "We decide to look into multiple variables that could affect usage, and found that AGE_REGULAR_USE, INCOME, and EDUCATION_ADULT reveals a p-value of 0.00, which shows significance."
   ]
  },
  {
   "cell_type": "markdown",
   "metadata": {},
   "source": [
    "### Multivariate Regression: Household income and adult education vs. amount consumed per day"
   ]
  },
  {
   "cell_type": "code",
   "execution_count": null,
   "metadata": {
    "scrolled": true
   },
   "outputs": [],
   "source": [
    "predictors = patsy.dmatrices('AMOUNT~INCOME+EDUCATION_ADULT', under_26)\n",
    "mod = sm.OLS(outcome, predictors)\n",
    "res = mod.fit() \n",
    "print(res.summary())"
   ]
  },
  {
   "cell_type": "markdown",
   "metadata": {},
   "source": [
    "We also found that AMOUNT, INCOME, and EDUCATION_ADULT reveals a p-value of 0.04, which shows significance."
   ]
  },
  {
   "cell_type": "markdown",
   "metadata": {},
   "source": [
    "### Multivariate Regression: Household income and adult education vs. frequency of consumption"
   ]
  },
  {
   "cell_type": "code",
   "execution_count": null,
   "metadata": {},
   "outputs": [],
   "source": [
    "outcome, predictors = patsy.dmatrices('FREQUENCY~INCOME+EDUCATION_ADULT', under_26)\n",
    "mod = sm.OLS(outcome, predictors)\n",
    "res = mod.fit() \n",
    "print(res.summary())"
   ]
  },
  {
   "cell_type": "markdown",
   "metadata": {},
   "source": [
    "## Digging Deeper: How do age and gender correlate with marijuana consumption?"
   ]
  },
  {
   "cell_type": "markdown",
   "metadata": {},
   "source": [
    "### Multivariate Regression:  age and gender vs. age when started using regularly"
   ]
  },
  {
   "cell_type": "code",
   "execution_count": null,
   "metadata": {},
   "outputs": [],
   "source": [
    "outcome, predictors = patsy.dmatrices('AGE_REGULAR_USE~AGE+GENDER', df)\n",
    "mod = sm.OLS(outcome, predictors)\n",
    "res = mod.fit() \n",
    "print(res.summary())"
   ]
  },
  {
   "cell_type": "markdown",
   "metadata": {},
   "source": [
    "AGE_REGULAR_USE, AGE, and GENDER show a p-value of 0.00 which indicates significance."
   ]
  },
  {
   "cell_type": "markdown",
   "metadata": {},
   "source": [
    "### Multivariate Regression:  age and gender vs. amount consumed in a day"
   ]
  },
  {
   "cell_type": "code",
   "execution_count": null,
   "metadata": {
    "scrolled": true
   },
   "outputs": [],
   "source": [
    "outcome, predictors = patsy.dmatrices('FREQUENCY~AGE+GENDER', df)\n",
    "mod = sm.OLS(outcome, predictors)\n",
    "res = mod.fit() \n",
    "print(res.summary())"
   ]
  },
  {
   "cell_type": "markdown",
   "metadata": {},
   "source": [
    "FREQUENCY, AGE, and GENDER have a p-value of 0.004, which is significant."
   ]
  },
  {
   "cell_type": "markdown",
   "metadata": {},
   "source": [
    "### Multivariate Regression:  age and gender vs. frequency of consumption"
   ]
  },
  {
   "cell_type": "code",
   "execution_count": null,
   "metadata": {
    "scrolled": true
   },
   "outputs": [],
   "source": [
    "outcome, predictors = patsy.dmatrices('FREQUENCY~AGE+GENDER', df)\n",
    "mod = sm.OLS(outcome, predictors)\n",
    "res = mod.fit() \n",
    "print(res.summary())"
   ]
  },
  {
   "cell_type": "markdown",
   "metadata": {},
   "source": [
    "We decided to do two hypothesis tests: 1. Income and if they ever used marijuana for younger people and 2. Is there a significant difference between genders of adults that ever used marijuana"
   ]
  },
  {
   "cell_type": "markdown",
   "metadata": {},
   "source": [
    "DataFrame with just people under the age of 26"
   ]
  },
  {
   "cell_type": "code",
   "execution_count": null,
   "metadata": {},
   "outputs": [],
   "source": [
    "under_26 = df[df['AGE'] <= 26]\n",
    "under_26.head()"
   ]
  },
  {
   "cell_type": "markdown",
   "metadata": {},
   "source": [
    "Taking just to columns we need and then dropping the null values (just because it is makes it simpler for our hypothesis testing) and we decided to drop the refused and unknown because of the test statistic we decided to use. We used a difference of means, so if we included these values, the numbers would be skewed. "
   ]
  },
  {
   "cell_type": "code",
   "execution_count": null,
   "metadata": {},
   "outputs": [],
   "source": [
    "income_ever_use = under_26[['INCOME', 'EVER_USE']]\n",
    "income_ever_use = income_ever_use[income_ever_use['INCOME'].isnull() == False]\n",
    "income_ever_use = income_ever_use[income_ever_use['INCOME'] != 7777.0]\n",
    "income_ever_use = income_ever_use[income_ever_use['INCOME'] != 9999.0]\n",
    "income_ever_use = income_ever_use[income_ever_use['EVER_USE'].isnull() == False] #NA means that they have never used marijuana\n",
    "income_ever_use['EVER_USE'] = income_ever_use['EVER_USE'].replace({1: True, 2: False})\n",
    "income_ever_use.head()"
   ]
  },
  {
   "cell_type": "markdown",
   "metadata": {},
   "source": [
    "Observed Difference"
   ]
  },
  {
   "cell_type": "code",
   "execution_count": null,
   "metadata": {},
   "outputs": [],
   "source": [
    "df1 = income_ever_use.groupby('EVER_USE').mean()\n",
    "observed_difference = df1.diff().iloc[-1, 0]\n",
    "observed_difference"
   ]
  },
  {
   "cell_type": "markdown",
   "metadata": {},
   "source": [
    "Running 1000 simulations"
   ]
  },
  {
   "cell_type": "code",
   "execution_count": null,
   "metadata": {},
   "outputs": [],
   "source": [
    "n_repetitions = 1000\n",
    "\n",
    "differences = []\n",
    "for _ in range(n_repetitions):\n",
    "    \n",
    "    # shuffle the income\n",
    "    shuffled_income = (\n",
    "        income_ever_use['INCOME']\n",
    "        .sample(replace=False, frac=1)\n",
    "        .reset_index(drop=True)\n",
    "    )\n",
    "    \n",
    "    # put them in a table\n",
    "    shuffled = (\n",
    "        income_ever_use\n",
    "        .assign(**{'Shuffled Income': shuffled_income})\n",
    "    )\n",
    "    \n",
    "    # compute the group differences (test statistic!)\n",
    "    group_means = (\n",
    "        shuffled\n",
    "        .groupby('EVER_USE')\n",
    "        .mean()\n",
    "        .loc[:, 'Shuffled Income']\n",
    "    )\n",
    "    difference = group_means.diff().iloc[-1]\n",
    "    \n",
    "    # add it to the list of results\n",
    "    differences.append(difference)"
   ]
  },
  {
   "cell_type": "markdown",
   "metadata": {},
   "source": [
    "Graph displaying the average differences in income"
   ]
  },
  {
   "cell_type": "code",
   "execution_count": null,
   "metadata": {},
   "outputs": [],
   "source": [
    "title = 'Average differences in Income'\n",
    "pd.Series(differences).plot(kind='hist', density=True, title=title)\n",
    "plt.scatter(observed_difference, 0, color='red', s=40);"
   ]
  },
  {
   "cell_type": "markdown",
   "metadata": {},
   "source": [
    "P-Value"
   ]
  },
  {
   "cell_type": "code",
   "execution_count": null,
   "metadata": {},
   "outputs": [],
   "source": [
    "p_val = np.count_nonzero(differences <= observed_difference) / n_repetitions\n",
    "p_val"
   ]
  },
  {
   "cell_type": "markdown",
   "metadata": {},
   "source": [
    "With this p-value, we fail to reject the null hypothesis and cannot accept the alternate hypothesis"
   ]
  },
  {
   "cell_type": "markdown",
   "metadata": {},
   "source": [
    "Taking all the columns we need and then also replacing the values of gender to Male and Female and ever use with True and False."
   ]
  },
  {
   "cell_type": "code",
   "execution_count": null,
   "metadata": {},
   "outputs": [],
   "source": [
    "adults = df[df['EDUCATION_ADULT'].isnull() == False]\n",
    "adult_gender_edu_usage = adults[['GENDER', 'EDUCATION_ADULT', 'EVER_USE']]\n",
    "adult_gender_edu_usage['GENDER'] = adult_gender_edu_usage['GENDER'].replace({1: 'Male', 2: 'Female'})\n",
    "adult_gender_edu_usage['EVER_USE'] = adult_gender_edu_usage['EVER_USE'].replace({1: True, 2: False})\n",
    "adult_gender_edu_usage = adult_gender_edu_usage[adult_gender_edu_usage['EVER_USE'].isnull() == False]\n",
    "adult_gender_edu_usage.head()"
   ]
  },
  {
   "cell_type": "markdown",
   "metadata": {},
   "source": [
    "Education Counts Table"
   ]
  },
  {
   "cell_type": "code",
   "execution_count": null,
   "metadata": {},
   "outputs": [],
   "source": [
    "edu_cnts = adult_gender_edu_usage.pivot_table(index='EDUCATION_ADULT', columns='GENDER', values = 'EVER_USE', \n",
    "                                               aggfunc='size')\n",
    "edu_cnts"
   ]
  },
  {
   "cell_type": "markdown",
   "metadata": {},
   "source": [
    "Conditional Distribution "
   ]
  },
  {
   "cell_type": "code",
   "execution_count": null,
   "metadata": {},
   "outputs": [],
   "source": [
    "cond_distr = edu_cnts.apply(lambda x: x / x.sum())\n",
    "cond_distr"
   ]
  },
  {
   "cell_type": "markdown",
   "metadata": {},
   "source": [
    "Graph displaying the education level and gender based on ever use."
   ]
  },
  {
   "cell_type": "code",
   "execution_count": null,
   "metadata": {},
   "outputs": [],
   "source": [
    "title='distribution of adult education on gender'\n",
    "cond_distr.plot(kind='barh', title=title);"
   ]
  },
  {
   "cell_type": "markdown",
   "metadata": {},
   "source": [
    "We decided to use a TVD test statistic for our hypothesis test. "
   ]
  },
  {
   "cell_type": "code",
   "execution_count": null,
   "metadata": {},
   "outputs": [],
   "source": [
    "# test stat\n",
    "def tvd_of_groups(df):\n",
    "    cnts = df.pivot_table(index='EDUCATION_ADULT', columns='GENDER', aggfunc='size')\n",
    "    distr = cnts.apply(lambda x: x / x.sum())\n",
    "    return distr.diff(axis=1).iloc[-1].abs().sum()"
   ]
  },
  {
   "cell_type": "markdown",
   "metadata": {},
   "source": [
    "Observed Value"
   ]
  },
  {
   "cell_type": "code",
   "execution_count": null,
   "metadata": {},
   "outputs": [],
   "source": [
    "obs = tvd_of_groups(adult_gender_edu_usage)\n",
    "obs"
   ]
  },
  {
   "cell_type": "markdown",
   "metadata": {},
   "source": [
    "Running 1000 Simulations "
   ]
  },
  {
   "cell_type": "code",
   "execution_count": null,
   "metadata": {},
   "outputs": [],
   "source": [
    "N = 1000\n",
    "tvds = []\n",
    "for _ in range(N):\n",
    "    \n",
    "    s = adult_gender_edu_usage['GENDER'].sample(frac=1, replace=False).reset_index(drop=True)\n",
    "    shuffled = adult_gender_edu_usage.loc[:, ['EDUCATION_ADULT', 'EVER_USE']].assign(GENDER=s)\n",
    "    tvds.append(tvd_of_groups(shuffled))\n",
    "\n",
    "tvds = pd.Series(tvds)"
   ]
  },
  {
   "cell_type": "markdown",
   "metadata": {},
   "source": [
    "P-Value"
   ]
  },
  {
   "cell_type": "code",
   "execution_count": null,
   "metadata": {},
   "outputs": [],
   "source": [
    "pval = (tvds >= obs).sum() / N\n",
    "pval"
   ]
  },
  {
   "cell_type": "markdown",
   "metadata": {},
   "source": [
    "With this, we fail again fail to reject the null hypothesis and cannot accept the alternate hypothesis. "
   ]
  },
  {
   "cell_type": "code",
   "execution_count": null,
   "metadata": {},
   "outputs": [],
   "source": [
    "We decided to do two hypothesis tests: 1. Income and if they ever used marijuana for younger people and 2. Is there a significant difference between genders of adults that ever used marijuana\n",
    "\n",
    "DataFrame with just people under the age of 26\n",
    "\n",
    "under_26 = df[df['AGE'] <= 26]\n",
    "under_26.head()\n",
    "\n",
    "Taking just to columns we need and then dropping the null values (just because it is makes it simpler for our hypothesis testing) and we decided to drop the refused and unknown because of the test statistic we decided to use. We used a difference of means, so if we included these values, the numbers would be skewed. \n",
    "\n",
    "income_ever_use = under_26[['INCOME', 'EVER_USE']]\n",
    "income_ever_use = income_ever_use[income_ever_use['INCOME'].isnull() == False]\n",
    "income_ever_use = income_ever_use[income_ever_use['INCOME'] != 7777.0]\n",
    "income_ever_use = income_ever_use[income_ever_use['INCOME'] != 9999.0]\n",
    "income_ever_use = income_ever_use[income_ever_use['EVER_USE'].isnull() == False] #NA means that they have never used marijuana\n",
    "income_ever_use['EVER_USE'] = income_ever_use['EVER_USE'].replace({1: True, 2: False})\n",
    "income_ever_use.head()\n",
    "\n",
    "Observed Difference\n",
    "\n",
    "df1 = income_ever_use.groupby('EVER_USE').mean()\n",
    "observed_difference = df1.diff().iloc[-1, 0]\n",
    "observed_difference\n",
    "\n",
    "Running 1000 simulations\n",
    "\n",
    "n_repetitions = 1000\n",
    "\n",
    "differences = []\n",
    "for _ in range(n_repetitions):\n",
    "    \n",
    "    # shuffle the income\n",
    "    shuffled_income = (\n",
    "        income_ever_use['INCOME']\n",
    "        .sample(replace=False, frac=1)\n",
    "        .reset_index(drop=True)\n",
    "    )\n",
    "    \n",
    "    # put them in a table\n",
    "    shuffled = (\n",
    "        income_ever_use\n",
    "        .assign(**{'Shuffled Income': shuffled_income})\n",
    "    )\n",
    "    \n",
    "    # compute the group differences (test statistic!)\n",
    "    group_means = (\n",
    "        shuffled\n",
    "        .groupby('EVER_USE')\n",
    "        .mean()\n",
    "        .loc[:, 'Shuffled Income']\n",
    "    )\n",
    "    difference = group_means.diff().iloc[-1]\n",
    "    \n",
    "    # add it to the list of results\n",
    "    differences.append(difference)\n",
    "\n",
    "Graph displaying the average differences in income\n",
    "\n",
    "title = 'Average differences in Income'\n",
    "pd.Series(differences).plot(kind='hist', density=True, title=title)\n",
    "plt.scatter(observed_difference, 0, color='red', s=40);\n",
    "\n",
    "P-Value\n",
    "\n",
    "p_val = np.count_nonzero(differences <= observed_difference) / n_repetitions\n",
    "p_val\n",
    "\n",
    "With this p-value, we fail to reject the null hypothesis and cannot accept the alternate hypothesis\n",
    "\n",
    "Taking all the columns we need and then also replacing the values of gender to Male and Female and ever use with True and False.\n",
    "\n",
    "adults = df[df['EDUCATION_ADULT'].isnull() == False]\n",
    "adult_gender_edu_usage = adults[['GENDER', 'EDUCATION_ADULT', 'EVER_USE']]\n",
    "adult_gender_edu_usage['GENDER'] = adult_gender_edu_usage['GENDER'].replace({1: 'Male', 2: 'Female'})\n",
    "adult_gender_edu_usage['EVER_USE'] = adult_gender_edu_usage['EVER_USE'].replace({1: True, 2: False})\n",
    "adult_gender_edu_usage = adult_gender_edu_usage[adult_gender_edu_usage['EVER_USE'].isnull() == False]\n",
    "adult_gender_edu_usage.head()\n",
    "\n",
    "Education Counts Table\n",
    "\n",
    "edu_cnts = adult_gender_edu_usage.pivot_table(index='EDUCATION_ADULT', columns='GENDER', values = 'EVER_USE', \n",
    "                                               aggfunc='size')\n",
    "edu_cnts\n",
    "\n",
    "Conditional Distribution \n",
    "\n",
    "cond_distr = edu_cnts.apply(lambda x: x / x.sum())\n",
    "cond_distr\n",
    "\n",
    "Graph displaying the education level and gender based on ever use.\n",
    "\n",
    "title='distribution of adult education on gender'\n",
    "cond_distr.plot(kind='barh', title=title);\n",
    "\n",
    "We decided to use a TVD test statistic for our hypothesis test. \n",
    "\n",
    "# test stat\n",
    "def tvd_of_groups(df):\n",
    "    cnts = df.pivot_table(index='EDUCATION_ADULT', columns='GENDER', aggfunc='size')\n",
    "    distr = cnts.apply(lambda x: x / x.sum())\n",
    "    return distr.diff(axis=1).iloc[-1].abs().sum()\n",
    "\n",
    "Observed Value\n",
    "\n",
    "obs = tvd_of_groups(adult_gender_edu_usage)\n",
    "obs\n",
    "\n",
    "Running 1000 Simulations \n",
    "\n",
    "N = 1000\n",
    "tvds = []\n",
    "for _ in range(N):\n",
    "    \n",
    "    s = adult_gender_edu_usage['GENDER'].sample(frac=1, replace=False).reset_index(drop=True)\n",
    "    shuffled = adult_gender_edu_usage.loc[:, ['EDUCATION_ADULT', 'EVER_USE']].assign(GENDER=s)\n",
    "    tvds.append(tvd_of_groups(shuffled))\n",
    "\n",
    "tvds = pd.Series(tvds)\n",
    "\n",
    "P-Value\n",
    "\n",
    "pval = (tvds >= obs).sum() / N\n",
    "pval\n",
    "\n",
    "With this, we fail again fail to reject the null hypothesis and cannot accept the alternate hypothesis. "
   ]
  },
  {
   "cell_type": "markdown",
   "metadata": {},
   "source": [
    "# Ethics & Privacy"
   ]
  },
  {
   "cell_type": "markdown",
   "metadata": {},
   "source": [
    "Since our research question explores the trends in marijuana usage -- a sensitive topic that is deeply intertwined with the socioeconomic fabric and political discourse of the United States, we have decided to restrict our sources to academic, peer-reviewed, and government-funded research in order to ensure that our questions and hypotheses are rooted in empirical research and motivated by accurate facts. \n",
    "\n",
    "For the purpose of this project, we will only use datasets released by the National Center for Health Statistics (NHANES) to ensure that we have reliable and comprehensive documentation about the components, sampling and measurement methodologies, and processing and review procedures. Given the data is government-funded research, and made accessible to the public, we believe to have permission to use this data in order to find correlations as long as there is no breach in privacy. \n",
    "\n",
    "Our project also involves analysis of demographic information, and therefore it is imperative to ensure the privacy of the individuals involved. The publically accessible NHANES datasets that we will be using for the purpose of this project use a sequence number for every participant and omit critical demographic information such as names, addresses, and other geographical location details that could be used to trace or identify the participants. \n",
    "\n",
    "We are aware of the privacy issues concerning data, and we will definitely take that into consideration while working with this dataset, but we do want to thank the CDC for taking many preliminary actions so that we have to work less on the aspect of privacy within our data. \n",
    "\n",
    "In regards to our data having potential biases, the data was collected to represent a varied demographic shown by the codebook of our data source given by NHANES. Interviews were held in-home as to not exclude those that may not have computer access. The only issue may be that responses from participants younger than 16 had a proxy who provided information for them and for participants who could not answer the questions themselves. This could lead to misrepresentation of information if the proxy did not fully know the truth and/or younger children withholding information as to not \"get in trouble\", especially in regards to marijuana usage. Our topic specifically did hold an issue of having missing data or omitted responses towards marijuana use, most likely due to the not-yet legalization in most states of the drug. We handled this issue by cleaning the data and dropping the responses missing data. Luckily we were still left with a significant amount of responses to work with. "
   ]
  },
  {
   "cell_type": "markdown",
   "metadata": {},
   "source": [
    "# Conclusion & Discussion"
   ]
  },
  {
   "cell_type": "markdown",
   "metadata": {},
   "source": [
    "*Fill in your discussion information here*"
   ]
  }
 ],
 "metadata": {
  "kernelspec": {
   "display_name": "Python 3",
   "language": "python",
   "name": "python3"
  },
  "language_info": {
   "codemirror_mode": {
    "name": "ipython",
    "version": 3
   },
   "file_extension": ".py",
   "mimetype": "text/x-python",
   "name": "python",
   "nbconvert_exporter": "python",
   "pygments_lexer": "ipython3",
   "version": "3.6.4"
  }
 },
 "nbformat": 4,
 "nbformat_minor": 2
}
