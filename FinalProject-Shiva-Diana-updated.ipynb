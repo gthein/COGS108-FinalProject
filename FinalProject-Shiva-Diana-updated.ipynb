{
 "cells": [
  {
   "cell_type": "markdown",
   "metadata": {},
   "source": [
    "# COGS 108 - Final Project "
   ]
  },
  {
   "cell_type": "markdown",
   "metadata": {},
   "source": [
    "# How High Is the U.S.?"
   ]
  },
  {
   "cell_type": "markdown",
   "metadata": {},
   "source": [
    "# Overview"
   ]
  },
  {
   "cell_type": "markdown",
   "metadata": {},
   "source": [
    "As marijuana becomes legalized and viewed as a norm in U.S. culture, we want to explore marijuana usage as it relates to people's living conditions. In exploring the relationship between marijuana usage and important factors like age, education levels, and socioeconomic status, we can gain a better understanding of who is prone or susceptible to using based on their living conditions as it could affect their overall living experiences."
   ]
  },
  {
   "cell_type": "markdown",
   "metadata": {},
   "source": [
    "# Names\n",
    "\n",
    "- Gregory Thein\n",
    "- Queen Tran\n",
    "- Shiva Upadhye\n",
    "- Diana Thai\n",
    "- Osvaldo Vazquez\n",
    "- Sophie Concordel "
   ]
  },
  {
   "cell_type": "markdown",
   "metadata": {},
   "source": [
    "# Group Members IDs\n",
    "\n",
    "- Gregory - A14369060\n",
    "- Queen - FILL\n",
    "- Shiva - A15693318\n",
    "- Diana - A12855877\n",
    "- Osvaldo - A14418440\n",
    "- Sophie - FILL"
   ]
  },
  {
   "cell_type": "markdown",
   "metadata": {},
   "source": [
    "# Research Question"
   ]
  },
  {
   "cell_type": "markdown",
   "metadata": {},
   "source": [
    "We want to explore how various living conditions throughout the country is related to marijuana usage, making us prompt the question: \n",
    "\n",
    "“What is the relationship between marijuana usage, age, and socioeconomic status throughout the United States?”\n"
   ]
  },
  {
   "cell_type": "markdown",
   "metadata": {},
   "source": [
    "## Background and Prior Work"
   ]
  },
  {
   "cell_type": "markdown",
   "metadata": {},
   "source": [
    "*Fill in your background and prior work here* \n",
    "\n",
    "References (include links):\n",
    "- 1)\n",
    "- 2)"
   ]
  },
  {
   "cell_type": "markdown",
   "metadata": {},
   "source": [
    "# Hypothesis\n"
   ]
  },
  {
   "cell_type": "markdown",
   "metadata": {},
   "source": [
    "We believe that there would be three groups that would have increased marijuana usage from the various factors that we decide to study on. \n",
    "\n",
    "First, younger people (anyone younger than 26) will have a higher rate of marijuana usage because of the social popularity and culture behind this drug amongst the youth. \n",
    "\n",
    "Second, we predict that as the income and education level increase (higher socioeconomic status), there should be a negative relationship with drug use, meaning that the higher the income and education level, the lower the marijuana use. \n",
    "\n",
    "Finally, we also believe that there could be a high usage of medical marijuana in elderly and sick people as the popularity of medical marijuana increases throughout the country. "
   ]
  },
  {
   "cell_type": "markdown",
   "metadata": {},
   "source": [
    "# Dataset(s)"
   ]
  },
  {
   "cell_type": "markdown",
   "metadata": {},
   "source": [
    "We decided to use two datasets for our analysis. After searching long and hard, we found the treasure that is the NHANES (National Health and Nutrition Examination Survey) had a lot of data, allowing us to collect a lot of information for a lot of people. There were multiple datasets from this page, organized by year and categories. We decided to use the 2015-2016 dataset since it was the most relevant completed dataset that was publically available. We decided to utilize the Demographics dataset since it contained most of our information about age and socioeconomic status and the Drug Usage dataset that allowed us to see the marijuana usage for the data. \n",
    "\n",
    "\n",
    "***TO DO***\n",
    "- Dataset Name:\n",
    "- Link to the dataset:\n",
    "- Number of observations:\n",
    "\n",
    "- Dataset Name:\n",
    "- Link to the dataset:\n",
    "- Number of observations:\n",
    "\n",
    "1-2 sentences describing each dataset. \n",
    "\n",
    "If you plan to use multiple datasets, add 1-2 sentences about how you plan to combine these datasets."
   ]
  },
  {
   "cell_type": "markdown",
   "metadata": {},
   "source": [
    "# Setup"
   ]
  },
  {
   "cell_type": "code",
   "execution_count": 1,
   "metadata": {},
   "outputs": [],
   "source": [
    "%matplotlib inline\n",
    "\n",
    "import pandas as pd\n",
    "import numpy as np\n",
    "\n",
    "import matplotlib.pyplot as plt\n",
    "import seaborn as sns\n",
    "import os\n",
    "import patsy\n",
    "import scipy.stats as stats\n",
    "from scipy.stats import ttest_ind, chisquare, normaltest\n",
    "import statsmodels.api as sm\n",
    "\n",
    "import warnings\n",
    "warnings.filterwarnings(\"ignore\")\n",
    "\n",
    "# set defaults\n",
    "plt.style.use('seaborn-white')   # seaborn custom plot style\n",
    "plt.rc('figure', dpi=100, figsize=(7, 5))   # set default size/resolution\n",
    "plt.rc('font', size=12)   # font size"
   ]
  },
  {
   "cell_type": "markdown",
   "metadata": {},
   "source": [
    "# Data Cleaning"
   ]
  },
  {
   "cell_type": "markdown",
   "metadata": {},
   "source": [
    "Describe your data cleaning steps here."
   ]
  },
  {
   "cell_type": "code",
   "execution_count": 2,
   "metadata": {},
   "outputs": [
    {
     "data": {
      "text/html": [
       "<div>\n",
       "<style scoped>\n",
       "    .dataframe tbody tr th:only-of-type {\n",
       "        vertical-align: middle;\n",
       "    }\n",
       "\n",
       "    .dataframe tbody tr th {\n",
       "        vertical-align: top;\n",
       "    }\n",
       "\n",
       "    .dataframe thead th {\n",
       "        text-align: right;\n",
       "    }\n",
       "</style>\n",
       "<table border=\"1\" class=\"dataframe\">\n",
       "  <thead>\n",
       "    <tr style=\"text-align: right;\">\n",
       "      <th></th>\n",
       "      <th>SEQN</th>\n",
       "      <th>SDDSRVYR</th>\n",
       "      <th>RIDSTATR</th>\n",
       "      <th>RIAGENDR</th>\n",
       "      <th>RIDAGEYR</th>\n",
       "      <th>RIDAGEMN</th>\n",
       "      <th>RIDRETH1</th>\n",
       "      <th>RIDRETH3</th>\n",
       "      <th>RIDEXMON</th>\n",
       "      <th>RIDEXAGM</th>\n",
       "      <th>...</th>\n",
       "      <th>DMDHREDU</th>\n",
       "      <th>DMDHRMAR</th>\n",
       "      <th>DMDHSEDU</th>\n",
       "      <th>WTINT2YR</th>\n",
       "      <th>WTMEC2YR</th>\n",
       "      <th>SDMVPSU</th>\n",
       "      <th>SDMVSTRA</th>\n",
       "      <th>INDHHIN2</th>\n",
       "      <th>INDFMIN2</th>\n",
       "      <th>INDFMPIR</th>\n",
       "    </tr>\n",
       "  </thead>\n",
       "  <tbody>\n",
       "    <tr>\n",
       "      <th>0</th>\n",
       "      <td>83732.0</td>\n",
       "      <td>9.0</td>\n",
       "      <td>2.0</td>\n",
       "      <td>1.0</td>\n",
       "      <td>62.0</td>\n",
       "      <td>NaN</td>\n",
       "      <td>3.0</td>\n",
       "      <td>3.0</td>\n",
       "      <td>1.0</td>\n",
       "      <td>NaN</td>\n",
       "      <td>...</td>\n",
       "      <td>5.0</td>\n",
       "      <td>1.0</td>\n",
       "      <td>3.0</td>\n",
       "      <td>134671.370419</td>\n",
       "      <td>135629.507405</td>\n",
       "      <td>1.0</td>\n",
       "      <td>125.0</td>\n",
       "      <td>10.0</td>\n",
       "      <td>10.0</td>\n",
       "      <td>4.39</td>\n",
       "    </tr>\n",
       "    <tr>\n",
       "      <th>1</th>\n",
       "      <td>83733.0</td>\n",
       "      <td>9.0</td>\n",
       "      <td>2.0</td>\n",
       "      <td>1.0</td>\n",
       "      <td>53.0</td>\n",
       "      <td>NaN</td>\n",
       "      <td>3.0</td>\n",
       "      <td>3.0</td>\n",
       "      <td>1.0</td>\n",
       "      <td>NaN</td>\n",
       "      <td>...</td>\n",
       "      <td>3.0</td>\n",
       "      <td>3.0</td>\n",
       "      <td>NaN</td>\n",
       "      <td>24328.560239</td>\n",
       "      <td>25282.425927</td>\n",
       "      <td>1.0</td>\n",
       "      <td>125.0</td>\n",
       "      <td>4.0</td>\n",
       "      <td>4.0</td>\n",
       "      <td>1.32</td>\n",
       "    </tr>\n",
       "    <tr>\n",
       "      <th>2</th>\n",
       "      <td>83734.0</td>\n",
       "      <td>9.0</td>\n",
       "      <td>2.0</td>\n",
       "      <td>1.0</td>\n",
       "      <td>78.0</td>\n",
       "      <td>NaN</td>\n",
       "      <td>3.0</td>\n",
       "      <td>3.0</td>\n",
       "      <td>2.0</td>\n",
       "      <td>NaN</td>\n",
       "      <td>...</td>\n",
       "      <td>3.0</td>\n",
       "      <td>1.0</td>\n",
       "      <td>3.0</td>\n",
       "      <td>12400.008522</td>\n",
       "      <td>12575.838818</td>\n",
       "      <td>1.0</td>\n",
       "      <td>131.0</td>\n",
       "      <td>5.0</td>\n",
       "      <td>5.0</td>\n",
       "      <td>1.51</td>\n",
       "    </tr>\n",
       "    <tr>\n",
       "      <th>3</th>\n",
       "      <td>83735.0</td>\n",
       "      <td>9.0</td>\n",
       "      <td>2.0</td>\n",
       "      <td>2.0</td>\n",
       "      <td>56.0</td>\n",
       "      <td>NaN</td>\n",
       "      <td>3.0</td>\n",
       "      <td>3.0</td>\n",
       "      <td>2.0</td>\n",
       "      <td>NaN</td>\n",
       "      <td>...</td>\n",
       "      <td>5.0</td>\n",
       "      <td>6.0</td>\n",
       "      <td>NaN</td>\n",
       "      <td>102717.995647</td>\n",
       "      <td>102078.634508</td>\n",
       "      <td>1.0</td>\n",
       "      <td>131.0</td>\n",
       "      <td>10.0</td>\n",
       "      <td>10.0</td>\n",
       "      <td>5.00</td>\n",
       "    </tr>\n",
       "    <tr>\n",
       "      <th>4</th>\n",
       "      <td>83736.0</td>\n",
       "      <td>9.0</td>\n",
       "      <td>2.0</td>\n",
       "      <td>2.0</td>\n",
       "      <td>42.0</td>\n",
       "      <td>NaN</td>\n",
       "      <td>4.0</td>\n",
       "      <td>4.0</td>\n",
       "      <td>2.0</td>\n",
       "      <td>NaN</td>\n",
       "      <td>...</td>\n",
       "      <td>4.0</td>\n",
       "      <td>3.0</td>\n",
       "      <td>NaN</td>\n",
       "      <td>17627.674984</td>\n",
       "      <td>18234.736219</td>\n",
       "      <td>2.0</td>\n",
       "      <td>126.0</td>\n",
       "      <td>7.0</td>\n",
       "      <td>7.0</td>\n",
       "      <td>1.23</td>\n",
       "    </tr>\n",
       "  </tbody>\n",
       "</table>\n",
       "<p>5 rows × 47 columns</p>\n",
       "</div>"
      ],
      "text/plain": [
       "      SEQN  SDDSRVYR  RIDSTATR  RIAGENDR  RIDAGEYR  RIDAGEMN  RIDRETH1  \\\n",
       "0  83732.0       9.0       2.0       1.0      62.0       NaN       3.0   \n",
       "1  83733.0       9.0       2.0       1.0      53.0       NaN       3.0   \n",
       "2  83734.0       9.0       2.0       1.0      78.0       NaN       3.0   \n",
       "3  83735.0       9.0       2.0       2.0      56.0       NaN       3.0   \n",
       "4  83736.0       9.0       2.0       2.0      42.0       NaN       4.0   \n",
       "\n",
       "   RIDRETH3  RIDEXMON  RIDEXAGM    ...     DMDHREDU  DMDHRMAR  DMDHSEDU  \\\n",
       "0       3.0       1.0       NaN    ...          5.0       1.0       3.0   \n",
       "1       3.0       1.0       NaN    ...          3.0       3.0       NaN   \n",
       "2       3.0       2.0       NaN    ...          3.0       1.0       3.0   \n",
       "3       3.0       2.0       NaN    ...          5.0       6.0       NaN   \n",
       "4       4.0       2.0       NaN    ...          4.0       3.0       NaN   \n",
       "\n",
       "        WTINT2YR       WTMEC2YR  SDMVPSU  SDMVSTRA  INDHHIN2  INDFMIN2  \\\n",
       "0  134671.370419  135629.507405      1.0     125.0      10.0      10.0   \n",
       "1   24328.560239   25282.425927      1.0     125.0       4.0       4.0   \n",
       "2   12400.008522   12575.838818      1.0     131.0       5.0       5.0   \n",
       "3  102717.995647  102078.634508      1.0     131.0      10.0      10.0   \n",
       "4   17627.674984   18234.736219      2.0     126.0       7.0       7.0   \n",
       "\n",
       "   INDFMPIR  \n",
       "0      4.39  \n",
       "1      1.32  \n",
       "2      1.51  \n",
       "3      5.00  \n",
       "4      1.23  \n",
       "\n",
       "[5 rows x 47 columns]"
      ]
     },
     "execution_count": 2,
     "metadata": {},
     "output_type": "execute_result"
    }
   ],
   "source": [
    "demographics = pd.read_sas('data/DEMO_I.XPT')\n",
    "demographics.head()"
   ]
  },
  {
   "cell_type": "code",
   "execution_count": 3,
   "metadata": {},
   "outputs": [
    {
     "data": {
      "text/html": [
       "<div>\n",
       "<style scoped>\n",
       "    .dataframe tbody tr th:only-of-type {\n",
       "        vertical-align: middle;\n",
       "    }\n",
       "\n",
       "    .dataframe tbody tr th {\n",
       "        vertical-align: top;\n",
       "    }\n",
       "\n",
       "    .dataframe thead th {\n",
       "        text-align: right;\n",
       "    }\n",
       "</style>\n",
       "<table border=\"1\" class=\"dataframe\">\n",
       "  <thead>\n",
       "    <tr style=\"text-align: right;\">\n",
       "      <th></th>\n",
       "      <th>SEQN</th>\n",
       "      <th>DUQ200</th>\n",
       "      <th>DUQ210</th>\n",
       "      <th>DUQ211</th>\n",
       "      <th>DUQ213</th>\n",
       "      <th>DUQ215Q</th>\n",
       "      <th>DUQ215U</th>\n",
       "      <th>DUQ217</th>\n",
       "      <th>DUQ219</th>\n",
       "      <th>DUQ220Q</th>\n",
       "      <th>...</th>\n",
       "      <th>DUQ380B</th>\n",
       "      <th>DUQ380C</th>\n",
       "      <th>DUQ380D</th>\n",
       "      <th>DUQ380E</th>\n",
       "      <th>DUQ390</th>\n",
       "      <th>DUQ400Q</th>\n",
       "      <th>DUQ400U</th>\n",
       "      <th>DUQ410</th>\n",
       "      <th>DUQ420</th>\n",
       "      <th>DUQ430</th>\n",
       "    </tr>\n",
       "  </thead>\n",
       "  <tbody>\n",
       "    <tr>\n",
       "      <th>0</th>\n",
       "      <td>83732.0</td>\n",
       "      <td>NaN</td>\n",
       "      <td>NaN</td>\n",
       "      <td>NaN</td>\n",
       "      <td>NaN</td>\n",
       "      <td>NaN</td>\n",
       "      <td>NaN</td>\n",
       "      <td>NaN</td>\n",
       "      <td>NaN</td>\n",
       "      <td>NaN</td>\n",
       "      <td>...</td>\n",
       "      <td>NaN</td>\n",
       "      <td>NaN</td>\n",
       "      <td>NaN</td>\n",
       "      <td>NaN</td>\n",
       "      <td>NaN</td>\n",
       "      <td>NaN</td>\n",
       "      <td>NaN</td>\n",
       "      <td>NaN</td>\n",
       "      <td>NaN</td>\n",
       "      <td>NaN</td>\n",
       "    </tr>\n",
       "    <tr>\n",
       "      <th>1</th>\n",
       "      <td>83733.0</td>\n",
       "      <td>2.0</td>\n",
       "      <td>NaN</td>\n",
       "      <td>NaN</td>\n",
       "      <td>NaN</td>\n",
       "      <td>NaN</td>\n",
       "      <td>NaN</td>\n",
       "      <td>NaN</td>\n",
       "      <td>NaN</td>\n",
       "      <td>NaN</td>\n",
       "      <td>...</td>\n",
       "      <td>NaN</td>\n",
       "      <td>NaN</td>\n",
       "      <td>NaN</td>\n",
       "      <td>NaN</td>\n",
       "      <td>NaN</td>\n",
       "      <td>NaN</td>\n",
       "      <td>NaN</td>\n",
       "      <td>NaN</td>\n",
       "      <td>NaN</td>\n",
       "      <td>NaN</td>\n",
       "    </tr>\n",
       "    <tr>\n",
       "      <th>2</th>\n",
       "      <td>83735.0</td>\n",
       "      <td>2.0</td>\n",
       "      <td>NaN</td>\n",
       "      <td>NaN</td>\n",
       "      <td>NaN</td>\n",
       "      <td>NaN</td>\n",
       "      <td>NaN</td>\n",
       "      <td>NaN</td>\n",
       "      <td>NaN</td>\n",
       "      <td>NaN</td>\n",
       "      <td>...</td>\n",
       "      <td>NaN</td>\n",
       "      <td>NaN</td>\n",
       "      <td>NaN</td>\n",
       "      <td>NaN</td>\n",
       "      <td>NaN</td>\n",
       "      <td>NaN</td>\n",
       "      <td>NaN</td>\n",
       "      <td>NaN</td>\n",
       "      <td>NaN</td>\n",
       "      <td>NaN</td>\n",
       "    </tr>\n",
       "    <tr>\n",
       "      <th>3</th>\n",
       "      <td>83736.0</td>\n",
       "      <td>1.0</td>\n",
       "      <td>25.0</td>\n",
       "      <td>1.0</td>\n",
       "      <td>25.0</td>\n",
       "      <td>5.397605e-79</td>\n",
       "      <td>1.0</td>\n",
       "      <td>5.0</td>\n",
       "      <td>4.0</td>\n",
       "      <td>1.0</td>\n",
       "      <td>...</td>\n",
       "      <td>NaN</td>\n",
       "      <td>NaN</td>\n",
       "      <td>NaN</td>\n",
       "      <td>NaN</td>\n",
       "      <td>NaN</td>\n",
       "      <td>NaN</td>\n",
       "      <td>NaN</td>\n",
       "      <td>NaN</td>\n",
       "      <td>NaN</td>\n",
       "      <td>2.0</td>\n",
       "    </tr>\n",
       "    <tr>\n",
       "      <th>4</th>\n",
       "      <td>83741.0</td>\n",
       "      <td>1.0</td>\n",
       "      <td>15.0</td>\n",
       "      <td>1.0</td>\n",
       "      <td>16.0</td>\n",
       "      <td>1.000000e+00</td>\n",
       "      <td>4.0</td>\n",
       "      <td>4.0</td>\n",
       "      <td>2.0</td>\n",
       "      <td>1.0</td>\n",
       "      <td>...</td>\n",
       "      <td>NaN</td>\n",
       "      <td>NaN</td>\n",
       "      <td>NaN</td>\n",
       "      <td>NaN</td>\n",
       "      <td>NaN</td>\n",
       "      <td>NaN</td>\n",
       "      <td>NaN</td>\n",
       "      <td>NaN</td>\n",
       "      <td>NaN</td>\n",
       "      <td>1.0</td>\n",
       "    </tr>\n",
       "  </tbody>\n",
       "</table>\n",
       "<p>5 rows × 42 columns</p>\n",
       "</div>"
      ],
      "text/plain": [
       "      SEQN  DUQ200  DUQ210  DUQ211  DUQ213       DUQ215Q  DUQ215U  DUQ217  \\\n",
       "0  83732.0     NaN     NaN     NaN     NaN           NaN      NaN     NaN   \n",
       "1  83733.0     2.0     NaN     NaN     NaN           NaN      NaN     NaN   \n",
       "2  83735.0     2.0     NaN     NaN     NaN           NaN      NaN     NaN   \n",
       "3  83736.0     1.0    25.0     1.0    25.0  5.397605e-79      1.0     5.0   \n",
       "4  83741.0     1.0    15.0     1.0    16.0  1.000000e+00      4.0     4.0   \n",
       "\n",
       "   DUQ219  DUQ220Q   ...    DUQ380B  DUQ380C  DUQ380D  DUQ380E  DUQ390  \\\n",
       "0     NaN      NaN   ...        NaN      NaN      NaN      NaN     NaN   \n",
       "1     NaN      NaN   ...        NaN      NaN      NaN      NaN     NaN   \n",
       "2     NaN      NaN   ...        NaN      NaN      NaN      NaN     NaN   \n",
       "3     4.0      1.0   ...        NaN      NaN      NaN      NaN     NaN   \n",
       "4     2.0      1.0   ...        NaN      NaN      NaN      NaN     NaN   \n",
       "\n",
       "   DUQ400Q  DUQ400U  DUQ410  DUQ420  DUQ430  \n",
       "0      NaN      NaN     NaN     NaN     NaN  \n",
       "1      NaN      NaN     NaN     NaN     NaN  \n",
       "2      NaN      NaN     NaN     NaN     NaN  \n",
       "3      NaN      NaN     NaN     NaN     2.0  \n",
       "4      NaN      NaN     NaN     NaN     1.0  \n",
       "\n",
       "[5 rows x 42 columns]"
      ]
     },
     "execution_count": 3,
     "metadata": {},
     "output_type": "execute_result"
    }
   ],
   "source": [
    "questionaire = pd.read_sas('data/DUQ_I.XPT')\n",
    "questionaire.head()"
   ]
  },
  {
   "cell_type": "code",
   "execution_count": 4,
   "metadata": {},
   "outputs": [
    {
     "data": {
      "text/html": [
       "<div>\n",
       "<style scoped>\n",
       "    .dataframe tbody tr th:only-of-type {\n",
       "        vertical-align: middle;\n",
       "    }\n",
       "\n",
       "    .dataframe tbody tr th {\n",
       "        vertical-align: top;\n",
       "    }\n",
       "\n",
       "    .dataframe thead th {\n",
       "        text-align: right;\n",
       "    }\n",
       "</style>\n",
       "<table border=\"1\" class=\"dataframe\">\n",
       "  <thead>\n",
       "    <tr style=\"text-align: right;\">\n",
       "      <th></th>\n",
       "      <th>SEQN</th>\n",
       "      <th>SDDSRVYR</th>\n",
       "      <th>RIDSTATR</th>\n",
       "      <th>RIAGENDR</th>\n",
       "      <th>RIDAGEYR</th>\n",
       "      <th>RIDAGEMN</th>\n",
       "      <th>RIDRETH1</th>\n",
       "      <th>RIDRETH3</th>\n",
       "      <th>RIDEXMON</th>\n",
       "      <th>RIDEXAGM</th>\n",
       "      <th>...</th>\n",
       "      <th>DUQ380B</th>\n",
       "      <th>DUQ380C</th>\n",
       "      <th>DUQ380D</th>\n",
       "      <th>DUQ380E</th>\n",
       "      <th>DUQ390</th>\n",
       "      <th>DUQ400Q</th>\n",
       "      <th>DUQ400U</th>\n",
       "      <th>DUQ410</th>\n",
       "      <th>DUQ420</th>\n",
       "      <th>DUQ430</th>\n",
       "    </tr>\n",
       "  </thead>\n",
       "  <tbody>\n",
       "    <tr>\n",
       "      <th>0</th>\n",
       "      <td>83732.0</td>\n",
       "      <td>9.0</td>\n",
       "      <td>2.0</td>\n",
       "      <td>1.0</td>\n",
       "      <td>62.0</td>\n",
       "      <td>NaN</td>\n",
       "      <td>3.0</td>\n",
       "      <td>3.0</td>\n",
       "      <td>1.0</td>\n",
       "      <td>NaN</td>\n",
       "      <td>...</td>\n",
       "      <td>NaN</td>\n",
       "      <td>NaN</td>\n",
       "      <td>NaN</td>\n",
       "      <td>NaN</td>\n",
       "      <td>NaN</td>\n",
       "      <td>NaN</td>\n",
       "      <td>NaN</td>\n",
       "      <td>NaN</td>\n",
       "      <td>NaN</td>\n",
       "      <td>NaN</td>\n",
       "    </tr>\n",
       "    <tr>\n",
       "      <th>1</th>\n",
       "      <td>83733.0</td>\n",
       "      <td>9.0</td>\n",
       "      <td>2.0</td>\n",
       "      <td>1.0</td>\n",
       "      <td>53.0</td>\n",
       "      <td>NaN</td>\n",
       "      <td>3.0</td>\n",
       "      <td>3.0</td>\n",
       "      <td>1.0</td>\n",
       "      <td>NaN</td>\n",
       "      <td>...</td>\n",
       "      <td>NaN</td>\n",
       "      <td>NaN</td>\n",
       "      <td>NaN</td>\n",
       "      <td>NaN</td>\n",
       "      <td>NaN</td>\n",
       "      <td>NaN</td>\n",
       "      <td>NaN</td>\n",
       "      <td>NaN</td>\n",
       "      <td>NaN</td>\n",
       "      <td>NaN</td>\n",
       "    </tr>\n",
       "    <tr>\n",
       "      <th>2</th>\n",
       "      <td>83735.0</td>\n",
       "      <td>9.0</td>\n",
       "      <td>2.0</td>\n",
       "      <td>2.0</td>\n",
       "      <td>56.0</td>\n",
       "      <td>NaN</td>\n",
       "      <td>3.0</td>\n",
       "      <td>3.0</td>\n",
       "      <td>2.0</td>\n",
       "      <td>NaN</td>\n",
       "      <td>...</td>\n",
       "      <td>NaN</td>\n",
       "      <td>NaN</td>\n",
       "      <td>NaN</td>\n",
       "      <td>NaN</td>\n",
       "      <td>NaN</td>\n",
       "      <td>NaN</td>\n",
       "      <td>NaN</td>\n",
       "      <td>NaN</td>\n",
       "      <td>NaN</td>\n",
       "      <td>NaN</td>\n",
       "    </tr>\n",
       "    <tr>\n",
       "      <th>3</th>\n",
       "      <td>83736.0</td>\n",
       "      <td>9.0</td>\n",
       "      <td>2.0</td>\n",
       "      <td>2.0</td>\n",
       "      <td>42.0</td>\n",
       "      <td>NaN</td>\n",
       "      <td>4.0</td>\n",
       "      <td>4.0</td>\n",
       "      <td>2.0</td>\n",
       "      <td>NaN</td>\n",
       "      <td>...</td>\n",
       "      <td>NaN</td>\n",
       "      <td>NaN</td>\n",
       "      <td>NaN</td>\n",
       "      <td>NaN</td>\n",
       "      <td>NaN</td>\n",
       "      <td>NaN</td>\n",
       "      <td>NaN</td>\n",
       "      <td>NaN</td>\n",
       "      <td>NaN</td>\n",
       "      <td>2.0</td>\n",
       "    </tr>\n",
       "    <tr>\n",
       "      <th>4</th>\n",
       "      <td>83741.0</td>\n",
       "      <td>9.0</td>\n",
       "      <td>2.0</td>\n",
       "      <td>1.0</td>\n",
       "      <td>22.0</td>\n",
       "      <td>NaN</td>\n",
       "      <td>4.0</td>\n",
       "      <td>4.0</td>\n",
       "      <td>1.0</td>\n",
       "      <td>NaN</td>\n",
       "      <td>...</td>\n",
       "      <td>NaN</td>\n",
       "      <td>NaN</td>\n",
       "      <td>NaN</td>\n",
       "      <td>NaN</td>\n",
       "      <td>NaN</td>\n",
       "      <td>NaN</td>\n",
       "      <td>NaN</td>\n",
       "      <td>NaN</td>\n",
       "      <td>NaN</td>\n",
       "      <td>1.0</td>\n",
       "    </tr>\n",
       "  </tbody>\n",
       "</table>\n",
       "<p>5 rows × 88 columns</p>\n",
       "</div>"
      ],
      "text/plain": [
       "      SEQN  SDDSRVYR  RIDSTATR  RIAGENDR  RIDAGEYR  RIDAGEMN  RIDRETH1  \\\n",
       "0  83732.0       9.0       2.0       1.0      62.0       NaN       3.0   \n",
       "1  83733.0       9.0       2.0       1.0      53.0       NaN       3.0   \n",
       "2  83735.0       9.0       2.0       2.0      56.0       NaN       3.0   \n",
       "3  83736.0       9.0       2.0       2.0      42.0       NaN       4.0   \n",
       "4  83741.0       9.0       2.0       1.0      22.0       NaN       4.0   \n",
       "\n",
       "   RIDRETH3  RIDEXMON  RIDEXAGM   ...    DUQ380B  DUQ380C  DUQ380D  DUQ380E  \\\n",
       "0       3.0       1.0       NaN   ...        NaN      NaN      NaN      NaN   \n",
       "1       3.0       1.0       NaN   ...        NaN      NaN      NaN      NaN   \n",
       "2       3.0       2.0       NaN   ...        NaN      NaN      NaN      NaN   \n",
       "3       4.0       2.0       NaN   ...        NaN      NaN      NaN      NaN   \n",
       "4       4.0       1.0       NaN   ...        NaN      NaN      NaN      NaN   \n",
       "\n",
       "   DUQ390  DUQ400Q  DUQ400U  DUQ410  DUQ420  DUQ430  \n",
       "0     NaN      NaN      NaN     NaN     NaN     NaN  \n",
       "1     NaN      NaN      NaN     NaN     NaN     NaN  \n",
       "2     NaN      NaN      NaN     NaN     NaN     NaN  \n",
       "3     NaN      NaN      NaN     NaN     NaN     2.0  \n",
       "4     NaN      NaN      NaN     NaN     NaN     1.0  \n",
       "\n",
       "[5 rows x 88 columns]"
      ]
     },
     "execution_count": 4,
     "metadata": {},
     "output_type": "execute_result"
    }
   ],
   "source": [
    "merged = pd.merge(demographics, questionaire, on = 'SEQN')\n",
    "merged.head()"
   ]
  },
  {
   "cell_type": "code",
   "execution_count": 5,
   "metadata": {},
   "outputs": [],
   "source": [
    "cols = ['SEQN', 'RIAGENDR', 'RIDAGEYR', 'DMDEDUC3', 'DMDEDUC2', 'DMDMARTL', 'RIDEXPRG', 'INDHHIN2', \n",
    "        'INDFMPIR', 'DMDHHSIZ', 'DMDHHSZA', 'DMDHHSZB', 'DMDHHSZE', 'DUQ200', 'DUQ210', 'DUQ217', 'DUQ211', \n",
    "        'DUQ213', 'DUQ215Q', 'DUQ219', 'DUQ220Q', 'DUQ230']\n",
    "df = merged[cols]\n",
    "df['CHILDREN_NUM'] = df['DMDHHSZA'] + df['DMDHHSZB']\n",
    "df = df.drop(columns = ['DMDHHSZA', 'DMDHHSZB'])"
   ]
  },
  {
   "cell_type": "code",
   "execution_count": 6,
   "metadata": {},
   "outputs": [],
   "source": [
    "lst_7 = ['DMDEDUC2', 'DUQ200', 'DUQ217', 'DUQ211', 'DUQ219']\n",
    "lst_77 = ['DMDMARTL', 'DMDEDUC3', 'INDHHIN2']\n",
    "lst_777 = ['DUQ210', 'DUQ213', 'DUQ230']\n",
    "\n",
    "for i in lst_7:\n",
    "    df[i] = df[i].replace({7: 7777, 9: 9999})\n",
    "for i in lst_77:\n",
    "    df[i] = df[i].replace({77: 7777, 99: 9999})\n",
    "for i in lst_777:\n",
    "    df[i] = df[i].replace({777: 7777, 999: 9999})"
   ]
  },
  {
   "cell_type": "code",
   "execution_count": 7,
   "metadata": {},
   "outputs": [
    {
     "data": {
      "text/html": [
       "<div>\n",
       "<style scoped>\n",
       "    .dataframe tbody tr th:only-of-type {\n",
       "        vertical-align: middle;\n",
       "    }\n",
       "\n",
       "    .dataframe tbody tr th {\n",
       "        vertical-align: top;\n",
       "    }\n",
       "\n",
       "    .dataframe thead th {\n",
       "        text-align: right;\n",
       "    }\n",
       "</style>\n",
       "<table border=\"1\" class=\"dataframe\">\n",
       "  <thead>\n",
       "    <tr style=\"text-align: right;\">\n",
       "      <th></th>\n",
       "      <th>ID</th>\n",
       "      <th>GENDER</th>\n",
       "      <th>AGE</th>\n",
       "      <th>EDUCATION_KID</th>\n",
       "      <th>EDUCATION_ADULT</th>\n",
       "      <th>MARRIAGE</th>\n",
       "      <th>PREGNANCY</th>\n",
       "      <th>INCOME</th>\n",
       "      <th>INCOME_RATIO</th>\n",
       "      <th>HOUSEHOLD_NUM</th>\n",
       "      <th>...</th>\n",
       "      <th>EVER_USE</th>\n",
       "      <th>FIRST_USAGE</th>\n",
       "      <th>FREQUENCY</th>\n",
       "      <th>PER_MONTH</th>\n",
       "      <th>AGE_REGULAR_USE</th>\n",
       "      <th>LAST_ONCE_MONTH</th>\n",
       "      <th>AMOUNT</th>\n",
       "      <th>LAST_USAGE</th>\n",
       "      <th>PAST_MONTH_USAGE</th>\n",
       "      <th>CHILDREN_NUM</th>\n",
       "    </tr>\n",
       "  </thead>\n",
       "  <tbody>\n",
       "    <tr>\n",
       "      <th>0</th>\n",
       "      <td>83732.0</td>\n",
       "      <td>1.0</td>\n",
       "      <td>62.0</td>\n",
       "      <td>NaN</td>\n",
       "      <td>5.0</td>\n",
       "      <td>1.0</td>\n",
       "      <td>NaN</td>\n",
       "      <td>10.0</td>\n",
       "      <td>4.39</td>\n",
       "      <td>2.0</td>\n",
       "      <td>...</td>\n",
       "      <td>NaN</td>\n",
       "      <td>NaN</td>\n",
       "      <td>NaN</td>\n",
       "      <td>NaN</td>\n",
       "      <td>NaN</td>\n",
       "      <td>NaN</td>\n",
       "      <td>NaN</td>\n",
       "      <td>NaN</td>\n",
       "      <td>NaN</td>\n",
       "      <td>1.079521e-78</td>\n",
       "    </tr>\n",
       "    <tr>\n",
       "      <th>1</th>\n",
       "      <td>83733.0</td>\n",
       "      <td>1.0</td>\n",
       "      <td>53.0</td>\n",
       "      <td>NaN</td>\n",
       "      <td>3.0</td>\n",
       "      <td>3.0</td>\n",
       "      <td>NaN</td>\n",
       "      <td>4.0</td>\n",
       "      <td>1.32</td>\n",
       "      <td>1.0</td>\n",
       "      <td>...</td>\n",
       "      <td>2.0</td>\n",
       "      <td>NaN</td>\n",
       "      <td>NaN</td>\n",
       "      <td>NaN</td>\n",
       "      <td>NaN</td>\n",
       "      <td>NaN</td>\n",
       "      <td>NaN</td>\n",
       "      <td>NaN</td>\n",
       "      <td>NaN</td>\n",
       "      <td>1.079521e-78</td>\n",
       "    </tr>\n",
       "    <tr>\n",
       "      <th>2</th>\n",
       "      <td>83735.0</td>\n",
       "      <td>2.0</td>\n",
       "      <td>56.0</td>\n",
       "      <td>NaN</td>\n",
       "      <td>5.0</td>\n",
       "      <td>6.0</td>\n",
       "      <td>NaN</td>\n",
       "      <td>10.0</td>\n",
       "      <td>5.00</td>\n",
       "      <td>1.0</td>\n",
       "      <td>...</td>\n",
       "      <td>2.0</td>\n",
       "      <td>NaN</td>\n",
       "      <td>NaN</td>\n",
       "      <td>NaN</td>\n",
       "      <td>NaN</td>\n",
       "      <td>NaN</td>\n",
       "      <td>NaN</td>\n",
       "      <td>NaN</td>\n",
       "      <td>NaN</td>\n",
       "      <td>1.079521e-78</td>\n",
       "    </tr>\n",
       "    <tr>\n",
       "      <th>3</th>\n",
       "      <td>83736.0</td>\n",
       "      <td>2.0</td>\n",
       "      <td>42.0</td>\n",
       "      <td>NaN</td>\n",
       "      <td>4.0</td>\n",
       "      <td>3.0</td>\n",
       "      <td>1.0</td>\n",
       "      <td>7.0</td>\n",
       "      <td>1.23</td>\n",
       "      <td>5.0</td>\n",
       "      <td>...</td>\n",
       "      <td>1.0</td>\n",
       "      <td>25.0</td>\n",
       "      <td>5.0</td>\n",
       "      <td>1.0</td>\n",
       "      <td>25.0</td>\n",
       "      <td>5.397605e-79</td>\n",
       "      <td>4.0</td>\n",
       "      <td>1.0</td>\n",
       "      <td>30.0</td>\n",
       "      <td>2.000000e+00</td>\n",
       "    </tr>\n",
       "    <tr>\n",
       "      <th>4</th>\n",
       "      <td>83741.0</td>\n",
       "      <td>1.0</td>\n",
       "      <td>22.0</td>\n",
       "      <td>NaN</td>\n",
       "      <td>4.0</td>\n",
       "      <td>5.0</td>\n",
       "      <td>NaN</td>\n",
       "      <td>7.0</td>\n",
       "      <td>2.08</td>\n",
       "      <td>3.0</td>\n",
       "      <td>...</td>\n",
       "      <td>1.0</td>\n",
       "      <td>15.0</td>\n",
       "      <td>4.0</td>\n",
       "      <td>1.0</td>\n",
       "      <td>16.0</td>\n",
       "      <td>1.000000e+00</td>\n",
       "      <td>2.0</td>\n",
       "      <td>1.0</td>\n",
       "      <td>25.0</td>\n",
       "      <td>1.079521e-78</td>\n",
       "    </tr>\n",
       "    <tr>\n",
       "      <th>5</th>\n",
       "      <td>83742.0</td>\n",
       "      <td>2.0</td>\n",
       "      <td>32.0</td>\n",
       "      <td>NaN</td>\n",
       "      <td>4.0</td>\n",
       "      <td>1.0</td>\n",
       "      <td>2.0</td>\n",
       "      <td>6.0</td>\n",
       "      <td>1.03</td>\n",
       "      <td>4.0</td>\n",
       "      <td>...</td>\n",
       "      <td>1.0</td>\n",
       "      <td>18.0</td>\n",
       "      <td>NaN</td>\n",
       "      <td>2.0</td>\n",
       "      <td>NaN</td>\n",
       "      <td>NaN</td>\n",
       "      <td>NaN</td>\n",
       "      <td>13.0</td>\n",
       "      <td>NaN</td>\n",
       "      <td>2.000000e+00</td>\n",
       "    </tr>\n",
       "    <tr>\n",
       "      <th>6</th>\n",
       "      <td>83743.0</td>\n",
       "      <td>1.0</td>\n",
       "      <td>18.0</td>\n",
       "      <td>11.0</td>\n",
       "      <td>NaN</td>\n",
       "      <td>NaN</td>\n",
       "      <td>NaN</td>\n",
       "      <td>15.0</td>\n",
       "      <td>5.00</td>\n",
       "      <td>3.0</td>\n",
       "      <td>...</td>\n",
       "      <td>2.0</td>\n",
       "      <td>NaN</td>\n",
       "      <td>NaN</td>\n",
       "      <td>NaN</td>\n",
       "      <td>NaN</td>\n",
       "      <td>NaN</td>\n",
       "      <td>NaN</td>\n",
       "      <td>NaN</td>\n",
       "      <td>NaN</td>\n",
       "      <td>1.079521e-78</td>\n",
       "    </tr>\n",
       "    <tr>\n",
       "      <th>7</th>\n",
       "      <td>83744.0</td>\n",
       "      <td>1.0</td>\n",
       "      <td>56.0</td>\n",
       "      <td>NaN</td>\n",
       "      <td>3.0</td>\n",
       "      <td>3.0</td>\n",
       "      <td>NaN</td>\n",
       "      <td>3.0</td>\n",
       "      <td>1.19</td>\n",
       "      <td>1.0</td>\n",
       "      <td>...</td>\n",
       "      <td>1.0</td>\n",
       "      <td>18.0</td>\n",
       "      <td>NaN</td>\n",
       "      <td>2.0</td>\n",
       "      <td>NaN</td>\n",
       "      <td>NaN</td>\n",
       "      <td>NaN</td>\n",
       "      <td>20.0</td>\n",
       "      <td>NaN</td>\n",
       "      <td>1.079521e-78</td>\n",
       "    </tr>\n",
       "    <tr>\n",
       "      <th>8</th>\n",
       "      <td>83747.0</td>\n",
       "      <td>1.0</td>\n",
       "      <td>46.0</td>\n",
       "      <td>NaN</td>\n",
       "      <td>5.0</td>\n",
       "      <td>6.0</td>\n",
       "      <td>NaN</td>\n",
       "      <td>3.0</td>\n",
       "      <td>0.75</td>\n",
       "      <td>2.0</td>\n",
       "      <td>...</td>\n",
       "      <td>2.0</td>\n",
       "      <td>NaN</td>\n",
       "      <td>NaN</td>\n",
       "      <td>NaN</td>\n",
       "      <td>NaN</td>\n",
       "      <td>NaN</td>\n",
       "      <td>NaN</td>\n",
       "      <td>NaN</td>\n",
       "      <td>NaN</td>\n",
       "      <td>1.079521e-78</td>\n",
       "    </tr>\n",
       "    <tr>\n",
       "      <th>9</th>\n",
       "      <td>83750.0</td>\n",
       "      <td>1.0</td>\n",
       "      <td>45.0</td>\n",
       "      <td>NaN</td>\n",
       "      <td>2.0</td>\n",
       "      <td>5.0</td>\n",
       "      <td>NaN</td>\n",
       "      <td>10.0</td>\n",
       "      <td>1.36</td>\n",
       "      <td>5.0</td>\n",
       "      <td>...</td>\n",
       "      <td>1.0</td>\n",
       "      <td>21.0</td>\n",
       "      <td>NaN</td>\n",
       "      <td>2.0</td>\n",
       "      <td>NaN</td>\n",
       "      <td>NaN</td>\n",
       "      <td>NaN</td>\n",
       "      <td>20.0</td>\n",
       "      <td>1.0</td>\n",
       "      <td>2.000000e+00</td>\n",
       "    </tr>\n",
       "  </tbody>\n",
       "</table>\n",
       "<p>10 rows × 21 columns</p>\n",
       "</div>"
      ],
      "text/plain": [
       "        ID  GENDER   AGE  EDUCATION_KID  EDUCATION_ADULT  MARRIAGE  PREGNANCY  \\\n",
       "0  83732.0     1.0  62.0            NaN              5.0       1.0        NaN   \n",
       "1  83733.0     1.0  53.0            NaN              3.0       3.0        NaN   \n",
       "2  83735.0     2.0  56.0            NaN              5.0       6.0        NaN   \n",
       "3  83736.0     2.0  42.0            NaN              4.0       3.0        1.0   \n",
       "4  83741.0     1.0  22.0            NaN              4.0       5.0        NaN   \n",
       "5  83742.0     2.0  32.0            NaN              4.0       1.0        2.0   \n",
       "6  83743.0     1.0  18.0           11.0              NaN       NaN        NaN   \n",
       "7  83744.0     1.0  56.0            NaN              3.0       3.0        NaN   \n",
       "8  83747.0     1.0  46.0            NaN              5.0       6.0        NaN   \n",
       "9  83750.0     1.0  45.0            NaN              2.0       5.0        NaN   \n",
       "\n",
       "   INCOME  INCOME_RATIO  HOUSEHOLD_NUM      ...       EVER_USE  FIRST_USAGE  \\\n",
       "0    10.0          4.39            2.0      ...            NaN          NaN   \n",
       "1     4.0          1.32            1.0      ...            2.0          NaN   \n",
       "2    10.0          5.00            1.0      ...            2.0          NaN   \n",
       "3     7.0          1.23            5.0      ...            1.0         25.0   \n",
       "4     7.0          2.08            3.0      ...            1.0         15.0   \n",
       "5     6.0          1.03            4.0      ...            1.0         18.0   \n",
       "6    15.0          5.00            3.0      ...            2.0          NaN   \n",
       "7     3.0          1.19            1.0      ...            1.0         18.0   \n",
       "8     3.0          0.75            2.0      ...            2.0          NaN   \n",
       "9    10.0          1.36            5.0      ...            1.0         21.0   \n",
       "\n",
       "   FREQUENCY  PER_MONTH  AGE_REGULAR_USE  LAST_ONCE_MONTH  AMOUNT  LAST_USAGE  \\\n",
       "0        NaN        NaN              NaN              NaN     NaN         NaN   \n",
       "1        NaN        NaN              NaN              NaN     NaN         NaN   \n",
       "2        NaN        NaN              NaN              NaN     NaN         NaN   \n",
       "3        5.0        1.0             25.0     5.397605e-79     4.0         1.0   \n",
       "4        4.0        1.0             16.0     1.000000e+00     2.0         1.0   \n",
       "5        NaN        2.0              NaN              NaN     NaN        13.0   \n",
       "6        NaN        NaN              NaN              NaN     NaN         NaN   \n",
       "7        NaN        2.0              NaN              NaN     NaN        20.0   \n",
       "8        NaN        NaN              NaN              NaN     NaN         NaN   \n",
       "9        NaN        2.0              NaN              NaN     NaN        20.0   \n",
       "\n",
       "   PAST_MONTH_USAGE  CHILDREN_NUM  \n",
       "0               NaN  1.079521e-78  \n",
       "1               NaN  1.079521e-78  \n",
       "2               NaN  1.079521e-78  \n",
       "3              30.0  2.000000e+00  \n",
       "4              25.0  1.079521e-78  \n",
       "5               NaN  2.000000e+00  \n",
       "6               NaN  1.079521e-78  \n",
       "7               NaN  1.079521e-78  \n",
       "8               NaN  1.079521e-78  \n",
       "9               1.0  2.000000e+00  \n",
       "\n",
       "[10 rows x 21 columns]"
      ]
     },
     "execution_count": 7,
     "metadata": {},
     "output_type": "execute_result"
    }
   ],
   "source": [
    "translation_dict = {'SEQN': 'ID', 'RIAGENDR': 'GENDER', 'RIDAGEYR': 'AGE', 'DMDMARTL': 'MARRIAGE', \n",
    "                    'RIDEXPRG': 'PREGNANCY', 'INDHHIN2': 'INCOME', 'INDFMPIR': 'INCOME_RATIO', \n",
    "                    'DMDHHSIZ': 'HOUSEHOLD_NUM', 'DMDHHSZE': 'OVER_60_NUM', 'DUQ200': 'EVER_USE', \n",
    "                    'DUQ210': 'FIRST_USAGE', 'DUQ217': 'FREQUENCY', 'DUQ211': 'PER_MONTH', \n",
    "                    'DUQ213': 'AGE_REGULAR_USE', 'DUQ215Q': 'LAST_ONCE_MONTH', 'DUQ219': 'AMOUNT', 'DUQ220Q': 'LAST_USAGE', \n",
    "                    'DUQ230': 'PAST_MONTH_USAGE', 'DMDEDUC2': 'EDUCATION_ADULT', 'DMDEDUC3': 'EDUCATION_KID'}\n",
    "df = df.rename(index = str, columns = translation_dict)\n",
    "df.head(10)"
   ]
  },
  {
   "cell_type": "code",
   "execution_count": 8,
   "metadata": {},
   "outputs": [],
   "source": [
    "#OVER_60_NUM\n",
    "#LAST_ONCE_MONTH\n",
    "#CHILDREN_NUM\n",
    "df['OVER_60_NUM'] = df['OVER_60_NUM'].round(0)\n",
    "df['LAST_ONCE_MONTH'] = df['LAST_ONCE_MONTH'].round(0)\n",
    "df['CHILDREN_NUM'] = df['CHILDREN_NUM'].round(0)\n",
    "df['INCOME_RATIO'] = df['INCOME_RATIO'].replace({5.397605e-79: 0}).round(2)"
   ]
  },
  {
   "cell_type": "code",
   "execution_count": 9,
   "metadata": {},
   "outputs": [
    {
     "data": {
      "text/html": [
       "<div>\n",
       "<style scoped>\n",
       "    .dataframe tbody tr th:only-of-type {\n",
       "        vertical-align: middle;\n",
       "    }\n",
       "\n",
       "    .dataframe tbody tr th {\n",
       "        vertical-align: top;\n",
       "    }\n",
       "\n",
       "    .dataframe thead th {\n",
       "        text-align: right;\n",
       "    }\n",
       "</style>\n",
       "<table border=\"1\" class=\"dataframe\">\n",
       "  <thead>\n",
       "    <tr style=\"text-align: right;\">\n",
       "      <th></th>\n",
       "      <th>ID</th>\n",
       "      <th>GENDER</th>\n",
       "      <th>AGE</th>\n",
       "      <th>EDUCATION_KID</th>\n",
       "      <th>EDUCATION_ADULT</th>\n",
       "      <th>MARRIAGE</th>\n",
       "      <th>PREGNANCY</th>\n",
       "      <th>INCOME</th>\n",
       "      <th>INCOME_RATIO</th>\n",
       "      <th>HOUSEHOLD_NUM</th>\n",
       "      <th>...</th>\n",
       "      <th>EVER_USE</th>\n",
       "      <th>FIRST_USAGE</th>\n",
       "      <th>FREQUENCY</th>\n",
       "      <th>PER_MONTH</th>\n",
       "      <th>AGE_REGULAR_USE</th>\n",
       "      <th>LAST_ONCE_MONTH</th>\n",
       "      <th>AMOUNT</th>\n",
       "      <th>LAST_USAGE</th>\n",
       "      <th>PAST_MONTH_USAGE</th>\n",
       "      <th>CHILDREN_NUM</th>\n",
       "    </tr>\n",
       "  </thead>\n",
       "  <tbody>\n",
       "    <tr>\n",
       "      <th>0</th>\n",
       "      <td>83732.0</td>\n",
       "      <td>1.0</td>\n",
       "      <td>62.0</td>\n",
       "      <td>NaN</td>\n",
       "      <td>5.0</td>\n",
       "      <td>1.0</td>\n",
       "      <td>NaN</td>\n",
       "      <td>10.0</td>\n",
       "      <td>4.39</td>\n",
       "      <td>2.0</td>\n",
       "      <td>...</td>\n",
       "      <td>NaN</td>\n",
       "      <td>NaN</td>\n",
       "      <td>NaN</td>\n",
       "      <td>NaN</td>\n",
       "      <td>NaN</td>\n",
       "      <td>NaN</td>\n",
       "      <td>NaN</td>\n",
       "      <td>NaN</td>\n",
       "      <td>NaN</td>\n",
       "      <td>0.0</td>\n",
       "    </tr>\n",
       "    <tr>\n",
       "      <th>1</th>\n",
       "      <td>83733.0</td>\n",
       "      <td>1.0</td>\n",
       "      <td>53.0</td>\n",
       "      <td>NaN</td>\n",
       "      <td>3.0</td>\n",
       "      <td>3.0</td>\n",
       "      <td>NaN</td>\n",
       "      <td>4.0</td>\n",
       "      <td>1.32</td>\n",
       "      <td>1.0</td>\n",
       "      <td>...</td>\n",
       "      <td>2.0</td>\n",
       "      <td>NaN</td>\n",
       "      <td>NaN</td>\n",
       "      <td>NaN</td>\n",
       "      <td>NaN</td>\n",
       "      <td>NaN</td>\n",
       "      <td>NaN</td>\n",
       "      <td>NaN</td>\n",
       "      <td>NaN</td>\n",
       "      <td>0.0</td>\n",
       "    </tr>\n",
       "    <tr>\n",
       "      <th>2</th>\n",
       "      <td>83735.0</td>\n",
       "      <td>2.0</td>\n",
       "      <td>56.0</td>\n",
       "      <td>NaN</td>\n",
       "      <td>5.0</td>\n",
       "      <td>6.0</td>\n",
       "      <td>NaN</td>\n",
       "      <td>10.0</td>\n",
       "      <td>5.00</td>\n",
       "      <td>1.0</td>\n",
       "      <td>...</td>\n",
       "      <td>2.0</td>\n",
       "      <td>NaN</td>\n",
       "      <td>NaN</td>\n",
       "      <td>NaN</td>\n",
       "      <td>NaN</td>\n",
       "      <td>NaN</td>\n",
       "      <td>NaN</td>\n",
       "      <td>NaN</td>\n",
       "      <td>NaN</td>\n",
       "      <td>0.0</td>\n",
       "    </tr>\n",
       "    <tr>\n",
       "      <th>3</th>\n",
       "      <td>83736.0</td>\n",
       "      <td>2.0</td>\n",
       "      <td>42.0</td>\n",
       "      <td>NaN</td>\n",
       "      <td>4.0</td>\n",
       "      <td>3.0</td>\n",
       "      <td>1.0</td>\n",
       "      <td>7.0</td>\n",
       "      <td>1.23</td>\n",
       "      <td>5.0</td>\n",
       "      <td>...</td>\n",
       "      <td>1.0</td>\n",
       "      <td>25.0</td>\n",
       "      <td>5.0</td>\n",
       "      <td>1.0</td>\n",
       "      <td>25.0</td>\n",
       "      <td>0.0</td>\n",
       "      <td>4.0</td>\n",
       "      <td>1.0</td>\n",
       "      <td>30.0</td>\n",
       "      <td>2.0</td>\n",
       "    </tr>\n",
       "    <tr>\n",
       "      <th>4</th>\n",
       "      <td>83741.0</td>\n",
       "      <td>1.0</td>\n",
       "      <td>22.0</td>\n",
       "      <td>NaN</td>\n",
       "      <td>4.0</td>\n",
       "      <td>5.0</td>\n",
       "      <td>NaN</td>\n",
       "      <td>7.0</td>\n",
       "      <td>2.08</td>\n",
       "      <td>3.0</td>\n",
       "      <td>...</td>\n",
       "      <td>1.0</td>\n",
       "      <td>15.0</td>\n",
       "      <td>4.0</td>\n",
       "      <td>1.0</td>\n",
       "      <td>16.0</td>\n",
       "      <td>1.0</td>\n",
       "      <td>2.0</td>\n",
       "      <td>1.0</td>\n",
       "      <td>25.0</td>\n",
       "      <td>0.0</td>\n",
       "    </tr>\n",
       "  </tbody>\n",
       "</table>\n",
       "<p>5 rows × 21 columns</p>\n",
       "</div>"
      ],
      "text/plain": [
       "        ID  GENDER   AGE  EDUCATION_KID  EDUCATION_ADULT  MARRIAGE  PREGNANCY  \\\n",
       "0  83732.0     1.0  62.0            NaN              5.0       1.0        NaN   \n",
       "1  83733.0     1.0  53.0            NaN              3.0       3.0        NaN   \n",
       "2  83735.0     2.0  56.0            NaN              5.0       6.0        NaN   \n",
       "3  83736.0     2.0  42.0            NaN              4.0       3.0        1.0   \n",
       "4  83741.0     1.0  22.0            NaN              4.0       5.0        NaN   \n",
       "\n",
       "   INCOME  INCOME_RATIO  HOUSEHOLD_NUM      ...       EVER_USE  FIRST_USAGE  \\\n",
       "0    10.0          4.39            2.0      ...            NaN          NaN   \n",
       "1     4.0          1.32            1.0      ...            2.0          NaN   \n",
       "2    10.0          5.00            1.0      ...            2.0          NaN   \n",
       "3     7.0          1.23            5.0      ...            1.0         25.0   \n",
       "4     7.0          2.08            3.0      ...            1.0         15.0   \n",
       "\n",
       "   FREQUENCY  PER_MONTH  AGE_REGULAR_USE  LAST_ONCE_MONTH  AMOUNT  LAST_USAGE  \\\n",
       "0        NaN        NaN              NaN              NaN     NaN         NaN   \n",
       "1        NaN        NaN              NaN              NaN     NaN         NaN   \n",
       "2        NaN        NaN              NaN              NaN     NaN         NaN   \n",
       "3        5.0        1.0             25.0              0.0     4.0         1.0   \n",
       "4        4.0        1.0             16.0              1.0     2.0         1.0   \n",
       "\n",
       "   PAST_MONTH_USAGE  CHILDREN_NUM  \n",
       "0               NaN           0.0  \n",
       "1               NaN           0.0  \n",
       "2               NaN           0.0  \n",
       "3              30.0           2.0  \n",
       "4              25.0           0.0  \n",
       "\n",
       "[5 rows x 21 columns]"
      ]
     },
     "execution_count": 9,
     "metadata": {},
     "output_type": "execute_result"
    }
   ],
   "source": [
    "df.head()"
   ]
  },
  {
   "cell_type": "code",
   "execution_count": 10,
   "metadata": {},
   "outputs": [],
   "source": [
    "#write dataframe to csv file\n",
    "df.to_csv(\"cleaned_marijuana_data.csv\")"
   ]
  },
  {
   "cell_type": "markdown",
   "metadata": {},
   "source": [
    "# Data Analysis and Results"
   ]
  },
  {
   "cell_type": "code",
   "execution_count": 11,
   "metadata": {},
   "outputs": [],
   "source": [
    "## TABLE DESCRIBING COLUMNS (TBD: Osvaldo)"
   ]
  },
  {
   "cell_type": "code",
   "execution_count": 12,
   "metadata": {},
   "outputs": [
    {
     "data": {
      "text/html": [
       "<div>\n",
       "<style scoped>\n",
       "    .dataframe tbody tr th:only-of-type {\n",
       "        vertical-align: middle;\n",
       "    }\n",
       "\n",
       "    .dataframe tbody tr th {\n",
       "        vertical-align: top;\n",
       "    }\n",
       "\n",
       "    .dataframe thead th {\n",
       "        text-align: right;\n",
       "    }\n",
       "</style>\n",
       "<table border=\"1\" class=\"dataframe\">\n",
       "  <thead>\n",
       "    <tr style=\"text-align: right;\">\n",
       "      <th></th>\n",
       "      <th>ID</th>\n",
       "      <th>GENDER</th>\n",
       "      <th>AGE</th>\n",
       "      <th>EDUCATION_KID</th>\n",
       "      <th>EDUCATION_ADULT</th>\n",
       "      <th>MARRIAGE</th>\n",
       "      <th>PREGNANCY</th>\n",
       "      <th>INCOME</th>\n",
       "      <th>INCOME_RATIO</th>\n",
       "      <th>HOUSEHOLD_NUM</th>\n",
       "      <th>...</th>\n",
       "      <th>EVER_USE</th>\n",
       "      <th>FIRST_USAGE</th>\n",
       "      <th>FREQUENCY</th>\n",
       "      <th>PER_MONTH</th>\n",
       "      <th>AGE_REGULAR_USE</th>\n",
       "      <th>LAST_ONCE_MONTH</th>\n",
       "      <th>AMOUNT</th>\n",
       "      <th>LAST_USAGE</th>\n",
       "      <th>PAST_MONTH_USAGE</th>\n",
       "      <th>CHILDREN_NUM</th>\n",
       "    </tr>\n",
       "  </thead>\n",
       "  <tbody>\n",
       "    <tr>\n",
       "      <th>count</th>\n",
       "      <td>4843.000000</td>\n",
       "      <td>4843.000000</td>\n",
       "      <td>4843.000000</td>\n",
       "      <td>261.000000</td>\n",
       "      <td>4582.000000</td>\n",
       "      <td>4582.000000</td>\n",
       "      <td>1240.000000</td>\n",
       "      <td>4675.000000</td>\n",
       "      <td>4377.000000</td>\n",
       "      <td>4843.000000</td>\n",
       "      <td>...</td>\n",
       "      <td>3428.000000</td>\n",
       "      <td>1715.000000</td>\n",
       "      <td>870.000000</td>\n",
       "      <td>1715.000000</td>\n",
       "      <td>870.000000</td>\n",
       "      <td>864.000000</td>\n",
       "      <td>870.000000</td>\n",
       "      <td>1.713000e+03</td>\n",
       "      <td>546.000000</td>\n",
       "      <td>4843.000000</td>\n",
       "    </tr>\n",
       "    <tr>\n",
       "      <th>mean</th>\n",
       "      <td>88672.875077</td>\n",
       "      <td>1.522816</td>\n",
       "      <td>42.860211</td>\n",
       "      <td>13.639847</td>\n",
       "      <td>3.492580</td>\n",
       "      <td>6.130292</td>\n",
       "      <td>1.979839</td>\n",
       "      <td>300.427166</td>\n",
       "      <td>2.425833</td>\n",
       "      <td>3.517654</td>\n",
       "      <td>...</td>\n",
       "      <td>17.052800</td>\n",
       "      <td>17.289796</td>\n",
       "      <td>33.031034</td>\n",
       "      <td>6.026239</td>\n",
       "      <td>18.013793</td>\n",
       "      <td>26.756944</td>\n",
       "      <td>22.404598</td>\n",
       "      <td>3.572796e+01</td>\n",
       "      <td>49.080586</td>\n",
       "      <td>1.062358</td>\n",
       "    </tr>\n",
       "    <tr>\n",
       "      <th>std</th>\n",
       "      <td>2873.134105</td>\n",
       "      <td>0.499531</td>\n",
       "      <td>15.046097</td>\n",
       "      <td>6.711685</td>\n",
       "      <td>1.277588</td>\n",
       "      <td>162.416967</td>\n",
       "      <td>0.303990</td>\n",
       "      <td>1582.121412</td>\n",
       "      <td>1.616415</td>\n",
       "      <td>1.698411</td>\n",
       "      <td>...</td>\n",
       "      <td>374.406203</td>\n",
       "      <td>4.558000</td>\n",
       "      <td>503.162908</td>\n",
       "      <td>187.757903</td>\n",
       "      <td>5.129602</td>\n",
       "      <td>373.884673</td>\n",
       "      <td>429.130785</td>\n",
       "      <td>4.710994e+02</td>\n",
       "      <td>603.969539</td>\n",
       "      <td>1.332804</td>\n",
       "    </tr>\n",
       "    <tr>\n",
       "      <th>min</th>\n",
       "      <td>83732.000000</td>\n",
       "      <td>1.000000</td>\n",
       "      <td>18.000000</td>\n",
       "      <td>9.000000</td>\n",
       "      <td>1.000000</td>\n",
       "      <td>1.000000</td>\n",
       "      <td>1.000000</td>\n",
       "      <td>1.000000</td>\n",
       "      <td>0.000000</td>\n",
       "      <td>1.000000</td>\n",
       "      <td>...</td>\n",
       "      <td>1.000000</td>\n",
       "      <td>6.000000</td>\n",
       "      <td>1.000000</td>\n",
       "      <td>1.000000</td>\n",
       "      <td>6.000000</td>\n",
       "      <td>0.000000</td>\n",
       "      <td>1.000000</td>\n",
       "      <td>5.397605e-79</td>\n",
       "      <td>1.000000</td>\n",
       "      <td>0.000000</td>\n",
       "    </tr>\n",
       "    <tr>\n",
       "      <th>25%</th>\n",
       "      <td>86174.000000</td>\n",
       "      <td>1.000000</td>\n",
       "      <td>30.000000</td>\n",
       "      <td>12.000000</td>\n",
       "      <td>3.000000</td>\n",
       "      <td>1.000000</td>\n",
       "      <td>2.000000</td>\n",
       "      <td>6.000000</td>\n",
       "      <td>1.050000</td>\n",
       "      <td>2.000000</td>\n",
       "      <td>...</td>\n",
       "      <td>1.000000</td>\n",
       "      <td>15.000000</td>\n",
       "      <td>3.000000</td>\n",
       "      <td>1.000000</td>\n",
       "      <td>15.000000</td>\n",
       "      <td>1.000000</td>\n",
       "      <td>1.000000</td>\n",
       "      <td>2.000000e+00</td>\n",
       "      <td>2.000000</td>\n",
       "      <td>0.000000</td>\n",
       "    </tr>\n",
       "    <tr>\n",
       "      <th>50%</th>\n",
       "      <td>88677.000000</td>\n",
       "      <td>2.000000</td>\n",
       "      <td>43.000000</td>\n",
       "      <td>13.000000</td>\n",
       "      <td>4.000000</td>\n",
       "      <td>1.000000</td>\n",
       "      <td>2.000000</td>\n",
       "      <td>8.000000</td>\n",
       "      <td>2.040000</td>\n",
       "      <td>3.000000</td>\n",
       "      <td>...</td>\n",
       "      <td>1.000000</td>\n",
       "      <td>17.000000</td>\n",
       "      <td>4.000000</td>\n",
       "      <td>1.000000</td>\n",
       "      <td>17.000000</td>\n",
       "      <td>3.000000</td>\n",
       "      <td>2.000000</td>\n",
       "      <td>5.000000e+00</td>\n",
       "      <td>6.000000</td>\n",
       "      <td>1.000000</td>\n",
       "    </tr>\n",
       "    <tr>\n",
       "      <th>75%</th>\n",
       "      <td>91164.000000</td>\n",
       "      <td>2.000000</td>\n",
       "      <td>56.000000</td>\n",
       "      <td>14.000000</td>\n",
       "      <td>5.000000</td>\n",
       "      <td>5.000000</td>\n",
       "      <td>2.000000</td>\n",
       "      <td>14.000000</td>\n",
       "      <td>3.790000</td>\n",
       "      <td>5.000000</td>\n",
       "      <td>...</td>\n",
       "      <td>2.000000</td>\n",
       "      <td>19.000000</td>\n",
       "      <td>5.000000</td>\n",
       "      <td>2.000000</td>\n",
       "      <td>20.000000</td>\n",
       "      <td>12.000000</td>\n",
       "      <td>3.000000</td>\n",
       "      <td>1.500000e+01</td>\n",
       "      <td>25.000000</td>\n",
       "      <td>2.000000</td>\n",
       "    </tr>\n",
       "    <tr>\n",
       "      <th>max</th>\n",
       "      <td>93702.000000</td>\n",
       "      <td>2.000000</td>\n",
       "      <td>69.000000</td>\n",
       "      <td>66.000000</td>\n",
       "      <td>5.000000</td>\n",
       "      <td>7777.000000</td>\n",
       "      <td>3.000000</td>\n",
       "      <td>9999.000000</td>\n",
       "      <td>5.000000</td>\n",
       "      <td>7.000000</td>\n",
       "      <td>...</td>\n",
       "      <td>9999.000000</td>\n",
       "      <td>50.000000</td>\n",
       "      <td>9999.000000</td>\n",
       "      <td>7777.000000</td>\n",
       "      <td>50.000000</td>\n",
       "      <td>7777.000000</td>\n",
       "      <td>9999.000000</td>\n",
       "      <td>9.999000e+03</td>\n",
       "      <td>9999.000000</td>\n",
       "      <td>7.000000</td>\n",
       "    </tr>\n",
       "  </tbody>\n",
       "</table>\n",
       "<p>8 rows × 21 columns</p>\n",
       "</div>"
      ],
      "text/plain": [
       "                 ID       GENDER          AGE  EDUCATION_KID  EDUCATION_ADULT  \\\n",
       "count   4843.000000  4843.000000  4843.000000     261.000000      4582.000000   \n",
       "mean   88672.875077     1.522816    42.860211      13.639847         3.492580   \n",
       "std     2873.134105     0.499531    15.046097       6.711685         1.277588   \n",
       "min    83732.000000     1.000000    18.000000       9.000000         1.000000   \n",
       "25%    86174.000000     1.000000    30.000000      12.000000         3.000000   \n",
       "50%    88677.000000     2.000000    43.000000      13.000000         4.000000   \n",
       "75%    91164.000000     2.000000    56.000000      14.000000         5.000000   \n",
       "max    93702.000000     2.000000    69.000000      66.000000         5.000000   \n",
       "\n",
       "          MARRIAGE    PREGNANCY       INCOME  INCOME_RATIO  HOUSEHOLD_NUM  \\\n",
       "count  4582.000000  1240.000000  4675.000000   4377.000000    4843.000000   \n",
       "mean      6.130292     1.979839   300.427166      2.425833       3.517654   \n",
       "std     162.416967     0.303990  1582.121412      1.616415       1.698411   \n",
       "min       1.000000     1.000000     1.000000      0.000000       1.000000   \n",
       "25%       1.000000     2.000000     6.000000      1.050000       2.000000   \n",
       "50%       1.000000     2.000000     8.000000      2.040000       3.000000   \n",
       "75%       5.000000     2.000000    14.000000      3.790000       5.000000   \n",
       "max    7777.000000     3.000000  9999.000000      5.000000       7.000000   \n",
       "\n",
       "           ...          EVER_USE  FIRST_USAGE    FREQUENCY    PER_MONTH  \\\n",
       "count      ...       3428.000000  1715.000000   870.000000  1715.000000   \n",
       "mean       ...         17.052800    17.289796    33.031034     6.026239   \n",
       "std        ...        374.406203     4.558000   503.162908   187.757903   \n",
       "min        ...          1.000000     6.000000     1.000000     1.000000   \n",
       "25%        ...          1.000000    15.000000     3.000000     1.000000   \n",
       "50%        ...          1.000000    17.000000     4.000000     1.000000   \n",
       "75%        ...          2.000000    19.000000     5.000000     2.000000   \n",
       "max        ...       9999.000000    50.000000  9999.000000  7777.000000   \n",
       "\n",
       "       AGE_REGULAR_USE  LAST_ONCE_MONTH       AMOUNT    LAST_USAGE  \\\n",
       "count       870.000000       864.000000   870.000000  1.713000e+03   \n",
       "mean         18.013793        26.756944    22.404598  3.572796e+01   \n",
       "std           5.129602       373.884673   429.130785  4.710994e+02   \n",
       "min           6.000000         0.000000     1.000000  5.397605e-79   \n",
       "25%          15.000000         1.000000     1.000000  2.000000e+00   \n",
       "50%          17.000000         3.000000     2.000000  5.000000e+00   \n",
       "75%          20.000000        12.000000     3.000000  1.500000e+01   \n",
       "max          50.000000      7777.000000  9999.000000  9.999000e+03   \n",
       "\n",
       "       PAST_MONTH_USAGE  CHILDREN_NUM  \n",
       "count        546.000000   4843.000000  \n",
       "mean          49.080586      1.062358  \n",
       "std          603.969539      1.332804  \n",
       "min            1.000000      0.000000  \n",
       "25%            2.000000      0.000000  \n",
       "50%            6.000000      1.000000  \n",
       "75%           25.000000      2.000000  \n",
       "max         9999.000000      7.000000  \n",
       "\n",
       "[8 rows x 21 columns]"
      ]
     },
     "execution_count": 12,
     "metadata": {},
     "output_type": "execute_result"
    }
   ],
   "source": [
    "df.describe(include='all')"
   ]
  },
  {
   "cell_type": "code",
   "execution_count": 13,
   "metadata": {},
   "outputs": [
    {
     "name": "stdout",
     "output_type": "stream",
     "text": [
      "(4843, 21)\n",
      "*****************\n",
      "ID                  4843\n",
      "GENDER                 2\n",
      "AGE                   52\n",
      "EDUCATION_KID          8\n",
      "EDUCATION_ADULT        5\n",
      "MARRIAGE               7\n",
      "PREGNANCY              3\n",
      "INCOME                16\n",
      "INCOME_RATIO         427\n",
      "HOUSEHOLD_NUM          7\n",
      "OVER_60_NUM            4\n",
      "EVER_USE               4\n",
      "FIRST_USAGE           38\n",
      "FREQUENCY              7\n",
      "PER_MONTH              3\n",
      "AGE_REGULAR_USE       38\n",
      "LAST_ONCE_MONTH       45\n",
      "AMOUNT                 6\n",
      "LAST_USAGE            51\n",
      "PAST_MONTH_USAGE      30\n",
      "CHILDREN_NUM           8\n",
      "dtype: int64\n",
      "*****************\n",
      "ID                     0\n",
      "GENDER                 0\n",
      "AGE                    0\n",
      "EDUCATION_KID       4582\n",
      "EDUCATION_ADULT      261\n",
      "MARRIAGE             261\n",
      "PREGNANCY           3603\n",
      "INCOME               168\n",
      "INCOME_RATIO         466\n",
      "HOUSEHOLD_NUM          0\n",
      "OVER_60_NUM            0\n",
      "EVER_USE            1415\n",
      "FIRST_USAGE         3128\n",
      "FREQUENCY           3973\n",
      "PER_MONTH           3128\n",
      "AGE_REGULAR_USE     3973\n",
      "LAST_ONCE_MONTH     3979\n",
      "AMOUNT              3973\n",
      "LAST_USAGE          3130\n",
      "PAST_MONTH_USAGE    4297\n",
      "CHILDREN_NUM           0\n",
      "dtype: int64\n"
     ]
    }
   ],
   "source": [
    "# Basic questions about the dataset\n",
    "\n",
    "# 1. The number of entries in the dataset\n",
    "print(df.shape)\n",
    "# We have 4843 rows and 21 columns \n",
    "\n",
    "# 2. Total number of areas that contribute to marijuana usage and their unique values of the columns \n",
    "print(\"*****************\")\n",
    "print(df.nunique())\n",
    "\n",
    "# Confirm the number of missing values in each column.\n",
    "print(\"*****************\")\n",
    "print(df.isnull().sum())"
   ]
  },
  {
   "cell_type": "markdown",
   "metadata": {},
   "source": [
    "## Visualizing the Demographics (DEMO) data"
   ]
  },
  {
   "cell_type": "markdown",
   "metadata": {},
   "source": [
    "Since our research attempts to explore the relationship between socioeconomic status and marijuana consumption, we will be focusing on the following variables as measures of an individual's socioeconomic status: <br>\n",
    "1. Annual Household Income <br>\n",
    "2. Ratio of Family Income to Poverty <br>\n",
    "3. Education level - Adults 20+ <br>\n",
    "4. Education level - Children/Youth 6-19"
   ]
  },
  {
   "cell_type": "markdown",
   "metadata": {},
   "source": [
    "Since the coding scheme in the datasets uses numerical values for categorizing response, we will first convert them into verbal labels for better interpretation."
   ]
  },
  {
   "cell_type": "code",
   "execution_count": 14,
   "metadata": {},
   "outputs": [],
   "source": [
    "# Creating labels for interpreting visualizations\n",
    "income_labels = ['0-4.9', '5-9.9', '10-14.9','15-19.9', '20-24.9', '25-34.9', '35-44.9', '45-54.9','55-64.9','65-74.9','75-99', '100+']\n",
    "education_kid_labels = ['9th grade','10th grade','11th grade','12th grade, no diploma','High school graduate','GED or equivalent','More than high school','Less than 9th grade']\n",
    "education_adult_labels = ['less than 9th grade', '9-11th grade', 'high school graduate / GED', 'AA degree', 'college graduate']\n",
    "amount_labels = ['1/day', '2/day', '3-5/day', '>6/day']\n",
    "frequency_labels = ['once', '2-3 times', '4-8 times', '9-24 times', '25-30 times']"
   ]
  },
  {
   "cell_type": "markdown",
   "metadata": {},
   "source": [
    "### INCOME: Annual Household Income"
   ]
  },
  {
   "cell_type": "code",
   "execution_count": 15,
   "metadata": {},
   "outputs": [],
   "source": [
    "# remove unknown, missing, and cummulative values (12 for < $20,000 and 13 for > $20,000)\n",
    "df.drop(df[(df['INCOME']==7777) | (df['INCOME']==9999) | (df['INCOME']==12) | (df['INCOME']==13)].index, inplace=True)"
   ]
  },
  {
   "cell_type": "code",
   "execution_count": 16,
   "metadata": {
    "scrolled": true
   },
   "outputs": [
    {
     "data": {
      "text/plain": [
       "Text(0.5, 1.0, 'Distribution of household income')"
      ]
     },
     "execution_count": 16,
     "metadata": {},
     "output_type": "execute_result"
    },
    {
     "data": {
      "image/png": "[encoded data removed]",
      "text/plain": [
       "<Figure size 432x288 with 1 Axes>"
      ]
     },
     "metadata": {
      "needs_background": "light"
     },
     "output_type": "display_data"
    }
   ],
   "source": [
    "df['INCOME'].value_counts().sort_index().plot(kind='bar')\n",
    "plt.xticks(np.arange(12),income_labels)\n",
    "plt.xlabel(\"Household Income (in thousands of dollars)\")\n",
    "plt.ylabel(\"Count\")\n",
    "plt.title(\"Distribution of household income\")"
   ]
  },
  {
   "cell_type": "markdown",
   "metadata": {},
   "source": [
    "The above visualization provides an important insight into the distribution of income in this dataset: a majority of the individuals surveyed belong to the 100k+ income bracket."
   ]
  },
  {
   "cell_type": "markdown",
   "metadata": {},
   "source": [
    "### INCOME_RATIO: Ratio of family income to poverty\n",
    "\n",
    "The poverty threshold is calculated according to the Department of Health and Human Services and adjusted to account for differences that arise from geographical location and family / household sizes. \n",
    "\n",
    "The ratio of family income to poverty is thus defined as: <br>\n",
    "\n",
    "$$\\text{Ratio of family income to poverty} = \\frac{\\text{family income}}{\\text{poverty threshold}}$$\n",
    "\n",
    "The values in INCOME_RATIO range from $0$ to $4.99$ with all values $\\ge 5$ denoted by $5$. For instance, an income to poverty ratio value of $0.5$ indicates that the income is $0.5$ times or $50$% below the poverty threshold, an income to poverty ratio of $1$ indicates that income is equal to poverty threshold, and an income to poverty ratio of $5$ indicates that the income is $5$ times the poverty threshold."
   ]
  },
  {
   "cell_type": "code",
   "execution_count": 17,
   "metadata": {
    "scrolled": true
   },
   "outputs": [
    {
     "data": {
      "text/plain": [
       "Text(0, 0.5, 'Count')"
      ]
     },
     "execution_count": 17,
     "metadata": {},
     "output_type": "execute_result"
    },
    {
     "data": {
      "image/png": "[encoded data removed]",
      "text/plain": [
       "<Figure size 432x288 with 1 Axes>"
      ]
     },
     "metadata": {
      "needs_background": "light"
     },
     "output_type": "display_data"
    }
   ],
   "source": [
    "df['INCOME_RATIO'].hist()\n",
    "plt.title(\"Distribution of Income Ratio\")\n",
    "plt.xlabel(\"Ratio of family income to poverty\")\n",
    "plt.ylabel(\"Count\")"
   ]
  },
  {
   "cell_type": "code",
   "execution_count": 18,
   "metadata": {},
   "outputs": [
    {
     "data": {
      "text/html": [
       "<div>\n",
       "<style scoped>\n",
       "    .dataframe tbody tr th:only-of-type {\n",
       "        vertical-align: middle;\n",
       "    }\n",
       "\n",
       "    .dataframe tbody tr th {\n",
       "        vertical-align: top;\n",
       "    }\n",
       "\n",
       "    .dataframe thead th {\n",
       "        text-align: right;\n",
       "    }\n",
       "</style>\n",
       "<table border=\"1\" class=\"dataframe\">\n",
       "  <thead>\n",
       "    <tr style=\"text-align: right;\">\n",
       "      <th></th>\n",
       "      <th>INCOME</th>\n",
       "      <th>INCOME_RATIO</th>\n",
       "    </tr>\n",
       "  </thead>\n",
       "  <tbody>\n",
       "    <tr>\n",
       "      <th>INCOME</th>\n",
       "      <td>1.000000</td>\n",
       "      <td>0.876722</td>\n",
       "    </tr>\n",
       "    <tr>\n",
       "      <th>INCOME_RATIO</th>\n",
       "      <td>0.876722</td>\n",
       "      <td>1.000000</td>\n",
       "    </tr>\n",
       "  </tbody>\n",
       "</table>\n",
       "</div>"
      ],
      "text/plain": [
       "                INCOME  INCOME_RATIO\n",
       "INCOME        1.000000      0.876722\n",
       "INCOME_RATIO  0.876722      1.000000"
      ]
     },
     "execution_count": 18,
     "metadata": {},
     "output_type": "execute_result"
    }
   ],
   "source": [
    "df[['INCOME','INCOME_RATIO']].corr()"
   ]
  },
  {
   "cell_type": "markdown",
   "metadata": {},
   "source": [
    "We see that INCOME and INCOME_RATIO are strongly correlated with an $r^{2}$ value of 0.877, making INCOME_RATIO, a continous variable, a good proxy for INCOME"
   ]
  },
  {
   "cell_type": "markdown",
   "metadata": {},
   "source": [
    "### EDUCATION_ADULT"
   ]
  },
  {
   "cell_type": "code",
   "execution_count": 19,
   "metadata": {
    "scrolled": true
   },
   "outputs": [
    {
     "data": {
      "text/plain": [
       "(4235, 21)"
      ]
     },
     "execution_count": 19,
     "metadata": {},
     "output_type": "execute_result"
    }
   ],
   "source": [
    "df_adult = df[df.AGE >= 20]\n",
    "df_adult.shape"
   ]
  },
  {
   "cell_type": "code",
   "execution_count": 20,
   "metadata": {},
   "outputs": [
    {
     "data": {
      "image/png": "[encoded data removed]",
      "text/plain": [
       "<Figure size 432x288 with 1 Axes>"
      ]
     },
     "metadata": {
      "needs_background": "light"
     },
     "output_type": "display_data"
    }
   ],
   "source": [
    "sns.countplot(x='EDUCATION_ADULT', data=df_adult)\n",
    "ax = plt.gca()\n",
    "\n",
    "# add title and axis labels (modify x-axis label)\n",
    "ax.set_title('Distribution of Education level - Adults 20+')\n",
    "ax.set_ylabel('Total kids')\n",
    "ax.set_xlabel('Education level')\n",
    "ax.set_xticklabels(education_adult_labels,rotation='vertical');"
   ]
  },
  {
   "cell_type": "code",
   "execution_count": 21,
   "metadata": {
    "scrolled": true
   },
   "outputs": [
    {
     "data": {
      "text/plain": [
       "1.0     424\n",
       "2.0     496\n",
       "3.0     915\n",
       "4.0    1294\n",
       "5.0    1106\n",
       "Name: EDUCATION_ADULT, dtype: int64"
      ]
     },
     "execution_count": 21,
     "metadata": {},
     "output_type": "execute_result"
    }
   ],
   "source": [
    "df_adult['EDUCATION_ADULT'].value_counts().sort_index()"
   ]
  },
  {
   "cell_type": "markdown",
   "metadata": {},
   "source": [
    "We see that about $56$% of the individuals in the dataset had some college degree. This breaks down into $30.5$% of AA degree holders and $25.5$% of college graduates."
   ]
  },
  {
   "cell_type": "markdown",
   "metadata": {},
   "source": [
    "### EDUCATION_KID"
   ]
  },
  {
   "cell_type": "code",
   "execution_count": 22,
   "metadata": {
    "scrolled": true
   },
   "outputs": [
    {
     "data": {
      "text/plain": [
       "(244, 21)"
      ]
     },
     "execution_count": 22,
     "metadata": {},
     "output_type": "execute_result"
    }
   ],
   "source": [
    "df_kid = df[df.AGE < 20]\n",
    "df_kid.shape"
   ]
  },
  {
   "cell_type": "code",
   "execution_count": 23,
   "metadata": {},
   "outputs": [
    {
     "data": {
      "text/plain": [
       "18.0    124\n",
       "19.0    120\n",
       "Name: AGE, dtype: int64"
      ]
     },
     "execution_count": 23,
     "metadata": {},
     "output_type": "execute_result"
    }
   ],
   "source": [
    "df_kid['AGE'].value_counts()"
   ]
  },
  {
   "cell_type": "markdown",
   "metadata": {},
   "source": [
    "We see only two unique ages - 18 and 19 - appear in this subset of data."
   ]
  },
  {
   "cell_type": "code",
   "execution_count": 24,
   "metadata": {},
   "outputs": [
    {
     "data": {
      "image/png": "[encoded data removed]",
      "text/plain": [
       "<Figure size 432x288 with 1 Axes>"
      ]
     },
     "metadata": {
      "needs_background": "light"
     },
     "output_type": "display_data"
    }
   ],
   "source": [
    "sns.countplot(x='EDUCATION_KID', data=df_kid)\n",
    "ax = plt.gca()\n",
    "\n",
    "# add title and axis labels (modify x-axis label)\n",
    "ax.set_title('Education level - Children/Youth 6-19')\n",
    "ax.set_ylabel('Total kids')\n",
    "ax.set_xlabel('Education level')\n",
    "ax.set_xticklabels(education_kid_labels,rotation='vertical');"
   ]
  },
  {
   "cell_type": "code",
   "execution_count": 25,
   "metadata": {
    "scrolled": true
   },
   "outputs": [
    {
     "data": {
      "text/plain": [
       "9.0       2\n",
       "10.0      9\n",
       "11.0     49\n",
       "12.0     18\n",
       "13.0    104\n",
       "14.0      4\n",
       "15.0     54\n",
       "66.0      4\n",
       "Name: EDUCATION_KID, dtype: int64"
      ]
     },
     "execution_count": 25,
     "metadata": {},
     "output_type": "execute_result"
    }
   ],
   "source": [
    "df_kid['EDUCATION_KID'].value_counts().sort_index()"
   ]
  },
  {
   "cell_type": "markdown",
   "metadata": {},
   "source": [
    "We see that 42% of all children (aged 18 and 19) were high school graduates."
   ]
  },
  {
   "cell_type": "markdown",
   "metadata": {},
   "source": [
    "## ## Visualizing the Drug-Use (DUQ) data"
   ]
  },
  {
   "cell_type": "markdown",
   "metadata": {},
   "source": [
    "To better understand marijuana usage, we will explore the following components that provide insight into consumption patterns: <br>\n",
    "\n",
    "1. AGE_REGULAR_USE: Age started regularly using marijuana\n",
    "2. AMOUNT: Number of joints/pipes per day\n",
    "3. FREQUENCY: Number of times / month"
   ]
  },
  {
   "cell_type": "markdown",
   "metadata": {},
   "source": [
    "### AGE_REGULAR_USE: Age started regularly using marijuana"
   ]
  },
  {
   "cell_type": "code",
   "execution_count": 26,
   "metadata": {
    "scrolled": true
   },
   "outputs": [
    {
     "data": {
      "image/png": "[encoded data removed]",
      "text/plain": [
       "<Figure size 1080x360 with 1 Axes>"
      ]
     },
     "metadata": {
      "needs_background": "light"
     },
     "output_type": "display_data"
    }
   ],
   "source": [
    "sns.countplot(x='AGE_REGULAR_USE', data=df)\n",
    "ax = plt.gca()\n",
    "\n",
    "# add title and axis labels (modify x-axis label)\n",
    "ax.set_title('Distribution of ages when started regularly using marijuana')\n",
    "ax.set_ylabel('Adult Count')\n",
    "ax.set_xlabel('Age')\n",
    "\n",
    "fig = plt.gcf()\n",
    "fig.set_size_inches(15,5)\n"
   ]
  },
  {
   "cell_type": "markdown",
   "metadata": {},
   "source": [
    "This graph shows how the age participants begin to used regularly sits around 15-19 years old. "
   ]
  },
  {
   "cell_type": "markdown",
   "metadata": {},
   "source": [
    "### AMOUNT: Number of joints / pipes per day"
   ]
  },
  {
   "cell_type": "code",
   "execution_count": 27,
   "metadata": {},
   "outputs": [
    {
     "data": {
      "image/png": "[encoded data removed]",
      "text/plain": [
       "<Figure size 432x288 with 1 Axes>"
      ]
     },
     "metadata": {
      "needs_background": "light"
     },
     "output_type": "display_data"
    }
   ],
   "source": [
    "# remove unknown, missing, and cummulative values\n",
    "df.drop(df[(df['AMOUNT']==7777) | (df['AMOUNT']==9999)].index, inplace=True)\n",
    "df['AMOUNT'].value_counts().sort_index().plot(kind='bar')\n",
    "plt.xticks(np.arange(4),amount_labels, rotation='horizontal')\n",
    "plt.xlabel(\"Amount (# of joints / pipes per day)\")\n",
    "plt.ylabel(\"Number of individuals\")\n",
    "plt.title(\"Distribution of Marijuana consumption amount\")\n",
    "plt.show()\n"
   ]
  },
  {
   "cell_type": "markdown",
   "metadata": {},
   "source": [
    "### FREQUENCY:  Number of times marijuana  is consumption / month"
   ]
  },
  {
   "cell_type": "code",
   "execution_count": 28,
   "metadata": {},
   "outputs": [
    {
     "data": {
      "image/png": "[encoded data removed]",
      "text/plain": [
       "<Figure size 432x288 with 1 Axes>"
      ]
     },
     "metadata": {
      "needs_background": "light"
     },
     "output_type": "display_data"
    }
   ],
   "source": [
    "df.drop(df[(df['FREQUENCY']==7777) | (df['FREQUENCY']==9999)].index, inplace=True)\n",
    "df['FREQUENCY'].value_counts().sort_index().plot(kind='bar')\n",
    "plt.xticks(np.arange(5),frequency_labels, rotation='vertical')\n",
    "plt.xlabel(\"frequency (Number of times marijuana is consumed / month)\")\n",
    "plt.ylabel(\"Count\")\n",
    "plt.title(\"Distribution of frequency of marjiuana consumption\")\n",
    "plt.show()"
   ]
  },
  {
   "cell_type": "markdown",
   "metadata": {},
   "source": [
    "## Digging Deeper"
   ]
  },
  {
   "cell_type": "markdown",
   "metadata": {},
   "source": [
    "### Subsetting data\n",
    "\n",
    "Since we hypothesize that younger people (defined here as below the age of 26) would exhibit higher consumption of marijuana, we will now analyze this subset of data."
   ]
  },
  {
   "cell_type": "code",
   "execution_count": 29,
   "metadata": {},
   "outputs": [
    {
     "data": {
      "text/plain": [
       "(18.0, 69.0)"
      ]
     },
     "execution_count": 29,
     "metadata": {},
     "output_type": "execute_result"
    }
   ],
   "source": [
    "min_age = df['AGE'].min()\n",
    "max_age = df['AGE'].max()\n",
    "min_age, max_age"
   ]
  },
  {
   "cell_type": "code",
   "execution_count": 30,
   "metadata": {
    "scrolled": true
   },
   "outputs": [
    {
     "data": {
      "text/html": [
       "<div>\n",
       "<style scoped>\n",
       "    .dataframe tbody tr th:only-of-type {\n",
       "        vertical-align: middle;\n",
       "    }\n",
       "\n",
       "    .dataframe tbody tr th {\n",
       "        vertical-align: top;\n",
       "    }\n",
       "\n",
       "    .dataframe thead th {\n",
       "        text-align: right;\n",
       "    }\n",
       "</style>\n",
       "<table border=\"1\" class=\"dataframe\">\n",
       "  <thead>\n",
       "    <tr style=\"text-align: right;\">\n",
       "      <th></th>\n",
       "      <th>ID</th>\n",
       "      <th>GENDER</th>\n",
       "      <th>AGE</th>\n",
       "      <th>EDUCATION_KID</th>\n",
       "      <th>EDUCATION_ADULT</th>\n",
       "      <th>MARRIAGE</th>\n",
       "      <th>PREGNANCY</th>\n",
       "      <th>INCOME</th>\n",
       "      <th>INCOME_RATIO</th>\n",
       "      <th>HOUSEHOLD_NUM</th>\n",
       "      <th>...</th>\n",
       "      <th>EVER_USE</th>\n",
       "      <th>FIRST_USAGE</th>\n",
       "      <th>FREQUENCY</th>\n",
       "      <th>PER_MONTH</th>\n",
       "      <th>AGE_REGULAR_USE</th>\n",
       "      <th>LAST_ONCE_MONTH</th>\n",
       "      <th>AMOUNT</th>\n",
       "      <th>LAST_USAGE</th>\n",
       "      <th>PAST_MONTH_USAGE</th>\n",
       "      <th>CHILDREN_NUM</th>\n",
       "    </tr>\n",
       "  </thead>\n",
       "  <tbody>\n",
       "    <tr>\n",
       "      <th>4</th>\n",
       "      <td>83741.0</td>\n",
       "      <td>1.0</td>\n",
       "      <td>22.0</td>\n",
       "      <td>NaN</td>\n",
       "      <td>4.0</td>\n",
       "      <td>5.0</td>\n",
       "      <td>NaN</td>\n",
       "      <td>7.0</td>\n",
       "      <td>2.08</td>\n",
       "      <td>3.0</td>\n",
       "      <td>...</td>\n",
       "      <td>1.0</td>\n",
       "      <td>15.0</td>\n",
       "      <td>4.0</td>\n",
       "      <td>1.0</td>\n",
       "      <td>16.0</td>\n",
       "      <td>1.0</td>\n",
       "      <td>2.0</td>\n",
       "      <td>1.0</td>\n",
       "      <td>25.0</td>\n",
       "      <td>0.0</td>\n",
       "    </tr>\n",
       "    <tr>\n",
       "      <th>6</th>\n",
       "      <td>83743.0</td>\n",
       "      <td>1.0</td>\n",
       "      <td>18.0</td>\n",
       "      <td>11.0</td>\n",
       "      <td>NaN</td>\n",
       "      <td>NaN</td>\n",
       "      <td>NaN</td>\n",
       "      <td>15.0</td>\n",
       "      <td>5.00</td>\n",
       "      <td>3.0</td>\n",
       "      <td>...</td>\n",
       "      <td>2.0</td>\n",
       "      <td>NaN</td>\n",
       "      <td>NaN</td>\n",
       "      <td>NaN</td>\n",
       "      <td>NaN</td>\n",
       "      <td>NaN</td>\n",
       "      <td>NaN</td>\n",
       "      <td>NaN</td>\n",
       "      <td>NaN</td>\n",
       "      <td>0.0</td>\n",
       "    </tr>\n",
       "    <tr>\n",
       "      <th>14</th>\n",
       "      <td>83759.0</td>\n",
       "      <td>2.0</td>\n",
       "      <td>19.0</td>\n",
       "      <td>15.0</td>\n",
       "      <td>NaN</td>\n",
       "      <td>NaN</td>\n",
       "      <td>NaN</td>\n",
       "      <td>7.0</td>\n",
       "      <td>1.74</td>\n",
       "      <td>3.0</td>\n",
       "      <td>...</td>\n",
       "      <td>2.0</td>\n",
       "      <td>NaN</td>\n",
       "      <td>NaN</td>\n",
       "      <td>NaN</td>\n",
       "      <td>NaN</td>\n",
       "      <td>NaN</td>\n",
       "      <td>NaN</td>\n",
       "      <td>NaN</td>\n",
       "      <td>NaN</td>\n",
       "      <td>0.0</td>\n",
       "    </tr>\n",
       "    <tr>\n",
       "      <th>15</th>\n",
       "      <td>83761.0</td>\n",
       "      <td>2.0</td>\n",
       "      <td>24.0</td>\n",
       "      <td>NaN</td>\n",
       "      <td>5.0</td>\n",
       "      <td>5.0</td>\n",
       "      <td>2.0</td>\n",
       "      <td>1.0</td>\n",
       "      <td>0.00</td>\n",
       "      <td>1.0</td>\n",
       "      <td>...</td>\n",
       "      <td>2.0</td>\n",
       "      <td>NaN</td>\n",
       "      <td>NaN</td>\n",
       "      <td>NaN</td>\n",
       "      <td>NaN</td>\n",
       "      <td>NaN</td>\n",
       "      <td>NaN</td>\n",
       "      <td>NaN</td>\n",
       "      <td>NaN</td>\n",
       "      <td>0.0</td>\n",
       "    </tr>\n",
       "    <tr>\n",
       "      <th>23</th>\n",
       "      <td>83784.0</td>\n",
       "      <td>1.0</td>\n",
       "      <td>22.0</td>\n",
       "      <td>NaN</td>\n",
       "      <td>4.0</td>\n",
       "      <td>5.0</td>\n",
       "      <td>NaN</td>\n",
       "      <td>NaN</td>\n",
       "      <td>NaN</td>\n",
       "      <td>4.0</td>\n",
       "      <td>...</td>\n",
       "      <td>1.0</td>\n",
       "      <td>12.0</td>\n",
       "      <td>5.0</td>\n",
       "      <td>1.0</td>\n",
       "      <td>13.0</td>\n",
       "      <td>0.0</td>\n",
       "      <td>4.0</td>\n",
       "      <td>1.0</td>\n",
       "      <td>27.0</td>\n",
       "      <td>0.0</td>\n",
       "    </tr>\n",
       "  </tbody>\n",
       "</table>\n",
       "<p>5 rows × 21 columns</p>\n",
       "</div>"
      ],
      "text/plain": [
       "         ID  GENDER   AGE  EDUCATION_KID  EDUCATION_ADULT  MARRIAGE  \\\n",
       "4   83741.0     1.0  22.0            NaN              4.0       5.0   \n",
       "6   83743.0     1.0  18.0           11.0              NaN       NaN   \n",
       "14  83759.0     2.0  19.0           15.0              NaN       NaN   \n",
       "15  83761.0     2.0  24.0            NaN              5.0       5.0   \n",
       "23  83784.0     1.0  22.0            NaN              4.0       5.0   \n",
       "\n",
       "    PREGNANCY  INCOME  INCOME_RATIO  HOUSEHOLD_NUM      ...       EVER_USE  \\\n",
       "4         NaN     7.0          2.08            3.0      ...            1.0   \n",
       "6         NaN    15.0          5.00            3.0      ...            2.0   \n",
       "14        NaN     7.0          1.74            3.0      ...            2.0   \n",
       "15        2.0     1.0          0.00            1.0      ...            2.0   \n",
       "23        NaN     NaN           NaN            4.0      ...            1.0   \n",
       "\n",
       "    FIRST_USAGE  FREQUENCY  PER_MONTH  AGE_REGULAR_USE  LAST_ONCE_MONTH  \\\n",
       "4          15.0        4.0        1.0             16.0              1.0   \n",
       "6           NaN        NaN        NaN              NaN              NaN   \n",
       "14          NaN        NaN        NaN              NaN              NaN   \n",
       "15          NaN        NaN        NaN              NaN              NaN   \n",
       "23         12.0        5.0        1.0             13.0              0.0   \n",
       "\n",
       "    AMOUNT  LAST_USAGE  PAST_MONTH_USAGE  CHILDREN_NUM  \n",
       "4      2.0         1.0              25.0           0.0  \n",
       "6      NaN         NaN               NaN           0.0  \n",
       "14     NaN         NaN               NaN           0.0  \n",
       "15     NaN         NaN               NaN           0.0  \n",
       "23     4.0         1.0              27.0           0.0  \n",
       "\n",
       "[5 rows x 21 columns]"
      ]
     },
     "execution_count": 30,
     "metadata": {},
     "output_type": "execute_result"
    }
   ],
   "source": [
    "under_26 = df[df['AGE'] <= 26]\n",
    "under_26.head()"
   ]
  },
  {
   "cell_type": "markdown",
   "metadata": {},
   "source": [
    "We will also standardize the gender labels to help tease out differences in gender."
   ]
  },
  {
   "cell_type": "code",
   "execution_count": 31,
   "metadata": {
    "scrolled": true
   },
   "outputs": [
    {
     "data": {
      "text/html": [
       "<div>\n",
       "<style scoped>\n",
       "    .dataframe tbody tr th:only-of-type {\n",
       "        vertical-align: middle;\n",
       "    }\n",
       "\n",
       "    .dataframe tbody tr th {\n",
       "        vertical-align: top;\n",
       "    }\n",
       "\n",
       "    .dataframe thead th {\n",
       "        text-align: right;\n",
       "    }\n",
       "</style>\n",
       "<table border=\"1\" class=\"dataframe\">\n",
       "  <thead>\n",
       "    <tr style=\"text-align: right;\">\n",
       "      <th></th>\n",
       "      <th>ID</th>\n",
       "      <th>GENDER</th>\n",
       "      <th>AGE</th>\n",
       "      <th>EDUCATION_KID</th>\n",
       "      <th>EDUCATION_ADULT</th>\n",
       "      <th>MARRIAGE</th>\n",
       "      <th>PREGNANCY</th>\n",
       "      <th>INCOME</th>\n",
       "      <th>INCOME_RATIO</th>\n",
       "      <th>HOUSEHOLD_NUM</th>\n",
       "      <th>...</th>\n",
       "      <th>EVER_USE</th>\n",
       "      <th>FIRST_USAGE</th>\n",
       "      <th>FREQUENCY</th>\n",
       "      <th>PER_MONTH</th>\n",
       "      <th>AGE_REGULAR_USE</th>\n",
       "      <th>LAST_ONCE_MONTH</th>\n",
       "      <th>AMOUNT</th>\n",
       "      <th>LAST_USAGE</th>\n",
       "      <th>PAST_MONTH_USAGE</th>\n",
       "      <th>CHILDREN_NUM</th>\n",
       "    </tr>\n",
       "  </thead>\n",
       "  <tbody>\n",
       "    <tr>\n",
       "      <th>4</th>\n",
       "      <td>83741.0</td>\n",
       "      <td>MALE</td>\n",
       "      <td>22.0</td>\n",
       "      <td>NaN</td>\n",
       "      <td>4.0</td>\n",
       "      <td>5.0</td>\n",
       "      <td>NaN</td>\n",
       "      <td>7.0</td>\n",
       "      <td>2.08</td>\n",
       "      <td>3.0</td>\n",
       "      <td>...</td>\n",
       "      <td>1.0</td>\n",
       "      <td>15.0</td>\n",
       "      <td>4.0</td>\n",
       "      <td>1.0</td>\n",
       "      <td>16.0</td>\n",
       "      <td>1.0</td>\n",
       "      <td>2.0</td>\n",
       "      <td>1.0</td>\n",
       "      <td>25.0</td>\n",
       "      <td>0.0</td>\n",
       "    </tr>\n",
       "    <tr>\n",
       "      <th>6</th>\n",
       "      <td>83743.0</td>\n",
       "      <td>MALE</td>\n",
       "      <td>18.0</td>\n",
       "      <td>11.0</td>\n",
       "      <td>NaN</td>\n",
       "      <td>NaN</td>\n",
       "      <td>NaN</td>\n",
       "      <td>15.0</td>\n",
       "      <td>5.00</td>\n",
       "      <td>3.0</td>\n",
       "      <td>...</td>\n",
       "      <td>2.0</td>\n",
       "      <td>NaN</td>\n",
       "      <td>NaN</td>\n",
       "      <td>NaN</td>\n",
       "      <td>NaN</td>\n",
       "      <td>NaN</td>\n",
       "      <td>NaN</td>\n",
       "      <td>NaN</td>\n",
       "      <td>NaN</td>\n",
       "      <td>0.0</td>\n",
       "    </tr>\n",
       "    <tr>\n",
       "      <th>14</th>\n",
       "      <td>83759.0</td>\n",
       "      <td>FEMALE</td>\n",
       "      <td>19.0</td>\n",
       "      <td>15.0</td>\n",
       "      <td>NaN</td>\n",
       "      <td>NaN</td>\n",
       "      <td>NaN</td>\n",
       "      <td>7.0</td>\n",
       "      <td>1.74</td>\n",
       "      <td>3.0</td>\n",
       "      <td>...</td>\n",
       "      <td>2.0</td>\n",
       "      <td>NaN</td>\n",
       "      <td>NaN</td>\n",
       "      <td>NaN</td>\n",
       "      <td>NaN</td>\n",
       "      <td>NaN</td>\n",
       "      <td>NaN</td>\n",
       "      <td>NaN</td>\n",
       "      <td>NaN</td>\n",
       "      <td>0.0</td>\n",
       "    </tr>\n",
       "    <tr>\n",
       "      <th>15</th>\n",
       "      <td>83761.0</td>\n",
       "      <td>FEMALE</td>\n",
       "      <td>24.0</td>\n",
       "      <td>NaN</td>\n",
       "      <td>5.0</td>\n",
       "      <td>5.0</td>\n",
       "      <td>2.0</td>\n",
       "      <td>1.0</td>\n",
       "      <td>0.00</td>\n",
       "      <td>1.0</td>\n",
       "      <td>...</td>\n",
       "      <td>2.0</td>\n",
       "      <td>NaN</td>\n",
       "      <td>NaN</td>\n",
       "      <td>NaN</td>\n",
       "      <td>NaN</td>\n",
       "      <td>NaN</td>\n",
       "      <td>NaN</td>\n",
       "      <td>NaN</td>\n",
       "      <td>NaN</td>\n",
       "      <td>0.0</td>\n",
       "    </tr>\n",
       "    <tr>\n",
       "      <th>23</th>\n",
       "      <td>83784.0</td>\n",
       "      <td>MALE</td>\n",
       "      <td>22.0</td>\n",
       "      <td>NaN</td>\n",
       "      <td>4.0</td>\n",
       "      <td>5.0</td>\n",
       "      <td>NaN</td>\n",
       "      <td>NaN</td>\n",
       "      <td>NaN</td>\n",
       "      <td>4.0</td>\n",
       "      <td>...</td>\n",
       "      <td>1.0</td>\n",
       "      <td>12.0</td>\n",
       "      <td>5.0</td>\n",
       "      <td>1.0</td>\n",
       "      <td>13.0</td>\n",
       "      <td>0.0</td>\n",
       "      <td>4.0</td>\n",
       "      <td>1.0</td>\n",
       "      <td>27.0</td>\n",
       "      <td>0.0</td>\n",
       "    </tr>\n",
       "  </tbody>\n",
       "</table>\n",
       "<p>5 rows × 21 columns</p>\n",
       "</div>"
      ],
      "text/plain": [
       "         ID  GENDER   AGE  EDUCATION_KID  EDUCATION_ADULT  MARRIAGE  \\\n",
       "4   83741.0    MALE  22.0            NaN              4.0       5.0   \n",
       "6   83743.0    MALE  18.0           11.0              NaN       NaN   \n",
       "14  83759.0  FEMALE  19.0           15.0              NaN       NaN   \n",
       "15  83761.0  FEMALE  24.0            NaN              5.0       5.0   \n",
       "23  83784.0    MALE  22.0            NaN              4.0       5.0   \n",
       "\n",
       "    PREGNANCY  INCOME  INCOME_RATIO  HOUSEHOLD_NUM      ...       EVER_USE  \\\n",
       "4         NaN     7.0          2.08            3.0      ...            1.0   \n",
       "6         NaN    15.0          5.00            3.0      ...            2.0   \n",
       "14        NaN     7.0          1.74            3.0      ...            2.0   \n",
       "15        2.0     1.0          0.00            1.0      ...            2.0   \n",
       "23        NaN     NaN           NaN            4.0      ...            1.0   \n",
       "\n",
       "    FIRST_USAGE  FREQUENCY  PER_MONTH  AGE_REGULAR_USE  LAST_ONCE_MONTH  \\\n",
       "4          15.0        4.0        1.0             16.0              1.0   \n",
       "6           NaN        NaN        NaN              NaN              NaN   \n",
       "14          NaN        NaN        NaN              NaN              NaN   \n",
       "15          NaN        NaN        NaN              NaN              NaN   \n",
       "23         12.0        5.0        1.0             13.0              0.0   \n",
       "\n",
       "    AMOUNT  LAST_USAGE  PAST_MONTH_USAGE  CHILDREN_NUM  \n",
       "4      2.0         1.0              25.0           0.0  \n",
       "6      NaN         NaN               NaN           0.0  \n",
       "14     NaN         NaN               NaN           0.0  \n",
       "15     NaN         NaN               NaN           0.0  \n",
       "23     4.0         1.0              27.0           0.0  \n",
       "\n",
       "[5 rows x 21 columns]"
      ]
     },
     "execution_count": 31,
     "metadata": {},
     "output_type": "execute_result"
    }
   ],
   "source": [
    "#functions for converting from numerical to categorical data\n",
    "def num_to_category(num_val, data_dict):\n",
    "    if num_val in data_dict.keys():\n",
    "        return data_dict[num_val]\n",
    "    else:\n",
    "        return np.nan\n",
    "    \n",
    "# GENDER\n",
    "df['GENDER']\n",
    "gender_dict = {1:'MALE',2:'FEMALE'}\n",
    "df['GENDER']=df['GENDER'].apply(num_to_category, data_dict=gender_dict)\n",
    "under_26['GENDER']=under_26['GENDER'].apply(num_to_category, data_dict=gender_dict)\n",
    "under_26.head()"
   ]
  },
  {
   "cell_type": "markdown",
   "metadata": {},
   "source": [
    "###  Exploring relationships between indicators of socioeconomic status and marijuana consumption patterns"
   ]
  },
  {
   "cell_type": "markdown",
   "metadata": {},
   "source": [
    "#### Adult eduation and Age of regular use"
   ]
  },
  {
   "cell_type": "code",
   "execution_count": 37,
   "metadata": {
    "scrolled": true
   },
   "outputs": [
    {
     "data": {
      "image/png": "[encoded data removed]",
      "text/plain": [
       "<Figure size 432x288 with 1 Axes>"
      ]
     },
     "metadata": {
      "needs_background": "light"
     },
     "output_type": "display_data"
    }
   ],
   "source": [
    "sns.stripplot(under_26['EDUCATION_ADULT'], under_26['AGE_REGULAR_USE'])\n",
    "plt.xlabel('Education Levels')\n",
    "plt.ylabel('Age Regular Use')\n",
    "plt.xticks(np.arange(5), education_adult_labels, rotation='vertical')\n",
    "plt.title('Adult Education and Age Regular Use')\n",
    "plt.show()"
   ]
  },
  {
   "cell_type": "markdown",
   "metadata": {},
   "source": [
    "The stripplot shows that different ages that participants began using marijuana regularly grouped with their education. This helps us visualize whether education plays a role in when they begin using regularly. The graph shows that the range of ages for college graduates and above seem to be a some years old later than the other groups. Running significance tests can confirm or reject this observation. "
   ]
  },
  {
   "cell_type": "code",
   "execution_count": 33,
   "metadata": {},
   "outputs": [],
   "source": [
    "nonull_edu = under_26.dropna(subset=['AGE_REGULAR_USE'], how='all')\n",
    "lower = nonull_edu[nonull_edu['EDUCATION_ADULT'] == 1]['AGE_REGULAR_USE'].values\n",
    "nodip = nonull_edu[nonull_edu['EDUCATION_ADULT'] == 2]['AGE_REGULAR_USE'].values\n",
    "dip = nonull_edu[nonull_edu['EDUCATION_ADULT'] == 3]['AGE_REGULAR_USE'].values\n",
    "aa = nonull_edu[nonull_edu['EDUCATION_ADULT'] == 4]['AGE_REGULAR_USE'].values\n",
    "grad = nonull_edu[nonull_edu['EDUCATION_ADULT'] == 5]['AGE_REGULAR_USE'].values\n",
    "#print(lower, nodip, dip, aa, grad)"
   ]
  },
  {
   "cell_type": "markdown",
   "metadata": {},
   "source": [
    "We're extracting ages of regular use from each education level in order to run the ttests."
   ]
  },
  {
   "cell_type": "code",
   "execution_count": 34,
   "metadata": {},
   "outputs": [
    {
     "name": "stdout",
     "output_type": "stream",
     "text": [
      "lower to grad:  -2.911411371722019 0.007462575346296662\n",
      "nodip to grad:  -4.2270763583195885 0.00012898466458450826\n",
      "dip to grad:  -2.969447351964255 0.004050421325593811\n",
      "aa to grad:  -1.2048497479580489 0.23141998522111082\n"
     ]
    }
   ],
   "source": [
    "## TTEST: EDUCATION V. AGE_REGULAR_USE\n",
    "[t, p] = ttest_ind(lower, grad)\n",
    "print(\"lower to grad: \", t, p)\n",
    "\n",
    "[t2, p2] = ttest_ind(nodip, grad)\n",
    "print(\"nodip to grad: \", t2, p2)\n",
    "\n",
    "[t3, p3] = ttest_ind(dip, grad)\n",
    "print(\"dip to grad: \", t3, p3)\n",
    "\n",
    "[t4, p4] = ttest_ind(aa, grad)\n",
    "print(\"aa to grad: \", t4, p4)"
   ]
  },
  {
   "cell_type": "markdown",
   "metadata": {},
   "source": [
    "Ttests to compare the values of participants' ages first regularly used to their education levels show us whether there is significant difference between what education level they have completed. \n",
    "\n",
    "With alpha = 0.01, the p-values show that there's significance difference on the age regularly used for having 9th-12th grade education with no diploma compared to a college gradudate or above. The p-values show that there's also significance difference on the age regularly used for being a HS graduate/having a GED or equivalent compared to a college gradudate or above. \n",
    "\n",
    "Based on the strip plot, there could be significant difference for college graduates and above to start using marijuana regularly much later in age compared to the other groups.\n",
    "\n",
    "The other values show no significance difference."
   ]
  },
  {
   "cell_type": "markdown",
   "metadata": {},
   "source": [
    "#### Adult eduation and Amount consumed / day"
   ]
  },
  {
   "cell_type": "code",
   "execution_count": 35,
   "metadata": {},
   "outputs": [
    {
     "data": {
      "image/png": "[encoded data removed]",
      "text/plain": [
       "<Figure size 504x504 with 1 Axes>"
      ]
     },
     "metadata": {
      "needs_background": "light"
     },
     "output_type": "display_data"
    }
   ],
   "source": [
    "plt.figure(figsize=(7,7))\n",
    "sns.swarmplot(under_26['EDUCATION_ADULT'], under_26['AMOUNT'], data=under_26, hue='GENDER')\n",
    "plt.xlabel(\"Education levels (adults 20+)\")\n",
    "plt.ylabel(\"Number of pipes/joints consumed in a day\")\n",
    "plt.xticks(np.arange(5), education_adult_labels,rotation='vertical');\n",
    "plt.yticks(np.arange(1, 5, step=1), amount_labels)\n",
    "plt.title(\"Adult Education and Amount consumed/day\")\n",
    "plt.show()"
   ]
  },
  {
   "cell_type": "markdown",
   "metadata": {},
   "source": [
    "#### Adult eduation and Frequency of consumption "
   ]
  },
  {
   "cell_type": "code",
   "execution_count": 38,
   "metadata": {},
   "outputs": [
    {
     "data": {
      "image/png": "[encoded data removed]",
      "text/plain": [
       "<Figure size 432x288 with 1 Axes>"
      ]
     },
     "metadata": {
      "needs_background": "light"
     },
     "output_type": "display_data"
    }
   ],
   "source": [
    "sns.swarmplot(x='EDUCATION_ADULT', y='FREQUENCY', data=under_26, hue='GENDER')\n",
    "plt.xticks(np.arange(5), education_adult_labels,rotation='vertical');\n",
    "plt.yticks(np.arange(1,6,step=1),frequency_labels, rotation='horizontal')\n",
    "plt.xlabel(\"Household income (in thousands of dollars)\")\n",
    "plt.ylabel(\"Number of times / month\")\n",
    "plt.title(\"Adult Education and Frequency of consumption / month\")\n",
    "plt.show()"
   ]
  },
  {
   "cell_type": "markdown",
   "metadata": {},
   "source": [
    "####  Income and Age of regular use"
   ]
  },
  {
   "cell_type": "code",
   "execution_count": 39,
   "metadata": {
    "scrolled": true
   },
   "outputs": [
    {
     "name": "stderr",
     "output_type": "stream",
     "text": [
      "No handles with labels found to put in legend.\n"
     ]
    },
    {
     "data": {
      "image/png": "[encoded data removed]",
      "text/plain": [
       "<Figure size 432x288 with 1 Axes>"
      ]
     },
     "metadata": {
      "needs_background": "light"
     },
     "output_type": "display_data"
    }
   ],
   "source": [
    "sns.stripplot(x='INCOME', y='AGE_REGULAR_USE', data=under_26)\n",
    "plt.xlabel(\"Household income (in thousands of dollars)\")\n",
    "plt.ylabel(\"Age started using marijuana regularly\")\n",
    "plt.legend().set_visible(False)\n",
    "plt.title(\"Income and Age started using marijuana regularly (aged 26 or younger)\")\n",
    "plt.xticks(np.arange(12),income_labels, rotation='vertical')\n",
    "plt.show()"
   ]
  },
  {
   "cell_type": "code",
   "execution_count": 40,
   "metadata": {},
   "outputs": [
    {
     "name": "stdout",
     "output_type": "stream",
     "text": [
      "                            OLS Regression Results                            \n",
      "==============================================================================\n",
      "Dep. Variable:        AGE_REGULAR_USE   R-squared:                       0.004\n",
      "Model:                            OLS   Adj. R-squared:                 -0.001\n",
      "Method:                 Least Squares   F-statistic:                    0.8696\n",
      "Date:                Wed, 12 Jun 2019   Prob (F-statistic):              0.352\n",
      "Time:                        13:20:53   Log-Likelihood:                -506.83\n",
      "No. Observations:                 212   AIC:                             1018.\n",
      "Df Residuals:                     210   BIC:                             1024.\n",
      "Df Model:                           1                                         \n",
      "Covariance Type:            nonrobust                                         \n",
      "==============================================================================\n",
      "                 coef    std err          t      P>|t|      [0.025      0.975]\n",
      "------------------------------------------------------------------------------\n",
      "Intercept     16.4066      0.384     42.734      0.000      15.650      17.163\n",
      "INCOME         0.0421      0.045      0.933      0.352      -0.047       0.131\n",
      "==============================================================================\n",
      "Omnibus:                        7.648   Durbin-Watson:                   1.709\n",
      "Prob(Omnibus):                  0.022   Jarque-Bera (JB):                9.110\n",
      "Skew:                           0.292   Prob(JB):                       0.0105\n",
      "Kurtosis:                       3.830   Cond. No.                         18.1\n",
      "==============================================================================\n",
      "\n",
      "Warnings:\n",
      "[1] Standard Errors assume that the covariance matrix of the errors is correctly specified.\n"
     ]
    }
   ],
   "source": [
    "outcome, predictors = patsy.dmatrices('AGE_REGULAR_USE~INCOME', under_26)\n",
    "mod = sm.OLS(outcome, predictors)\n",
    "res = mod.fit() \n",
    "print(res.summary())"
   ]
  },
  {
   "cell_type": "markdown",
   "metadata": {},
   "source": [
    "P-value 0.352 shows so far that AGE_REGULAR_USE and INCOME have no significance."
   ]
  },
  {
   "cell_type": "markdown",
   "metadata": {},
   "source": [
    "#### Income and Amount consumed / day"
   ]
  },
  {
   "cell_type": "code",
   "execution_count": 42,
   "metadata": {
    "scrolled": false
   },
   "outputs": [
    {
     "data": {
      "image/png": "[encoded data removed]",
      "text/plain": [
       "<Figure size 432x288 with 1 Axes>"
      ]
     },
     "metadata": {
      "needs_background": "light"
     },
     "output_type": "display_data"
    }
   ],
   "source": [
    "sns.swarmplot(under_26['INCOME'], under_26['AMOUNT'], data=under_26, hue='GENDER')\n",
    "plt.xlabel(\"Household income\")\n",
    "plt.ylabel(\"Number of pipes/joints consumed in a day\")\n",
    "plt.xticks(np.arange(12), income_labels, rotation='vertical')\n",
    "plt.yticks(np.arange(1, 5, step=1), amount_labels)\n",
    "plt.title(\"Income and Amount consumed / day\")\n",
    "plt.show()"
   ]
  },
  {
   "cell_type": "code",
   "execution_count": 1,
   "metadata": {},
   "outputs": [
    {
     "ename": "NameError",
     "evalue": "name 'patsy' is not defined",
     "output_type": "error",
     "traceback": [
      "\u001b[0;31m---------------------------------------------------------------------------\u001b[0m",
      "\u001b[0;31mNameError\u001b[0m                                 Traceback (most recent call last)",
      "\u001b[0;32m<ipython-input-1-abe5e032bc0e>\u001b[0m in \u001b[0;36m<module>\u001b[0;34m()\u001b[0m\n\u001b[0;32m----> 1\u001b[0;31m \u001b[0moutcome\u001b[0m\u001b[0;34m,\u001b[0m \u001b[0mpredictors\u001b[0m \u001b[0;34m=\u001b[0m \u001b[0mpatsy\u001b[0m\u001b[0;34m.\u001b[0m\u001b[0mdmatrices\u001b[0m\u001b[0;34m(\u001b[0m\u001b[0;34m'AMOUNT~INCOME'\u001b[0m\u001b[0;34m,\u001b[0m \u001b[0munder_26\u001b[0m\u001b[0;34m)\u001b[0m\u001b[0;34m\u001b[0m\u001b[0m\n\u001b[0m\u001b[1;32m      2\u001b[0m \u001b[0mmod\u001b[0m \u001b[0;34m=\u001b[0m \u001b[0msm\u001b[0m\u001b[0;34m.\u001b[0m\u001b[0mOLS\u001b[0m\u001b[0;34m(\u001b[0m\u001b[0moutcome\u001b[0m\u001b[0;34m,\u001b[0m \u001b[0mpredictors\u001b[0m\u001b[0;34m)\u001b[0m\u001b[0;34m\u001b[0m\u001b[0m\n\u001b[1;32m      3\u001b[0m \u001b[0mres\u001b[0m \u001b[0;34m=\u001b[0m \u001b[0mmod\u001b[0m\u001b[0;34m.\u001b[0m\u001b[0mfit\u001b[0m\u001b[0;34m(\u001b[0m\u001b[0;34m)\u001b[0m\u001b[0;34m\u001b[0m\u001b[0m\n\u001b[1;32m      4\u001b[0m \u001b[0mprint\u001b[0m\u001b[0;34m(\u001b[0m\u001b[0mres\u001b[0m\u001b[0;34m.\u001b[0m\u001b[0msummary\u001b[0m\u001b[0;34m(\u001b[0m\u001b[0;34m)\u001b[0m\u001b[0;34m)\u001b[0m\u001b[0;34m\u001b[0m\u001b[0m\n",
      "\u001b[0;31mNameError\u001b[0m: name 'patsy' is not defined"
     ]
    }
   ],
   "source": [
    "outcome, predictors = patsy.dmatrices('AMOUNT~INCOME', under_26)\n",
    "mod = sm.OLS(outcome, predictors)\n",
    "res = mod.fit() \n",
    "print(res.summary())"
   ]
  },
  {
   "cell_type": "markdown",
   "metadata": {},
   "source": [
    "As we take a look at AMOUNT and INCOME, the p-value is smaller, sitting at 0.2 but still shows no significance. "
   ]
  },
  {
   "cell_type": "markdown",
   "metadata": {},
   "source": [
    "#### Income and Frequency of consumption / month"
   ]
  },
  {
   "cell_type": "code",
   "execution_count": 44,
   "metadata": {},
   "outputs": [
    {
     "data": {
      "image/png": "[encoded data removed]",
      "text/plain": [
       "<Figure size 432x288 with 1 Axes>"
      ]
     },
     "metadata": {
      "needs_background": "light"
     },
     "output_type": "display_data"
    }
   ],
   "source": [
    "sns.swarmplot(x='INCOME', y='FREQUENCY', data=under_26, hue='GENDER')\n",
    "plt.xticks(np.arange(12),income_labels, rotation='vertical')\n",
    "plt.yticks(np.arange(1,6,step=1),frequency_labels, rotation='horizontal')\n",
    "plt.xlabel(\"Household income (in thousands of dollars)\")\n",
    "plt.ylabel(\"Number of times / month\")\n",
    "plt.title(\"Income and Frequency of consumption/month\")\n",
    "plt.show()"
   ]
  },
  {
   "cell_type": "code",
   "execution_count": 45,
   "metadata": {},
   "outputs": [
    {
     "name": "stdout",
     "output_type": "stream",
     "text": [
      "                            OLS Regression Results                            \n",
      "==============================================================================\n",
      "Dep. Variable:              FREQUENCY   R-squared:                       0.000\n",
      "Model:                            OLS   Adj. R-squared:                 -0.005\n",
      "Method:                 Least Squares   F-statistic:                   0.02552\n",
      "Date:                Wed, 12 Jun 2019   Prob (F-statistic):              0.873\n",
      "Time:                        13:21:11   Log-Likelihood:                -351.97\n",
      "No. Observations:                 212   AIC:                             707.9\n",
      "Df Residuals:                     210   BIC:                             714.7\n",
      "Df Model:                           1                                         \n",
      "Covariance Type:            nonrobust                                         \n",
      "==============================================================================\n",
      "                 coef    std err          t      P>|t|      [0.025      0.975]\n",
      "------------------------------------------------------------------------------\n",
      "Intercept      3.6864      0.185     19.933      0.000       3.322       4.051\n",
      "INCOME        -0.0035      0.022     -0.160      0.873      -0.046       0.039\n",
      "==============================================================================\n",
      "Omnibus:                       25.972   Durbin-Watson:                   1.955\n",
      "Prob(Omnibus):                  0.000   Jarque-Bera (JB):               16.764\n",
      "Skew:                          -0.556   Prob(JB):                     0.000229\n",
      "Kurtosis:                       2.187   Cond. No.                         18.1\n",
      "==============================================================================\n",
      "\n",
      "Warnings:\n",
      "[1] Standard Errors assume that the covariance matrix of the errors is correctly specified.\n"
     ]
    }
   ],
   "source": [
    "outcome, predictors = patsy.dmatrices('FREQUENCY~INCOME', under_26)\n",
    "mod = sm.OLS(outcome, predictors)\n",
    "res = mod.fit() \n",
    "print(res.summary())"
   ]
  },
  {
   "cell_type": "markdown",
   "metadata": {},
   "source": [
    "We will now perform a multivariate OLS regression to explore how marijuana consumption trends correlate with income and education levels"
   ]
  },
  {
   "cell_type": "markdown",
   "metadata": {},
   "source": [
    "## How do income and education correlate with Marijuana consumption patterns?"
   ]
  },
  {
   "cell_type": "markdown",
   "metadata": {},
   "source": [
    "### Multivariate Regression: Household income and adult education vs. age when started using regularly"
   ]
  },
  {
   "cell_type": "code",
   "execution_count": 46,
   "metadata": {},
   "outputs": [
    {
     "name": "stdout",
     "output_type": "stream",
     "text": [
      "                            OLS Regression Results                            \n",
      "==============================================================================\n",
      "Dep. Variable:        AGE_REGULAR_USE   R-squared:                       0.199\n",
      "Model:                            OLS   Adj. R-squared:                  0.189\n",
      "Method:                 Least Squares   F-statistic:                     19.37\n",
      "Date:                Wed, 12 Jun 2019   Prob (F-statistic):           3.07e-08\n",
      "Time:                        13:21:15   Log-Likelihood:                -364.00\n",
      "No. Observations:                 159   AIC:                             734.0\n",
      "Df Residuals:                     156   BIC:                             743.2\n",
      "Df Model:                           2                                         \n",
      "Covariance Type:            nonrobust                                         \n",
      "===================================================================================\n",
      "                      coef    std err          t      P>|t|      [0.025      0.975]\n",
      "-----------------------------------------------------------------------------------\n",
      "Intercept          13.3346      0.753     17.697      0.000      11.846      14.823\n",
      "INCOME             -0.0937      0.052     -1.812      0.072      -0.196       0.008\n",
      "EDUCATION_ADULT     1.2921      0.208      6.223      0.000       0.882       1.702\n",
      "==============================================================================\n",
      "Omnibus:                        3.762   Durbin-Watson:                   1.851\n",
      "Prob(Omnibus):                  0.152   Jarque-Bera (JB):                3.811\n",
      "Skew:                           0.367   Prob(JB):                        0.149\n",
      "Kurtosis:                       2.810   Cond. No.                         37.6\n",
      "==============================================================================\n",
      "\n",
      "Warnings:\n",
      "[1] Standard Errors assume that the covariance matrix of the errors is correctly specified.\n"
     ]
    }
   ],
   "source": [
    "outcome, predictors = patsy.dmatrices('AGE_REGULAR_USE~INCOME+EDUCATION_ADULT', under_26)\n",
    "mod = sm.OLS(outcome, predictors)\n",
    "res = mod.fit() \n",
    "print(res.summary())"
   ]
  },
  {
   "cell_type": "markdown",
   "metadata": {},
   "source": [
    "We decide to look into multiple variables that could affect usage, and found that AGE_REGULAR_USE, INCOME, and EDUCATION_ADULT reveals a p-value of 0.00, which shows significance."
   ]
  },
  {
   "cell_type": "markdown",
   "metadata": {},
   "source": [
    "We decide to look into multiple variables that could affect usage, and found that AGE_REGULAR_USE, INCOME, and EDUCATION_ADULT reveals a p-value of 0.00, which shows significance."
   ]
  },
  {
   "cell_type": "markdown",
   "metadata": {},
   "source": [
    "### Multivariate Regression: Household income and adult education vs. amount consumed per day"
   ]
  },
  {
   "cell_type": "code",
   "execution_count": 47,
   "metadata": {
    "scrolled": true
   },
   "outputs": [
    {
     "name": "stdout",
     "output_type": "stream",
     "text": [
      "                            OLS Regression Results                            \n",
      "==============================================================================\n",
      "Dep. Variable:                 AMOUNT   R-squared:                       0.073\n",
      "Model:                            OLS   Adj. R-squared:                  0.061\n",
      "Method:                 Least Squares   F-statistic:                     6.109\n",
      "Date:                Wed, 12 Jun 2019   Prob (F-statistic):            0.00279\n",
      "Time:                        13:21:15   Log-Likelihood:                -201.06\n",
      "No. Observations:                 159   AIC:                             408.1\n",
      "Df Residuals:                     156   BIC:                             417.3\n",
      "Df Model:                           2                                         \n",
      "Covariance Type:            nonrobust                                         \n",
      "===================================================================================\n",
      "                      coef    std err          t      P>|t|      [0.025      0.975]\n",
      "-----------------------------------------------------------------------------------\n",
      "Intercept           2.8890      0.270     10.684      0.000       2.355       3.423\n",
      "INCOME             -0.0187      0.019     -1.006      0.316      -0.055       0.018\n",
      "EDUCATION_ADULT    -0.2194      0.075     -2.944      0.004      -0.367      -0.072\n",
      "==============================================================================\n",
      "Omnibus:                        8.718   Durbin-Watson:                   1.910\n",
      "Prob(Omnibus):                  0.013   Jarque-Bera (JB):                7.303\n",
      "Skew:                           0.436   Prob(JB):                       0.0260\n",
      "Kurtosis:                       2.416   Cond. No.                         37.6\n",
      "==============================================================================\n",
      "\n",
      "Warnings:\n",
      "[1] Standard Errors assume that the covariance matrix of the errors is correctly specified.\n"
     ]
    }
   ],
   "source": [
    "predictors = patsy.dmatrices('AMOUNT~INCOME+EDUCATION_ADULT', under_26)\n",
    "mod = sm.OLS(outcome, predictors)\n",
    "res = mod.fit() \n",
    "print(res.summary())"
   ]
  },
  {
   "cell_type": "markdown",
   "metadata": {},
   "source": [
    "We also found that AMOUNT, INCOME, and EDUCATION_ADULT reveals a p-value of 0.04, which shows significance."
   ]
  },
  {
   "cell_type": "markdown",
   "metadata": {},
   "source": [
    "### Multivariate Regression: Household income and adult education vs. frequency of consumption"
   ]
  },
  {
   "cell_type": "code",
   "execution_count": 48,
   "metadata": {},
   "outputs": [
    {
     "name": "stdout",
     "output_type": "stream",
     "text": [
      "                            OLS Regression Results                            \n",
      "==============================================================================\n",
      "Dep. Variable:              FREQUENCY   R-squared:                       0.004\n",
      "Model:                            OLS   Adj. R-squared:                 -0.009\n",
      "Method:                 Least Squares   F-statistic:                    0.2935\n",
      "Date:                Wed, 12 Jun 2019   Prob (F-statistic):              0.746\n",
      "Time:                        13:21:15   Log-Likelihood:                -258.50\n",
      "No. Observations:                 159   AIC:                             523.0\n",
      "Df Residuals:                     156   BIC:                             532.2\n",
      "Df Model:                           2                                         \n",
      "Covariance Type:            nonrobust                                         \n",
      "===================================================================================\n",
      "                      coef    std err          t      P>|t|      [0.025      0.975]\n",
      "-----------------------------------------------------------------------------------\n",
      "Intercept           3.9230      0.388     10.109      0.000       3.156       4.690\n",
      "INCOME             -0.0183      0.027     -0.687      0.493      -0.071       0.034\n",
      "EDUCATION_ADULT    -0.0148      0.107     -0.139      0.890      -0.226       0.196\n",
      "==============================================================================\n",
      "Omnibus:                       14.518   Durbin-Watson:                   1.812\n",
      "Prob(Omnibus):                  0.001   Jarque-Bera (JB):               14.556\n",
      "Skew:                          -0.688   Prob(JB):                     0.000691\n",
      "Kurtosis:                       2.449   Cond. No.                         37.6\n",
      "==============================================================================\n",
      "\n",
      "Warnings:\n",
      "[1] Standard Errors assume that the covariance matrix of the errors is correctly specified.\n"
     ]
    }
   ],
   "source": [
    "outcome, predictors = patsy.dmatrices('FREQUENCY~INCOME+EDUCATION_ADULT', under_26)\n",
    "mod = sm.OLS(outcome, predictors)\n",
    "res = mod.fit() \n",
    "print(res.summary())"
   ]
  },
  {
   "cell_type": "markdown",
   "metadata": {},
   "source": [
    "## Digging Deeper: How do age and gender correlate with marijuana consumption?"
   ]
  },
  {
   "cell_type": "markdown",
   "metadata": {},
   "source": [
    "### Multivariate Regression:  age and gender vs. age when started using regularly"
   ]
  },
  {
   "cell_type": "code",
   "execution_count": 49,
   "metadata": {},
   "outputs": [
    {
     "name": "stdout",
     "output_type": "stream",
     "text": [
      "                            OLS Regression Results                            \n",
      "==============================================================================\n",
      "Dep. Variable:        AGE_REGULAR_USE   R-squared:                       0.066\n",
      "Model:                            OLS   Adj. R-squared:                  0.064\n",
      "Method:                 Least Squares   F-statistic:                     29.26\n",
      "Date:                Wed, 12 Jun 2019   Prob (F-statistic):           5.32e-13\n",
      "Time:                        13:21:16   Log-Likelihood:                -2494.9\n",
      "No. Observations:                 825   AIC:                             4996.\n",
      "Df Residuals:                     822   BIC:                             5010.\n",
      "Df Model:                           2                                         \n",
      "Covariance Type:            nonrobust                                         \n",
      "==================================================================================\n",
      "                     coef    std err          t      P>|t|      [0.025      0.975]\n",
      "----------------------------------------------------------------------------------\n",
      "Intercept         16.0272      0.565     28.364      0.000      14.918      17.136\n",
      "GENDER[T.MALE]    -1.7402      0.355     -4.897      0.000      -2.438      -1.043\n",
      "AGE                0.0825      0.014      6.071      0.000       0.056       0.109\n",
      "==============================================================================\n",
      "Omnibus:                      353.257   Durbin-Watson:                   1.970\n",
      "Prob(Omnibus):                  0.000   Jarque-Bera (JB):             1915.522\n",
      "Skew:                           1.894   Prob(JB):                         0.00\n",
      "Kurtosis:                       9.432   Cond. No.                         132.\n",
      "==============================================================================\n",
      "\n",
      "Warnings:\n",
      "[1] Standard Errors assume that the covariance matrix of the errors is correctly specified.\n"
     ]
    }
   ],
   "source": [
    "outcome, predictors = patsy.dmatrices('AGE_REGULAR_USE~AGE+GENDER', df)\n",
    "mod = sm.OLS(outcome, predictors)\n",
    "res = mod.fit() \n",
    "print(res.summary())"
   ]
  },
  {
   "cell_type": "markdown",
   "metadata": {},
   "source": [
    "AGE_REGULAR_USE, AGE, and GENDER show a p-value of 0.00 which indicates significance."
   ]
  },
  {
   "cell_type": "markdown",
   "metadata": {},
   "source": [
    "### Multivariate Regression:  age and gender vs. amount consumed in a day"
   ]
  },
  {
   "cell_type": "code",
   "execution_count": 50,
   "metadata": {
    "scrolled": true
   },
   "outputs": [
    {
     "name": "stdout",
     "output_type": "stream",
     "text": [
      "                            OLS Regression Results                            \n",
      "==============================================================================\n",
      "Dep. Variable:              FREQUENCY   R-squared:                       0.015\n",
      "Model:                            OLS   Adj. R-squared:                  0.013\n",
      "Method:                 Least Squares   F-statistic:                     6.444\n",
      "Date:                Wed, 12 Jun 2019   Prob (F-statistic):            0.00167\n",
      "Time:                        13:21:16   Log-Likelihood:                -1342.0\n",
      "No. Observations:                 825   AIC:                             2690.\n",
      "Df Residuals:                     822   BIC:                             2704.\n",
      "Df Model:                           2                                         \n",
      "Covariance Type:            nonrobust                                         \n",
      "==================================================================================\n",
      "                     coef    std err          t      P>|t|      [0.025      0.975]\n",
      "----------------------------------------------------------------------------------\n",
      "Intercept          3.8950      0.140     27.882      0.000       3.621       4.169\n",
      "GENDER[T.MALE]     0.1989      0.088      2.264      0.024       0.026       0.371\n",
      "AGE               -0.0097      0.003     -2.876      0.004      -0.016      -0.003\n",
      "==============================================================================\n",
      "Omnibus:                       77.154   Durbin-Watson:                   2.088\n",
      "Prob(Omnibus):                  0.000   Jarque-Bera (JB):               59.526\n",
      "Skew:                          -0.562   Prob(JB):                     1.19e-13\n",
      "Kurtosis:                       2.315   Cond. No.                         132.\n",
      "==============================================================================\n",
      "\n",
      "Warnings:\n",
      "[1] Standard Errors assume that the covariance matrix of the errors is correctly specified.\n"
     ]
    }
   ],
   "source": [
    "outcome, predictors = patsy.dmatrices('FREQUENCY~AGE+GENDER', df)\n",
    "mod = sm.OLS(outcome, predictors)\n",
    "res = mod.fit() \n",
    "print(res.summary())"
   ]
  },
  {
   "cell_type": "markdown",
   "metadata": {},
   "source": [
    "FREQUENCY, AGE, and GENDER have a p-value of 0.004, which is significant."
   ]
  },
  {
   "cell_type": "markdown",
   "metadata": {},
   "source": [
    "### Multivariate Regression:  age and gender vs. frequency of consumption"
   ]
  },
  {
   "cell_type": "code",
   "execution_count": 51,
   "metadata": {
    "scrolled": true
   },
   "outputs": [
    {
     "name": "stdout",
     "output_type": "stream",
     "text": [
      "                            OLS Regression Results                            \n",
      "==============================================================================\n",
      "Dep. Variable:              FREQUENCY   R-squared:                       0.015\n",
      "Model:                            OLS   Adj. R-squared:                  0.013\n",
      "Method:                 Least Squares   F-statistic:                     6.444\n",
      "Date:                Wed, 12 Jun 2019   Prob (F-statistic):            0.00167\n",
      "Time:                        13:21:17   Log-Likelihood:                -1342.0\n",
      "No. Observations:                 825   AIC:                             2690.\n",
      "Df Residuals:                     822   BIC:                             2704.\n",
      "Df Model:                           2                                         \n",
      "Covariance Type:            nonrobust                                         \n",
      "==================================================================================\n",
      "                     coef    std err          t      P>|t|      [0.025      0.975]\n",
      "----------------------------------------------------------------------------------\n",
      "Intercept          3.8950      0.140     27.882      0.000       3.621       4.169\n",
      "GENDER[T.MALE]     0.1989      0.088      2.264      0.024       0.026       0.371\n",
      "AGE               -0.0097      0.003     -2.876      0.004      -0.016      -0.003\n",
      "==============================================================================\n",
      "Omnibus:                       77.154   Durbin-Watson:                   2.088\n",
      "Prob(Omnibus):                  0.000   Jarque-Bera (JB):               59.526\n",
      "Skew:                          -0.562   Prob(JB):                     1.19e-13\n",
      "Kurtosis:                       2.315   Cond. No.                         132.\n",
      "==============================================================================\n",
      "\n",
      "Warnings:\n",
      "[1] Standard Errors assume that the covariance matrix of the errors is correctly specified.\n"
     ]
    }
   ],
   "source": [
    "outcome, predictors = patsy.dmatrices('FREQUENCY~AGE+GENDER', df)\n",
    "mod = sm.OLS(outcome, predictors)\n",
    "res = mod.fit() \n",
    "print(res.summary())"
   ]
  },
  {
   "cell_type": "markdown",
   "metadata": {},
   "source": [
    "# Ethics & Privacy"
   ]
  },
  {
   "cell_type": "markdown",
   "metadata": {},
   "source": [
    "*Fill in your ethics & privacy discussion here*"
   ]
  },
  {
   "cell_type": "markdown",
   "metadata": {},
   "source": [
    "# Conclusion & Discussion"
   ]
  },
  {
   "cell_type": "markdown",
   "metadata": {},
   "source": [
    "*Fill in your discussion information here*"
   ]
  }
 ],
 "metadata": {
  "kernelspec": {
   "display_name": "Python 3",
   "language": "python",
   "name": "python3"
  },
  "language_info": {
   "codemirror_mode": {
    "name": "ipython",
    "version": 3
   },
   "file_extension": ".py",
   "mimetype": "text/x-python",
   "name": "python",
   "nbconvert_exporter": "python",
   "pygments_lexer": "ipython3",
   "version": "3.6.5"
  }
 },
 "nbformat": 4,
 "nbformat_minor": 2
}
